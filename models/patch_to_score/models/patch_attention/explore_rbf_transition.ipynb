{
 "cells": [
  {
   "cell_type": "code",
   "execution_count": null,
   "id": "e81a2a75",
   "metadata": {},
   "outputs": [],
   "source": [
    "import tensorflow as tf\n",
    "tf.config.set_visible_devices([], 'GPU')\n",
    "\n",
    "from plotly import express as px\n",
    "from typing import List, Tuple\n",
    "import pickle"
   ]
  },
  {
   "cell_type": "code",
   "execution_count": null,
   "id": "6fd4b8fa",
   "metadata": {},
   "outputs": [],
   "source": [
    "import sys\n",
    "sys.path.append('../../../../')"
   ]
  },
  {
   "cell_type": "markdown",
   "id": "48f0fc6b",
   "metadata": {},
   "source": [
    "## load"
   ]
  },
  {
   "cell_type": "code",
   "execution_count": null,
   "id": "5eeb3cad",
   "metadata": {},
   "outputs": [],
   "source": [
    "with open('/home/iscb/wolfson/doririmon/home/order/ubinet/repo/ubinet/datasets/patch_to_score/data_for_training/03_04_with_pesto_and_coord/folds_training_dicts.pkl', 'rb') as f:\n",
    "    folds_training_dicts = pickle.load(f)"
   ]
  },
  {
   "cell_type": "code",
   "execution_count": null,
   "id": "3d4cc814",
   "metadata": {},
   "outputs": [],
   "source": [
    "fold = folds_training_dicts[0]\n",
    "fold.keys()"
   ]
  },
  {
   "cell_type": "code",
   "execution_count": null,
   "id": "852264d9",
   "metadata": {},
   "outputs": [],
   "source": [
    "input_data = fold['components_train']\n",
    "coordinates = fold['coordinates_train']\n",
    "size_value = fold['sizes_train']\n",
    "n_patches_hot_encoded_value = fold['num_patches_train']\n",
    "max_number_of_patches = 10"
   ]
  },
  {
   "cell_type": "markdown",
   "id": "7e0c6879",
   "metadata": {},
   "source": [
    "## analyze"
   ]
  },
  {
   "cell_type": "code",
   "execution_count": null,
   "id": "2ae19e11",
   "metadata": {},
   "outputs": [],
   "source": [
    "pairwise_distances = tf.norm(tf.expand_dims(coordinates, axis=1) - tf.expand_dims(coordinates, axis=2), axis=-1)\n",
    "pairwise_distances = tf.cast(pairwise_distances, tf.float32)"
   ]
  },
  {
   "cell_type": "code",
   "execution_count": null,
   "id": "e9ad52f2",
   "metadata": {},
   "outputs": [],
   "source": [
    "px.imshow(pairwise_distances[5,:,:])"
   ]
  },
  {
   "cell_type": "code",
   "execution_count": null,
   "id": "e2897c54",
   "metadata": {},
   "outputs": [],
   "source": [
    "flat_distances = pairwise_distances.numpy().flatten()\n",
    "flat_distances = flat_distances[flat_distances != 0]"
   ]
  },
  {
   "cell_type": "code",
   "execution_count": null,
   "id": "3e1a68d5",
   "metadata": {},
   "outputs": [],
   "source": [
    "len(flat_distances)"
   ]
  },
  {
   "cell_type": "code",
   "execution_count": null,
   "id": "9dd2c052",
   "metadata": {},
   "outputs": [],
   "source": [
    "px.histogram(flat_distances[::100], histnorm='percent')"
   ]
  },
  {
   "cell_type": "markdown",
   "id": "a1ff0326",
   "metadata": {},
   "source": [
    "## RBF layer"
   ]
  },
  {
   "cell_type": "code",
   "execution_count": null,
   "id": "5d0326ed",
   "metadata": {},
   "outputs": [],
   "source": [
    "import tensorflow as tf\n",
    "\n",
    "\n",
    "class RBFGaussianEmbedding(tf.keras.layers.Layer):\n",
    "    def __init__(self, num_kernels: int, \n",
    "                 init_std: float, \n",
    "                 init_range: tuple, \n",
    "                 **kwargs):\n",
    "        \"\"\"\n",
    "        Args:\n",
    "            num_kernels: Number of RBF kernels (channel dimension C)\n",
    "            init_std: Initial value for std of Gaussian\n",
    "            init_range: Tuple of (min, max) for initializing centers uniformly\n",
    "        \"\"\"\n",
    "        super().__init__(**kwargs)\n",
    "        self.supports_masking = True\n",
    "        self.num_kernels = num_kernels\n",
    "        self.init_std = init_std\n",
    "        self.init_range = init_range\n",
    "\n",
    "    def build(self, input_shape):\n",
    "        # Learnable RBF centers (shape: [C])\n",
    "        low, high = self.init_range\n",
    "        centers_init = tf.linspace(low, high, self.num_kernels)\n",
    "        self.centers = tf.Variable(\n",
    "            initial_value=centers_init, trainable=True, name=\"rbf_centers\"\n",
    "        )\n",
    "\n",
    "        # Learnable RBF stds (shape: [C])\n",
    "        self.stds = tf.Variable(\n",
    "            initial_value=tf.fill([self.num_kernels], self.init_std),\n",
    "            trainable=True,\n",
    "            name=\"rbf_stds\"\n",
    "        )\n",
    "\n",
    "    def call(self, inputs, training=False, mask=None):\n",
    "        \"\"\"\n",
    "        Args:\n",
    "            inputs: Tensor of shape (B, N, N) - pairwise distances\n",
    "                    Distances of exactly 0 are considered masked\n",
    "        Returns:\n",
    "            Tensor of shape (B, N, N, C)\n",
    "        \"\"\"\n",
    "        distance_matrix = inputs  # shape: (B, N, N)\n",
    "        B, N, _ = tf.unstack(tf.shape(distance_matrix))\n",
    "\n",
    "        # Expand dims to shape (B, N, N, 1) for broadcasting\n",
    "        dists = tf.expand_dims(distance_matrix, axis=-1)  # (B, N, N, 1)\n",
    "\n",
    "        # Reshape centers and stds for broadcasting\n",
    "        centers = tf.reshape(self.centers, shape=[1, 1, 1, self.num_kernels])  # (1, 1, 1, C)\n",
    "        stds = tf.reshape(self.stds, shape=[1, 1, 1, self.num_kernels])        # (1, 1, 1, C)\n",
    "\n",
    "        # Compute RBF: exp( - (d - c)^2 / (2 * std^2) )\n",
    "        rbf = tf.exp(- tf.square(dists - centers) / (2.0 * tf.square(stds)))  # (B, N, N, C)\n",
    "\n",
    "        if mask is not None:\n",
    "            mask = tf.cast(mask, dtype=rbf.dtype)\n",
    "            mask = tf.expand_dims(mask, axis=-1)  # (B, N, 1)\n",
    "            mask = tf.expand_dims(mask, axis=-1)  # (B, N, 1, 1)\n",
    "            rbf = rbf * mask  # (B, N, N, C)\n",
    "\n",
    "        return rbf\n",
    "    \n",
    "    def compute_mask(self, inputs, mask=None):\n",
    "        # Just return the input mask unchanged\n",
    "        return mask"
   ]
  },
  {
   "cell_type": "code",
   "execution_count": null,
   "id": "57eda901",
   "metadata": {},
   "outputs": [],
   "source": [
    "rbf_layer = RBFGaussianEmbedding(num_kernels=64, init_std=0.5, init_range=(0.0, 100.0))"
   ]
  },
  {
   "cell_type": "markdown",
   "id": "2f61454a",
   "metadata": {},
   "source": [
    "## work on masking"
   ]
  },
  {
   "cell_type": "code",
   "execution_count": null,
   "id": "7fa91450",
   "metadata": {},
   "outputs": [],
   "source": [
    "from model import create_masked_inputs, create_broadcasted_features, mask_inputs\n",
    "\n",
    "features, pairwise_distances = create_masked_inputs(\n",
    "        input_data, coordinates, size_value, n_patches_hot_encoded_value, max_number_of_patches)"
   ]
  },
  {
   "cell_type": "code",
   "execution_count": null,
   "id": "34cb85ad",
   "metadata": {},
   "outputs": [],
   "source": [
    "pairwise_distances._keras_mask[0]"
   ]
  },
  {
   "cell_type": "code",
   "execution_count": null,
   "id": "6cc5c0cb",
   "metadata": {},
   "outputs": [],
   "source": [
    "px.imshow(pairwise_distances[0])"
   ]
  },
  {
   "cell_type": "markdown",
   "id": "05d0a7df",
   "metadata": {},
   "source": [
    "## RBF output visualization"
   ]
  },
  {
   "cell_type": "code",
   "execution_count": null,
   "id": "c112045c",
   "metadata": {},
   "outputs": [],
   "source": [
    "rbf_layer(pairwise_distances)[0][0][-1]"
   ]
  },
  {
   "cell_type": "code",
   "execution_count": null,
   "id": "ff8fa687",
   "metadata": {},
   "outputs": [],
   "source": [
    "import tensorflow as tf\n",
    "import plotly.graph_objs as go\n",
    "import numpy as np\n",
    "\n",
    "\n",
    "# Get values of centers and stds (convert to NumPy)\n",
    "centers = rbf_layer.centers.numpy()\n",
    "stds = rbf_layer.stds.numpy()\n",
    "\n",
    "# Create x values for distances\n",
    "x = np.linspace(0, 100, 1_500)\n",
    "\n",
    "# Create traces for each kernel\n",
    "traces = []\n",
    "for i, (c, s) in enumerate(zip(centers, stds)):\n",
    "    y = np.exp(-((x - c) ** 2) / (2 * s ** 2))\n",
    "    trace = go.Scatter(x=x, y=y, mode='lines', name=f'Kernel {i+1}<br>c={c:.2f}, σ={s:.2f}')\n",
    "    traces.append(trace)\n",
    "\n",
    "# Plot\n",
    "layout = go.Layout(\n",
    "    title='RBF Gaussian Kernels',\n",
    "    xaxis=dict(title='Distance'),\n",
    "    yaxis=dict(title='RBF Activation')\n",
    ")\n",
    "fig = go.Figure(data=traces, layout=layout)\n",
    "fig.show()\n"
   ]
  }
 ],
 "metadata": {
  "kernelspec": {
   "display_name": "ubinet-gpu",
   "language": "python",
   "name": "python3"
  },
  "language_info": {
   "codemirror_mode": {
    "name": "ipython",
    "version": 3
   },
   "file_extension": ".py",
   "mimetype": "text/x-python",
   "name": "python",
   "nbconvert_exporter": "python",
   "pygments_lexer": "ipython3",
   "version": "3.10.13"
  }
 },
 "nbformat": 4,
 "nbformat_minor": 5
}
