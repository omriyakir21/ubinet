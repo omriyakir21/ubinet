{
 "cells": [
  {
   "cell_type": "code",
   "execution_count": null,
   "id": "e81a2a75",
   "metadata": {},
   "outputs": [],
   "source": [
    "import tensorflow as tf\n",
    "tf.config.set_visible_devices([], 'GPU')\n",
    "\n",
    "from plotly import express as px\n",
    "from typing import List, Tuple\n",
    "import pickle"
   ]
  },
  {
   "cell_type": "code",
   "execution_count": null,
   "id": "6fd4b8fa",
   "metadata": {},
   "outputs": [],
   "source": [
    "import sys\n",
    "sys.path.append('../../../../')"
   ]
  },
  {
   "cell_type": "code",
   "execution_count": null,
   "id": "5eeb3cad",
   "metadata": {},
   "outputs": [],
   "source": [
    "with open('/home/iscb/wolfson/doririmon/home/order/ubinet/repo/ubinet/datasets/patch_to_score/data_for_training/03_04_with_pesto_and_coord/folds_training_dicts.pkl', 'rb') as f:\n",
    "    folds_training_dicts = pickle.load(f)"
   ]
  },
  {
   "cell_type": "code",
   "execution_count": null,
   "id": "3d4cc814",
   "metadata": {},
   "outputs": [],
   "source": [
    "fold = folds_training_dicts[0]\n",
    "fold.keys()"
   ]
  },
  {
   "cell_type": "code",
   "execution_count": null,
   "id": "852264d9",
   "metadata": {},
   "outputs": [],
   "source": [
    "input_data = fold['components_train']\n",
    "coordinates = fold['coordinates_train']\n",
    "size_value = fold['sizes_train']\n",
    "n_patches_hot_encoded_value = fold['num_patches_train']\n",
    "max_number_of_patches = 10"
   ]
  },
  {
   "cell_type": "code",
   "execution_count": null,
   "id": "2ae19e11",
   "metadata": {},
   "outputs": [],
   "source": [
    "pairwise_distances = tf.norm(tf.expand_dims(coordinates, axis=1) - tf.expand_dims(coordinates, axis=2), axis=-1)\n",
    "pairwise_distances = tf.cast(pairwise_distances, tf.float32)"
   ]
  },
  {
   "cell_type": "code",
   "execution_count": null,
   "id": "e9ad52f2",
   "metadata": {},
   "outputs": [],
   "source": [
    "px.imshow(pairwise_distances[5,:,:])"
   ]
  },
  {
   "cell_type": "code",
   "execution_count": null,
   "id": "e2897c54",
   "metadata": {},
   "outputs": [],
   "source": [
    "flat_distances = pairwise_distances.numpy().flatten()\n",
    "flat_distances = flat_distances[flat_distances != 0]"
   ]
  },
  {
   "cell_type": "code",
   "execution_count": null,
   "id": "3e1a68d5",
   "metadata": {},
   "outputs": [],
   "source": [
    "len(flat_distances)"
   ]
  },
  {
   "cell_type": "code",
   "execution_count": null,
   "id": "9dd2c052",
   "metadata": {},
   "outputs": [],
   "source": [
    "px.histogram(flat_distances[::100], histnorm='percent')"
   ]
  },
  {
   "cell_type": "code",
   "execution_count": null,
   "id": "5d0326ed",
   "metadata": {},
   "outputs": [],
   "source": []
  }
 ],
 "metadata": {
  "kernelspec": {
   "display_name": "ubinet-gpu",
   "language": "python",
   "name": "python3"
  },
  "language_info": {
   "codemirror_mode": {
    "name": "ipython",
    "version": 3
   },
   "file_extension": ".py",
   "mimetype": "text/x-python",
   "name": "python",
   "nbconvert_exporter": "python",
   "pygments_lexer": "ipython3",
   "version": "3.10.16"
  }
 },
 "nbformat": 4,
 "nbformat_minor": 5
}
