{
 "cells": [
  {
   "cell_type": "code",
   "execution_count": 10,
   "id": "e6d31464",
   "metadata": {},
   "outputs": [],
   "source": [
    "import tensorflow as tf\n",
    "tf.config.set_visible_devices([], 'GPU')\n",
    "\n",
    "from typing import List, Tuple\n",
    "import pickle"
   ]
  },
  {
   "cell_type": "code",
   "execution_count": 11,
   "id": "0f7ae7ff",
   "metadata": {},
   "outputs": [],
   "source": [
    "import sys\n",
    "sys.path.append('../../../../')"
   ]
  },
  {
   "cell_type": "code",
   "execution_count": 12,
   "id": "c2633643",
   "metadata": {},
   "outputs": [],
   "source": [
    "with open('/home/iscb/wolfson/doririmon/home/order/ubinet/repo/ubinet/datasets/patch_to_score/data_for_training/03_04_with_pesto_and_coord/folds_training_dicts.pkl', 'rb') as f:\n",
    "    folds_training_dicts = pickle.load(f)"
   ]
  },
  {
   "cell_type": "code",
   "execution_count": 13,
   "id": "fe5a6692",
   "metadata": {},
   "outputs": [
    {
     "data": {
      "text/plain": [
       "dict_keys(['sizes_train', 'components_train', 'num_patches_train', 'uniprots_train', 'labels_train', 'sizes_validation', 'components_validation', 'num_patches_validation', 'uniprots_validation', 'labels_validation', 'sizes_test', 'components_test', 'num_patches_test', 'uniprots_test', 'labels_test', 'coordinates_train', 'coordinates_validation', 'coordinates_test'])"
      ]
     },
     "execution_count": 13,
     "metadata": {},
     "output_type": "execute_result"
    }
   ],
   "source": [
    "fold = folds_training_dicts[0]\n",
    "fold.keys()"
   ]
  },
  {
   "cell_type": "code",
   "execution_count": 14,
   "id": "0e1edcef",
   "metadata": {},
   "outputs": [],
   "source": [
    "input_data = fold['components_train']\n",
    "coordinates = fold['coordinates_train']\n",
    "size_value = fold['sizes_train']\n",
    "n_patches_hot_encoded_value = fold['num_patches_train']\n",
    "max_number_of_patches = 10"
   ]
  },
  {
   "cell_type": "code",
   "execution_count": 15,
   "id": "ca0115e1",
   "metadata": {},
   "outputs": [],
   "source": [
    "from model import build_model"
   ]
  },
  {
   "cell_type": "code",
   "execution_count": 16,
   "id": "666e741b",
   "metadata": {},
   "outputs": [
    {
     "name": "stdout",
     "output_type": "stream",
     "text": [
      "initializing projection for skip connection: 11 -> 256\n"
     ]
    }
   ],
   "source": [
    "model = build_model([[256, 256]], 0.2, \n",
    "                    [[256, 256]], 0.2, \n",
    "                    [[256, 256]], 0.2,\n",
    "                    'relu', (10, 9), 10, 256, 256, 8)"
   ]
  },
  {
   "cell_type": "code",
   "execution_count": 17,
   "id": "1460a9ec",
   "metadata": {},
   "outputs": [
    {
     "name": "stdout",
     "output_type": "stream",
     "text": [
      "WARNING:tensorflow:Tensor._shape is private, use Tensor.shape instead. Tensor._shape will eventually be removed.\n"
     ]
    },
    {
     "data": {
      "text/plain": [
       "<tf.Tensor: shape=(76632, 1), dtype=float32, numpy=\n",
       "array([[0.8752438 ],\n",
       "       [0.78156495],\n",
       "       [0.8107893 ],\n",
       "       ...,\n",
       "       [0.67460513],\n",
       "       [0.6874007 ],\n",
       "       [0.78612494]], dtype=float32)>"
      ]
     },
     "execution_count": 17,
     "metadata": {},
     "output_type": "execute_result"
    }
   ],
   "source": [
    "res = model([input_data, coordinates, size_value, n_patches_hot_encoded_value])\n",
    "res"
   ]
  },
  {
   "cell_type": "code",
   "execution_count": 9,
   "id": "7de8f5a0",
   "metadata": {},
   "outputs": [
    {
     "name": "stdout",
     "output_type": "stream",
     "text": [
      "Model: \"model\"\n",
      "__________________________________________________________________________________________________\n",
      " Layer (type)                   Output Shape         Param #     Connected to                     \n",
      "==================================================================================================\n",
      " number_of_patches_input (Input  [(None, 11)]        0           []                               \n",
      " Layer)                                                                                           \n",
      "                                                                                                  \n",
      " tf.math.argmax (TFOpLambda)    (None,)              0           ['number_of_patches_input[0][0]']\n",
      "                                                                                                  \n",
      " tf.__operators__.getitem (Slic  (None, 1)           0           ['tf.math.argmax[0][0]']         \n",
      " ingOpLambda)                                                                                     \n",
      "                                                                                                  \n",
      " features_input (InputLayer)    [(None, 10, 9)]      0           []                               \n",
      "                                                                                                  \n",
      " tf.cast_1 (TFOpLambda)         (None, 1)            0           ['tf.__operators__.getitem[0][0]'\n",
      "                                                                 ]                                \n",
      "                                                                                                  \n",
      " number_of_residues_input (Inpu  [(None, 1)]         0           []                               \n",
      " tLayer)                                                                                          \n",
      "                                                                                                  \n",
      " tf.compat.v1.shape (TFOpLambda  (2,)                0           ['tf.cast_1[0][0]']              \n",
      " )                                                                                                \n",
      "                                                                                                  \n",
      " tf.compat.v1.shape_1 (TFOpLamb  (2,)                0           ['tf.cast_1[0][0]']              \n",
      " da)                                                                                              \n",
      "                                                                                                  \n",
      " tf.compat.v1.shape_2 (TFOpLamb  (2,)                0           ['number_of_residues_input[0][0]'\n",
      " da)                                                             ]                                \n",
      "                                                                                                  \n",
      " tf.compat.v1.shape_3 (TFOpLamb  (2,)                0           ['number_of_residues_input[0][0]'\n",
      " da)                                                             ]                                \n",
      "                                                                                                  \n",
      " tf.__operators__.ne (TFOpLambd  (None, 10, 9)       0           ['features_input[0][0]']         \n",
      " a)                                                                                               \n",
      "                                                                                                  \n",
      " coordinates_input (InputLayer)  [(None, 10, 3)]     0           []                               \n",
      "                                                                                                  \n",
      " tf.expand_dims (TFOpLambda)    (None, 1, 1)         0           ['tf.cast_1[0][0]']              \n",
      "                                                                                                  \n",
      " tf.__operators__.getitem_1 (Sl  ()                  0           ['tf.compat.v1.shape[0][0]']     \n",
      " icingOpLambda)                                                                                   \n",
      "                                                                                                  \n",
      " tf.__operators__.getitem_2 (Sl  ()                  0           ['tf.compat.v1.shape_1[0][0]']   \n",
      " icingOpLambda)                                                                                   \n",
      "                                                                                                  \n",
      " tf.expand_dims_1 (TFOpLambda)  (None, 1, 1)         0           ['number_of_residues_input[0][0]'\n",
      "                                                                 ]                                \n",
      "                                                                                                  \n",
      " tf.__operators__.getitem_3 (Sl  ()                  0           ['tf.compat.v1.shape_2[0][0]']   \n",
      " icingOpLambda)                                                                                   \n",
      "                                                                                                  \n",
      " tf.__operators__.getitem_4 (Sl  ()                  0           ['tf.compat.v1.shape_3[0][0]']   \n",
      " icingOpLambda)                                                                                   \n",
      "                                                                                                  \n",
      " tf.math.reduce_any (TFOpLambda  (None, 10)          0           ['tf.__operators__.ne[0][0]']    \n",
      " )                                                                                                \n",
      "                                                                                                  \n",
      " tf.expand_dims_2 (TFOpLambda)  (None, 1, 10, 3)     0           ['coordinates_input[0][0]']      \n",
      "                                                                                                  \n",
      " tf.expand_dims_3 (TFOpLambda)  (None, 10, 1, 3)     0           ['coordinates_input[0][0]']      \n",
      "                                                                                                  \n",
      " tf.broadcast_to (TFOpLambda)   (None, 10, 1)        0           ['tf.expand_dims[0][0]',         \n",
      "                                                                  'tf.__operators__.getitem_1[0][0\n",
      "                                                                 ]',                              \n",
      "                                                                  'tf.__operators__.getitem_2[0][0\n",
      "                                                                 ]']                              \n",
      "                                                                                                  \n",
      " tf.broadcast_to_1 (TFOpLambda)  (None, 10, 1)       0           ['tf.expand_dims_1[0][0]',       \n",
      "                                                                  'tf.__operators__.getitem_3[0][0\n",
      "                                                                 ]',                              \n",
      "                                                                  'tf.__operators__.getitem_4[0][0\n",
      "                                                                 ]']                              \n",
      "                                                                                                  \n",
      " tf.cast (TFOpLambda)           (None, 10)           0           ['tf.math.reduce_any[0][0]']     \n",
      "                                                                                                  \n",
      " tf.math.subtract (TFOpLambda)  (None, 10, 10, 3)    0           ['tf.expand_dims_2[0][0]',       \n",
      "                                                                  'tf.expand_dims_3[0][0]']       \n",
      "                                                                                                  \n",
      " concatenate (Concatenate)      (None, 10, 11)       0           ['features_input[0][0]',         \n",
      "                                                                  'tf.broadcast_to[0][0]',        \n",
      "                                                                  'tf.broadcast_to_1[0][0]']      \n",
      "                                                                                                  \n",
      " tf.__operators__.getitem_5 (Sl  (None, 10, 1)       0           ['tf.cast[0][0]']                \n",
      " icingOpLambda)                                                                                   \n",
      "                                                                                                  \n",
      " tf.compat.v1.norm (TFOpLambda)  (None, 10, 10)      0           ['tf.math.subtract[0][0]']       \n",
      "                                                                                                  \n",
      " tf.math.multiply (TFOpLambda)  (None, 10, 11)       0           ['concatenate[0][0]',            \n",
      "                                                                  'tf.__operators__.getitem_5[0][0\n",
      "                                                                 ]']                              \n",
      "                                                                                                  \n",
      " tf.cast_2 (TFOpLambda)         (None, 10, 10)       0           ['tf.compat.v1.norm[0][0]']      \n",
      "                                                                                                  \n",
      " tf.__operators__.getitem_6 (Sl  (None, 10, 1)       0           ['tf.cast[0][0]']                \n",
      " icingOpLambda)                                                                                   \n",
      "                                                                                                  \n",
      " masking (Masking)              (None, 10, 11)       0           ['tf.math.multiply[0][0]']       \n",
      "                                                                                                  \n",
      " tf.math.multiply_1 (TFOpLambda  (None, 10, 10)      0           ['tf.cast_2[0][0]',              \n",
      " )                                                                'tf.__operators__.getitem_6[0][0\n",
      "                                                                 ]']                              \n",
      "                                                                                                  \n",
      " transformer_encoder_mlp (Trans  (None, 10, 256)     72448       ['masking[0][0]']                \n",
      " formerEncoderMLP)                                                                                \n",
      "                                                                                                  \n",
      " masking_1 (Masking)            (None, 10, 10)       0           ['tf.math.multiply_1[0][0]']     \n",
      "                                                                                                  \n",
      " re_lu (ReLU)                   (None, 10, 256)      0           ['transformer_encoder_mlp[0][0]']\n",
      "                                                                                                  \n",
      " pairs_transition (PairsTransit  (None, 10, 10, 256)  512        ['masking_1[0][0]']              \n",
      " ion)                                                                                             \n",
      "                                                                                                  \n",
      " patch_attention_with_pair_bias  (None, 10, 256)     331264      ['re_lu[0][0]',                  \n",
      "  (PatchAttentionWithPairBias)                                    'pairs_transition[0][0]']       \n",
      "                                                                                                  \n",
      " transformer_encoder_mlp_1 (Tra  (None, 10, 256)     132096      ['patch_attention_with_pair_bias[\n",
      " nsformerEncoderMLP)                                             0][0]']                          \n",
      "                                                                                                  \n",
      " re_lu_1 (ReLU)                 (None, 10, 256)      0           ['transformer_encoder_mlp_1[0][0]\n",
      "                                                                 ']                               \n",
      "                                                                                                  \n",
      " global_sum_pooling (GlobalSumP  (None, 256)         0           ['re_lu_1[0][0]']                \n",
      " ooling)                                                                                          \n",
      "                                                                                                  \n",
      " transformer_encoder_mlp_2 (Tra  (None, 256)         132096      ['global_sum_pooling[0][0]']     \n",
      " nsformerEncoderMLP)                                                                              \n",
      "                                                                                                  \n",
      " re_lu_2 (ReLU)                 (None, 256)          0           ['transformer_encoder_mlp_2[0][0]\n",
      "                                                                 ']                               \n",
      "                                                                                                  \n",
      " dense_6 (Dense)                (None, 1)            257         ['re_lu_2[0][0]']                \n",
      "                                                                                                  \n",
      "==================================================================================================\n",
      "Total params: 668,673\n",
      "Trainable params: 668,673\n",
      "Non-trainable params: 0\n",
      "__________________________________________________________________________________________________\n"
     ]
    }
   ],
   "source": [
    "model.summary()"
   ]
  },
  {
   "cell_type": "markdown",
   "id": "94da6050",
   "metadata": {},
   "source": [
    "## playground"
   ]
  },
  {
   "cell_type": "code",
   "execution_count": 8,
   "id": "65b828d0",
   "metadata": {},
   "outputs": [],
   "source": [
    "from model import create_broadcasted_features, apply_mlps, mask_inputs\n",
    "from models.patch_to_score.models.patch_attention.modules.global_sum_pooling import GlobalSumPooling\n",
    "from models.patch_to_score.models.patch_attention.modules.patch_attention_with_pair_bias import PatchAttentionWithPairBias\n",
    "from models.patch_to_score.models.patch_attention.modules.transformer_encoder_mlp import TransformerEncoderMLP\n",
    "from models.patch_to_score.models.patch_attention.modules.pairs_transition import PairsTransition"
   ]
  },
  {
   "cell_type": "code",
   "execution_count": 23,
   "id": "86e3960d",
   "metadata": {},
   "outputs": [],
   "source": [
    "features_mlp_hidden_sizes = attention_mlp_hidden_sizes = output_mlp_hidden_sizes = [[256, 256]]\n",
    "features_mlp_dropout_rate = attention_mlp_dropout_rate = output_mlp_dropout_rate = 0.2\n",
    "activation = 'relu'\n",
    "pairs_channel_dimension = attention_dimension = 256\n",
    "num_heads = 8\n",
    " \n",
    "# [[256, 256]], 0.2, \n",
    "# [[256, 256]], 0.2,\n",
    "# 'relu', (10, 9), 10, 256, 256, 8"
   ]
  },
  {
   "cell_type": "code",
   "execution_count": 38,
   "id": "f28fa5df",
   "metadata": {},
   "outputs": [
    {
     "name": "stdout",
     "output_type": "stream",
     "text": [
      "initializing projection for skip connection: 11 -> 256\n",
      "WARNING:tensorflow:Tensor._shape is private, use Tensor.shape instead. Tensor._shape will eventually be removed.\n",
      "WARNING:tensorflow:Tensor._shape is private, use Tensor.shape instead. Tensor._shape will eventually be removed.\n"
     ]
    },
    {
     "name": "stderr",
     "output_type": "stream",
     "text": [
      "2025-06-02 18:12:44.646426: W tensorflow/core/framework/op_kernel.cc:1830] OP_REQUIRES failed at strided_slice_op.cc:105 : INVALID_ARGUMENT: Multiple ellipses in slice spec not allowed\n"
     ]
    },
    {
     "name": "stdout",
     "output_type": "stream",
     "text": [
      "WARNING:tensorflow:Tensor._shape is private, use Tensor.shape instead. Tensor._shape will eventually be removed.\n",
      "WARNING:tensorflow:Tensor._shape is private, use Tensor.shape instead. Tensor._shape will eventually be removed.\n",
      "WARNING:tensorflow:Tensor._shape is private, use Tensor.shape instead. Tensor._shape will eventually be removed.\n",
      "WARNING:tensorflow:Tensor._shape is private, use Tensor.shape instead. Tensor._shape will eventually be removed.\n",
      "WARNING:tensorflow:Tensor._shape is private, use Tensor.shape instead. Tensor._shape will eventually be removed.\n",
      "WARNING:tensorflow:Tensor._shape is private, use Tensor.shape instead. Tensor._shape will eventually be removed.\n",
      "WARNING:tensorflow:Tensor._shape is private, use Tensor.shape instead. Tensor._shape will eventually be removed.\n",
      "WARNING:tensorflow:Tensor._shape is private, use Tensor.shape instead. Tensor._shape will eventually be removed.\n",
      "WARNING:tensorflow:Tensor._shape is private, use Tensor.shape instead. Tensor._shape will eventually be removed.\n",
      "WARNING:tensorflow:Tensor._shape is private, use Tensor.shape instead. Tensor._shape will eventually be removed.\n"
     ]
    }
   ],
   "source": [
    "mask_condition = tf.cast(tf.keras.layers.Masking(\n",
    "        mask_value=0)(input_data)._keras_mask, tf.float32)\n",
    "features = create_broadcasted_features(\n",
    "    n_patches_hot_encoded_value, max_number_of_patches, size_value, input_data)\n",
    "pairwise_distances = tf.norm(\n",
    "    tf.expand_dims(coordinates, axis=1) - tf.expand_dims(coordinates, axis=2), axis=-1)\n",
    "pairwise_distances = tf.cast(pairwise_distances, tf.float32)\n",
    "\n",
    "# zero out broadcased features where mask is 0\n",
    "features = features * mask_condition[..., None]\n",
    "pairwise_distances = pairwise_distances * mask_condition[..., None]\n",
    "\n",
    "features, pairwise_distances = mask_inputs(features, pairwise_distances)\n",
    "\n",
    "F = apply_mlps(features, features_mlp_hidden_sizes,\n",
    "                features_mlp_dropout_rate, activation)\n",
    "\n",
    "pairs_transition = PairsTransition(pairs_channel_dimension)\n",
    "D = pairs_transition(pairwise_distances)\n",
    "\n",
    "attention_output = PatchAttentionWithPairBias(\n",
    "    attention_dimension, num_heads)([F, D])\n",
    "\n",
    "attention_mlp_output = apply_mlps(\n",
    "    attention_output, attention_mlp_hidden_sizes, attention_mlp_dropout_rate, activation)\n",
    "\n",
    "global_pooling_output = GlobalSumPooling(\n",
    "    data_format='channels_last')(attention_mlp_output)\n",
    "\n",
    "output_mlp_output = apply_mlps(\n",
    "    global_pooling_output, output_mlp_hidden_sizes, output_mlp_dropout_rate, activation)\n",
    "\n",
    "output = tf.keras.layers.Dense(\n",
    "    1, activation='sigmoid')(output_mlp_output)"
   ]
  },
  {
   "cell_type": "code",
   "execution_count": 35,
   "id": "ee49734e",
   "metadata": {},
   "outputs": [
    {
     "data": {
      "text/plain": [
       "<tf.Tensor: shape=(76632, 1), dtype=float32, numpy=\n",
       "array([[0.5533056 ],\n",
       "       [0.619216  ],\n",
       "       [0.5120182 ],\n",
       "       ...,\n",
       "       [0.41534168],\n",
       "       [0.60217166],\n",
       "       [0.72498924]], dtype=float32)>"
      ]
     },
     "execution_count": 35,
     "metadata": {},
     "output_type": "execute_result"
    }
   ],
   "source": [
    "output"
   ]
  }
 ],
 "metadata": {
  "kernelspec": {
   "display_name": "ubinet-gpu",
   "language": "python",
   "name": "python3"
  },
  "language_info": {
   "codemirror_mode": {
    "name": "ipython",
    "version": 3
   },
   "file_extension": ".py",
   "mimetype": "text/x-python",
   "name": "python",
   "nbconvert_exporter": "python",
   "pygments_lexer": "ipython3",
   "version": "3.10.13"
  }
 },
 "nbformat": 4,
 "nbformat_minor": 5
}
