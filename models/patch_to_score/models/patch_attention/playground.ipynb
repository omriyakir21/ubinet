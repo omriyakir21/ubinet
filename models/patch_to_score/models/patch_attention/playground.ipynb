{
 "cells": [
  {
   "cell_type": "code",
   "execution_count": 1,
   "id": "e6d31464",
   "metadata": {},
   "outputs": [
    {
     "name": "stderr",
     "output_type": "stream",
     "text": [
      "2025-06-01 19:15:05.921363: I tensorflow/core/platform/cpu_feature_guard.cc:193] This TensorFlow binary is optimized with oneAPI Deep Neural Network Library (oneDNN) to use the following CPU instructions in performance-critical operations:  AVX2 AVX512F AVX512_VNNI AVX512_BF16 AVX_VNNI AMX_TILE AMX_INT8 AMX_BF16 FMA\n",
      "To enable them in other operations, rebuild TensorFlow with the appropriate compiler flags.\n",
      "2025-06-01 19:15:06.134281: I tensorflow/core/util/port.cc:104] oneDNN custom operations are on. You may see slightly different numerical results due to floating-point round-off errors from different computation orders. To turn them off, set the environment variable `TF_ENABLE_ONEDNN_OPTS=0`.\n",
      "2025-06-01 19:15:12.951947: W tensorflow/compiler/xla/stream_executor/platform/default/dso_loader.cc:64] Could not load dynamic library 'libnvinfer.so.7'; dlerror: libnvinfer.so.7: cannot open shared object file: No such file or directory; LD_LIBRARY_PATH: /home/iscb/wolfson/doririmon/anaconda3/envs/ubinet-gpu/lib\n",
      "2025-06-01 19:15:12.952068: W tensorflow/compiler/xla/stream_executor/platform/default/dso_loader.cc:64] Could not load dynamic library 'libnvinfer_plugin.so.7'; dlerror: libnvinfer_plugin.so.7: cannot open shared object file: No such file or directory; LD_LIBRARY_PATH: /home/iscb/wolfson/doririmon/anaconda3/envs/ubinet-gpu/lib\n",
      "2025-06-01 19:15:12.952076: W tensorflow/compiler/tf2tensorrt/utils/py_utils.cc:38] TF-TRT Warning: Cannot dlopen some TensorRT libraries. If you would like to use Nvidia GPU with TensorRT, please make sure the missing libraries mentioned above are installed properly.\n",
      "2025-06-01 19:15:24.012448: W tensorflow/core/common_runtime/gpu/gpu_device.cc:2027] TensorFlow was not built with CUDA kernel binaries compatible with compute capability 9.0. CUDA kernels will be jit-compiled from PTX, which could take 30 minutes or longer.\n",
      "2025-06-01 19:15:24.013742: W tensorflow/core/common_runtime/gpu/gpu_device.cc:2027] TensorFlow was not built with CUDA kernel binaries compatible with compute capability 9.0. CUDA kernels will be jit-compiled from PTX, which could take 30 minutes or longer.\n",
      "2025-06-01 19:15:24.014983: W tensorflow/core/common_runtime/gpu/gpu_device.cc:2027] TensorFlow was not built with CUDA kernel binaries compatible with compute capability 9.0. CUDA kernels will be jit-compiled from PTX, which could take 30 minutes or longer.\n",
      "2025-06-01 19:15:24.016246: W tensorflow/core/common_runtime/gpu/gpu_device.cc:2027] TensorFlow was not built with CUDA kernel binaries compatible with compute capability 9.0. CUDA kernels will be jit-compiled from PTX, which could take 30 minutes or longer.\n",
      "2025-06-01 19:15:24.017789: W tensorflow/core/common_runtime/gpu/gpu_device.cc:2027] TensorFlow was not built with CUDA kernel binaries compatible with compute capability 9.0. CUDA kernels will be jit-compiled from PTX, which could take 30 minutes or longer.\n",
      "2025-06-01 19:15:24.019130: W tensorflow/core/common_runtime/gpu/gpu_device.cc:2027] TensorFlow was not built with CUDA kernel binaries compatible with compute capability 9.0. CUDA kernels will be jit-compiled from PTX, which could take 30 minutes or longer.\n",
      "2025-06-01 19:15:24.020476: W tensorflow/core/common_runtime/gpu/gpu_device.cc:2027] TensorFlow was not built with CUDA kernel binaries compatible with compute capability 9.0. CUDA kernels will be jit-compiled from PTX, which could take 30 minutes or longer.\n",
      "2025-06-01 19:15:24.022458: W tensorflow/core/common_runtime/gpu/gpu_device.cc:2027] TensorFlow was not built with CUDA kernel binaries compatible with compute capability 9.0. CUDA kernels will be jit-compiled from PTX, which could take 30 minutes or longer.\n"
     ]
    }
   ],
   "source": [
    "import tensorflow as tf\n",
    "tf.config.set_visible_devices([], 'GPU')\n",
    "\n",
    "from typing import List, Tuple\n",
    "import pickle"
   ]
  },
  {
   "cell_type": "code",
   "execution_count": 2,
   "id": "0f7ae7ff",
   "metadata": {},
   "outputs": [],
   "source": [
    "import sys\n",
    "sys.path.append('../../../../')"
   ]
  },
  {
   "cell_type": "code",
   "execution_count": 3,
   "id": "c2633643",
   "metadata": {},
   "outputs": [
    {
     "name": "stderr",
     "output_type": "stream",
     "text": [
      "2025-06-01 19:15:24.073365: I tensorflow/core/platform/cpu_feature_guard.cc:193] This TensorFlow binary is optimized with oneAPI Deep Neural Network Library (oneDNN) to use the following CPU instructions in performance-critical operations:  AVX2 AVX512F AVX512_VNNI AVX512_BF16 AVX_VNNI AMX_TILE AMX_INT8 AMX_BF16 FMA\n",
      "To enable them in other operations, rebuild TensorFlow with the appropriate compiler flags.\n"
     ]
    }
   ],
   "source": [
    "with open('/home/iscb/wolfson/doririmon/home/order/ubinet/repo/ubinet/datasets/patch_to_score/data_for_training/03_04_with_pesto_and_coord/folds_training_dicts.pkl', 'rb') as f:\n",
    "    folds_training_dicts = pickle.load(f)"
   ]
  },
  {
   "cell_type": "code",
   "execution_count": 4,
   "id": "fe5a6692",
   "metadata": {},
   "outputs": [
    {
     "data": {
      "text/plain": [
       "dict_keys(['sizes_train', 'components_train', 'num_patches_train', 'uniprots_train', 'labels_train', 'sizes_validation', 'components_validation', 'num_patches_validation', 'uniprots_validation', 'labels_validation', 'sizes_test', 'components_test', 'num_patches_test', 'uniprots_test', 'labels_test', 'coordinates_train', 'coordinates_validation', 'coordinates_test'])"
      ]
     },
     "execution_count": 4,
     "metadata": {},
     "output_type": "execute_result"
    }
   ],
   "source": [
    "fold = folds_training_dicts[0]\n",
    "fold.keys()"
   ]
  },
  {
   "cell_type": "code",
   "execution_count": 5,
   "id": "0e1edcef",
   "metadata": {},
   "outputs": [],
   "source": [
    "features = fold['components_train']\n",
    "coordinates = fold['coordinates_train']\n",
    "sizes = fold['sizes_train']\n",
    "num_patches = fold['num_patches_train']"
   ]
  },
  {
   "cell_type": "code",
   "execution_count": 6,
   "id": "ca0115e1",
   "metadata": {},
   "outputs": [],
   "source": [
    "from model import build_model"
   ]
  },
  {
   "cell_type": "code",
   "execution_count": 7,
   "id": "666e741b",
   "metadata": {},
   "outputs": [
    {
     "name": "stdout",
     "output_type": "stream",
     "text": [
      "initializing projection for skip connection: 11 -> 256\n"
     ]
    }
   ],
   "source": [
    "model = build_model([[256, 256]], 0.2, \n",
    "                    [[256, 256]], 0.2, \n",
    "                    [[256, 256]], 0.2,\n",
    "                    'relu', (10, 9), 10, 256, 256, 8)"
   ]
  },
  {
   "cell_type": "code",
   "execution_count": 8,
   "id": "1460a9ec",
   "metadata": {},
   "outputs": [
    {
     "data": {
      "text/plain": [
       "<KerasTensor: shape=(76632, 1) dtype=float32 (created by layer 'dense_6')>"
      ]
     },
     "execution_count": 8,
     "metadata": {},
     "output_type": "execute_result"
    }
   ],
   "source": [
    "res = model([features, coordinates, sizes, num_patches])\n",
    "res"
   ]
  },
  {
   "cell_type": "code",
   "execution_count": 18,
   "id": "7de8f5a0",
   "metadata": {},
   "outputs": [
    {
     "name": "stdout",
     "output_type": "stream",
     "text": [
      "Model: \"model\"\n",
      "__________________________________________________________________________________________________\n",
      " Layer (type)                   Output Shape         Param #     Connected to                     \n",
      "==================================================================================================\n",
      " number_of_patches_input (Input  [(None, 11)]        0           []                               \n",
      " Layer)                                                                                           \n",
      "                                                                                                  \n",
      " tf.math.argmax (TFOpLambda)    (None,)              0           ['number_of_patches_input[0][0]']\n",
      "                                                                                                  \n",
      " tf.__operators__.getitem (Slic  (None, 1)           0           ['tf.math.argmax[1][0]']         \n",
      " ingOpLambda)                                                                                     \n",
      "                                                                                                  \n",
      " tf.cast_1 (TFOpLambda)         (None, 1)            0           ['tf.__operators__.getitem[1][0]'\n",
      "                                                                 ]                                \n",
      "                                                                                                  \n",
      " number_of_residues_input (Inpu  [(None, 1)]         0           []                               \n",
      " tLayer)                                                                                          \n",
      "                                                                                                  \n",
      " tf.compat.v1.shape (TFOpLambda  (2,)                0           ['tf.cast_1[1][0]']              \n",
      " )                                                                                                \n",
      "                                                                                                  \n",
      " tf.compat.v1.shape_1 (TFOpLamb  (2,)                0           ['tf.cast_1[1][0]']              \n",
      " da)                                                                                              \n",
      "                                                                                                  \n",
      " tf.compat.v1.shape_2 (TFOpLamb  (2,)                0           ['number_of_residues_input[0][0]'\n",
      " da)                                                             ]                                \n",
      "                                                                                                  \n",
      " tf.compat.v1.shape_3 (TFOpLamb  (2,)                0           ['number_of_residues_input[0][0]'\n",
      " da)                                                             ]                                \n",
      "                                                                                                  \n",
      " tf.expand_dims (TFOpLambda)    (None, 1, 1)         0           ['tf.cast_1[1][0]']              \n",
      "                                                                                                  \n",
      " tf.__operators__.getitem_1 (Sl  ()                  0           ['tf.compat.v1.shape[1][0]']     \n",
      " icingOpLambda)                                                                                   \n",
      "                                                                                                  \n",
      " tf.__operators__.getitem_2 (Sl  ()                  0           ['tf.compat.v1.shape_1[1][0]']   \n",
      " icingOpLambda)                                                                                   \n",
      "                                                                                                  \n",
      " tf.expand_dims_1 (TFOpLambda)  (None, 1, 1)         0           ['number_of_residues_input[0][0]'\n",
      "                                                                 ]                                \n",
      "                                                                                                  \n",
      " tf.__operators__.getitem_3 (Sl  ()                  0           ['tf.compat.v1.shape_2[1][0]']   \n",
      " icingOpLambda)                                                                                   \n",
      "                                                                                                  \n",
      " tf.__operators__.getitem_4 (Sl  ()                  0           ['tf.compat.v1.shape_3[1][0]']   \n",
      " icingOpLambda)                                                                                   \n",
      "                                                                                                  \n",
      " features_input (InputLayer)    [(None, 10, 9)]      0           []                               \n",
      "                                                                                                  \n",
      " tf.broadcast_to (TFOpLambda)   (None, 10, 1)        0           ['tf.expand_dims[1][0]',         \n",
      "                                                                  'tf.__operators__.getitem_1[1][0\n",
      "                                                                 ]',                              \n",
      "                                                                  'tf.__operators__.getitem_2[1][0\n",
      "                                                                 ]']                              \n",
      "                                                                                                  \n",
      " tf.broadcast_to_1 (TFOpLambda)  (None, 10, 1)       0           ['tf.expand_dims_1[1][0]',       \n",
      "                                                                  'tf.__operators__.getitem_3[1][0\n",
      "                                                                 ]',                              \n",
      "                                                                  'tf.__operators__.getitem_4[1][0\n",
      "                                                                 ]']                              \n",
      "                                                                                                  \n",
      " tf.cast (TFOpLambda)           (None, 10)           0           []                               \n",
      "                                                                                                  \n",
      " input_1 (InputLayer)           [(None, 10, 3)]      0           []                               \n",
      "                                                                                                  \n",
      " concatenate (Concatenate)      (None, 10, 11)       0           ['features_input[0][0]',         \n",
      "                                                                  'tf.broadcast_to[1][0]',        \n",
      "                                                                  'tf.broadcast_to_1[1][0]']      \n",
      "                                                                                                  \n",
      " tf.__operators__.getitem_5 (Sl  (None, 10, 1)       0           ['tf.cast[1][0]']                \n",
      " icingOpLambda)                                                                                   \n",
      "                                                                                                  \n",
      " tf.expand_dims_2 (TFOpLambda)  (None, 1, 10, 3)     0           ['input_1[0][0]']                \n",
      "                                                                                                  \n",
      " tf.expand_dims_3 (TFOpLambda)  (None, 10, 1, 3)     0           ['input_1[0][0]']                \n",
      "                                                                                                  \n",
      " tf.math.multiply (TFOpLambda)  multiple             0           ['concatenate[1][0]',            \n",
      "                                                                  'tf.__operators__.getitem_5[1][0\n",
      "                                                                 ]']                              \n",
      "                                                                                                  \n",
      " tf.math.subtract (TFOpLambda)  (None, 10, 10, 3)    0           ['tf.expand_dims_2[1][0]',       \n",
      "                                                                  'tf.expand_dims_3[1][0]']       \n",
      "                                                                                                  \n",
      " masking_1 (Masking)            multiple             0           ['tf.math.multiply[1][0]']       \n",
      "                                                                                                  \n",
      " tf.compat.v1.norm (TFOpLambda)  (None, 10, 10)      0           ['tf.math.subtract[1][0]']       \n",
      "                                                                                                  \n",
      " transformer_encoder_mlp (Trans  multiple            72448       ['masking_1[1][0]']              \n",
      " formerEncoderMLP)                                                                                \n",
      "                                                                                                  \n",
      " tf.expand_dims_4 (TFOpLambda)  (None, 10, 10, 1)    0           ['tf.compat.v1.norm[1][0]']      \n",
      "                                                                                                  \n",
      " re_lu (ReLU)                   multiple             0           ['transformer_encoder_mlp[1][0]']\n",
      "                                                                                                  \n",
      " dense_pairs (Dense)            (None, 10, 10, 256)  512         ['tf.expand_dims_4[1][0]']       \n",
      "                                                                                                  \n",
      " patch_attention_with_pair_bias  multiple            331264      ['re_lu[1][0]',                  \n",
      "  (PatchAttentionWithPairBias)                                    'dense_pairs[1][0]']            \n",
      "                                                                                                  \n",
      " transformer_encoder_mlp_1 (Tra  multiple            132096      ['patch_attention_with_pair_bias[\n",
      " nsformerEncoderMLP)                                             1][0]']                          \n",
      "                                                                                                  \n",
      " re_lu_1 (ReLU)                 multiple             0           ['transformer_encoder_mlp_1[1][0]\n",
      "                                                                 ']                               \n",
      "                                                                                                  \n",
      " global_sum_pooling (GlobalSumP  multiple            0           ['re_lu_1[1][0]']                \n",
      " ooling)                                                                                          \n",
      "                                                                                                  \n",
      " transformer_encoder_mlp_2 (Tra  multiple            132096      ['global_sum_pooling[1][0]']     \n",
      " nsformerEncoderMLP)                                                                              \n",
      "                                                                                                  \n",
      " re_lu_2 (ReLU)                 multiple             0           ['transformer_encoder_mlp_2[1][0]\n",
      "                                                                 ']                               \n",
      "                                                                                                  \n",
      " dense_6 (Dense)                multiple             257         ['re_lu_2[1][0]']                \n",
      "                                                                                                  \n",
      "==================================================================================================\n",
      "Total params: 668,673\n",
      "Trainable params: 668,673\n",
      "Non-trainable params: 0\n",
      "__________________________________________________________________________________________________\n"
     ]
    }
   ],
   "source": [
    "model.summary()"
   ]
  }
 ],
 "metadata": {
  "kernelspec": {
   "display_name": "ubinet-gpu",
   "language": "python",
   "name": "python3"
  },
  "language_info": {
   "codemirror_mode": {
    "name": "ipython",
    "version": 3
   },
   "file_extension": ".py",
   "mimetype": "text/x-python",
   "name": "python",
   "nbconvert_exporter": "python",
   "pygments_lexer": "ipython3",
   "version": "3.10.13"
  }
 },
 "nbformat": 4,
 "nbformat_minor": 5
}
