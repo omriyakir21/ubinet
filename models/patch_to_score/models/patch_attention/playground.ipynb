{
 "cells": [
  {
   "cell_type": "code",
   "execution_count": 1,
   "id": "e6d31464",
   "metadata": {},
   "outputs": [
    {
     "name": "stderr",
     "output_type": "stream",
     "text": [
      "2025-06-12 23:36:20.051566: I tensorflow/core/platform/cpu_feature_guard.cc:193] This TensorFlow binary is optimized with oneAPI Deep Neural Network Library (oneDNN) to use the following CPU instructions in performance-critical operations:  AVX2 AVX512F AVX512_VNNI AVX512_BF16 AVX_VNNI AMX_TILE AMX_INT8 AMX_BF16 FMA\n",
      "To enable them in other operations, rebuild TensorFlow with the appropriate compiler flags.\n",
      "2025-06-12 23:36:20.158346: I tensorflow/core/util/port.cc:104] oneDNN custom operations are on. You may see slightly different numerical results due to floating-point round-off errors from different computation orders. To turn them off, set the environment variable `TF_ENABLE_ONEDNN_OPTS=0`.\n",
      "2025-06-12 23:36:21.207208: W tensorflow/compiler/xla/stream_executor/platform/default/dso_loader.cc:64] Could not load dynamic library 'libnvinfer.so.7'; dlerror: libnvinfer.so.7: cannot open shared object file: No such file or directory; LD_LIBRARY_PATH: /home/iscb/wolfson/doririmon/anaconda3/envs/ubinet-gpu/lib\n",
      "2025-06-12 23:36:21.207276: W tensorflow/compiler/xla/stream_executor/platform/default/dso_loader.cc:64] Could not load dynamic library 'libnvinfer_plugin.so.7'; dlerror: libnvinfer_plugin.so.7: cannot open shared object file: No such file or directory; LD_LIBRARY_PATH: /home/iscb/wolfson/doririmon/anaconda3/envs/ubinet-gpu/lib\n",
      "2025-06-12 23:36:21.207281: W tensorflow/compiler/tf2tensorrt/utils/py_utils.cc:38] TF-TRT Warning: Cannot dlopen some TensorRT libraries. If you would like to use Nvidia GPU with TensorRT, please make sure the missing libraries mentioned above are installed properly.\n",
      "2025-06-12 23:36:24.438435: W tensorflow/core/common_runtime/gpu/gpu_device.cc:2027] TensorFlow was not built with CUDA kernel binaries compatible with compute capability 9.0. CUDA kernels will be jit-compiled from PTX, which could take 30 minutes or longer.\n",
      "2025-06-12 23:36:24.439572: W tensorflow/core/common_runtime/gpu/gpu_device.cc:2027] TensorFlow was not built with CUDA kernel binaries compatible with compute capability 9.0. CUDA kernels will be jit-compiled from PTX, which could take 30 minutes or longer.\n",
      "2025-06-12 23:36:24.440695: W tensorflow/core/common_runtime/gpu/gpu_device.cc:2027] TensorFlow was not built with CUDA kernel binaries compatible with compute capability 9.0. CUDA kernels will be jit-compiled from PTX, which could take 30 minutes or longer.\n",
      "2025-06-12 23:36:24.441806: W tensorflow/core/common_runtime/gpu/gpu_device.cc:2027] TensorFlow was not built with CUDA kernel binaries compatible with compute capability 9.0. CUDA kernels will be jit-compiled from PTX, which could take 30 minutes or longer.\n",
      "2025-06-12 23:36:24.442934: W tensorflow/core/common_runtime/gpu/gpu_device.cc:2027] TensorFlow was not built with CUDA kernel binaries compatible with compute capability 9.0. CUDA kernels will be jit-compiled from PTX, which could take 30 minutes or longer.\n",
      "2025-06-12 23:36:24.444047: W tensorflow/core/common_runtime/gpu/gpu_device.cc:2027] TensorFlow was not built with CUDA kernel binaries compatible with compute capability 9.0. CUDA kernels will be jit-compiled from PTX, which could take 30 minutes or longer.\n",
      "2025-06-12 23:36:24.445184: W tensorflow/core/common_runtime/gpu/gpu_device.cc:2027] TensorFlow was not built with CUDA kernel binaries compatible with compute capability 9.0. CUDA kernels will be jit-compiled from PTX, which could take 30 minutes or longer.\n",
      "2025-06-12 23:36:24.446319: W tensorflow/core/common_runtime/gpu/gpu_device.cc:2027] TensorFlow was not built with CUDA kernel binaries compatible with compute capability 9.0. CUDA kernels will be jit-compiled from PTX, which could take 30 minutes or longer.\n"
     ]
    }
   ],
   "source": [
    "import tensorflow as tf\n",
    "tf.config.set_visible_devices([], 'GPU')\n",
    "\n",
    "from typing import List, Tuple\n",
    "import pickle"
   ]
  },
  {
   "cell_type": "code",
   "execution_count": 2,
   "id": "0f7ae7ff",
   "metadata": {},
   "outputs": [],
   "source": [
    "import sys\n",
    "sys.path.append('../../../../')"
   ]
  },
  {
   "cell_type": "code",
   "execution_count": 3,
   "id": "c2633643",
   "metadata": {},
   "outputs": [
    {
     "name": "stderr",
     "output_type": "stream",
     "text": [
      "2025-06-12 23:36:24.467770: I tensorflow/core/platform/cpu_feature_guard.cc:193] This TensorFlow binary is optimized with oneAPI Deep Neural Network Library (oneDNN) to use the following CPU instructions in performance-critical operations:  AVX2 AVX512F AVX512_VNNI AVX512_BF16 AVX_VNNI AMX_TILE AMX_INT8 AMX_BF16 FMA\n",
      "To enable them in other operations, rebuild TensorFlow with the appropriate compiler flags.\n"
     ]
    }
   ],
   "source": [
    "with open('/home/iscb/wolfson/doririmon/home/order/ubinet/repo/ubinet/datasets/patch_to_score/data_for_training/03_04_with_pesto_and_coord/folds_training_dicts.pkl', 'rb') as f:\n",
    "    folds_training_dicts = pickle.load(f)"
   ]
  },
  {
   "cell_type": "code",
   "execution_count": 4,
   "id": "fe5a6692",
   "metadata": {},
   "outputs": [
    {
     "data": {
      "text/plain": [
       "dict_keys(['sizes_train', 'components_train', 'num_patches_train', 'uniprots_train', 'labels_train', 'sizes_validation', 'components_validation', 'num_patches_validation', 'uniprots_validation', 'labels_validation', 'sizes_test', 'components_test', 'num_patches_test', 'uniprots_test', 'labels_test', 'coordinates_train', 'coordinates_validation', 'coordinates_test'])"
      ]
     },
     "execution_count": 4,
     "metadata": {},
     "output_type": "execute_result"
    }
   ],
   "source": [
    "fold = folds_training_dicts[0]\n",
    "fold.keys()"
   ]
  },
  {
   "cell_type": "code",
   "execution_count": 5,
   "id": "0e1edcef",
   "metadata": {},
   "outputs": [],
   "source": [
    "input_data = fold['components_train'][:100]\n",
    "coordinates = fold['coordinates_train'][:100]\n",
    "size_value = fold['sizes_train'][:100]\n",
    "n_patches_hot_encoded_value = fold['num_patches_train'][:100]\n",
    "max_number_of_patches = 10"
   ]
  },
  {
   "cell_type": "code",
   "execution_count": 7,
   "id": "ca0115e1",
   "metadata": {},
   "outputs": [],
   "source": [
    "from model import build_model"
   ]
  },
  {
   "cell_type": "code",
   "execution_count": 8,
   "id": "03dff1be",
   "metadata": {},
   "outputs": [],
   "source": [
    "from models.patch_to_score.bootstrappers.model import bootstrap_patch_attention"
   ]
  },
  {
   "cell_type": "code",
   "execution_count": 12,
   "id": "b21d0a95",
   "metadata": {},
   "outputs": [
    {
     "name": "stdout",
     "output_type": "stream",
     "text": [
      "initializing projection for skip connection: 11 -> 256\n"
     ]
    }
   ],
   "source": [
    "model = bootstrap_patch_attention(features_mlp_hidden_sizes=[[256, 256]], features_mlp_dropout_rate=0.2, \n",
    "                    output_mlp_hidden_sizes=[[256, 256]], output_mlp_dropout_rate=0.2, \n",
    "                    attention_mlp_hidden_sizes=[[256, 256]], attention_mlp_dropout_rate=0.2,\n",
    "                    activation='relu', input_shape=(10, 9), max_number_of_patches=10, attention_dimension=256, \n",
    "                    pairs_channel_dimension=256, num_heads=8, use_pair_bias=False)"
   ]
  },
  {
   "cell_type": "code",
   "execution_count": 13,
   "id": "1460a9ec",
   "metadata": {},
   "outputs": [
    {
     "data": {
      "text/plain": [
       "<tf.Tensor: shape=(100, 1), dtype=float32, numpy=\n",
       "array([[0.40484196],\n",
       "       [0.4976446 ],\n",
       "       [0.4491424 ],\n",
       "       [0.49535605],\n",
       "       [0.4491703 ],\n",
       "       [0.4994908 ],\n",
       "       [0.38405263],\n",
       "       [0.4632912 ],\n",
       "       [0.40825528],\n",
       "       [0.48979607],\n",
       "       [0.7339641 ],\n",
       "       [0.45841724],\n",
       "       [0.47305843],\n",
       "       [0.44902006],\n",
       "       [0.5817804 ],\n",
       "       [0.5571623 ],\n",
       "       [0.5041565 ],\n",
       "       [0.64049214],\n",
       "       [0.4346228 ],\n",
       "       [0.58352435],\n",
       "       [0.5309527 ],\n",
       "       [0.4961424 ],\n",
       "       [0.45643392],\n",
       "       [0.50306857],\n",
       "       [0.46662256],\n",
       "       [0.40193903],\n",
       "       [0.58649313],\n",
       "       [0.48764238],\n",
       "       [0.5759961 ],\n",
       "       [0.54749966],\n",
       "       [0.57799685],\n",
       "       [0.46626487],\n",
       "       [0.6239841 ],\n",
       "       [0.6557391 ],\n",
       "       [0.49086702],\n",
       "       [0.4999464 ],\n",
       "       [0.5499892 ],\n",
       "       [0.5542364 ],\n",
       "       [0.4569497 ],\n",
       "       [0.49385163],\n",
       "       [0.41683075],\n",
       "       [0.60687697],\n",
       "       [0.45057508],\n",
       "       [0.58417344],\n",
       "       [0.6053762 ],\n",
       "       [0.54978377],\n",
       "       [0.5803002 ],\n",
       "       [0.61518204],\n",
       "       [0.4821915 ],\n",
       "       [0.4877964 ],\n",
       "       [0.4357194 ],\n",
       "       [0.41271824],\n",
       "       [0.49921614],\n",
       "       [0.41109344],\n",
       "       [0.38232625],\n",
       "       [0.4706274 ],\n",
       "       [0.46786964],\n",
       "       [0.47167602],\n",
       "       [0.49836758],\n",
       "       [0.4833765 ],\n",
       "       [0.4119485 ],\n",
       "       [0.44417894],\n",
       "       [0.4276291 ],\n",
       "       [0.51367265],\n",
       "       [0.7415273 ],\n",
       "       [0.37837523],\n",
       "       [0.45318216],\n",
       "       [0.42471457],\n",
       "       [0.47288057],\n",
       "       [0.4378404 ],\n",
       "       [0.45458093],\n",
       "       [0.37279376],\n",
       "       [0.43265525],\n",
       "       [0.43212757],\n",
       "       [0.44140166],\n",
       "       [0.46128768],\n",
       "       [0.52419555],\n",
       "       [0.42600912],\n",
       "       [0.40606603],\n",
       "       [0.46363732],\n",
       "       [0.3743259 ],\n",
       "       [0.4951474 ],\n",
       "       [0.51894605],\n",
       "       [0.40045106],\n",
       "       [0.4643812 ],\n",
       "       [0.44303283],\n",
       "       [0.41027564],\n",
       "       [0.42551985],\n",
       "       [0.4753931 ],\n",
       "       [0.43699723],\n",
       "       [0.4261243 ],\n",
       "       [0.4362523 ],\n",
       "       [0.5012605 ],\n",
       "       [0.41345766],\n",
       "       [0.48017195],\n",
       "       [0.7058721 ],\n",
       "       [0.44280878],\n",
       "       [0.44108889],\n",
       "       [0.41348565],\n",
       "       [0.47311714]], dtype=float32)>"
      ]
     },
     "execution_count": 13,
     "metadata": {},
     "output_type": "execute_result"
    }
   ],
   "source": [
    "res = model([input_data, coordinates, size_value, n_patches_hot_encoded_value])\n",
    "res"
   ]
  },
  {
   "cell_type": "code",
   "execution_count": 9,
   "id": "7de8f5a0",
   "metadata": {},
   "outputs": [
    {
     "name": "stdout",
     "output_type": "stream",
     "text": [
      "Model: \"model\"\n",
      "__________________________________________________________________________________________________\n",
      " Layer (type)                   Output Shape         Param #     Connected to                     \n",
      "==================================================================================================\n",
      " number_of_patches_input (Input  [(None, 11)]        0           []                               \n",
      " Layer)                                                                                           \n",
      "                                                                                                  \n",
      " tf.math.argmax (TFOpLambda)    (None,)              0           ['number_of_patches_input[0][0]']\n",
      "                                                                                                  \n",
      " tf.__operators__.getitem (Slic  (None, 1)           0           ['tf.math.argmax[0][0]']         \n",
      " ingOpLambda)                                                                                     \n",
      "                                                                                                  \n",
      " features_input (InputLayer)    [(None, 10, 9)]      0           []                               \n",
      "                                                                                                  \n",
      " tf.cast_1 (TFOpLambda)         (None, 1)            0           ['tf.__operators__.getitem[0][0]'\n",
      "                                                                 ]                                \n",
      "                                                                                                  \n",
      " number_of_residues_input (Inpu  [(None, 1)]         0           []                               \n",
      " tLayer)                                                                                          \n",
      "                                                                                                  \n",
      " tf.compat.v1.shape (TFOpLambda  (2,)                0           ['tf.cast_1[0][0]']              \n",
      " )                                                                                                \n",
      "                                                                                                  \n",
      " tf.compat.v1.shape_1 (TFOpLamb  (2,)                0           ['tf.cast_1[0][0]']              \n",
      " da)                                                                                              \n",
      "                                                                                                  \n",
      " tf.compat.v1.shape_2 (TFOpLamb  (2,)                0           ['number_of_residues_input[0][0]'\n",
      " da)                                                             ]                                \n",
      "                                                                                                  \n",
      " tf.compat.v1.shape_3 (TFOpLamb  (2,)                0           ['number_of_residues_input[0][0]'\n",
      " da)                                                             ]                                \n",
      "                                                                                                  \n",
      " tf.__operators__.ne (TFOpLambd  (None, 10, 9)       0           ['features_input[0][0]']         \n",
      " a)                                                                                               \n",
      "                                                                                                  \n",
      " coordinates_input (InputLayer)  [(None, 10, 3)]     0           []                               \n",
      "                                                                                                  \n",
      " tf.expand_dims (TFOpLambda)    (None, 1, 1)         0           ['tf.cast_1[0][0]']              \n",
      "                                                                                                  \n",
      " tf.__operators__.getitem_1 (Sl  ()                  0           ['tf.compat.v1.shape[0][0]']     \n",
      " icingOpLambda)                                                                                   \n",
      "                                                                                                  \n",
      " tf.__operators__.getitem_2 (Sl  ()                  0           ['tf.compat.v1.shape_1[0][0]']   \n",
      " icingOpLambda)                                                                                   \n",
      "                                                                                                  \n",
      " tf.expand_dims_1 (TFOpLambda)  (None, 1, 1)         0           ['number_of_residues_input[0][0]'\n",
      "                                                                 ]                                \n",
      "                                                                                                  \n",
      " tf.__operators__.getitem_3 (Sl  ()                  0           ['tf.compat.v1.shape_2[0][0]']   \n",
      " icingOpLambda)                                                                                   \n",
      "                                                                                                  \n",
      " tf.__operators__.getitem_4 (Sl  ()                  0           ['tf.compat.v1.shape_3[0][0]']   \n",
      " icingOpLambda)                                                                                   \n",
      "                                                                                                  \n",
      " tf.math.reduce_any (TFOpLambda  (None, 10)          0           ['tf.__operators__.ne[0][0]']    \n",
      " )                                                                                                \n",
      "                                                                                                  \n",
      " tf.expand_dims_2 (TFOpLambda)  (None, 1, 10, 3)     0           ['coordinates_input[0][0]']      \n",
      "                                                                                                  \n",
      " tf.expand_dims_3 (TFOpLambda)  (None, 10, 1, 3)     0           ['coordinates_input[0][0]']      \n",
      "                                                                                                  \n",
      " tf.broadcast_to (TFOpLambda)   (None, 10, 1)        0           ['tf.expand_dims[0][0]',         \n",
      "                                                                  'tf.__operators__.getitem_1[0][0\n",
      "                                                                 ]',                              \n",
      "                                                                  'tf.__operators__.getitem_2[0][0\n",
      "                                                                 ]']                              \n",
      "                                                                                                  \n",
      " tf.broadcast_to_1 (TFOpLambda)  (None, 10, 1)       0           ['tf.expand_dims_1[0][0]',       \n",
      "                                                                  'tf.__operators__.getitem_3[0][0\n",
      "                                                                 ]',                              \n",
      "                                                                  'tf.__operators__.getitem_4[0][0\n",
      "                                                                 ]']                              \n",
      "                                                                                                  \n",
      " tf.cast (TFOpLambda)           (None, 10)           0           ['tf.math.reduce_any[0][0]']     \n",
      "                                                                                                  \n",
      " tf.math.subtract (TFOpLambda)  (None, 10, 10, 3)    0           ['tf.expand_dims_2[0][0]',       \n",
      "                                                                  'tf.expand_dims_3[0][0]']       \n",
      "                                                                                                  \n",
      " concatenate (Concatenate)      (None, 10, 11)       0           ['features_input[0][0]',         \n",
      "                                                                  'tf.broadcast_to[0][0]',        \n",
      "                                                                  'tf.broadcast_to_1[0][0]']      \n",
      "                                                                                                  \n",
      " tf.__operators__.getitem_5 (Sl  (None, 10, 1)       0           ['tf.cast[0][0]']                \n",
      " icingOpLambda)                                                                                   \n",
      "                                                                                                  \n",
      " tf.compat.v1.norm (TFOpLambda)  (None, 10, 10)      0           ['tf.math.subtract[0][0]']       \n",
      "                                                                                                  \n",
      " tf.math.multiply (TFOpLambda)  (None, 10, 11)       0           ['concatenate[0][0]',            \n",
      "                                                                  'tf.__operators__.getitem_5[0][0\n",
      "                                                                 ]']                              \n",
      "                                                                                                  \n",
      " tf.cast_2 (TFOpLambda)         (None, 10, 10)       0           ['tf.compat.v1.norm[0][0]']      \n",
      "                                                                                                  \n",
      " tf.__operators__.getitem_6 (Sl  (None, 10, 1)       0           ['tf.cast[0][0]']                \n",
      " icingOpLambda)                                                                                   \n",
      "                                                                                                  \n",
      " masking (Masking)              (None, 10, 11)       0           ['tf.math.multiply[0][0]']       \n",
      "                                                                                                  \n",
      " tf.math.multiply_1 (TFOpLambda  (None, 10, 10)      0           ['tf.cast_2[0][0]',              \n",
      " )                                                                'tf.__operators__.getitem_6[0][0\n",
      "                                                                 ]']                              \n",
      "                                                                                                  \n",
      " transformer_encoder_mlp (Trans  (None, 10, 256)     72448       ['masking[0][0]']                \n",
      " formerEncoderMLP)                                                                                \n",
      "                                                                                                  \n",
      " masking_1 (Masking)            (None, 10, 10)       0           ['tf.math.multiply_1[0][0]']     \n",
      "                                                                                                  \n",
      " re_lu (ReLU)                   (None, 10, 256)      0           ['transformer_encoder_mlp[0][0]']\n",
      "                                                                                                  \n",
      " pairs_transition (PairsTransit  (None, 10, 10, 256)  512        ['masking_1[0][0]']              \n",
      " ion)                                                                                             \n",
      "                                                                                                  \n",
      " patch_attention_with_pair_bias  (None, 10, 256)     331264      ['re_lu[0][0]',                  \n",
      "  (PatchAttentionWithPairBias)                                    'pairs_transition[0][0]']       \n",
      "                                                                                                  \n",
      " transformer_encoder_mlp_1 (Tra  (None, 10, 256)     132096      ['patch_attention_with_pair_bias[\n",
      " nsformerEncoderMLP)                                             0][0]']                          \n",
      "                                                                                                  \n",
      " re_lu_1 (ReLU)                 (None, 10, 256)      0           ['transformer_encoder_mlp_1[0][0]\n",
      "                                                                 ']                               \n",
      "                                                                                                  \n",
      " global_sum_pooling (GlobalSumP  (None, 256)         0           ['re_lu_1[0][0]']                \n",
      " ooling)                                                                                          \n",
      "                                                                                                  \n",
      " transformer_encoder_mlp_2 (Tra  (None, 256)         132096      ['global_sum_pooling[0][0]']     \n",
      " nsformerEncoderMLP)                                                                              \n",
      "                                                                                                  \n",
      " re_lu_2 (ReLU)                 (None, 256)          0           ['transformer_encoder_mlp_2[0][0]\n",
      "                                                                 ']                               \n",
      "                                                                                                  \n",
      " dense_6 (Dense)                (None, 1)            257         ['re_lu_2[0][0]']                \n",
      "                                                                                                  \n",
      "==================================================================================================\n",
      "Total params: 668,673\n",
      "Trainable params: 668,673\n",
      "Non-trainable params: 0\n",
      "__________________________________________________________________________________________________\n"
     ]
    }
   ],
   "source": [
    "model.summary()"
   ]
  },
  {
   "cell_type": "markdown",
   "id": "94da6050",
   "metadata": {},
   "source": [
    "## playground"
   ]
  },
  {
   "cell_type": "code",
   "execution_count": 10,
   "id": "0c72b21d",
   "metadata": {},
   "outputs": [],
   "source": [
    "import numpy as np"
   ]
  },
  {
   "cell_type": "code",
   "execution_count": 35,
   "id": "7de5baab",
   "metadata": {},
   "outputs": [],
   "source": [
    "attention_dim = 6\n",
    "max_number_of_patches = 10\n",
    "num_heads = 2\n",
    "head_dim = attention_dim // num_heads"
   ]
  },
  {
   "cell_type": "code",
   "execution_count": null,
   "id": "d9a0d517",
   "metadata": {},
   "outputs": [
    {
     "data": {
      "text/plain": [
       "TensorShape([15, 10, 6])"
      ]
     },
     "execution_count": 47,
     "metadata": {},
     "output_type": "execute_result"
    }
   ],
   "source": [
    "# tmp of the form: (batches, patches, features)\n",
    "# tmp is the result of applying W_{k/q/v} over F\n",
    "batch_num = 15\n",
    "tmp = np.array([[[f for f in range(attention_dim)] for p in range(max_number_of_patches)] for b in range(batch_num)])\n",
    "tmp = tf.convert_to_tensor(tmp, dtype=tf.float32)\n",
    "tmp.shape"
   ]
  },
  {
   "cell_type": "code",
   "execution_count": 63,
   "id": "f7053d9b",
   "metadata": {},
   "outputs": [],
   "source": [
    "batch, num_patches, attention_dim = tmp.shape\n",
    "res = tf.reshape(tmp, (batch, num_patches, num_heads, head_dim))\n",
    "res = tf.transpose(res, perm=[0, 2, 1, 3])  # (batch, num_heads, num_patches, head_dim)"
   ]
  },
  {
   "cell_type": "code",
   "execution_count": 79,
   "id": "cc87670f",
   "metadata": {},
   "outputs": [
    {
     "data": {
      "text/plain": [
       "<tf.Tensor: shape=(15, 10, 6), dtype=float32, numpy=\n",
       "array([[[0., 1., 2., 3., 4., 5.],\n",
       "        [0., 1., 2., 3., 4., 5.],\n",
       "        [0., 1., 2., 3., 4., 5.],\n",
       "        [0., 1., 2., 3., 4., 5.],\n",
       "        [0., 1., 2., 3., 4., 5.],\n",
       "        [0., 1., 2., 3., 4., 5.],\n",
       "        [0., 1., 2., 3., 4., 5.],\n",
       "        [0., 1., 2., 3., 4., 5.],\n",
       "        [0., 1., 2., 3., 4., 5.],\n",
       "        [0., 1., 2., 3., 4., 5.]],\n",
       "\n",
       "       [[0., 1., 2., 3., 4., 5.],\n",
       "        [0., 1., 2., 3., 4., 5.],\n",
       "        [0., 1., 2., 3., 4., 5.],\n",
       "        [0., 1., 2., 3., 4., 5.],\n",
       "        [0., 1., 2., 3., 4., 5.],\n",
       "        [0., 1., 2., 3., 4., 5.],\n",
       "        [0., 1., 2., 3., 4., 5.],\n",
       "        [0., 1., 2., 3., 4., 5.],\n",
       "        [0., 1., 2., 3., 4., 5.],\n",
       "        [0., 1., 2., 3., 4., 5.]],\n",
       "\n",
       "       [[0., 1., 2., 3., 4., 5.],\n",
       "        [0., 1., 2., 3., 4., 5.],\n",
       "        [0., 1., 2., 3., 4., 5.],\n",
       "        [0., 1., 2., 3., 4., 5.],\n",
       "        [0., 1., 2., 3., 4., 5.],\n",
       "        [0., 1., 2., 3., 4., 5.],\n",
       "        [0., 1., 2., 3., 4., 5.],\n",
       "        [0., 1., 2., 3., 4., 5.],\n",
       "        [0., 1., 2., 3., 4., 5.],\n",
       "        [0., 1., 2., 3., 4., 5.]],\n",
       "\n",
       "       [[0., 1., 2., 3., 4., 5.],\n",
       "        [0., 1., 2., 3., 4., 5.],\n",
       "        [0., 1., 2., 3., 4., 5.],\n",
       "        [0., 1., 2., 3., 4., 5.],\n",
       "        [0., 1., 2., 3., 4., 5.],\n",
       "        [0., 1., 2., 3., 4., 5.],\n",
       "        [0., 1., 2., 3., 4., 5.],\n",
       "        [0., 1., 2., 3., 4., 5.],\n",
       "        [0., 1., 2., 3., 4., 5.],\n",
       "        [0., 1., 2., 3., 4., 5.]],\n",
       "\n",
       "       [[0., 1., 2., 3., 4., 5.],\n",
       "        [0., 1., 2., 3., 4., 5.],\n",
       "        [0., 1., 2., 3., 4., 5.],\n",
       "        [0., 1., 2., 3., 4., 5.],\n",
       "        [0., 1., 2., 3., 4., 5.],\n",
       "        [0., 1., 2., 3., 4., 5.],\n",
       "        [0., 1., 2., 3., 4., 5.],\n",
       "        [0., 1., 2., 3., 4., 5.],\n",
       "        [0., 1., 2., 3., 4., 5.],\n",
       "        [0., 1., 2., 3., 4., 5.]],\n",
       "\n",
       "       [[0., 1., 2., 3., 4., 5.],\n",
       "        [0., 1., 2., 3., 4., 5.],\n",
       "        [0., 1., 2., 3., 4., 5.],\n",
       "        [0., 1., 2., 3., 4., 5.],\n",
       "        [0., 1., 2., 3., 4., 5.],\n",
       "        [0., 1., 2., 3., 4., 5.],\n",
       "        [0., 1., 2., 3., 4., 5.],\n",
       "        [0., 1., 2., 3., 4., 5.],\n",
       "        [0., 1., 2., 3., 4., 5.],\n",
       "        [0., 1., 2., 3., 4., 5.]],\n",
       "\n",
       "       [[0., 1., 2., 3., 4., 5.],\n",
       "        [0., 1., 2., 3., 4., 5.],\n",
       "        [0., 1., 2., 3., 4., 5.],\n",
       "        [0., 1., 2., 3., 4., 5.],\n",
       "        [0., 1., 2., 3., 4., 5.],\n",
       "        [0., 1., 2., 3., 4., 5.],\n",
       "        [0., 1., 2., 3., 4., 5.],\n",
       "        [0., 1., 2., 3., 4., 5.],\n",
       "        [0., 1., 2., 3., 4., 5.],\n",
       "        [0., 1., 2., 3., 4., 5.]],\n",
       "\n",
       "       [[0., 1., 2., 3., 4., 5.],\n",
       "        [0., 1., 2., 3., 4., 5.],\n",
       "        [0., 1., 2., 3., 4., 5.],\n",
       "        [0., 1., 2., 3., 4., 5.],\n",
       "        [0., 1., 2., 3., 4., 5.],\n",
       "        [0., 1., 2., 3., 4., 5.],\n",
       "        [0., 1., 2., 3., 4., 5.],\n",
       "        [0., 1., 2., 3., 4., 5.],\n",
       "        [0., 1., 2., 3., 4., 5.],\n",
       "        [0., 1., 2., 3., 4., 5.]],\n",
       "\n",
       "       [[0., 1., 2., 3., 4., 5.],\n",
       "        [0., 1., 2., 3., 4., 5.],\n",
       "        [0., 1., 2., 3., 4., 5.],\n",
       "        [0., 1., 2., 3., 4., 5.],\n",
       "        [0., 1., 2., 3., 4., 5.],\n",
       "        [0., 1., 2., 3., 4., 5.],\n",
       "        [0., 1., 2., 3., 4., 5.],\n",
       "        [0., 1., 2., 3., 4., 5.],\n",
       "        [0., 1., 2., 3., 4., 5.],\n",
       "        [0., 1., 2., 3., 4., 5.]],\n",
       "\n",
       "       [[0., 1., 2., 3., 4., 5.],\n",
       "        [0., 1., 2., 3., 4., 5.],\n",
       "        [0., 1., 2., 3., 4., 5.],\n",
       "        [0., 1., 2., 3., 4., 5.],\n",
       "        [0., 1., 2., 3., 4., 5.],\n",
       "        [0., 1., 2., 3., 4., 5.],\n",
       "        [0., 1., 2., 3., 4., 5.],\n",
       "        [0., 1., 2., 3., 4., 5.],\n",
       "        [0., 1., 2., 3., 4., 5.],\n",
       "        [0., 1., 2., 3., 4., 5.]],\n",
       "\n",
       "       [[0., 1., 2., 3., 4., 5.],\n",
       "        [0., 1., 2., 3., 4., 5.],\n",
       "        [0., 1., 2., 3., 4., 5.],\n",
       "        [0., 1., 2., 3., 4., 5.],\n",
       "        [0., 1., 2., 3., 4., 5.],\n",
       "        [0., 1., 2., 3., 4., 5.],\n",
       "        [0., 1., 2., 3., 4., 5.],\n",
       "        [0., 1., 2., 3., 4., 5.],\n",
       "        [0., 1., 2., 3., 4., 5.],\n",
       "        [0., 1., 2., 3., 4., 5.]],\n",
       "\n",
       "       [[0., 1., 2., 3., 4., 5.],\n",
       "        [0., 1., 2., 3., 4., 5.],\n",
       "        [0., 1., 2., 3., 4., 5.],\n",
       "        [0., 1., 2., 3., 4., 5.],\n",
       "        [0., 1., 2., 3., 4., 5.],\n",
       "        [0., 1., 2., 3., 4., 5.],\n",
       "        [0., 1., 2., 3., 4., 5.],\n",
       "        [0., 1., 2., 3., 4., 5.],\n",
       "        [0., 1., 2., 3., 4., 5.],\n",
       "        [0., 1., 2., 3., 4., 5.]],\n",
       "\n",
       "       [[0., 1., 2., 3., 4., 5.],\n",
       "        [0., 1., 2., 3., 4., 5.],\n",
       "        [0., 1., 2., 3., 4., 5.],\n",
       "        [0., 1., 2., 3., 4., 5.],\n",
       "        [0., 1., 2., 3., 4., 5.],\n",
       "        [0., 1., 2., 3., 4., 5.],\n",
       "        [0., 1., 2., 3., 4., 5.],\n",
       "        [0., 1., 2., 3., 4., 5.],\n",
       "        [0., 1., 2., 3., 4., 5.],\n",
       "        [0., 1., 2., 3., 4., 5.]],\n",
       "\n",
       "       [[0., 1., 2., 3., 4., 5.],\n",
       "        [0., 1., 2., 3., 4., 5.],\n",
       "        [0., 1., 2., 3., 4., 5.],\n",
       "        [0., 1., 2., 3., 4., 5.],\n",
       "        [0., 1., 2., 3., 4., 5.],\n",
       "        [0., 1., 2., 3., 4., 5.],\n",
       "        [0., 1., 2., 3., 4., 5.],\n",
       "        [0., 1., 2., 3., 4., 5.],\n",
       "        [0., 1., 2., 3., 4., 5.],\n",
       "        [0., 1., 2., 3., 4., 5.]],\n",
       "\n",
       "       [[0., 1., 2., 3., 4., 5.],\n",
       "        [0., 1., 2., 3., 4., 5.],\n",
       "        [0., 1., 2., 3., 4., 5.],\n",
       "        [0., 1., 2., 3., 4., 5.],\n",
       "        [0., 1., 2., 3., 4., 5.],\n",
       "        [0., 1., 2., 3., 4., 5.],\n",
       "        [0., 1., 2., 3., 4., 5.],\n",
       "        [0., 1., 2., 3., 4., 5.],\n",
       "        [0., 1., 2., 3., 4., 5.],\n",
       "        [0., 1., 2., 3., 4., 5.]]], dtype=float32)>"
      ]
     },
     "execution_count": 79,
     "metadata": {},
     "output_type": "execute_result"
    }
   ],
   "source": [
    "tmp_2 = tf.transpose(res, perm=[0, 2, 1, 3])\n",
    "tmp_2 = tf.reshape(tmp_2, (batch, num_patches, attention_dim))\n",
    "tmp_2"
   ]
  },
  {
   "cell_type": "code",
   "execution_count": 61,
   "id": "c104970a",
   "metadata": {},
   "outputs": [
    {
     "data": {
      "text/plain": [
       "<tf.Tensor: shape=(3,), dtype=float32, numpy=array([0., 1., 2.], dtype=float32)>"
      ]
     },
     "execution_count": 61,
     "metadata": {},
     "output_type": "execute_result"
    }
   ],
   "source": [
    "tf.reshape(tmp, (-1, num_heads, tmp.shape[1], head_dim))[0][0][0]"
   ]
  },
  {
   "cell_type": "code",
   "execution_count": 10,
   "id": "65b828d0",
   "metadata": {},
   "outputs": [],
   "source": [
    "from model import create_broadcasted_features, apply_mlps, mask_inputs, create_masked_inputs\n",
    "from models.patch_to_score.models.modules.global_sum_pooling import GlobalSumPooling\n",
    "from models.patch_to_score.models.modules.patch_attention_with_pair_bias import PatchAttentionWithPairBias\n",
    "from models.patch_to_score.models.modules.transformer_encoder_mlp import TransformerEncoderMLP\n",
    "from models.patch_to_score.models.modules.pairs_transition import PairsTransition"
   ]
  },
  {
   "cell_type": "code",
   "execution_count": 11,
   "id": "afc0a302",
   "metadata": {},
   "outputs": [],
   "source": [
    "patch_attention_module = PatchAttentionWithPairBias(30, 2)"
   ]
  },
  {
   "cell_type": "code",
   "execution_count": 12,
   "id": "86e3960d",
   "metadata": {},
   "outputs": [],
   "source": [
    "features_mlp_hidden_sizes = attention_mlp_hidden_sizes = output_mlp_hidden_sizes = [[256, 256]]\n",
    "features_mlp_dropout_rate = attention_mlp_dropout_rate = output_mlp_dropout_rate = 0.2\n",
    "activation = 'relu'\n",
    "pairs_channel_dimension = attention_dimension = 256\n",
    "num_heads = 8\n",
    " \n",
    "# [[256, 256]], 0.2, \n",
    "# [[256, 256]], 0.2,\n",
    "# 'relu', (10, 9), 10, 256, 256, 8"
   ]
  },
  {
   "cell_type": "code",
   "execution_count": 14,
   "id": "f28fa5df",
   "metadata": {},
   "outputs": [
    {
     "name": "stdout",
     "output_type": "stream",
     "text": [
      "initializing projection for skip connection: 11 -> 256\n"
     ]
    }
   ],
   "source": [
    "# input_data, coordinates, size_value, n_patches_hot_encoded_value = create_inputs(input_shape, max_number_of_patches)\n",
    "features, pairwise_distances = create_masked_inputs(input_data, coordinates, size_value, n_patches_hot_encoded_value, max_number_of_patches)\n",
    "F = apply_mlps(features, features_mlp_hidden_sizes,features_mlp_dropout_rate, activation)\n",
    "pairs_transition = PairsTransition(pairs_channel_dimension)\n",
    "D = pairs_transition(pairwise_distances)\n",
    "attention_output = PatchAttentionWithPairBias(attention_dimension, num_heads)([F, D])\n",
    "attention_mlp_output = apply_mlps(attention_output, attention_mlp_hidden_sizes, attention_mlp_dropout_rate, activation)\n",
    "global_pooling_output = GlobalSumPooling(data_format='channels_last')(attention_mlp_output)\n",
    "output_mlp_output = apply_mlps(global_pooling_output, output_mlp_hidden_sizes, output_mlp_dropout_rate, activation)\n",
    "output = tf.keras.layers.Dense(1, activation='sigmoid')(output_mlp_output)"
   ]
  },
  {
   "cell_type": "code",
   "execution_count": 35,
   "id": "ee49734e",
   "metadata": {},
   "outputs": [
    {
     "data": {
      "text/plain": [
       "<tf.Tensor: shape=(76632, 1), dtype=float32, numpy=\n",
       "array([[0.5533056 ],\n",
       "       [0.619216  ],\n",
       "       [0.5120182 ],\n",
       "       ...,\n",
       "       [0.41534168],\n",
       "       [0.60217166],\n",
       "       [0.72498924]], dtype=float32)>"
      ]
     },
     "execution_count": 35,
     "metadata": {},
     "output_type": "execute_result"
    }
   ],
   "source": [
    "output"
   ]
  }
 ],
 "metadata": {
  "kernelspec": {
   "display_name": "ubinet-gpu",
   "language": "python",
   "name": "python3"
  },
  "language_info": {
   "codemirror_mode": {
    "name": "ipython",
    "version": 3
   },
   "file_extension": ".py",
   "mimetype": "text/x-python",
   "name": "python",
   "nbconvert_exporter": "python",
   "pygments_lexer": "ipython3",
   "version": "3.10.13"
  }
 },
 "nbformat": 4,
 "nbformat_minor": 5
}
