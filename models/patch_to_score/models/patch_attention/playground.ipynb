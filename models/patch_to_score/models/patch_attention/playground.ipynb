{
 "cells": [
  {
   "cell_type": "code",
   "execution_count": 1,
   "id": "e6d31464",
   "metadata": {},
   "outputs": [
    {
     "name": "stderr",
     "output_type": "stream",
     "text": [
      "2025-06-01 18:35:26.807801: I tensorflow/core/platform/cpu_feature_guard.cc:193] This TensorFlow binary is optimized with oneAPI Deep Neural Network Library (oneDNN) to use the following CPU instructions in performance-critical operations:  AVX2 AVX512F AVX512_VNNI AVX512_BF16 AVX_VNNI AMX_TILE AMX_INT8 AMX_BF16 FMA\n",
      "To enable them in other operations, rebuild TensorFlow with the appropriate compiler flags.\n",
      "2025-06-01 18:35:26.983350: I tensorflow/core/util/port.cc:104] oneDNN custom operations are on. You may see slightly different numerical results due to floating-point round-off errors from different computation orders. To turn them off, set the environment variable `TF_ENABLE_ONEDNN_OPTS=0`.\n",
      "2025-06-01 18:35:34.381822: W tensorflow/compiler/xla/stream_executor/platform/default/dso_loader.cc:64] Could not load dynamic library 'libnvinfer.so.7'; dlerror: libnvinfer.so.7: cannot open shared object file: No such file or directory; LD_LIBRARY_PATH: /home/iscb/wolfson/doririmon/anaconda3/envs/ubinet-gpu/lib\n",
      "2025-06-01 18:35:34.381885: W tensorflow/compiler/xla/stream_executor/platform/default/dso_loader.cc:64] Could not load dynamic library 'libnvinfer_plugin.so.7'; dlerror: libnvinfer_plugin.so.7: cannot open shared object file: No such file or directory; LD_LIBRARY_PATH: /home/iscb/wolfson/doririmon/anaconda3/envs/ubinet-gpu/lib\n",
      "2025-06-01 18:35:34.381893: W tensorflow/compiler/tf2tensorrt/utils/py_utils.cc:38] TF-TRT Warning: Cannot dlopen some TensorRT libraries. If you would like to use Nvidia GPU with TensorRT, please make sure the missing libraries mentioned above are installed properly.\n",
      "2025-06-01 18:35:52.271852: W tensorflow/core/common_runtime/gpu/gpu_device.cc:2027] TensorFlow was not built with CUDA kernel binaries compatible with compute capability 9.0. CUDA kernels will be jit-compiled from PTX, which could take 30 minutes or longer.\n",
      "2025-06-01 18:35:52.274269: W tensorflow/core/common_runtime/gpu/gpu_device.cc:2027] TensorFlow was not built with CUDA kernel binaries compatible with compute capability 9.0. CUDA kernels will be jit-compiled from PTX, which could take 30 minutes or longer.\n",
      "2025-06-01 18:35:52.276027: W tensorflow/core/common_runtime/gpu/gpu_device.cc:2027] TensorFlow was not built with CUDA kernel binaries compatible with compute capability 9.0. CUDA kernels will be jit-compiled from PTX, which could take 30 minutes or longer.\n",
      "2025-06-01 18:35:52.277577: W tensorflow/core/common_runtime/gpu/gpu_device.cc:2027] TensorFlow was not built with CUDA kernel binaries compatible with compute capability 9.0. CUDA kernels will be jit-compiled from PTX, which could take 30 minutes or longer.\n",
      "2025-06-01 18:35:52.279734: W tensorflow/core/common_runtime/gpu/gpu_device.cc:2027] TensorFlow was not built with CUDA kernel binaries compatible with compute capability 9.0. CUDA kernels will be jit-compiled from PTX, which could take 30 minutes or longer.\n",
      "2025-06-01 18:35:52.282281: W tensorflow/core/common_runtime/gpu/gpu_device.cc:2027] TensorFlow was not built with CUDA kernel binaries compatible with compute capability 9.0. CUDA kernels will be jit-compiled from PTX, which could take 30 minutes or longer.\n",
      "2025-06-01 18:35:52.284112: W tensorflow/core/common_runtime/gpu/gpu_device.cc:2027] TensorFlow was not built with CUDA kernel binaries compatible with compute capability 9.0. CUDA kernels will be jit-compiled from PTX, which could take 30 minutes or longer.\n",
      "2025-06-01 18:35:52.285630: W tensorflow/core/common_runtime/gpu/gpu_device.cc:2027] TensorFlow was not built with CUDA kernel binaries compatible with compute capability 9.0. CUDA kernels will be jit-compiled from PTX, which could take 30 minutes or longer.\n"
     ]
    }
   ],
   "source": [
    "import tensorflow as tf\n",
    "tf.config.set_visible_devices([], 'GPU')\n",
    "\n",
    "from typing import List, Tuple\n",
    "import pickle"
   ]
  },
  {
   "cell_type": "code",
   "execution_count": 2,
   "id": "0f7ae7ff",
   "metadata": {},
   "outputs": [],
   "source": [
    "import sys\n",
    "sys.path.append('../../../../')"
   ]
  },
  {
   "cell_type": "code",
   "execution_count": 3,
   "id": "c2633643",
   "metadata": {},
   "outputs": [
    {
     "name": "stderr",
     "output_type": "stream",
     "text": [
      "2025-06-01 18:35:52.366571: I tensorflow/core/platform/cpu_feature_guard.cc:193] This TensorFlow binary is optimized with oneAPI Deep Neural Network Library (oneDNN) to use the following CPU instructions in performance-critical operations:  AVX2 AVX512F AVX512_VNNI AVX512_BF16 AVX_VNNI AMX_TILE AMX_INT8 AMX_BF16 FMA\n",
      "To enable them in other operations, rebuild TensorFlow with the appropriate compiler flags.\n"
     ]
    }
   ],
   "source": [
    "with open('/home/iscb/wolfson/doririmon/home/order/ubinet/repo/ubinet/datasets/patch_to_score/data_for_training/03_04_with_pesto_and_coord/folds_training_dicts.pkl', 'rb') as f:\n",
    "    folds_training_dicts = pickle.load(f)"
   ]
  },
  {
   "cell_type": "code",
   "execution_count": 4,
   "id": "fe5a6692",
   "metadata": {},
   "outputs": [
    {
     "data": {
      "text/plain": [
       "dict_keys(['sizes_train', 'components_train', 'num_patches_train', 'uniprots_train', 'labels_train', 'sizes_validation', 'components_validation', 'num_patches_validation', 'uniprots_validation', 'labels_validation', 'sizes_test', 'components_test', 'num_patches_test', 'uniprots_test', 'labels_test', 'coordinates_train', 'coordinates_validation', 'coordinates_test'])"
      ]
     },
     "execution_count": 4,
     "metadata": {},
     "output_type": "execute_result"
    }
   ],
   "source": [
    "fold = folds_training_dicts[0]\n",
    "fold.keys()"
   ]
  },
  {
   "cell_type": "code",
   "execution_count": 5,
   "id": "0e1edcef",
   "metadata": {},
   "outputs": [],
   "source": [
    "features = fold['components_train']\n",
    "coordinates = fold['coordinates_train']\n",
    "sizes = fold['sizes_train']\n",
    "num_patches = fold['num_patches_train']"
   ]
  },
  {
   "cell_type": "code",
   "execution_count": 6,
   "id": "0b73c144",
   "metadata": {},
   "outputs": [],
   "source": [
    "a = tf.keras.layers.Masking(mask_value=0.0)(features)\n",
    "b = tf.keras.layers.Masking(mask_value=0.0)(coordinates)"
   ]
  },
  {
   "cell_type": "code",
   "execution_count": 7,
   "id": "b5ed4678",
   "metadata": {},
   "outputs": [
    {
     "data": {
      "text/plain": [
       "(TensorShape([76632, 10, 9]),\n",
       " TensorShape([76632, 10, 9]),\n",
       " TensorShape([76632, 10, 3]))"
      ]
     },
     "execution_count": 7,
     "metadata": {},
     "output_type": "execute_result"
    }
   ],
   "source": [
    "a.shape, features.shape, b.shape"
   ]
  },
  {
   "cell_type": "code",
   "execution_count": 8,
   "id": "4f34fe55",
   "metadata": {},
   "outputs": [
    {
     "data": {
      "text/plain": [
       "True"
      ]
     },
     "execution_count": 8,
     "metadata": {},
     "output_type": "execute_result"
    }
   ],
   "source": [
    "import numpy as np\n",
    "np.all(a._keras_mask == b._keras_mask)"
   ]
  },
  {
   "cell_type": "code",
   "execution_count": 9,
   "id": "1e6cf3a1",
   "metadata": {},
   "outputs": [],
   "source": [
    "# pairwise_distances = tf.norm(\n",
    "#         tf.expand_dims(b, axis=1) - tf.expand_dims(b, axis=2), axis=-1)\n",
    "    "
   ]
  },
  {
   "cell_type": "code",
   "execution_count": 10,
   "id": "dc8f2433",
   "metadata": {},
   "outputs": [],
   "source": [
    "# pairwise_distances._keras_mask"
   ]
  },
  {
   "cell_type": "code",
   "execution_count": 11,
   "id": "e13b821b",
   "metadata": {},
   "outputs": [],
   "source": [
    "# a._keras_mask[2]"
   ]
  },
  {
   "cell_type": "code",
   "execution_count": 12,
   "id": "bf03faf9",
   "metadata": {},
   "outputs": [],
   "source": [
    "# coordinates[0]"
   ]
  },
  {
   "cell_type": "code",
   "execution_count": 13,
   "id": "0f25fd57",
   "metadata": {},
   "outputs": [],
   "source": [
    "# a._keras_mask.shape"
   ]
  },
  {
   "cell_type": "code",
   "execution_count": 14,
   "id": "0b493c23",
   "metadata": {},
   "outputs": [],
   "source": [
    "# features[0].shape"
   ]
  },
  {
   "cell_type": "code",
   "execution_count": 15,
   "id": "7ccbf468",
   "metadata": {},
   "outputs": [],
   "source": [
    "# a[0]._keras_mask"
   ]
  },
  {
   "cell_type": "code",
   "execution_count": 16,
   "id": "6d7ceebc",
   "metadata": {},
   "outputs": [],
   "source": [
    "# coordinates.shape"
   ]
  },
  {
   "cell_type": "code",
   "execution_count": 17,
   "id": "ca0115e1",
   "metadata": {},
   "outputs": [],
   "source": [
    "from model import build_model"
   ]
  },
  {
   "cell_type": "code",
   "execution_count": 18,
   "id": "666e741b",
   "metadata": {},
   "outputs": [
    {
     "name": "stdout",
     "output_type": "stream",
     "text": [
      "initializing projection for skip connection: 11 -> 256\n"
     ]
    }
   ],
   "source": [
    "model = build_model([[256, 256]], 0.2, \n",
    "                    [[256, 256]], 0.2, \n",
    "                    [[256, 256]], 0.2,\n",
    "                    'relu', (10, 9), 10, 256, 256, 8)"
   ]
  },
  {
   "cell_type": "code",
   "execution_count": 19,
   "id": "1460a9ec",
   "metadata": {},
   "outputs": [
    {
     "name": "stdout",
     "output_type": "stream",
     "text": [
      "WARNING:tensorflow:Tensor._shape is private, use Tensor.shape instead. Tensor._shape will eventually be removed.\n"
     ]
    },
    {
     "data": {
      "text/plain": [
       "<tf.Tensor: shape=(76632, 1), dtype=float32, numpy=\n",
       "array([[0.42045864],\n",
       "       [0.4102031 ],\n",
       "       [0.44405568],\n",
       "       ...,\n",
       "       [0.2794958 ],\n",
       "       [0.25345257],\n",
       "       [0.27265355]], dtype=float32)>"
      ]
     },
     "execution_count": 19,
     "metadata": {},
     "output_type": "execute_result"
    }
   ],
   "source": [
    "model([features, coordinates, sizes, num_patches])"
   ]
  },
  {
   "cell_type": "code",
   "execution_count": 10,
   "id": "7de8f5a0",
   "metadata": {},
   "outputs": [
    {
     "name": "stdout",
     "output_type": "stream",
     "text": [
      "Model: \"model\"\n",
      "__________________________________________________________________________________________________\n",
      " Layer (type)                   Output Shape         Param #     Connected to                     \n",
      "==================================================================================================\n",
      " number_of_patches_input (Input  [(None, 11)]        0           []                               \n",
      " Layer)                                                                                           \n",
      "                                                                                                  \n",
      " tf.math.argmax (TFOpLambda)    (None,)              0           ['number_of_patches_input[0][0]']\n",
      "                                                                                                  \n",
      " tf.__operators__.getitem (Slic  (None, 1)           0           ['tf.math.argmax[1][0]']         \n",
      " ingOpLambda)                                                                                     \n",
      "                                                                                                  \n",
      " tf.cast (TFOpLambda)           (None, 1)            0           ['tf.__operators__.getitem[1][0]'\n",
      "                                                                 ]                                \n",
      "                                                                                                  \n",
      " number_of_residues_input (Inpu  [(None, 1)]         0           []                               \n",
      " tLayer)                                                                                          \n",
      "                                                                                                  \n",
      " tf.compat.v1.shape (TFOpLambda  (2,)                0           ['tf.cast[1][0]']                \n",
      " )                                                                                                \n",
      "                                                                                                  \n",
      " tf.compat.v1.shape_1 (TFOpLamb  (2,)                0           ['tf.cast[1][0]']                \n",
      " da)                                                                                              \n",
      "                                                                                                  \n",
      " tf.compat.v1.shape_2 (TFOpLamb  (2,)                0           ['number_of_residues_input[0][0]'\n",
      " da)                                                             ]                                \n",
      "                                                                                                  \n",
      " tf.compat.v1.shape_3 (TFOpLamb  (2,)                0           ['number_of_residues_input[0][0]'\n",
      " da)                                                             ]                                \n",
      "                                                                                                  \n",
      " tf.expand_dims (TFOpLambda)    (None, 1, 1)         0           ['tf.cast[1][0]']                \n",
      "                                                                                                  \n",
      " tf.__operators__.getitem_1 (Sl  ()                  0           ['tf.compat.v1.shape[1][0]']     \n",
      " icingOpLambda)                                                                                   \n",
      "                                                                                                  \n",
      " tf.__operators__.getitem_2 (Sl  ()                  0           ['tf.compat.v1.shape_1[1][0]']   \n",
      " icingOpLambda)                                                                                   \n",
      "                                                                                                  \n",
      " tf.expand_dims_1 (TFOpLambda)  (None, 1, 1)         0           ['number_of_residues_input[0][0]'\n",
      "                                                                 ]                                \n",
      "                                                                                                  \n",
      " tf.__operators__.getitem_3 (Sl  ()                  0           ['tf.compat.v1.shape_2[1][0]']   \n",
      " icingOpLambda)                                                                                   \n",
      "                                                                                                  \n",
      " tf.__operators__.getitem_4 (Sl  ()                  0           ['tf.compat.v1.shape_3[1][0]']   \n",
      " icingOpLambda)                                                                                   \n",
      "                                                                                                  \n",
      " input_1 (InputLayer)           [(None, 10, 3)]      0           []                               \n",
      "                                                                                                  \n",
      " features_input (InputLayer)    [(None, 10, 9)]      0           []                               \n",
      "                                                                                                  \n",
      " tf.broadcast_to (TFOpLambda)   (None, 10, 1)        0           ['tf.expand_dims[1][0]',         \n",
      "                                                                  'tf.__operators__.getitem_1[1][0\n",
      "                                                                 ]',                              \n",
      "                                                                  'tf.__operators__.getitem_2[1][0\n",
      "                                                                 ]']                              \n",
      "                                                                                                  \n",
      " tf.broadcast_to_1 (TFOpLambda)  (None, 10, 1)       0           ['tf.expand_dims_1[1][0]',       \n",
      "                                                                  'tf.__operators__.getitem_3[1][0\n",
      "                                                                 ]',                              \n",
      "                                                                  'tf.__operators__.getitem_4[1][0\n",
      "                                                                 ]']                              \n",
      "                                                                                                  \n",
      " tf.expand_dims_2 (TFOpLambda)  (None, 1, 10, 3)     0           ['input_1[0][0]']                \n",
      "                                                                                                  \n",
      " tf.expand_dims_3 (TFOpLambda)  (None, 10, 1, 3)     0           ['input_1[0][0]']                \n",
      "                                                                                                  \n",
      " concatenate (Concatenate)      (None, 10, 11)       0           ['features_input[0][0]',         \n",
      "                                                                  'tf.broadcast_to[1][0]',        \n",
      "                                                                  'tf.broadcast_to_1[1][0]']      \n",
      "                                                                                                  \n",
      " tf.math.subtract (TFOpLambda)  (None, 10, 10, 3)    0           ['tf.expand_dims_2[1][0]',       \n",
      "                                                                  'tf.expand_dims_3[1][0]']       \n",
      "                                                                                                  \n",
      " masking (Masking)              (None, 10, 11)       0           ['concatenate[1][0]']            \n",
      "                                                                                                  \n",
      " tf.compat.v1.norm (TFOpLambda)  (None, 10, 10)      0           ['tf.math.subtract[1][0]']       \n",
      "                                                                                                  \n",
      " transformer_encoder_mlp (Trans  (None, 10, 256)     72448       ['masking[1][0]']                \n",
      " formerEncoderMLP)                                                                                \n",
      "                                                                                                  \n",
      " tf.expand_dims_4 (TFOpLambda)  (None, 10, 10, 1)    0           ['tf.compat.v1.norm[1][0]']      \n",
      "                                                                                                  \n",
      " re_lu (ReLU)                   (None, 10, 256)      0           ['transformer_encoder_mlp[1][0]']\n",
      "                                                                                                  \n",
      " dense_pairs (Dense)            (None, 10, 10, 256)  512         ['tf.expand_dims_4[1][0]']       \n",
      "                                                                                                  \n",
      " patch_attention_with_pair_bias  (None, 10, 256)     331264      ['re_lu[1][0]',                  \n",
      "  (PatchAttentionWithPairBias)                                    'dense_pairs[1][0]']            \n",
      "                                                                                                  \n",
      " transformer_encoder_mlp_1 (Tra  (None, 10, 256)     132096      ['patch_attention_with_pair_bias[\n",
      " nsformerEncoderMLP)                                             1][0]']                          \n",
      "                                                                                                  \n",
      " re_lu_1 (ReLU)                 (None, 10, 256)      0           ['transformer_encoder_mlp_1[1][0]\n",
      "                                                                 ']                               \n",
      "                                                                                                  \n",
      " global_sum_pooling (GlobalSumP  (None, 256)         0           ['re_lu_1[1][0]']                \n",
      " ooling)                                                                                          \n",
      "                                                                                                  \n",
      " transformer_encoder_mlp_2 (Tra  (None, 256)         132096      ['global_sum_pooling[1][0]']     \n",
      " nsformerEncoderMLP)                                                                              \n",
      "                                                                                                  \n",
      " re_lu_2 (ReLU)                 (None, 256)          0           ['transformer_encoder_mlp_2[1][0]\n",
      "                                                                 ']                               \n",
      "                                                                                                  \n",
      " dense_6 (Dense)                (None, 1)            257         ['re_lu_2[1][0]']                \n",
      "                                                                                                  \n",
      "==================================================================================================\n",
      "Total params: 668,673\n",
      "Trainable params: 668,673\n",
      "Non-trainable params: 0\n",
      "__________________________________________________________________________________________________\n"
     ]
    }
   ],
   "source": [
    "model.summary()"
   ]
  },
  {
   "cell_type": "code",
   "execution_count": 11,
   "id": "4982c554",
   "metadata": {},
   "outputs": [
    {
     "ename": "TypeError",
     "evalue": "Functional.compute_mask() missing 1 required positional argument: 'mask'",
     "output_type": "error",
     "traceback": [
      "\u001b[0;31m---------------------------------------------------------------------------\u001b[0m",
      "\u001b[0;31mTypeError\u001b[0m                                 Traceback (most recent call last)",
      "Cell \u001b[0;32mIn[11], line 1\u001b[0m\n\u001b[0;32m----> 1\u001b[0m \u001b[43mmodel\u001b[49m\u001b[38;5;241;43m.\u001b[39;49m\u001b[43mcompute_mask\u001b[49m\u001b[43m(\u001b[49m\u001b[43m[\u001b[49m\u001b[43mfeatures\u001b[49m\u001b[43m,\u001b[49m\u001b[43m \u001b[49m\u001b[43mcoordinates\u001b[49m\u001b[43m,\u001b[49m\u001b[43m \u001b[49m\u001b[43msizes\u001b[49m\u001b[43m,\u001b[49m\u001b[43m \u001b[49m\u001b[43mnum_patches\u001b[49m\u001b[43m]\u001b[49m\u001b[43m)\u001b[49m\n",
      "\u001b[0;31mTypeError\u001b[0m: Functional.compute_mask() missing 1 required positional argument: 'mask'"
     ]
    }
   ],
   "source": [
    "model.compute_mask([features, coordinates, sizes, num_patches])"
   ]
  },
  {
   "cell_type": "code",
   "execution_count": null,
   "id": "6a19754a",
   "metadata": {},
   "outputs": [],
   "source": []
  }
 ],
 "metadata": {
  "kernelspec": {
   "display_name": "ubinet-gpu",
   "language": "python",
   "name": "python3"
  },
  "language_info": {
   "codemirror_mode": {
    "name": "ipython",
    "version": 3
   },
   "file_extension": ".py",
   "mimetype": "text/x-python",
   "name": "python",
   "nbconvert_exporter": "python",
   "pygments_lexer": "ipython3",
   "version": "3.10.13"
  }
 },
 "nbformat": 4,
 "nbformat_minor": 5
}
