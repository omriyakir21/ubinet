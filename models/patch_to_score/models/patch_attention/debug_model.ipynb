{
 "cells": [
  {
   "cell_type": "code",
   "execution_count": null,
   "id": "e81a2a75",
   "metadata": {},
   "outputs": [],
   "source": [
    "import tensorflow as tf\n",
    "tf.config.set_visible_devices([], 'GPU')\n",
    "\n",
    "from plotly import express as px\n",
    "from typing import List, Tuple\n",
    "import pickle\n",
    "import numpy as np"
   ]
  },
  {
   "cell_type": "code",
   "execution_count": null,
   "id": "6fd4b8fa",
   "metadata": {},
   "outputs": [],
   "source": [
    "import sys\n",
    "sys.path.append('../../../../')"
   ]
  },
  {
   "cell_type": "markdown",
   "id": "48f0fc6b",
   "metadata": {},
   "source": [
    "## load"
   ]
  },
  {
   "cell_type": "code",
   "execution_count": null,
   "id": "5eeb3cad",
   "metadata": {},
   "outputs": [],
   "source": [
    "with open('/home/iscb/wolfson/doririmon/home/order/ubinet/repo/ubinet/datasets/patch_to_score/data_for_training/03_04_with_pesto_and_coord/folds_training_dicts.pkl', 'rb') as f:\n",
    "    folds_training_dicts = pickle.load(f)"
   ]
  },
  {
   "cell_type": "code",
   "execution_count": null,
   "id": "3d4cc814",
   "metadata": {},
   "outputs": [],
   "source": [
    "fold = folds_training_dicts[0]\n",
    "fold.keys()"
   ]
  },
  {
   "cell_type": "code",
   "execution_count": null,
   "id": "852264d9",
   "metadata": {},
   "outputs": [],
   "source": [
    "input_data = fold['components_train']\n",
    "coordinates = fold['coordinates_train']\n",
    "size_value = fold['sizes_train']\n",
    "n_patches_hot_encoded_value = fold['num_patches_train']\n",
    "max_number_of_patches = 10"
   ]
  },
  {
   "cell_type": "markdown",
   "id": "2f61454a",
   "metadata": {},
   "source": [
    "## debug pairwise transition"
   ]
  },
  {
   "cell_type": "code",
   "execution_count": null,
   "id": "4b85e455",
   "metadata": {},
   "outputs": [],
   "source": [
    "from model import build_model, create_masked_inputs"
   ]
  },
  {
   "cell_type": "code",
   "execution_count": null,
   "id": "f119781d",
   "metadata": {},
   "outputs": [],
   "source": [
    "model = build_model(features_mlp_hidden_sizes=[[32, 32]],\n",
    "            features_mlp_dropout_rate=0.2,\n",
    "            output_mlp_hidden_sizes=[[32, 32]], output_mlp_dropout_rate=0.2,\n",
    "            attention_mlp_hidden_sizes=[[32, 32]], attention_mlp_dropout_rate=0.2,\n",
    "            activation='relu', input_shape=(10, 9), max_number_of_patches=10, attention_dimension=32,\n",
    "            gaussian_xrange=(0, 100),\n",
    "            pairs_channel_dimension=32, num_heads=8, use_pair_bias=True)"
   ]
  },
  {
   "cell_type": "code",
   "execution_count": null,
   "id": "2e73b475",
   "metadata": {},
   "outputs": [],
   "source": [
    "model.summary()"
   ]
  },
  {
   "cell_type": "code",
   "execution_count": null,
   "id": "e1a5e344",
   "metadata": {},
   "outputs": [],
   "source": [
    "batch_size = 7"
   ]
  },
  {
   "cell_type": "code",
   "execution_count": null,
   "id": "b1afb1fc",
   "metadata": {},
   "outputs": [],
   "source": [
    "model([input_data[:batch_size], coordinates[:batch_size], size_value[:batch_size], n_patches_hot_encoded_value[:batch_size]])"
   ]
  },
  {
   "cell_type": "code",
   "execution_count": null,
   "id": "35db3f4b",
   "metadata": {},
   "outputs": [],
   "source": [
    "# model.save(f'tmp_model.keras')"
   ]
  },
  {
   "cell_type": "code",
   "execution_count": null,
   "id": "85c0afb5",
   "metadata": {},
   "outputs": [],
   "source": [
    "# model.load_weights(f'tmp_model.keras')"
   ]
  },
  {
   "cell_type": "code",
   "execution_count": null,
   "id": "6b64cd6e",
   "metadata": {},
   "outputs": [],
   "source": [
    "from models.patch_to_score.models.modules.gaussian_kernel import GaussianKernel, initialize_gaussian_kernel_uniform, initialize_GaussianKernel"
   ]
  },
  {
   "cell_type": "code",
   "execution_count": null,
   "id": "c6e1dd24",
   "metadata": {},
   "outputs": [],
   "source": [
    "from model import create_masked_inputs\n",
    "\n",
    "features, pairwise_distances = create_masked_inputs(\n",
    "    input_data, coordinates, size_value, n_patches_hot_encoded_value, max_number_of_patches)"
   ]
  },
  {
   "cell_type": "code",
   "execution_count": null,
   "id": "472fe54c",
   "metadata": {},
   "outputs": [],
   "source": [
    "pairwise_distances.shape"
   ]
  },
  {
   "cell_type": "code",
   "execution_count": null,
   "id": "04306cd5",
   "metadata": {},
   "outputs": [],
   "source": [
    "flat_distances = pairwise_distances[pairwise_distances != 0].numpy()"
   ]
  },
  {
   "cell_type": "code",
   "execution_count": null,
   "id": "68cc849c",
   "metadata": {},
   "outputs": [],
   "source": [
    "initial_values = initialize_GaussianKernel(np.expand_dims(flat_distances, 1), 8, n_init=4)"
   ]
  },
  {
   "cell_type": "code",
   "execution_count": null,
   "id": "00bdb701",
   "metadata": {},
   "outputs": [],
   "source": [
    "centers, stds = initial_values"
   ]
  },
  {
   "cell_type": "code",
   "execution_count": null,
   "id": "ed7ccd92",
   "metadata": {},
   "outputs": [],
   "source": [
    "fitted_gaussian_kernel = GaussianKernel(8, initial_values, 'diag')"
   ]
  },
  {
   "cell_type": "code",
   "execution_count": null,
   "id": "5820cb29",
   "metadata": {},
   "outputs": [],
   "source": [
    "import numpy as np\n",
    "import plotly.graph_objects as go\n",
    "from scipy.stats import norm\n",
    "\n",
    "x = np.linspace(flat_distances.min() - 3, flat_distances.max() + 3, 5000)\n",
    "\n",
    "# Plot data histogram\n",
    "fig = go.Figure()\n",
    "fig.add_trace(go.Histogram(\n",
    "    x=flat_distances[::10], \n",
    "    histnorm=\"probability density\",\n",
    "    name=\"Data\",\n",
    "    opacity=0.5,\n",
    "    nbinsx=10_000\n",
    "))\n",
    "\n",
    "print('here')\n",
    "# Plot each Gaussian\n",
    "for mean, std in zip(centers[0], stds[0]):\n",
    "    y = norm.pdf(x, loc=mean, scale=std)\n",
    "    fig.add_trace(go.Scatter(\n",
    "        x=x, y=y,\n",
    "        mode=\"lines\",\n",
    "        name=f\"N({mean}, {std**2:.2f})\"\n",
    "    ))\n",
    "\n",
    "# Layout\n",
    "fig.update_layout(\n",
    "    title=\"Data and Gaussian Distributions\",\n",
    "    xaxis_title=\"x\",\n",
    "    yaxis_title=\"Density\"\n",
    ")\n",
    "\n",
    "fig.show()\n"
   ]
  },
  {
   "cell_type": "code",
   "execution_count": null,
   "id": "d8258242",
   "metadata": {},
   "outputs": [],
   "source": [
    "# px.histogram(flat_distances[flat_distances < 50][::2], nbins=10_000)"
   ]
  },
  {
   "cell_type": "code",
   "execution_count": null,
   "id": "de50a227",
   "metadata": {},
   "outputs": [],
   "source": []
  }
 ],
 "metadata": {
  "kernelspec": {
   "display_name": "ubinet-gpu",
   "language": "python",
   "name": "python3"
  },
  "language_info": {
   "codemirror_mode": {
    "name": "ipython",
    "version": 3
   },
   "file_extension": ".py",
   "mimetype": "text/x-python",
   "name": "python",
   "nbconvert_exporter": "python",
   "pygments_lexer": "ipython3",
   "version": "3.10.13"
  }
 },
 "nbformat": 4,
 "nbformat_minor": 5
}
