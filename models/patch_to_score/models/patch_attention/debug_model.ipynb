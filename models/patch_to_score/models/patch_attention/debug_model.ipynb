{
 "cells": [
  {
   "cell_type": "code",
   "execution_count": 1,
   "id": "e81a2a75",
   "metadata": {},
   "outputs": [
    {
     "name": "stderr",
     "output_type": "stream",
     "text": [
      "2025-08-20 14:06:53.031841: I tensorflow/core/platform/cpu_feature_guard.cc:193] This TensorFlow binary is optimized with oneAPI Deep Neural Network Library (oneDNN) to use the following CPU instructions in performance-critical operations:  AVX2 AVX512F AVX512_VNNI AVX512_BF16 AVX_VNNI AMX_TILE AMX_INT8 AMX_BF16 FMA\n",
      "To enable them in other operations, rebuild TensorFlow with the appropriate compiler flags.\n",
      "2025-08-20 14:06:53.138661: I tensorflow/core/util/port.cc:104] oneDNN custom operations are on. You may see slightly different numerical results due to floating-point round-off errors from different computation orders. To turn them off, set the environment variable `TF_ENABLE_ONEDNN_OPTS=0`.\n",
      "2025-08-20 14:06:54.267118: W tensorflow/compiler/xla/stream_executor/platform/default/dso_loader.cc:64] Could not load dynamic library 'libnvinfer.so.7'; dlerror: libnvinfer.so.7: cannot open shared object file: No such file or directory; LD_LIBRARY_PATH: /home/iscb/wolfson/doririmon/anaconda3/envs/ubinet-gpu/lib\n",
      "2025-08-20 14:06:54.267184: W tensorflow/compiler/xla/stream_executor/platform/default/dso_loader.cc:64] Could not load dynamic library 'libnvinfer_plugin.so.7'; dlerror: libnvinfer_plugin.so.7: cannot open shared object file: No such file or directory; LD_LIBRARY_PATH: /home/iscb/wolfson/doririmon/anaconda3/envs/ubinet-gpu/lib\n",
      "2025-08-20 14:06:54.267188: W tensorflow/compiler/tf2tensorrt/utils/py_utils.cc:38] TF-TRT Warning: Cannot dlopen some TensorRT libraries. If you would like to use Nvidia GPU with TensorRT, please make sure the missing libraries mentioned above are installed properly.\n",
      "2025-08-20 14:06:57.143464: W tensorflow/core/common_runtime/gpu/gpu_device.cc:2027] TensorFlow was not built with CUDA kernel binaries compatible with compute capability 9.0. CUDA kernels will be jit-compiled from PTX, which could take 30 minutes or longer.\n",
      "2025-08-20 14:06:57.145253: W tensorflow/core/common_runtime/gpu/gpu_device.cc:2027] TensorFlow was not built with CUDA kernel binaries compatible with compute capability 9.0. CUDA kernels will be jit-compiled from PTX, which could take 30 minutes or longer.\n",
      "2025-08-20 14:06:57.146396: W tensorflow/core/common_runtime/gpu/gpu_device.cc:2027] TensorFlow was not built with CUDA kernel binaries compatible with compute capability 9.0. CUDA kernels will be jit-compiled from PTX, which could take 30 minutes or longer.\n",
      "2025-08-20 14:06:57.148235: W tensorflow/core/common_runtime/gpu/gpu_device.cc:2027] TensorFlow was not built with CUDA kernel binaries compatible with compute capability 9.0. CUDA kernels will be jit-compiled from PTX, which could take 30 minutes or longer.\n",
      "2025-08-20 14:06:57.149522: W tensorflow/core/common_runtime/gpu/gpu_device.cc:2027] TensorFlow was not built with CUDA kernel binaries compatible with compute capability 9.0. CUDA kernels will be jit-compiled from PTX, which could take 30 minutes or longer.\n",
      "2025-08-20 14:06:57.150666: W tensorflow/core/common_runtime/gpu/gpu_device.cc:2027] TensorFlow was not built with CUDA kernel binaries compatible with compute capability 9.0. CUDA kernels will be jit-compiled from PTX, which could take 30 minutes or longer.\n",
      "2025-08-20 14:06:57.151893: W tensorflow/core/common_runtime/gpu/gpu_device.cc:2027] TensorFlow was not built with CUDA kernel binaries compatible with compute capability 9.0. CUDA kernels will be jit-compiled from PTX, which could take 30 minutes or longer.\n",
      "2025-08-20 14:06:57.153578: W tensorflow/core/common_runtime/gpu/gpu_device.cc:2027] TensorFlow was not built with CUDA kernel binaries compatible with compute capability 9.0. CUDA kernels will be jit-compiled from PTX, which could take 30 minutes or longer.\n"
     ]
    }
   ],
   "source": [
    "import tensorflow as tf\n",
    "tf.config.set_visible_devices([], 'GPU')\n",
    "\n",
    "from plotly import express as px\n",
    "from typing import List, Tuple\n",
    "import pickle\n",
    "import numpy as np"
   ]
  },
  {
   "cell_type": "code",
   "execution_count": 2,
   "id": "6fd4b8fa",
   "metadata": {},
   "outputs": [],
   "source": [
    "import sys\n",
    "sys.path.append('../../../../')"
   ]
  },
  {
   "cell_type": "markdown",
   "id": "48f0fc6b",
   "metadata": {},
   "source": [
    "## load"
   ]
  },
  {
   "cell_type": "code",
   "execution_count": 3,
   "id": "5eeb3cad",
   "metadata": {},
   "outputs": [
    {
     "name": "stderr",
     "output_type": "stream",
     "text": [
      "2025-08-20 14:06:57.263441: I tensorflow/core/platform/cpu_feature_guard.cc:193] This TensorFlow binary is optimized with oneAPI Deep Neural Network Library (oneDNN) to use the following CPU instructions in performance-critical operations:  AVX2 AVX512F AVX512_VNNI AVX512_BF16 AVX_VNNI AMX_TILE AMX_INT8 AMX_BF16 FMA\n",
      "To enable them in other operations, rebuild TensorFlow with the appropriate compiler flags.\n"
     ]
    }
   ],
   "source": [
    "with open('/home/iscb/wolfson/doririmon/home/order/ubinet/repo/ubinet/datasets/patch_to_score/data_for_training/03_04_with_pesto_and_coord/folds_training_dicts.pkl', 'rb') as f:\n",
    "    folds_training_dicts = pickle.load(f)"
   ]
  },
  {
   "cell_type": "code",
   "execution_count": 4,
   "id": "3d4cc814",
   "metadata": {},
   "outputs": [
    {
     "data": {
      "text/plain": [
       "dict_keys(['sizes_train', 'components_train', 'num_patches_train', 'uniprots_train', 'labels_train', 'sizes_validation', 'components_validation', 'num_patches_validation', 'uniprots_validation', 'labels_validation', 'sizes_test', 'components_test', 'num_patches_test', 'uniprots_test', 'labels_test', 'coordinates_train', 'coordinates_validation', 'coordinates_test'])"
      ]
     },
     "execution_count": 4,
     "metadata": {},
     "output_type": "execute_result"
    }
   ],
   "source": [
    "fold = folds_training_dicts[0]\n",
    "fold.keys()"
   ]
  },
  {
   "cell_type": "code",
   "execution_count": 5,
   "id": "852264d9",
   "metadata": {},
   "outputs": [],
   "source": [
    "input_data = fold['components_train']\n",
    "coordinates = fold['coordinates_train']\n",
    "size_value = fold['sizes_train']\n",
    "n_patches_hot_encoded_value = fold['num_patches_train']\n",
    "max_number_of_patches = 10"
   ]
  },
  {
   "cell_type": "markdown",
   "id": "2f61454a",
   "metadata": {},
   "source": [
    "## debug pairwise transition"
   ]
  },
  {
   "cell_type": "code",
   "execution_count": 6,
   "id": "4b85e455",
   "metadata": {},
   "outputs": [],
   "source": [
    "from model import build_model, create_masked_inputs"
   ]
  },
  {
   "cell_type": "code",
   "execution_count": 7,
   "id": "f119781d",
   "metadata": {},
   "outputs": [
    {
     "name": "stdout",
     "output_type": "stream",
     "text": [
      "initializing projection for skip connection: 11 -> 32\n"
     ]
    }
   ],
   "source": [
    "model = build_model(features_mlp_hidden_sizes=[[32, 32]],\n",
    "            features_mlp_dropout_rate=0.2,\n",
    "            output_mlp_hidden_sizes=[[32, 32]], output_mlp_dropout_rate=0.2,\n",
    "            attention_mlp_hidden_sizes=[[32, 32]], attention_mlp_dropout_rate=0.2,\n",
    "            activation='relu', input_shape=(10, 9), max_number_of_patches=10, attention_dimension=32,\n",
    "            gaussian_xrange=(0, 100),\n",
    "            pairs_channel_dimension=32, num_heads=8, use_pair_bias=True)"
   ]
  },
  {
   "cell_type": "code",
   "execution_count": 8,
   "id": "2e73b475",
   "metadata": {},
   "outputs": [
    {
     "name": "stdout",
     "output_type": "stream",
     "text": [
      "Model: \"model\"\n",
      "__________________________________________________________________________________________________\n",
      " Layer (type)                   Output Shape         Param #     Connected to                     \n",
      "==================================================================================================\n",
      " number_of_patches_input (Input  [(None, 11)]        0           []                               \n",
      " Layer)                                                                                           \n",
      "                                                                                                  \n",
      " features_input (InputLayer)    [(None, 10, 9)]      0           []                               \n",
      "                                                                                                  \n",
      " tf.math.argmax (TFOpLambda)    (None,)              0           ['number_of_patches_input[0][0]']\n",
      "                                                                                                  \n",
      " tf.__operators__.getitem (Slic  (None, 1)           0           ['tf.math.argmax[0][0]']         \n",
      " ingOpLambda)                                                                                     \n",
      "                                                                                                  \n",
      " tf.__operators__.ne (TFOpLambd  (None, 10, 9)       0           ['features_input[0][0]']         \n",
      " a)                                                                                               \n",
      "                                                                                                  \n",
      " coordinates_input (InputLayer)  [(None, 10, 3)]     0           []                               \n",
      "                                                                                                  \n",
      " tf.cast_1 (TFOpLambda)         (None, 1)            0           ['tf.__operators__.getitem[0][0]'\n",
      "                                                                 ]                                \n",
      "                                                                                                  \n",
      " number_of_residues_input (Inpu  [(None, 1)]         0           []                               \n",
      " tLayer)                                                                                          \n",
      "                                                                                                  \n",
      " tf.math.reduce_any (TFOpLambda  (None, 10)          0           ['tf.__operators__.ne[0][0]']    \n",
      " )                                                                                                \n",
      "                                                                                                  \n",
      " tf.expand_dims_2 (TFOpLambda)  (None, 1, 10, 3)     0           ['coordinates_input[0][0]']      \n",
      "                                                                                                  \n",
      " tf.expand_dims_3 (TFOpLambda)  (None, 10, 1, 3)     0           ['coordinates_input[0][0]']      \n",
      "                                                                                                  \n",
      " tf.compat.v1.shape (TFOpLambda  (2,)                0           ['tf.cast_1[0][0]']              \n",
      " )                                                                                                \n",
      "                                                                                                  \n",
      " tf.compat.v1.shape_1 (TFOpLamb  (2,)                0           ['tf.cast_1[0][0]']              \n",
      " da)                                                                                              \n",
      "                                                                                                  \n",
      " tf.compat.v1.shape_2 (TFOpLamb  (2,)                0           ['number_of_residues_input[0][0]'\n",
      " da)                                                             ]                                \n",
      "                                                                                                  \n",
      " tf.compat.v1.shape_3 (TFOpLamb  (2,)                0           ['number_of_residues_input[0][0]'\n",
      " da)                                                             ]                                \n",
      "                                                                                                  \n",
      " tf.cast (TFOpLambda)           (None, 10)           0           ['tf.math.reduce_any[0][0]']     \n",
      "                                                                                                  \n",
      " tf.math.subtract (TFOpLambda)  (None, 10, 10, 3)    0           ['tf.expand_dims_2[0][0]',       \n",
      "                                                                  'tf.expand_dims_3[0][0]']       \n",
      "                                                                                                  \n",
      " tf.expand_dims (TFOpLambda)    (None, 1, 1)         0           ['tf.cast_1[0][0]']              \n",
      "                                                                                                  \n",
      " tf.__operators__.getitem_1 (Sl  ()                  0           ['tf.compat.v1.shape[0][0]']     \n",
      " icingOpLambda)                                                                                   \n",
      "                                                                                                  \n",
      " tf.__operators__.getitem_2 (Sl  ()                  0           ['tf.compat.v1.shape_1[0][0]']   \n",
      " icingOpLambda)                                                                                   \n",
      "                                                                                                  \n",
      " tf.expand_dims_1 (TFOpLambda)  (None, 1, 1)         0           ['number_of_residues_input[0][0]'\n",
      "                                                                 ]                                \n",
      "                                                                                                  \n",
      " tf.__operators__.getitem_3 (Sl  ()                  0           ['tf.compat.v1.shape_2[0][0]']   \n",
      " icingOpLambda)                                                                                   \n",
      "                                                                                                  \n",
      " tf.__operators__.getitem_4 (Sl  ()                  0           ['tf.compat.v1.shape_3[0][0]']   \n",
      " icingOpLambda)                                                                                   \n",
      "                                                                                                  \n",
      " tf.compat.v1.norm (TFOpLambda)  (None, 10, 10)      0           ['tf.math.subtract[0][0]']       \n",
      "                                                                                                  \n",
      " tf.__operators__.getitem_6 (Sl  (None, 10, 1)       0           ['tf.cast[0][0]']                \n",
      " icingOpLambda)                                                                                   \n",
      "                                                                                                  \n",
      " tf.__operators__.getitem_7 (Sl  (None, 1, 10)       0           ['tf.cast[0][0]']                \n",
      " icingOpLambda)                                                                                   \n",
      "                                                                                                  \n",
      " tf.broadcast_to (TFOpLambda)   (None, 10, 1)        0           ['tf.expand_dims[0][0]',         \n",
      "                                                                  'tf.__operators__.getitem_1[0][0\n",
      "                                                                 ]',                              \n",
      "                                                                  'tf.__operators__.getitem_2[0][0\n",
      "                                                                 ]']                              \n",
      "                                                                                                  \n",
      " tf.broadcast_to_1 (TFOpLambda)  (None, 10, 1)       0           ['tf.expand_dims_1[0][0]',       \n",
      "                                                                  'tf.__operators__.getitem_3[0][0\n",
      "                                                                 ]',                              \n",
      "                                                                  'tf.__operators__.getitem_4[0][0\n",
      "                                                                 ]']                              \n",
      "                                                                                                  \n",
      " tf.cast_2 (TFOpLambda)         (None, 10, 10)       0           ['tf.compat.v1.norm[0][0]']      \n",
      "                                                                                                  \n",
      " tf.math.multiply_1 (TFOpLambda  (None, 10, 10)      0           ['tf.__operators__.getitem_6[0][0\n",
      " )                                                               ]',                              \n",
      "                                                                  'tf.__operators__.getitem_7[0][0\n",
      "                                                                 ]']                              \n",
      "                                                                                                  \n",
      " concatenate (Concatenate)      (None, 10, 11)       0           ['features_input[0][0]',         \n",
      "                                                                  'tf.broadcast_to[0][0]',        \n",
      "                                                                  'tf.broadcast_to_1[0][0]']      \n",
      "                                                                                                  \n",
      " tf.__operators__.getitem_5 (Sl  (None, 10, 1)       0           ['tf.cast[0][0]']                \n",
      " icingOpLambda)                                                                                   \n",
      "                                                                                                  \n",
      " tf.math.multiply_2 (TFOpLambda  (None, 10, 10)      0           ['tf.cast_2[0][0]',              \n",
      " )                                                                'tf.math.multiply_1[0][0]']     \n",
      "                                                                                                  \n",
      " tf.math.subtract_1 (TFOpLambda  (None, 10, 10)      0           ['tf.math.multiply_1[0][0]']     \n",
      " )                                                                                                \n",
      "                                                                                                  \n",
      " tf.math.multiply (TFOpLambda)  (None, 10, 11)       0           ['concatenate[0][0]',            \n",
      "                                                                  'tf.__operators__.getitem_5[0][0\n",
      "                                                                 ]']                              \n",
      "                                                                                                  \n",
      " tf.__operators__.add (TFOpLamb  (None, 10, 10)      0           ['tf.math.multiply_2[0][0]',     \n",
      " da)                                                              'tf.math.subtract_1[0][0]']     \n",
      "                                                                                                  \n",
      " masking (Masking)              (None, 10, 11)       0           ['tf.math.multiply[0][0]']       \n",
      "                                                                                                  \n",
      " tf.expand_dims_4 (TFOpLambda)  (None, 10, 10, 1)    0           ['tf.__operators__.add[0][0]']   \n",
      "                                                                                                  \n",
      " transformer_encoder_mlp (Trans  (None, 10, 32)      1888        ['masking[0][0]']                \n",
      " formerEncoderMLP)                                                                                \n",
      "                                                                                                  \n",
      " masking_1 (Masking)            (None, 10, 10, 1)    0           ['tf.expand_dims_4[0][0]']       \n",
      "                                                                                                  \n",
      " re_lu (ReLU)                   (None, 10, 32)       0           ['transformer_encoder_mlp[0][0]']\n",
      "                                                                                                  \n",
      " gaussian_kernel (GaussianKerne  (None, 10, 10, 32)  64          ['masking_1[0][0]']              \n",
      " l)                                                                                               \n",
      "                                                                                                  \n",
      " patch_attention_with_pair_bias  (None, 10, 32)      5568        ['re_lu[0][0]',                  \n",
      "  (PatchAttentionWithPairBias)                                    'gaussian_kernel[0][0]']        \n",
      "                                                                                                  \n",
      " add (Add)                      (None, 10, 32)       0           ['re_lu[0][0]',                  \n",
      "                                                                  'patch_attention_with_pair_bias[\n",
      "                                                                 0][0]']                          \n",
      "                                                                                                  \n",
      " transformer_encoder_mlp_1 (Tra  (None, 10, 32)      2176        ['add[0][0]']                    \n",
      " nsformerEncoderMLP)                                                                              \n",
      "                                                                                                  \n",
      " re_lu_1 (ReLU)                 (None, 10, 32)       0           ['transformer_encoder_mlp_1[0][0]\n",
      "                                                                 ']                               \n",
      "                                                                                                  \n",
      " global_sum_pooling (GlobalSumP  (None, 32)          0           ['re_lu_1[0][0]']                \n",
      " ooling)                                                                                          \n",
      "                                                                                                  \n",
      " transformer_encoder_mlp_2 (Tra  (None, 32)          2176        ['global_sum_pooling[0][0]']     \n",
      " nsformerEncoderMLP)                                                                              \n",
      "                                                                                                  \n",
      " re_lu_2 (ReLU)                 (None, 32)           0           ['transformer_encoder_mlp_2[0][0]\n",
      "                                                                 ']                               \n",
      "                                                                                                  \n",
      " dense (Dense)                  (None, 1)            33          ['re_lu_2[0][0]']                \n",
      "                                                                                                  \n",
      "==================================================================================================\n",
      "Total params: 11,905\n",
      "Trainable params: 11,905\n",
      "Non-trainable params: 0\n",
      "__________________________________________________________________________________________________\n"
     ]
    }
   ],
   "source": [
    "model.summary()"
   ]
  },
  {
   "cell_type": "code",
   "execution_count": 9,
   "id": "e1a5e344",
   "metadata": {},
   "outputs": [],
   "source": [
    "batch_size = 7"
   ]
  },
  {
   "cell_type": "code",
   "execution_count": 11,
   "id": "b1afb1fc",
   "metadata": {},
   "outputs": [
    {
     "data": {
      "text/plain": [
       "<tf.Tensor: shape=(7, 1), dtype=float32, numpy=\n",
       "array([[0.7819127 ],\n",
       "       [0.7979585 ],\n",
       "       [0.7717895 ],\n",
       "       [0.80579376],\n",
       "       [0.7794672 ],\n",
       "       [0.79469633],\n",
       "       [0.7478455 ]], dtype=float32)>"
      ]
     },
     "execution_count": 11,
     "metadata": {},
     "output_type": "execute_result"
    }
   ],
   "source": [
    "model([input_data[:batch_size], coordinates[:batch_size], size_value[:batch_size], n_patches_hot_encoded_value[:batch_size]])"
   ]
  }
 ],
 "metadata": {
  "kernelspec": {
   "display_name": "ubinet-gpu",
   "language": "python",
   "name": "python3"
  },
  "language_info": {
   "codemirror_mode": {
    "name": "ipython",
    "version": 3
   },
   "file_extension": ".py",
   "mimetype": "text/x-python",
   "name": "python",
   "nbconvert_exporter": "python",
   "pygments_lexer": "ipython3",
   "version": "3.10.13"
  }
 },
 "nbformat": 4,
 "nbformat_minor": 5
}
