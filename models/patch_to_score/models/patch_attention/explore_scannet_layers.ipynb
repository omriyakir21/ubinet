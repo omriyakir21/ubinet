{
 "cells": [
  {
   "cell_type": "code",
   "execution_count": null,
   "id": "e81a2a75",
   "metadata": {},
   "outputs": [],
   "source": [
    "import tensorflow as tf\n",
    "tf.config.set_visible_devices([], 'GPU')\n",
    "\n",
    "from plotly import express as px\n",
    "from typing import List, Tuple\n",
    "import pickle\n",
    "import numpy as np"
   ]
  },
  {
   "cell_type": "code",
   "execution_count": null,
   "id": "6fd4b8fa",
   "metadata": {},
   "outputs": [],
   "source": [
    "import sys\n",
    "sys.path.append('../../../../')"
   ]
  },
  {
   "cell_type": "markdown",
   "id": "48f0fc6b",
   "metadata": {},
   "source": [
    "## load"
   ]
  },
  {
   "cell_type": "code",
   "execution_count": null,
   "id": "5eeb3cad",
   "metadata": {},
   "outputs": [],
   "source": [
    "with open('/home/iscb/wolfson/doririmon/home/order/ubinet/repo/ubinet/datasets/patch_to_score/data_for_training/03_04_with_pesto_and_coord/folds_training_dicts.pkl', 'rb') as f:\n",
    "    folds_training_dicts = pickle.load(f)"
   ]
  },
  {
   "cell_type": "code",
   "execution_count": null,
   "id": "3d4cc814",
   "metadata": {},
   "outputs": [],
   "source": [
    "fold = folds_training_dicts[0]\n",
    "fold.keys()"
   ]
  },
  {
   "cell_type": "code",
   "execution_count": null,
   "id": "852264d9",
   "metadata": {},
   "outputs": [],
   "source": [
    "input_data = fold['components_train']\n",
    "coordinates = fold['coordinates_train']\n",
    "size_value = fold['sizes_train']\n",
    "n_patches_hot_encoded_value = fold['num_patches_train']\n",
    "max_number_of_patches = 10"
   ]
  },
  {
   "cell_type": "markdown",
   "id": "2f61454a",
   "metadata": {},
   "source": [
    "## debug pairwise transition"
   ]
  },
  {
   "cell_type": "code",
   "execution_count": null,
   "id": "7fa91450",
   "metadata": {},
   "outputs": [],
   "source": [
    "from model import create_masked_inputs\n",
    "\n",
    "features, pairwise_distances = create_masked_inputs(\n",
    "        input_data, coordinates, size_value, n_patches_hot_encoded_value, max_number_of_patches)"
   ]
  },
  {
   "cell_type": "code",
   "execution_count": null,
   "id": "f894c2af",
   "metadata": {},
   "outputs": [],
   "source": [
    "# px.imshow(pairwise_distances[0][:, :, 0])"
   ]
  },
  {
   "cell_type": "code",
   "execution_count": null,
   "id": "36198fef",
   "metadata": {},
   "outputs": [],
   "source": [
    "# px.imshow(pairwise_distances._keras_mask[0])"
   ]
  },
  {
   "cell_type": "code",
   "execution_count": null,
   "id": "06ed17e2",
   "metadata": {},
   "outputs": [],
   "source": [
    "from models.patch_to_score.models.modules.scannet_layers import GaussianKernel, MaskedDense, initialize_GaussianKernel, initialize_GaussianKernelRandom"
   ]
  },
  {
   "cell_type": "code",
   "execution_count": null,
   "id": "11bb50d6",
   "metadata": {},
   "outputs": [],
   "source": [
    "# flat_distances = pairwise_distances.numpy().flatten()\n",
    "# flat_distances = flat_distances[flat_distances != 0]\n",
    "# px.histogram(flat_distances[::10])"
   ]
  },
  {
   "cell_type": "code",
   "execution_count": null,
   "id": "ceb33dcb",
   "metadata": {},
   "outputs": [],
   "source": [
    "N = 20\n",
    "num_heads = 1\n",
    "# initial_values = initialize_GaussianKernelRandom([[0, 200]], N, 'diag')\n",
    "initial_values = [np.array([np.linspace(0, 200, N)]), np.array([[(200 / (N/ 4)) for _ in range(N)]])]\n",
    "kernel = GaussianKernel(N, initial_values, 'diag')\n",
    "\n",
    "layer_norm = tf.keras.layers.LayerNormalization()\n",
    "dense = MaskedDense(num_heads, use_bias=False)\n",
    "\n",
    "after_kernel = kernel(pairwise_distances)\n",
    "after_layer_norm = layer_norm(after_kernel)\n",
    "after_dense = dense(after_layer_norm)"
   ]
  },
  {
   "cell_type": "code",
   "execution_count": null,
   "id": "5da4ebe2",
   "metadata": {},
   "outputs": [],
   "source": [
    "x = pairwise_distances.numpy().flatten()\n",
    "ys = [after_kernel[:, :, :, i].numpy().flatten() for i in range(N)]\n",
    "px.scatter(x=x[::1111], y=[y[::1111] for y in ys])"
   ]
  },
  {
   "cell_type": "code",
   "execution_count": null,
   "id": "12d5fe09",
   "metadata": {},
   "outputs": [],
   "source": [
    "# px.imshow(pairwise_distances[0][:, :, 0])"
   ]
  },
  {
   "cell_type": "code",
   "execution_count": null,
   "id": "6e6c0664",
   "metadata": {},
   "outputs": [],
   "source": [
    "px.imshow(after_dense[0][:, :, 0])"
   ]
  }
 ],
 "metadata": {
  "kernelspec": {
   "display_name": "ubinet-gpu",
   "language": "python",
   "name": "python3"
  },
  "language_info": {
   "codemirror_mode": {
    "name": "ipython",
    "version": 3
   },
   "file_extension": ".py",
   "mimetype": "text/x-python",
   "name": "python",
   "nbconvert_exporter": "python",
   "pygments_lexer": "ipython3",
   "version": "3.10.13"
  }
 },
 "nbformat": 4,
 "nbformat_minor": 5
}
