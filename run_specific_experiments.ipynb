{
 "cells": [
  {
   "cell_type": "code",
   "execution_count": 1,
   "metadata": {},
   "outputs": [],
   "source": [
    "import os\n",
    "import numpy as np\n",
    "from datetime import datetime\n",
    "from tqdm import tqdm"
   ]
  },
  {
   "cell_type": "code",
   "execution_count": 2,
   "metadata": {},
   "outputs": [],
   "source": [
    "hypothesis = 'optimizer_batchsize_lr_gridsearch'"
   ]
  },
  {
   "cell_type": "code",
   "execution_count": 4,
   "metadata": {},
   "outputs": [],
   "source": [
    "experiments = os.listdir(f'configurations/data/{hypothesis}')\n",
    "experiments = [e.split('.json')[0] for e in experiments]"
   ]
  },
  {
   "cell_type": "code",
   "execution_count": 10,
   "metadata": {},
   "outputs": [
    {
     "data": {
      "text/plain": [
       "['optimizer_batchsize_lr_gridsearch/batch_128-optimizer_adamw-lr_0.01',\n",
       " 'optimizer_batchsize_lr_gridsearch/batch_128-optimizer_adamw-lr_0.001',\n",
       " 'optimizer_batchsize_lr_gridsearch/batch_128-optimizer_adam-lr_0.0001',\n",
       " 'optimizer_batchsize_lr_gridsearch/batch_128-optimizer_adamw-lr_0.0001',\n",
       " 'optimizer_batchsize_lr_gridsearch/batch_256-optimizer_adamw-lr_0.01',\n",
       " 'optimizer_batchsize_lr_gridsearch/batch_256-optimizer_adamw-lr_0.001',\n",
       " 'optimizer_batchsize_lr_gridsearch/batch_256-optimizer_adamw-lr_0.0001',\n",
       " 'optimizer_batchsize_lr_gridsearch/batch_512-optimizer_adamw-lr_0.01',\n",
       " 'optimizer_batchsize_lr_gridsearch/batch_512-optimizer_adamw-lr_0.001',\n",
       " 'optimizer_batchsize_lr_gridsearch/batch_512-optimizer_adamw-lr_0.0001',\n",
       " 'optimizer_batchsize_lr_gridsearch/batch_1024-optimizer_sgd-lr_0.01',\n",
       " 'optimizer_batchsize_lr_gridsearch/batch_1024-optimizer_adamw-lr_0.01',\n",
       " 'optimizer_batchsize_lr_gridsearch/batch_1024-optimizer_adamw-lr_0.001',\n",
       " 'optimizer_batchsize_lr_gridsearch/batch_1024-optimizer_adam-lr_0.0001',\n",
       " 'optimizer_batchsize_lr_gridsearch/batch_1024-optimizer_adamw-lr_0.0001']"
      ]
     },
     "execution_count": 10,
     "metadata": {},
     "output_type": "execute_result"
    }
   ],
   "source": [
    "run_paths = []\n",
    "for experiment in experiments:\n",
    "    experiment_runs = os.listdir(f'results/patch_to_score/hypotheses/{hypothesis}/{experiment}')\n",
    "    try:\n",
    "        experiment_runs = sorted(experiment_runs, key=lambda x: datetime.strptime(x.split('_')[0], '%Y-%m-%d'), reverse=True)\n",
    "    except Exception as e:\n",
    "        print(e)\n",
    "    updated_experiment_run = experiment_runs[0]\n",
    "    run_path = f'{hypothesis}/{experiment}/{updated_experiment_run}'\n",
    "    if 'fold_4' not in os.listdir(f'results/patch_to_score/hypotheses/{run_path}'):\n",
    "        path = os.path.join(*run_path.split('/')[:-1])\n",
    "        run_paths.append(path)\n",
    "run_paths"
   ]
  },
  {
   "cell_type": "code",
   "execution_count": 11,
   "metadata": {},
   "outputs": [
    {
     "name": "stdout",
     "output_type": "stream",
     "text": [
      "/bin/tcsh: /home/iscb/wolfson/doririmon/anaconda3/envs/ubinet-gpu/lib/libtinfo.so.6: no version information available (required by /bin/tcsh)\n",
      "bash: /home/iscb/wolfson/doririmon/anaconda3/envs/ubinet-gpu/lib/libtinfo.so.6: no version information available (required by bash)\n",
      "Submitted batch job 452584\n",
      "/bin/tcsh: /home/iscb/wolfson/doririmon/anaconda3/envs/ubinet-gpu/lib/libtinfo.so.6: no version information available (required by /bin/tcsh)\n",
      "bash: /home/iscb/wolfson/doririmon/anaconda3/envs/ubinet-gpu/lib/libtinfo.so.6: no version information available (required by bash)\n",
      "Submitted batch job 452585\n",
      "/bin/tcsh: /home/iscb/wolfson/doririmon/anaconda3/envs/ubinet-gpu/lib/libtinfo.so.6: no version information available (required by /bin/tcsh)\n",
      "bash: /home/iscb/wolfson/doririmon/anaconda3/envs/ubinet-gpu/lib/libtinfo.so.6: no version information available (required by bash)\n",
      "Submitted batch job 452586\n",
      "/bin/tcsh: /home/iscb/wolfson/doririmon/anaconda3/envs/ubinet-gpu/lib/libtinfo.so.6: no version information available (required by /bin/tcsh)\n",
      "bash: /home/iscb/wolfson/doririmon/anaconda3/envs/ubinet-gpu/lib/libtinfo.so.6: no version information available (required by bash)\n",
      "Submitted batch job 452587\n",
      "/bin/tcsh: /home/iscb/wolfson/doririmon/anaconda3/envs/ubinet-gpu/lib/libtinfo.so.6: no version information available (required by /bin/tcsh)\n",
      "bash: /home/iscb/wolfson/doririmon/anaconda3/envs/ubinet-gpu/lib/libtinfo.so.6: no version information available (required by bash)\n",
      "Submitted batch job 452588\n",
      "/bin/tcsh: /home/iscb/wolfson/doririmon/anaconda3/envs/ubinet-gpu/lib/libtinfo.so.6: no version information available (required by /bin/tcsh)\n",
      "bash: /home/iscb/wolfson/doririmon/anaconda3/envs/ubinet-gpu/lib/libtinfo.so.6: no version information available (required by bash)\n",
      "Submitted batch job 452589\n",
      "/bin/tcsh: /home/iscb/wolfson/doririmon/anaconda3/envs/ubinet-gpu/lib/libtinfo.so.6: no version information available (required by /bin/tcsh)\n",
      "bash: /home/iscb/wolfson/doririmon/anaconda3/envs/ubinet-gpu/lib/libtinfo.so.6: no version information available (required by bash)\n",
      "Submitted batch job 452590\n",
      "/bin/tcsh: /home/iscb/wolfson/doririmon/anaconda3/envs/ubinet-gpu/lib/libtinfo.so.6: no version information available (required by /bin/tcsh)\n",
      "bash: /home/iscb/wolfson/doririmon/anaconda3/envs/ubinet-gpu/lib/libtinfo.so.6: no version information available (required by bash)\n",
      "Submitted batch job 452591\n",
      "/bin/tcsh: /home/iscb/wolfson/doririmon/anaconda3/envs/ubinet-gpu/lib/libtinfo.so.6: no version information available (required by /bin/tcsh)\n",
      "bash: /home/iscb/wolfson/doririmon/anaconda3/envs/ubinet-gpu/lib/libtinfo.so.6: no version information available (required by bash)\n",
      "Submitted batch job 452592\n",
      "/bin/tcsh: /home/iscb/wolfson/doririmon/anaconda3/envs/ubinet-gpu/lib/libtinfo.so.6: no version information available (required by /bin/tcsh)\n",
      "bash: /home/iscb/wolfson/doririmon/anaconda3/envs/ubinet-gpu/lib/libtinfo.so.6: no version information available (required by bash)\n",
      "Submitted batch job 452593\n",
      "/bin/tcsh: /home/iscb/wolfson/doririmon/anaconda3/envs/ubinet-gpu/lib/libtinfo.so.6: no version information available (required by /bin/tcsh)\n",
      "bash: /home/iscb/wolfson/doririmon/anaconda3/envs/ubinet-gpu/lib/libtinfo.so.6: no version information available (required by bash)\n",
      "Submitted batch job 452594\n",
      "/bin/tcsh: /home/iscb/wolfson/doririmon/anaconda3/envs/ubinet-gpu/lib/libtinfo.so.6: no version information available (required by /bin/tcsh)\n",
      "bash: /home/iscb/wolfson/doririmon/anaconda3/envs/ubinet-gpu/lib/libtinfo.so.6: no version information available (required by bash)\n",
      "Submitted batch job 452595\n",
      "/bin/tcsh: /home/iscb/wolfson/doririmon/anaconda3/envs/ubinet-gpu/lib/libtinfo.so.6: no version information available (required by /bin/tcsh)\n",
      "bash: /home/iscb/wolfson/doririmon/anaconda3/envs/ubinet-gpu/lib/libtinfo.so.6: no version information available (required by bash)\n",
      "Submitted batch job 452596\n",
      "/bin/tcsh: /home/iscb/wolfson/doririmon/anaconda3/envs/ubinet-gpu/lib/libtinfo.so.6: no version information available (required by /bin/tcsh)\n",
      "bash: /home/iscb/wolfson/doririmon/anaconda3/envs/ubinet-gpu/lib/libtinfo.so.6: no version information available (required by bash)\n",
      "Submitted batch job 452597\n",
      "/bin/tcsh: /home/iscb/wolfson/doririmon/anaconda3/envs/ubinet-gpu/lib/libtinfo.so.6: no version information available (required by /bin/tcsh)\n",
      "bash: /home/iscb/wolfson/doririmon/anaconda3/envs/ubinet-gpu/lib/libtinfo.so.6: no version information available (required by bash)\n",
      "Submitted batch job 452598\n"
     ]
    }
   ],
   "source": [
    "for path in run_paths:\n",
    "    !bash scripts/train/submit_job_patch_to_score_experiment.sh configurations/data/{path}.json"
   ]
  },
  {
   "cell_type": "code",
   "execution_count": null,
   "metadata": {},
   "outputs": [],
   "source": []
  }
 ],
 "metadata": {
  "kernelspec": {
   "display_name": "ubinet-gpu",
   "language": "python",
   "name": "python3"
  },
  "language_info": {
   "codemirror_mode": {
    "name": "ipython",
    "version": 3
   },
   "file_extension": ".py",
   "mimetype": "text/x-python",
   "name": "python",
   "nbconvert_exporter": "python",
   "pygments_lexer": "ipython3",
   "version": "3.10.13"
  }
 },
 "nbformat": 4,
 "nbformat_minor": 2
}
