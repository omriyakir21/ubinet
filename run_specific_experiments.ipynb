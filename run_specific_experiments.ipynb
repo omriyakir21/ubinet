{
 "cells": [
  {
   "cell_type": "code",
   "execution_count": 12,
   "metadata": {},
   "outputs": [],
   "source": [
    "import os\n",
    "import numpy as np\n",
    "from datetime import datetime\n",
    "from tqdm import tqdm"
   ]
  },
  {
   "cell_type": "code",
   "execution_count": 22,
   "metadata": {},
   "outputs": [],
   "source": [
    "hypothesis = 'optimizer_batchsize_lr_gridsearch'\n",
    "# hypothesis = 'pesto_protein_scores_ablation'"
   ]
  },
  {
   "cell_type": "code",
   "execution_count": 23,
   "metadata": {},
   "outputs": [],
   "source": [
    "experiments = os.listdir(f'configurations/data/{hypothesis}')\n",
    "experiments = [e.split('.json')[0] for e in experiments]"
   ]
  },
  {
   "cell_type": "code",
   "execution_count": 24,
   "metadata": {},
   "outputs": [
    {
     "data": {
      "text/plain": [
       "['optimizer_batchsize_lr_gridsearch/batch_128-optimizer_adamw-lr_0.01',\n",
       " 'optimizer_batchsize_lr_gridsearch/batch_128-optimizer_adamw-lr_0.001',\n",
       " 'optimizer_batchsize_lr_gridsearch/batch_128-optimizer_adam-lr_0.0001',\n",
       " 'optimizer_batchsize_lr_gridsearch/batch_128-optimizer_adamw-lr_0.0001',\n",
       " 'optimizer_batchsize_lr_gridsearch/batch_256-optimizer_adamw-lr_0.01',\n",
       " 'optimizer_batchsize_lr_gridsearch/batch_256-optimizer_adamw-lr_0.001',\n",
       " 'optimizer_batchsize_lr_gridsearch/batch_256-optimizer_adamw-lr_0.0001',\n",
       " 'optimizer_batchsize_lr_gridsearch/batch_512-optimizer_adamw-lr_0.01',\n",
       " 'optimizer_batchsize_lr_gridsearch/batch_512-optimizer_adamw-lr_0.001',\n",
       " 'optimizer_batchsize_lr_gridsearch/batch_512-optimizer_adamw-lr_0.0001',\n",
       " 'optimizer_batchsize_lr_gridsearch/batch_1024-optimizer_sgd-lr_0.01',\n",
       " 'optimizer_batchsize_lr_gridsearch/batch_1024-optimizer_adamw-lr_0.01',\n",
       " 'optimizer_batchsize_lr_gridsearch/batch_1024-optimizer_adamw-lr_0.001',\n",
       " 'optimizer_batchsize_lr_gridsearch/batch_1024-optimizer_adam-lr_0.0001',\n",
       " 'optimizer_batchsize_lr_gridsearch/batch_1024-optimizer_adamw-lr_0.0001']"
      ]
     },
     "execution_count": 24,
     "metadata": {},
     "output_type": "execute_result"
    }
   ],
   "source": [
    "run_paths = []\n",
    "for experiment in experiments:\n",
    "    experiment_runs = os.listdir(f'results/patch_to_score/hypotheses/{hypothesis}/{experiment}')\n",
    "    try:\n",
    "        experiment_runs = sorted(experiment_runs, key=lambda x: datetime.strptime(x.split('_')[0], '%Y-%m-%d'), reverse=True)\n",
    "    except Exception as e:\n",
    "        print(e)\n",
    "    updated_experiment_run = experiment_runs[0]\n",
    "    run_path = f'{hypothesis}/{experiment}/{updated_experiment_run}'\n",
    "    if 'fold_4' not in os.listdir(f'results/patch_to_score/hypotheses/{run_path}'):\n",
    "        path = os.path.join(*run_path.split('/')[:-1])\n",
    "        run_paths.append(path)\n",
    "run_paths"
   ]
  },
  {
   "cell_type": "code",
   "execution_count": 25,
   "metadata": {},
   "outputs": [
    {
     "data": {
      "text/plain": [
       "15"
      ]
     },
     "execution_count": 25,
     "metadata": {},
     "output_type": "execute_result"
    }
   ],
   "source": [
    "len(run_paths)"
   ]
  },
  {
   "cell_type": "code",
   "execution_count": 26,
   "metadata": {},
   "outputs": [
    {
     "name": "stdout",
     "output_type": "stream",
     "text": [
      "/bin/tcsh: /home/iscb/wolfson/doririmon/anaconda3/envs/ubinet-gpu/lib/libtinfo.so.6: no version information available (required by /bin/tcsh)\n",
      "bash: /home/iscb/wolfson/doririmon/anaconda3/envs/ubinet-gpu/lib/libtinfo.so.6: no version information available (required by bash)\n",
      "Submitted batch job 452633\n",
      "/bin/tcsh: /home/iscb/wolfson/doririmon/anaconda3/envs/ubinet-gpu/lib/libtinfo.so.6: no version information available (required by /bin/tcsh)\n",
      "bash: /home/iscb/wolfson/doririmon/anaconda3/envs/ubinet-gpu/lib/libtinfo.so.6: no version information available (required by bash)\n",
      "Submitted batch job 452634\n",
      "/bin/tcsh: /home/iscb/wolfson/doririmon/anaconda3/envs/ubinet-gpu/lib/libtinfo.so.6: no version information available (required by /bin/tcsh)\n",
      "bash: /home/iscb/wolfson/doririmon/anaconda3/envs/ubinet-gpu/lib/libtinfo.so.6: no version information available (required by bash)\n",
      "Submitted batch job 452635\n",
      "/bin/tcsh: /home/iscb/wolfson/doririmon/anaconda3/envs/ubinet-gpu/lib/libtinfo.so.6: no version information available (required by /bin/tcsh)\n",
      "bash: /home/iscb/wolfson/doririmon/anaconda3/envs/ubinet-gpu/lib/libtinfo.so.6: no version information available (required by bash)\n",
      "Submitted batch job 452636\n",
      "/bin/tcsh: /home/iscb/wolfson/doririmon/anaconda3/envs/ubinet-gpu/lib/libtinfo.so.6: no version information available (required by /bin/tcsh)\n",
      "bash: /home/iscb/wolfson/doririmon/anaconda3/envs/ubinet-gpu/lib/libtinfo.so.6: no version information available (required by bash)\n",
      "Submitted batch job 452637\n",
      "/bin/tcsh: /home/iscb/wolfson/doririmon/anaconda3/envs/ubinet-gpu/lib/libtinfo.so.6: no version information available (required by /bin/tcsh)\n",
      "bash: /home/iscb/wolfson/doririmon/anaconda3/envs/ubinet-gpu/lib/libtinfo.so.6: no version information available (required by bash)\n",
      "Submitted batch job 452638\n",
      "/bin/tcsh: /home/iscb/wolfson/doririmon/anaconda3/envs/ubinet-gpu/lib/libtinfo.so.6: no version information available (required by /bin/tcsh)\n",
      "bash: /home/iscb/wolfson/doririmon/anaconda3/envs/ubinet-gpu/lib/libtinfo.so.6: no version information available (required by bash)\n",
      "Submitted batch job 452639\n",
      "/bin/tcsh: /home/iscb/wolfson/doririmon/anaconda3/envs/ubinet-gpu/lib/libtinfo.so.6: no version information available (required by /bin/tcsh)\n",
      "bash: /home/iscb/wolfson/doririmon/anaconda3/envs/ubinet-gpu/lib/libtinfo.so.6: no version information available (required by bash)\n",
      "Submitted batch job 452640\n",
      "/bin/tcsh: /home/iscb/wolfson/doririmon/anaconda3/envs/ubinet-gpu/lib/libtinfo.so.6: no version information available (required by /bin/tcsh)\n",
      "bash: /home/iscb/wolfson/doririmon/anaconda3/envs/ubinet-gpu/lib/libtinfo.so.6: no version information available (required by bash)\n",
      "Submitted batch job 452641\n",
      "/bin/tcsh: /home/iscb/wolfson/doririmon/anaconda3/envs/ubinet-gpu/lib/libtinfo.so.6: no version information available (required by /bin/tcsh)\n",
      "bash: /home/iscb/wolfson/doririmon/anaconda3/envs/ubinet-gpu/lib/libtinfo.so.6: no version information available (required by bash)\n",
      "Submitted batch job 452642\n",
      "/bin/tcsh: /home/iscb/wolfson/doririmon/anaconda3/envs/ubinet-gpu/lib/libtinfo.so.6: no version information available (required by /bin/tcsh)\n",
      "bash: /home/iscb/wolfson/doririmon/anaconda3/envs/ubinet-gpu/lib/libtinfo.so.6: no version information available (required by bash)\n",
      "Submitted batch job 452643\n",
      "/bin/tcsh: /home/iscb/wolfson/doririmon/anaconda3/envs/ubinet-gpu/lib/libtinfo.so.6: no version information available (required by /bin/tcsh)\n",
      "bash: /home/iscb/wolfson/doririmon/anaconda3/envs/ubinet-gpu/lib/libtinfo.so.6: no version information available (required by bash)\n",
      "Submitted batch job 452644\n",
      "/bin/tcsh: /home/iscb/wolfson/doririmon/anaconda3/envs/ubinet-gpu/lib/libtinfo.so.6: no version information available (required by /bin/tcsh)\n",
      "bash: /home/iscb/wolfson/doririmon/anaconda3/envs/ubinet-gpu/lib/libtinfo.so.6: no version information available (required by bash)\n",
      "Submitted batch job 452645\n",
      "/bin/tcsh: /home/iscb/wolfson/doririmon/anaconda3/envs/ubinet-gpu/lib/libtinfo.so.6: no version information available (required by /bin/tcsh)\n",
      "bash: /home/iscb/wolfson/doririmon/anaconda3/envs/ubinet-gpu/lib/libtinfo.so.6: no version information available (required by bash)\n",
      "Submitted batch job 452646\n",
      "/bin/tcsh: /home/iscb/wolfson/doririmon/anaconda3/envs/ubinet-gpu/lib/libtinfo.so.6: no version information available (required by /bin/tcsh)\n",
      "bash: /home/iscb/wolfson/doririmon/anaconda3/envs/ubinet-gpu/lib/libtinfo.so.6: no version information available (required by bash)\n",
      "Submitted batch job 452647\n"
     ]
    }
   ],
   "source": [
    "for path in run_paths:\n",
    "    !bash scripts/train/submit_job_patch_to_score_experiment.sh configurations/data/{path}.json"
   ]
  },
  {
   "cell_type": "code",
   "execution_count": null,
   "metadata": {},
   "outputs": [],
   "source": []
  }
 ],
 "metadata": {
  "kernelspec": {
   "display_name": "ubinet-gpu",
   "language": "python",
   "name": "python3"
  },
  "language_info": {
   "codemirror_mode": {
    "name": "ipython",
    "version": 3
   },
   "file_extension": ".py",
   "mimetype": "text/x-python",
   "name": "python",
   "nbconvert_exporter": "python",
   "pygments_lexer": "ipython3",
   "version": "3.10.13"
  }
 },
 "nbformat": 4,
 "nbformat_minor": 2
}
