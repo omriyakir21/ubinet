{
 "cells": [
  {
   "cell_type": "code",
   "execution_count": 1,
   "id": "59feef62",
   "metadata": {},
   "outputs": [],
   "source": [
    "import sys\n",
    "sys.path.append('/home/iscb/wolfson/doririmon/home/order/ubinet/repo/ubinet')"
   ]
  },
  {
   "cell_type": "code",
   "execution_count": 2,
   "id": "a5ffece4",
   "metadata": {},
   "outputs": [
    {
     "name": "stderr",
     "output_type": "stream",
     "text": [
      "/home/iscb/wolfson/doririmon/anaconda3/envs/ubinet-gpu/lib/python3.10/site-packages/Bio/pairwise2.py:278: BiopythonDeprecationWarning: Bio.pairwise2 has been deprecated, and we intend to remove it in a future release of Biopython. As an alternative, please consider using Bio.Align.PairwiseAligner as a replacement, and contact the Biopython developers if you still need the Bio.pairwise2 module.\n",
      "  warnings.warn(\n"
     ]
    }
   ],
   "source": [
    "from data_preparation.patch_to_score.v1.main import main\n",
    "from utils import load_as_pickle"
   ]
  },
  {
   "cell_type": "code",
   "execution_count": 7,
   "id": "58f3eed9",
   "metadata": {},
   "outputs": [],
   "source": [
    "all_predictions_path = '/home/iscb/wolfson/doririmon/home/order/ubinet/repo/ubinet/datasets/patch_to_score/v1_small/all_predictions.pkl'\n",
    "sources_path = '/home/iscb/wolfson/doririmon/home/order/ubinet/repo/ubinet/datasets/patch_to_score/v1_small/sources'\n",
    "save_dir_path = '/home/iscb/wolfson/doririmon/home/order/ubinet/repo/ubinet/datasets/patch_to_score/v1_small/patch_to_score_raw_protein_chains'\n",
    "# uniprot_names = ['A0A022PPD4']\n",
    "uniprot_names = ['A0A022QL98', 'A0A022RQB5', 'A0A022S055', 'A0A059D4L0', 'A0A061GXI7', 'A0A022PRA6', 'A0A022PY48', 'A0A022Q011', 'A0A022Q116', 'A0A022Q6W2', 'A0A022PTB0', 'A0A022PTD3', 'A0A022PPD4', 'A0A022PSD3', 'A0A022PUK1', 'A0A022PVG6', 'A0A022PWG3', 'A0A010QVZ3', 'A0A010RI79', 'A0A024RBG1', 'A0A075B6H5', 'A0A075B6H7', 'A0A023PYF4', 'A0A023PZB3', 'A0A023PZE8', 'A0A023PZF2', 'A0A023PZG4', 'A0A385XJ53', 'A0A385XJE6', 'A0A385XJK5', 'A0A385XJL2', 'A0A385XJL4', 'A0A0A7EPL0', 'A0A140JWM8', 'A0A178U7J2', 'A0A178U9T0', 'A0A178UFC4', 'A0A060Q5Z9', 'A0A060Q600', 'A0A060Q608', 'A0A060Q617', 'A0A061ACK7']\n",
    "with_pesto = True\n",
    "percentile_90 = load_as_pickle('/home/iscb/wolfson/doririmon/home/order/ubinet/repo/ubinet/datasets/patch_to_score/v1_small/patch_to_score_raw_protein_chains/global_values/percentile_90.pkl')\n",
    "plddt_threshold = 50\n",
    "should_override = True\n",
    "max_number_of_components = 10"
   ]
  },
  {
   "cell_type": "code",
   "execution_count": 8,
   "id": "141e6f57",
   "metadata": {},
   "outputs": [
    {
     "name": "stdout",
     "output_type": "stream",
     "text": [
      "computed 90 percentile: 0.2624534249305725\n"
     ]
    },
    {
     "name": "stderr",
     "output_type": "stream",
     "text": [
      "100%|██████████| 42/42 [00:04<00:00, 10.00it/s]\n"
     ]
    }
   ],
   "source": [
    "main(all_predictions_path, save_dir_path, sources_path, with_pesto, plddt_threshold, should_override, max_number_of_components)"
   ]
  },
  {
   "cell_type": "code",
   "execution_count": 9,
   "id": "0dbb7fde",
   "metadata": {},
   "outputs": [],
   "source": [
    "pos_chain = load_as_pickle('/home/iscb/wolfson/doririmon/home/order/ubinet/repo/ubinet/datasets/patch_to_score/v1_small/patch_to_score_raw_protein_chains/objects/GO/E3/A0A022PTB0.pkl')\n",
    "neg_chain = load_as_pickle('/home/iscb/wolfson/doririmon/home/order/ubinet/repo/ubinet/datasets/patch_to_score/v1_small/patch_to_score_raw_protein_chains/objects/AFDB/Arabidopsis/A0A0A7EPL0.pkl')"
   ]
  },
  {
   "cell_type": "code",
   "execution_count": 10,
   "id": "3dae59ba",
   "metadata": {},
   "outputs": [],
   "source": [
    "chain = pos_chain"
   ]
  },
  {
   "cell_type": "code",
   "execution_count": 11,
   "id": "3d7a2ccf",
   "metadata": {},
   "outputs": [
    {
     "data": {
      "text/plain": [
       "[(1, 1), (17, 17)]"
      ]
     },
     "execution_count": 11,
     "metadata": {},
     "output_type": "execute_result"
    }
   ],
   "source": [
    "[(len(patch.component_set), patch.size) for patch in chain.patches]"
   ]
  },
  {
   "cell_type": "code",
   "execution_count": 15,
   "id": "ad61711a",
   "metadata": {},
   "outputs": [
    {
     "data": {
      "text/plain": [
       "PatchToScoreProteinChain(uniprot_name='A0A022PTB0', source='E3', sequence='EASRSSVYLNYHHFNALYEHRCVILEEEASDYSFRMVPAEYSSIEGLKTIDYRRDMAEMSCCSVCLEDLSGGGDEGEEVLLLSMPCSHIFHGDCIKKWLRTSHYCPLCRFEMPTELDV', amino_acids=[PatchToScoreAminoAcid(residue=<Residue GLU het=  resseq=1 icode= >, plddt=36.66, scannet_protein_score=0.7740328, scannet_ubiquitin_score=0.15916838, pesto_protein_score=0.018806476, pesto_dna_rna_score=0.005610318, pesto_lipid_score=0.00020459917, pesto_ligand_score=0.0115051055, pesto_ion_score=0.015245951), PatchToScoreAminoAcid(residue=<Residue ALA het=  resseq=2 icode= >, plddt=34.97, scannet_protein_score=0.80933774, scannet_ubiquitin_score=0.20783274, pesto_protein_score=0.036066707, pesto_dna_rna_score=0.005957354, pesto_lipid_score=0.00042635147, pesto_ligand_score=0.016836276, pesto_ion_score=0.012347079), PatchToScoreAminoAcid(residue=<Residue SER het=  resseq=3 icode= >, plddt=43.09, scannet_protein_score=0.8955856, scannet_ubiquitin_score=0.400546, pesto_protein_score=0.04441646, pesto_dna_rna_score=0.0043297647, pesto_lipid_score=0.0057169823, pesto_ligand_score=0.020702254, pesto_ion_score=0.011075325), PatchToScoreAminoAcid(residue=<Residue ARG het=  resseq=4 icode= >, plddt=46.88, scannet_protein_score=0.83347934, scannet_ubiquitin_score=0.37657607, pesto_protein_score=0.050656177, pesto_dna_rna_score=0.010214052, pesto_lipid_score=0.00816155, pesto_ligand_score=0.04333919, pesto_ion_score=0.019910172), PatchToScoreAminoAcid(residue=<Residue SER het=  resseq=5 icode= >, plddt=39.12, scannet_protein_score=0.8504066, scannet_ubiquitin_score=0.39806283, pesto_protein_score=0.8872755, pesto_dna_rna_score=0.014051004, pesto_lipid_score=0.37887388, pesto_ligand_score=0.036218815, pesto_ion_score=0.043823063), PatchToScoreAminoAcid(residue=<Residue SER het=  resseq=6 icode= >, plddt=49.94, scannet_protein_score=0.90802217, scannet_ubiquitin_score=0.41358104, pesto_protein_score=0.9047142, pesto_dna_rna_score=0.08406074, pesto_lipid_score=0.16606821, pesto_ligand_score=0.068810716, pesto_ion_score=0.08922846), PatchToScoreAminoAcid(residue=<Residue VAL het=  resseq=7 icode= >, plddt=45.88, scannet_protein_score=0.8660312, scannet_ubiquitin_score=0.29180303, pesto_protein_score=0.86132413, pesto_dna_rna_score=0.016456641, pesto_lipid_score=0.16755052, pesto_ligand_score=0.06420269, pesto_ion_score=0.053690095), PatchToScoreAminoAcid(residue=<Residue TYR het=  resseq=8 icode= >, plddt=36.16, scannet_protein_score=0.896978, scannet_ubiquitin_score=0.3545059, pesto_protein_score=0.70747805, pesto_dna_rna_score=0.016834555, pesto_lipid_score=0.17942978, pesto_ligand_score=0.07846052, pesto_ion_score=0.047780838), PatchToScoreAminoAcid(residue=<Residue LEU het=  resseq=9 icode= >, plddt=39.66, scannet_protein_score=0.9003231, scannet_ubiquitin_score=0.31228954, pesto_protein_score=0.80876267, pesto_dna_rna_score=0.028549168, pesto_lipid_score=0.14770286, pesto_ligand_score=0.017307166, pesto_ion_score=0.01602708), PatchToScoreAminoAcid(residue=<Residue ASN het=  resseq=10 icode= >, plddt=44.0, scannet_protein_score=0.94475305, scannet_ubiquitin_score=0.5740489, pesto_protein_score=0.765997, pesto_dna_rna_score=0.008245377, pesto_lipid_score=0.9087645, pesto_ligand_score=0.061997067, pesto_ion_score=0.045551788), PatchToScoreAminoAcid(residue=<Residue TYR het=  resseq=11 icode= >, plddt=38.91, scannet_protein_score=0.9033854, scannet_ubiquitin_score=0.45197186, pesto_protein_score=0.83921176, pesto_dna_rna_score=0.007621939, pesto_lipid_score=0.25843707, pesto_ligand_score=0.08276243, pesto_ion_score=0.047332995), PatchToScoreAminoAcid(residue=<Residue HIS het=  resseq=12 icode= >, plddt=32.12, scannet_protein_score=0.8789768, scannet_ubiquitin_score=0.24171583, pesto_protein_score=0.4885132, pesto_dna_rna_score=0.039668284, pesto_lipid_score=0.4419714, pesto_ligand_score=0.028300904, pesto_ion_score=0.020202693), PatchToScoreAminoAcid(residue=<Residue HIS het=  resseq=13 icode= >, plddt=38.25, scannet_protein_score=0.91693854, scannet_ubiquitin_score=0.35818475, pesto_protein_score=0.677332, pesto_dna_rna_score=0.082038805, pesto_lipid_score=0.85427743, pesto_ligand_score=0.13002397, pesto_ion_score=0.10812359), PatchToScoreAminoAcid(residue=<Residue PHE het=  resseq=14 icode= >, plddt=37.62, scannet_protein_score=0.9340738, scannet_ubiquitin_score=0.6639968, pesto_protein_score=0.82146704, pesto_dna_rna_score=0.023470106, pesto_lipid_score=0.35521007, pesto_ligand_score=0.062151287, pesto_ion_score=0.044540253), PatchToScoreAminoAcid(residue=<Residue ASN het=  resseq=15 icode= >, plddt=34.88, scannet_protein_score=0.8461422, scannet_ubiquitin_score=0.24155328, pesto_protein_score=0.5934587, pesto_dna_rna_score=0.046925034, pesto_lipid_score=0.09839013, pesto_ligand_score=0.048654474, pesto_ion_score=0.05392608), PatchToScoreAminoAcid(residue=<Residue ALA het=  resseq=16 icode= >, plddt=43.88, scannet_protein_score=0.81634045, scannet_ubiquitin_score=0.17481574, pesto_protein_score=0.74590206, pesto_dna_rna_score=0.12529147, pesto_lipid_score=0.47024572, pesto_ligand_score=0.0954713, pesto_ion_score=0.10914922), PatchToScoreAminoAcid(residue=<Residue LEU het=  resseq=17 icode= >, plddt=45.97, scannet_protein_score=0.92241025, scannet_ubiquitin_score=0.5440237, pesto_protein_score=0.92856586, pesto_dna_rna_score=0.0142210815, pesto_lipid_score=0.38154647, pesto_ligand_score=0.09660875, pesto_ion_score=0.11157749), PatchToScoreAminoAcid(residue=<Residue TYR het=  resseq=18 icode= >, plddt=43.56, scannet_protein_score=0.84361535, scannet_ubiquitin_score=0.3640793, pesto_protein_score=0.5939982, pesto_dna_rna_score=0.0066046566, pesto_lipid_score=0.119586535, pesto_ligand_score=0.08103715, pesto_ion_score=0.0614531), PatchToScoreAminoAcid(residue=<Residue GLU het=  resseq=19 icode= >, plddt=42.28, scannet_protein_score=0.8350352, scannet_ubiquitin_score=0.22529778, pesto_protein_score=0.65767515, pesto_dna_rna_score=0.008006735, pesto_lipid_score=0.4526613, pesto_ligand_score=0.075679995, pesto_ion_score=0.08639808), PatchToScoreAminoAcid(residue=<Residue HIS het=  resseq=20 icode= >, plddt=46.94, scannet_protein_score=0.8446572, scannet_ubiquitin_score=0.30505055, pesto_protein_score=0.90362865, pesto_dna_rna_score=0.038248137, pesto_lipid_score=0.9392969, pesto_ligand_score=0.14184935, pesto_ion_score=0.17005682), PatchToScoreAminoAcid(residue=<Residue ARG het=  resseq=21 icode= >, plddt=46.75, scannet_protein_score=0.78063667, scannet_ubiquitin_score=0.1669738, pesto_protein_score=0.7201095, pesto_dna_rna_score=0.0037331618, pesto_lipid_score=0.12166391, pesto_ligand_score=0.092951655, pesto_ion_score=0.17127189), PatchToScoreAminoAcid(residue=<Residue CYS het=  resseq=22 icode= >, plddt=41.97, scannet_protein_score=0.8239535, scannet_ubiquitin_score=0.26965338, pesto_protein_score=0.76500726, pesto_dna_rna_score=0.15319055, pesto_lipid_score=0.8306704, pesto_ligand_score=0.15872136, pesto_ion_score=0.27108577), PatchToScoreAminoAcid(residue=<Residue VAL het=  resseq=23 icode= >, plddt=38.28, scannet_protein_score=0.6971535, scannet_ubiquitin_score=0.1325357, pesto_protein_score=0.77869326, pesto_dna_rna_score=0.015002686, pesto_lipid_score=0.8683348, pesto_ligand_score=0.053064343, pesto_ion_score=0.04698917), PatchToScoreAminoAcid(residue=<Residue ILE het=  resseq=24 icode= >, plddt=39.69, scannet_protein_score=0.757163, scannet_ubiquitin_score=0.16095966, pesto_protein_score=0.66157633, pesto_dna_rna_score=0.01717135, pesto_lipid_score=0.76674426, pesto_ligand_score=0.04647829, pesto_ion_score=0.030279044), PatchToScoreAminoAcid(residue=<Residue LEU het=  resseq=25 icode= >, plddt=41.69, scannet_protein_score=0.6506088, scannet_ubiquitin_score=0.105967835, pesto_protein_score=0.81051224, pesto_dna_rna_score=0.01620929, pesto_lipid_score=0.6249276, pesto_ligand_score=0.028817182, pesto_ion_score=0.030226998), PatchToScoreAminoAcid(residue=<Residue GLU het=  resseq=26 icode= >, plddt=60.44, scannet_protein_score=0.5435526, scannet_ubiquitin_score=0.08008221, pesto_protein_score=0.78633696, pesto_dna_rna_score=0.010852215, pesto_lipid_score=0.009664199, pesto_ligand_score=0.04281228, pesto_ion_score=0.04668536), PatchToScoreAminoAcid(residue=<Residue GLU het=  resseq=27 icode= >, plddt=58.12, scannet_protein_score=0.47426656, scannet_ubiquitin_score=0.059472866, pesto_protein_score=0.8144965, pesto_dna_rna_score=0.01886657, pesto_lipid_score=0.022383936, pesto_ligand_score=0.06767552, pesto_ion_score=0.06307817), PatchToScoreAminoAcid(residue=<Residue GLU het=  resseq=28 icode= >, plddt=50.56, scannet_protein_score=0.47259346, scannet_ubiquitin_score=0.062039435, pesto_protein_score=0.58313364, pesto_dna_rna_score=0.006822281, pesto_lipid_score=0.23848994, pesto_ligand_score=0.09410514, pesto_ion_score=0.051173754), PatchToScoreAminoAcid(residue=<Residue ALA het=  resseq=29 icode= >, plddt=47.88, scannet_protein_score=0.6405255, scannet_ubiquitin_score=0.10480219, pesto_protein_score=0.5551455, pesto_dna_rna_score=0.009842265, pesto_lipid_score=0.6660943, pesto_ligand_score=0.03898614, pesto_ion_score=0.02112315), PatchToScoreAminoAcid(residue=<Residue SER het=  resseq=30 icode= >, plddt=42.44, scannet_protein_score=0.6041151, scannet_ubiquitin_score=0.11046572, pesto_protein_score=0.24914883, pesto_dna_rna_score=0.007259069, pesto_lipid_score=0.14304869, pesto_ligand_score=0.123188406, pesto_ion_score=0.027616644), PatchToScoreAminoAcid(residue=<Residue ASP het=  resseq=31 icode= >, plddt=46.78, scannet_protein_score=0.64134175, scannet_ubiquitin_score=0.13146588, pesto_protein_score=0.5092909, pesto_dna_rna_score=0.004223392, pesto_lipid_score=0.1016629, pesto_ligand_score=0.17041141, pesto_ion_score=0.07272499), PatchToScoreAminoAcid(residue=<Residue TYR het=  resseq=32 icode= >, plddt=49.16, scannet_protein_score=0.7251887, scannet_ubiquitin_score=0.14898795, pesto_protein_score=0.6833925, pesto_dna_rna_score=0.0061615887, pesto_lipid_score=0.7871686, pesto_ligand_score=0.15071882, pesto_ion_score=0.05881565), PatchToScoreAminoAcid(residue=<Residue SER het=  resseq=33 icode= >, plddt=49.59, scannet_protein_score=0.70243007, scannet_ubiquitin_score=0.13369158, pesto_protein_score=0.8192995, pesto_dna_rna_score=0.0031114141, pesto_lipid_score=0.35902926, pesto_ligand_score=0.09575868, pesto_ion_score=0.06078588), PatchToScoreAminoAcid(residue=<Residue PHE het=  resseq=34 icode= >, plddt=52.16, scannet_protein_score=0.77193457, scannet_ubiquitin_score=0.2285235, pesto_protein_score=0.8942755, pesto_dna_rna_score=0.0023002743, pesto_lipid_score=0.038238656, pesto_ligand_score=0.22181605, pesto_ion_score=0.20117266), PatchToScoreAminoAcid(residue=<Residue ARG het=  resseq=35 icode= >, plddt=57.03, scannet_protein_score=0.69569904, scannet_ubiquitin_score=0.14851302, pesto_protein_score=0.7627756, pesto_dna_rna_score=0.0021134848, pesto_lipid_score=0.0067475713, pesto_ligand_score=0.2941782, pesto_ion_score=0.18960597), PatchToScoreAminoAcid(residue=<Residue MET het=  resseq=36 icode= >, plddt=69.69, scannet_protein_score=0.7403971, scannet_ubiquitin_score=0.26508418, pesto_protein_score=0.88881135, pesto_dna_rna_score=0.0027673496, pesto_lipid_score=0.014638081, pesto_ligand_score=0.28966987, pesto_ion_score=0.25562134), PatchToScoreAminoAcid(residue=<Residue VAL het=  resseq=37 icode= >, plddt=84.44, scannet_protein_score=0.4427175, scannet_ubiquitin_score=0.112093486, pesto_protein_score=0.4552267, pesto_dna_rna_score=0.0006471552, pesto_lipid_score=0.004430887, pesto_ligand_score=0.25086793, pesto_ion_score=0.19026627), PatchToScoreAminoAcid(residue=<Residue PRO het=  resseq=38 icode= >, plddt=88.69, scannet_protein_score=0.44395733, scannet_ubiquitin_score=0.11391176, pesto_protein_score=0.10298355, pesto_dna_rna_score=0.0006911093, pesto_lipid_score=0.0030635523, pesto_ligand_score=0.2024405, pesto_ion_score=0.12952358), PatchToScoreAminoAcid(residue=<Residue ALA het=  resseq=39 icode= >, plddt=90.69, scannet_protein_score=0.116624415, scannet_ubiquitin_score=0.03202492, pesto_protein_score=0.012881864, pesto_dna_rna_score=0.00016644092, pesto_lipid_score=0.0155482525, pesto_ligand_score=0.1471864, pesto_ion_score=0.09086719), PatchToScoreAminoAcid(residue=<Residue GLU het=  resseq=40 icode= >, plddt=92.75, scannet_protein_score=0.28461382, scannet_ubiquitin_score=0.098794244, pesto_protein_score=0.019162547, pesto_dna_rna_score=0.00035922858, pesto_lipid_score=0.0043929224, pesto_ligand_score=0.10769626, pesto_ion_score=0.07704466), PatchToScoreAminoAcid(residue=<Residue TYR het=  resseq=41 icode= >, plddt=89.31, scannet_protein_score=0.13943696, scannet_ubiquitin_score=0.036931574, pesto_protein_score=0.05162418, pesto_dna_rna_score=0.0026358638, pesto_lipid_score=0.0014578938, pesto_ligand_score=0.15650025, pesto_ion_score=0.09709876), PatchToScoreAminoAcid(residue=<Residue SER het=  resseq=42 icode= >, plddt=89.88, scannet_protein_score=0.21925798, scannet_ubiquitin_score=0.100122474, pesto_protein_score=0.06244734, pesto_dna_rna_score=0.006026446, pesto_lipid_score=0.0023011293, pesto_ligand_score=0.16187222, pesto_ion_score=0.16591957), PatchToScoreAminoAcid(residue=<Residue SER het=  resseq=43 icode= >, plddt=89.81, scannet_protein_score=0.094353095, scannet_ubiquitin_score=0.029901486, pesto_protein_score=0.023833541, pesto_dna_rna_score=0.0010971046, pesto_lipid_score=0.0035933328, pesto_ligand_score=0.1068141, pesto_ion_score=0.08427441), PatchToScoreAminoAcid(residue=<Residue ILE het=  resseq=44 icode= >, plddt=91.25, scannet_protein_score=0.035763726, scannet_ubiquitin_score=0.008035203, pesto_protein_score=0.01023859, pesto_dna_rna_score=0.00026262642, pesto_lipid_score=0.0036408044, pesto_ligand_score=0.05452279, pesto_ion_score=0.0904011), PatchToScoreAminoAcid(residue=<Residue GLU het=  resseq=45 icode= >, plddt=90.75, scannet_protein_score=0.090771824, scannet_ubiquitin_score=0.02013972, pesto_protein_score=0.07761986, pesto_dna_rna_score=0.010820081, pesto_lipid_score=0.004083157, pesto_ligand_score=0.1572544, pesto_ion_score=0.13337934), PatchToScoreAminoAcid(residue=<Residue GLY het=  resseq=46 icode= >, plddt=90.75, scannet_protein_score=0.085277334, scannet_ubiquitin_score=0.024843907, pesto_protein_score=0.1237238, pesto_dna_rna_score=0.031038662, pesto_lipid_score=0.0040125926, pesto_ligand_score=0.118761726, pesto_ion_score=0.15142119), PatchToScoreAminoAcid(residue=<Residue LEU het=  resseq=47 icode= >, plddt=91.81, scannet_protein_score=0.05408314, scannet_ubiquitin_score=0.011687869, pesto_protein_score=0.13064457, pesto_dna_rna_score=0.011506831, pesto_lipid_score=0.011761893, pesto_ligand_score=0.13801004, pesto_ion_score=0.2575988), PatchToScoreAminoAcid(residue=<Residue LYS het=  resseq=48 icode= >, plddt=91.0, scannet_protein_score=0.08569821, scannet_ubiquitin_score=0.02723451, pesto_protein_score=0.25791314, pesto_dna_rna_score=0.006353376, pesto_lipid_score=0.006103357, pesto_ligand_score=0.19645578, pesto_ion_score=0.22112423), PatchToScoreAminoAcid(residue=<Residue THR het=  resseq=49 icode= >, plddt=90.19, scannet_protein_score=0.043592628, scannet_ubiquitin_score=0.011348399, pesto_protein_score=0.20520619, pesto_dna_rna_score=0.020906176, pesto_lipid_score=0.0017514467, pesto_ligand_score=0.113759115, pesto_ion_score=0.09867579), PatchToScoreAminoAcid(residue=<Residue ILE het=  resseq=50 icode= >, plddt=85.19, scannet_protein_score=0.16093065, scannet_ubiquitin_score=0.055930477, pesto_protein_score=0.47025678, pesto_dna_rna_score=0.009242862, pesto_lipid_score=0.07887661, pesto_ligand_score=0.10299079, pesto_ion_score=0.10589297), PatchToScoreAminoAcid(residue=<Residue ASP het=  resseq=51 icode= >, plddt=75.94, scannet_protein_score=0.09449496, scannet_ubiquitin_score=0.035372697, pesto_protein_score=0.6430158, pesto_dna_rna_score=0.08132396, pesto_lipid_score=0.010566664, pesto_ligand_score=0.069896445, pesto_ion_score=0.078283235), PatchToScoreAminoAcid(residue=<Residue TYR het=  resseq=52 icode= >, plddt=67.19, scannet_protein_score=0.3042287, scannet_ubiquitin_score=0.11128138, pesto_protein_score=0.4434101, pesto_dna_rna_score=0.02947361, pesto_lipid_score=0.01597834, pesto_ligand_score=0.13325414, pesto_ion_score=0.07865187), PatchToScoreAminoAcid(residue=<Residue ARG het=  resseq=53 icode= >, plddt=64.5, scannet_protein_score=0.27867585, scannet_ubiquitin_score=0.07564392, pesto_protein_score=0.5815141, pesto_dna_rna_score=0.046212126, pesto_lipid_score=0.05183724, pesto_ligand_score=0.13536918, pesto_ion_score=0.10964788), PatchToScoreAminoAcid(residue=<Residue ARG het=  resseq=54 icode= >, plddt=56.25, scannet_protein_score=0.22160096, scannet_ubiquitin_score=0.073917724, pesto_protein_score=0.09724506, pesto_dna_rna_score=0.04728475, pesto_lipid_score=0.0011536606, pesto_ligand_score=0.095643006, pesto_ion_score=0.05892219), PatchToScoreAminoAcid(residue=<Residue ASP het=  resseq=55 icode= >, plddt=55.12, scannet_protein_score=0.29304382, scannet_ubiquitin_score=0.0970483, pesto_protein_score=0.108022496, pesto_dna_rna_score=0.019456275, pesto_lipid_score=0.0006107844, pesto_ligand_score=0.027835136, pesto_ion_score=0.021800835), PatchToScoreAminoAcid(residue=<Residue MET het=  resseq=56 icode= >, plddt=55.16, scannet_protein_score=0.70494944, scannet_ubiquitin_score=0.38057414, pesto_protein_score=0.42080897, pesto_dna_rna_score=0.048292965, pesto_lipid_score=0.015798887, pesto_ligand_score=0.073890366, pesto_ion_score=0.06834641), PatchToScoreAminoAcid(residue=<Residue ALA het=  resseq=57 icode= >, plddt=51.94, scannet_protein_score=0.24391513, scannet_ubiquitin_score=0.06841095, pesto_protein_score=0.16058534, pesto_dna_rna_score=0.0077720555, pesto_lipid_score=0.0017420067, pesto_ligand_score=0.051965095, pesto_ion_score=0.0530381), PatchToScoreAminoAcid(residue=<Residue GLU het=  resseq=58 icode= >, plddt=50.28, scannet_protein_score=0.5615015, scannet_ubiquitin_score=0.20811562, pesto_protein_score=0.52370965, pesto_dna_rna_score=0.012025822, pesto_lipid_score=0.0037177538, pesto_ligand_score=0.05558701, pesto_ion_score=0.0901873), PatchToScoreAminoAcid(residue=<Residue MET het=  resseq=59 icode= >, plddt=54.72, scannet_protein_score=0.84850186, scannet_ubiquitin_score=0.4840395, pesto_protein_score=0.8085542, pesto_dna_rna_score=0.020248247, pesto_lipid_score=0.0331651, pesto_ligand_score=0.061029285, pesto_ion_score=0.076775126), PatchToScoreAminoAcid(residue=<Residue SER het=  resseq=60 icode= >, plddt=72.12, scannet_protein_score=0.7714884, scannet_ubiquitin_score=0.3453087, pesto_protein_score=0.6022752, pesto_dna_rna_score=0.011557413, pesto_lipid_score=0.033387862, pesto_ligand_score=0.08739997, pesto_ion_score=0.05800612), PatchToScoreAminoAcid(residue=<Residue CYS het=  resseq=61 icode= >, plddt=84.19, scannet_protein_score=0.8772067, scannet_ubiquitin_score=0.48377162, pesto_protein_score=0.78489643, pesto_dna_rna_score=0.0035722738, pesto_lipid_score=0.0127272485, pesto_ligand_score=0.1401343, pesto_ion_score=0.11355166), PatchToScoreAminoAcid(residue=<Residue CYS het=  resseq=62 icode= >, plddt=86.62, scannet_protein_score=0.63511044, scannet_ubiquitin_score=0.18267164, pesto_protein_score=0.18894677, pesto_dna_rna_score=0.00097024825, pesto_lipid_score=6.695668e-05, pesto_ligand_score=0.029990556, pesto_ion_score=0.9997508), PatchToScoreAminoAcid(residue=<Residue SER het=  resseq=63 icode= >, plddt=86.38, scannet_protein_score=0.95317274, scannet_ubiquitin_score=0.8218689, pesto_protein_score=0.63449186, pesto_dna_rna_score=0.001303515, pesto_lipid_score=0.030296681, pesto_ligand_score=0.10392483, pesto_ion_score=0.08615155), PatchToScoreAminoAcid(residue=<Residue VAL het=  resseq=64 icode= >, plddt=85.0, scannet_protein_score=0.89579016, scannet_ubiquitin_score=0.5827812, pesto_protein_score=0.25390902, pesto_dna_rna_score=0.0015422021, pesto_lipid_score=9.100567e-05, pesto_ligand_score=0.04247665, pesto_ion_score=0.99962187), PatchToScoreAminoAcid(residue=<Residue CYS het=  resseq=65 icode= >, plddt=85.81, scannet_protein_score=0.81556207, scannet_ubiquitin_score=0.3871376, pesto_protein_score=0.1066875, pesto_dna_rna_score=0.00024390491, pesto_lipid_score=2.528954e-05, pesto_ligand_score=0.020995414, pesto_ion_score=0.9999784), PatchToScoreAminoAcid(residue=<Residue LEU het=  resseq=66 icode= >, plddt=85.62, scannet_protein_score=0.9246722, scannet_ubiquitin_score=0.7304515, pesto_protein_score=0.8292081, pesto_dna_rna_score=0.003733366, pesto_lipid_score=0.00023685422, pesto_ligand_score=0.14476812, pesto_ion_score=0.90849954), PatchToScoreAminoAcid(residue=<Residue GLU het=  resseq=67 icode= >, plddt=84.31, scannet_protein_score=0.6813387, scannet_ubiquitin_score=0.3398617, pesto_protein_score=0.35119137, pesto_dna_rna_score=0.0005389975, pesto_lipid_score=0.00025792795, pesto_ligand_score=0.17835744, pesto_ion_score=0.49312568), PatchToScoreAminoAcid(residue=<Residue ASP het=  resseq=68 icode= >, plddt=83.62, scannet_protein_score=0.47433123, scannet_ubiquitin_score=0.16781779, pesto_protein_score=0.63663197, pesto_dna_rna_score=0.0025719367, pesto_lipid_score=0.0016023247, pesto_ligand_score=0.22389819, pesto_ion_score=0.27319476), PatchToScoreAminoAcid(residue=<Residue LEU het=  resseq=69 icode= >, plddt=79.06, scannet_protein_score=0.24705496, scannet_ubiquitin_score=0.10594408, pesto_protein_score=0.18444188, pesto_dna_rna_score=0.00087467727, pesto_lipid_score=0.012633827, pesto_ligand_score=0.16233565, pesto_ion_score=0.09507278), PatchToScoreAminoAcid(residue=<Residue SER het=  resseq=70 icode= >, plddt=72.81, scannet_protein_score=0.24468474, scannet_ubiquitin_score=0.07304995, pesto_protein_score=0.045950163, pesto_dna_rna_score=0.0059361686, pesto_lipid_score=0.0030521876, pesto_ligand_score=0.18161322, pesto_ion_score=0.0882663), PatchToScoreAminoAcid(residue=<Residue GLY het=  resseq=71 icode= >, plddt=60.97, scannet_protein_score=0.18262571, scannet_ubiquitin_score=0.09387549, pesto_protein_score=0.04270082, pesto_dna_rna_score=0.00074336876, pesto_lipid_score=0.0018831466, pesto_ligand_score=0.1603907, pesto_ion_score=0.09136566), PatchToScoreAminoAcid(residue=<Residue GLY het=  resseq=72 icode= >, plddt=54.09, scannet_protein_score=0.32493243, scannet_ubiquitin_score=0.12836844, pesto_protein_score=0.013402581, pesto_dna_rna_score=0.00014804654, pesto_lipid_score=0.01462475, pesto_ligand_score=0.189347, pesto_ion_score=0.46704632), PatchToScoreAminoAcid(residue=<Residue GLY het=  resseq=73 icode= >, plddt=53.62, scannet_protein_score=0.17389897, scannet_ubiquitin_score=0.0744339, pesto_protein_score=0.016862115, pesto_dna_rna_score=0.0008126857, pesto_lipid_score=0.0043479353, pesto_ligand_score=0.19476655, pesto_ion_score=0.13263577), PatchToScoreAminoAcid(residue=<Residue ASP het=  resseq=74 icode= >, plddt=49.81, scannet_protein_score=0.25050724, scannet_ubiquitin_score=0.16398656, pesto_protein_score=0.020848395, pesto_dna_rna_score=0.0008695145, pesto_lipid_score=0.00048499677, pesto_ligand_score=0.081270024, pesto_ion_score=0.12588033), PatchToScoreAminoAcid(residue=<Residue GLU het=  resseq=75 icode= >, plddt=47.0, scannet_protein_score=0.18188177, scannet_ubiquitin_score=0.08875634, pesto_protein_score=0.020433566, pesto_dna_rna_score=0.0051084263, pesto_lipid_score=4.010628e-05, pesto_ligand_score=0.031684242, pesto_ion_score=0.053116646), PatchToScoreAminoAcid(residue=<Residue GLY het=  resseq=76 icode= >, plddt=52.78, scannet_protein_score=0.07179024, scannet_ubiquitin_score=0.03763149, pesto_protein_score=0.019235667, pesto_dna_rna_score=0.001937588, pesto_lipid_score=9.066075e-05, pesto_ligand_score=0.05634243, pesto_ion_score=0.030898858), PatchToScoreAminoAcid(residue=<Residue GLU het=  resseq=77 icode= >, plddt=57.69, scannet_protein_score=0.11523085, scannet_ubiquitin_score=0.08686293, pesto_protein_score=0.009945584, pesto_dna_rna_score=0.0011257784, pesto_lipid_score=0.00738121, pesto_ligand_score=0.1665503, pesto_ion_score=0.18850082), PatchToScoreAminoAcid(residue=<Residue GLU het=  resseq=78 icode= >, plddt=63.31, scannet_protein_score=0.08821965, scannet_ubiquitin_score=0.041090485, pesto_protein_score=0.037630387, pesto_dna_rna_score=0.01245906, pesto_lipid_score=0.0006974549, pesto_ligand_score=0.12704352, pesto_ion_score=0.13027222), PatchToScoreAminoAcid(residue=<Residue VAL het=  resseq=79 icode= >, plddt=77.0, scannet_protein_score=0.09088501, scannet_ubiquitin_score=0.042439494, pesto_protein_score=0.015366921, pesto_dna_rna_score=0.0032988784, pesto_lipid_score=0.0025400647, pesto_ligand_score=0.30699354, pesto_ion_score=0.108077645), PatchToScoreAminoAcid(residue=<Residue LEU het=  resseq=80 icode= >, plddt=86.44, scannet_protein_score=0.025217447, scannet_ubiquitin_score=0.008832029, pesto_protein_score=0.024302598, pesto_dna_rna_score=0.002976095, pesto_lipid_score=0.0051562097, pesto_ligand_score=0.18014233, pesto_ion_score=0.1579887), PatchToScoreAminoAcid(residue=<Residue LEU het=  resseq=81 icode= >, plddt=89.12, scannet_protein_score=0.010503202, scannet_ubiquitin_score=0.0050461637, pesto_protein_score=0.121364646, pesto_dna_rna_score=0.0025366587, pesto_lipid_score=0.005321314, pesto_ligand_score=0.06174424, pesto_ion_score=0.04314322), PatchToScoreAminoAcid(residue=<Residue LEU het=  resseq=82 icode= >, plddt=90.75, scannet_protein_score=0.003141544, scannet_ubiquitin_score=0.0006237751, pesto_protein_score=0.006851785, pesto_dna_rna_score=0.0010169006, pesto_lipid_score=0.0048133577, pesto_ligand_score=0.082832925, pesto_ion_score=0.083785914), PatchToScoreAminoAcid(residue=<Residue SER het=  resseq=83 icode= >, plddt=91.06, scannet_protein_score=0.08055312, scannet_ubiquitin_score=0.012143821, pesto_protein_score=0.28434733, pesto_dna_rna_score=0.00070192054, pesto_lipid_score=0.0077454303, pesto_ligand_score=0.09185498, pesto_ion_score=0.16753396), PatchToScoreAminoAcid(residue=<Residue MET het=  resseq=84 icode= >, plddt=91.44, scannet_protein_score=0.12127362, scannet_ubiquitin_score=0.03116256, pesto_protein_score=0.05314867, pesto_dna_rna_score=0.0006078274, pesto_lipid_score=0.0003423494, pesto_ligand_score=0.065115705, pesto_ion_score=0.99672914), PatchToScoreAminoAcid(residue=<Residue PRO het=  resseq=85 icode= >, plddt=91.12, scannet_protein_score=0.26879823, scannet_ubiquitin_score=0.084989585, pesto_protein_score=0.11245644, pesto_dna_rna_score=0.0021950637, pesto_lipid_score=0.024014004, pesto_ligand_score=0.15261647, pesto_ion_score=0.2525632), PatchToScoreAminoAcid(residue=<Residue CYS het=  resseq=86 icode= >, plddt=90.88, scannet_protein_score=0.58224475, scannet_ubiquitin_score=0.18769595, pesto_protein_score=0.5135092, pesto_dna_rna_score=0.00058024103, pesto_lipid_score=0.00011934647, pesto_ligand_score=0.055070337, pesto_ion_score=0.9999682), PatchToScoreAminoAcid(residue=<Residue SER het=  resseq=87 icode= >, plddt=88.19, scannet_protein_score=0.5266443, scannet_ubiquitin_score=0.29424578, pesto_protein_score=0.6998758, pesto_dna_rna_score=0.005829688, pesto_lipid_score=0.07088623, pesto_ligand_score=0.1685585, pesto_ion_score=0.5630002), PatchToScoreAminoAcid(residue=<Residue HIS het=  resseq=88 icode= >, plddt=90.19, scannet_protein_score=0.8235818, scannet_ubiquitin_score=0.54727805, pesto_protein_score=0.73160726, pesto_dna_rna_score=0.0038262338, pesto_lipid_score=0.0001531277, pesto_ligand_score=0.0952464, pesto_ion_score=0.9998636), PatchToScoreAminoAcid(residue=<Residue ILE het=  resseq=89 icode= >, plddt=89.44, scannet_protein_score=0.71293706, scannet_ubiquitin_score=0.3929397, pesto_protein_score=0.49080217, pesto_dna_rna_score=0.0014229789, pesto_lipid_score=0.09867572, pesto_ligand_score=0.15519138, pesto_ion_score=0.18362927), PatchToScoreAminoAcid(residue=<Residue PHE het=  resseq=90 icode= >, plddt=89.44, scannet_protein_score=0.43998635, scannet_ubiquitin_score=0.16155091, pesto_protein_score=0.008308907, pesto_dna_rna_score=0.00023880429, pesto_lipid_score=0.006589834, pesto_ligand_score=0.05296832, pesto_ion_score=0.9274704), PatchToScoreAminoAcid(residue=<Residue HIS het=  resseq=91 icode= >, plddt=90.38, scannet_protein_score=0.3712204, scannet_ubiquitin_score=0.16899386, pesto_protein_score=0.0063945525, pesto_dna_rna_score=8.950881e-05, pesto_lipid_score=1.4208494e-05, pesto_ligand_score=0.13633703, pesto_ion_score=0.99976903), PatchToScoreAminoAcid(residue=<Residue GLY het=  resseq=92 icode= >, plddt=90.5, scannet_protein_score=0.028116228, scannet_ubiquitin_score=0.0070925644, pesto_protein_score=0.00220071, pesto_dna_rna_score=0.0010669668, pesto_lipid_score=0.0039047566, pesto_ligand_score=0.17594866, pesto_ion_score=0.17237642), PatchToScoreAminoAcid(residue=<Residue ASP het=  resseq=93 icode= >, plddt=90.25, scannet_protein_score=0.15122215, scannet_ubiquitin_score=0.04640677, pesto_protein_score=0.017706443, pesto_dna_rna_score=0.0037914305, pesto_lipid_score=0.030306337, pesto_ligand_score=0.2782085, pesto_ion_score=0.18936147), PatchToScoreAminoAcid(residue=<Residue CYS het=  resseq=94 icode= >, plddt=90.56, scannet_protein_score=0.6211054, scannet_ubiquitin_score=0.1935989, pesto_protein_score=0.046711262, pesto_dna_rna_score=0.00023099713, pesto_lipid_score=0.00037733617, pesto_ligand_score=0.11711822, pesto_ion_score=0.9996706), PatchToScoreAminoAcid(residue=<Residue ILE het=  resseq=95 icode= >, plddt=91.94, scannet_protein_score=0.036551602, scannet_ubiquitin_score=0.0066078445, pesto_protein_score=0.0003237734, pesto_dna_rna_score=3.0332303e-05, pesto_lipid_score=0.009203228, pesto_ligand_score=0.03505924, pesto_ion_score=0.080897115), PatchToScoreAminoAcid(residue=<Residue LYS het=  resseq=96 icode= >, plddt=92.25, scannet_protein_score=0.06304703, scannet_ubiquitin_score=0.009468666, pesto_protein_score=0.02174617, pesto_dna_rna_score=0.0023489369, pesto_lipid_score=0.004459886, pesto_ligand_score=0.118769795, pesto_ion_score=0.15946378), PatchToScoreAminoAcid(residue=<Residue LYS het=  resseq=97 icode= >, plddt=90.62, scannet_protein_score=0.6299611, scannet_ubiquitin_score=0.23578498, pesto_protein_score=0.19681293, pesto_dna_rna_score=0.0008427423, pesto_lipid_score=0.0008374964, pesto_ligand_score=0.16848616, pesto_ion_score=0.113698326), PatchToScoreAminoAcid(residue=<Residue TRP het=  resseq=98 icode= >, plddt=90.75, scannet_protein_score=0.8901209, scannet_ubiquitin_score=0.52978647, pesto_protein_score=0.47986278, pesto_dna_rna_score=0.0021485107, pesto_lipid_score=0.046991188, pesto_ligand_score=0.44481897, pesto_ion_score=0.18834126), PatchToScoreAminoAcid(residue=<Residue LEU het=  resseq=99 icode= >, plddt=91.06, scannet_protein_score=0.040386308, scannet_ubiquitin_score=0.007985363, pesto_protein_score=0.0079240445, pesto_dna_rna_score=4.3100114e-05, pesto_lipid_score=0.019639976, pesto_ligand_score=0.045789544, pesto_ion_score=0.043188516), PatchToScoreAminoAcid(residue=<Residue ARG het=  resseq=100 icode= >, plddt=90.19, scannet_protein_score=0.19725943, scannet_ubiquitin_score=0.036043145, pesto_protein_score=0.10783164, pesto_dna_rna_score=0.0016421566, pesto_lipid_score=0.0029072696, pesto_ligand_score=0.25075057, pesto_ion_score=0.158839), PatchToScoreAminoAcid(residue=<Residue THR het=  resseq=101 icode= >, plddt=87.25, scannet_protein_score=0.58331317, scannet_ubiquitin_score=0.17104237, pesto_protein_score=0.6702152, pesto_dna_rna_score=0.00087344804, pesto_lipid_score=0.0052243415, pesto_ligand_score=0.19123536, pesto_ion_score=0.14042027), PatchToScoreAminoAcid(residue=<Residue SER het=  resseq=102 icode= >, plddt=87.75, scannet_protein_score=0.49749815, scannet_ubiquitin_score=0.10987003, pesto_protein_score=0.5299543, pesto_dna_rna_score=0.0030761317, pesto_lipid_score=0.012528209, pesto_ligand_score=0.23299126, pesto_ion_score=0.15925078), PatchToScoreAminoAcid(residue=<Residue HIS het=  resseq=103 icode= >, plddt=90.44, scannet_protein_score=0.24183145, scannet_ubiquitin_score=0.057751082, pesto_protein_score=0.28337812, pesto_dna_rna_score=0.0011675595, pesto_lipid_score=0.013336863, pesto_ligand_score=0.28202772, pesto_ion_score=0.17517123), PatchToScoreAminoAcid(residue=<Residue TYR het=  resseq=104 icode= >, plddt=90.62, scannet_protein_score=0.6505915, scannet_ubiquitin_score=0.23699431, pesto_protein_score=0.6219206, pesto_dna_rna_score=0.011207384, pesto_lipid_score=0.12222274, pesto_ligand_score=0.3771512, pesto_ion_score=0.25157213), PatchToScoreAminoAcid(residue=<Residue CYS het=  resseq=105 icode= >, plddt=89.94, scannet_protein_score=0.41176918, scannet_ubiquitin_score=0.120363675, pesto_protein_score=0.6764024, pesto_dna_rna_score=0.004638963, pesto_lipid_score=9.3857976e-05, pesto_ligand_score=0.0668015, pesto_ion_score=0.999864), PatchToScoreAminoAcid(residue=<Residue PRO het=  resseq=106 icode= >, plddt=88.0, scannet_protein_score=0.91959053, scannet_ubiquitin_score=0.7041882, pesto_protein_score=0.51647997, pesto_dna_rna_score=0.001713302, pesto_lipid_score=0.05982819, pesto_ligand_score=0.19382705, pesto_ion_score=0.25276667), PatchToScoreAminoAcid(residue=<Residue LEU het=  resseq=107 icode= >, plddt=85.56, scannet_protein_score=0.94726646, scannet_ubiquitin_score=0.8128934, pesto_protein_score=0.880496, pesto_dna_rna_score=0.00875135, pesto_lipid_score=7.753567e-05, pesto_ligand_score=0.100041226, pesto_ion_score=0.99902546), PatchToScoreAminoAcid(residue=<Residue CYS het=  resseq=108 icode= >, plddt=86.88, scannet_protein_score=0.832913, scannet_ubiquitin_score=0.5391747, pesto_protein_score=0.89456606, pesto_dna_rna_score=0.0016619705, pesto_lipid_score=5.1926014e-05, pesto_ligand_score=0.07475893, pesto_ion_score=0.99988246), PatchToScoreAminoAcid(residue=<Residue ARG het=  resseq=109 icode= >, plddt=88.88, scannet_protein_score=0.8290611, scannet_ubiquitin_score=0.53993475, pesto_protein_score=0.89058006, pesto_dna_rna_score=0.029418567, pesto_lipid_score=0.0133494185, pesto_ligand_score=0.36258295, pesto_ion_score=0.9694214), PatchToScoreAminoAcid(residue=<Residue PHE het=  resseq=110 icode= >, plddt=88.19, scannet_protein_score=0.46314806, scannet_ubiquitin_score=0.17483278, pesto_protein_score=0.10525687, pesto_dna_rna_score=0.0014831843, pesto_lipid_score=0.00041528547, pesto_ligand_score=0.08569362, pesto_ion_score=0.99840206), PatchToScoreAminoAcid(residue=<Residue GLU het=  resseq=111 icode= >, plddt=90.12, scannet_protein_score=0.42325914, scannet_ubiquitin_score=0.1349155, pesto_protein_score=0.30231565, pesto_dna_rna_score=0.0009817362, pesto_lipid_score=0.004777693, pesto_ligand_score=0.28496695, pesto_ion_score=0.30016783), PatchToScoreAminoAcid(residue=<Residue MET het=  resseq=112 icode= >, plddt=90.56, scannet_protein_score=0.22476935, scannet_ubiquitin_score=0.0626584, pesto_protein_score=0.079666704, pesto_dna_rna_score=0.00065790565, pesto_lipid_score=0.003359663, pesto_ligand_score=0.18032882, pesto_ion_score=0.10460197), PatchToScoreAminoAcid(residue=<Residue PRO het=  resseq=113 icode= >, plddt=89.62, scannet_protein_score=0.21493988, scannet_ubiquitin_score=0.063501485, pesto_protein_score=0.053310648, pesto_dna_rna_score=0.00059960986, pesto_lipid_score=0.0030429547, pesto_ligand_score=0.15027063, pesto_ion_score=0.11261139), PatchToScoreAminoAcid(residue=<Residue THR het=  resseq=114 icode= >, plddt=88.0, scannet_protein_score=0.2536012, scannet_ubiquitin_score=0.07951148, pesto_protein_score=0.119721256, pesto_dna_rna_score=0.00043042595, pesto_lipid_score=0.0016139662, pesto_ligand_score=0.13271566, pesto_ion_score=0.14179564), PatchToScoreAminoAcid(residue=<Residue GLU het=  resseq=115 icode= >, plddt=76.19, scannet_protein_score=0.23945571, scannet_ubiquitin_score=0.08100985, pesto_protein_score=0.051617224, pesto_dna_rna_score=0.00081563403, pesto_lipid_score=0.00065805245, pesto_ligand_score=0.11566114, pesto_ion_score=0.10542559), PatchToScoreAminoAcid(residue=<Residue LEU het=  resseq=116 icode= >, plddt=69.38, scannet_protein_score=0.49359903, scannet_ubiquitin_score=0.13658161, pesto_protein_score=0.20361577, pesto_dna_rna_score=0.006721015, pesto_lipid_score=0.0035441972, pesto_ligand_score=0.1292102, pesto_ion_score=0.101638794), PatchToScoreAminoAcid(residue=<Residue ASP het=  resseq=117 icode= >, plddt=61.44, scannet_protein_score=0.30237818, scannet_ubiquitin_score=0.11897838, pesto_protein_score=0.15596467, pesto_dna_rna_score=0.0011575426, pesto_lipid_score=0.0005513776, pesto_ligand_score=0.1364604, pesto_ion_score=0.21776447), PatchToScoreAminoAcid(residue=<Residue VAL het=  resseq=118 icode= >, plddt=51.09, scannet_protein_score=0.31712252, scannet_ubiquitin_score=0.12336828, pesto_protein_score=0.047558025, pesto_dna_rna_score=0.00060797454, pesto_lipid_score=0.00044998518, pesto_ligand_score=0.0974751, pesto_ion_score=0.13882655)], label=True, graph=<networkx.classes.graph.Graph object at 0x72cc5b350250>, patches=[PatchToScorePatch(amino_acids=[PatchToScoreAminoAcid(residue=<Residue MET het=  resseq=36 icode= >, plddt=69.69, scannet_protein_score=0.7403971, scannet_ubiquitin_score=0.26508418, pesto_protein_score=0.88881135, pesto_dna_rna_score=0.0027673496, pesto_lipid_score=0.014638081, pesto_ligand_score=0.28966987, pesto_ion_score=0.25562134)], component_set={35}), PatchToScorePatch(amino_acids=[PatchToScoreAminoAcid(residue=<Residue CYS het=  resseq=65 icode= >, plddt=85.81, scannet_protein_score=0.81556207, scannet_ubiquitin_score=0.3871376, pesto_protein_score=0.1066875, pesto_dna_rna_score=0.00024390491, pesto_lipid_score=2.528954e-05, pesto_ligand_score=0.020995414, pesto_ion_score=0.9999784), PatchToScoreAminoAcid(residue=<Residue LEU het=  resseq=66 icode= >, plddt=85.62, scannet_protein_score=0.9246722, scannet_ubiquitin_score=0.7304515, pesto_protein_score=0.8292081, pesto_dna_rna_score=0.003733366, pesto_lipid_score=0.00023685422, pesto_ligand_score=0.14476812, pesto_ion_score=0.90849954), PatchToScoreAminoAcid(residue=<Residue GLU het=  resseq=67 icode= >, plddt=84.31, scannet_protein_score=0.6813387, scannet_ubiquitin_score=0.3398617, pesto_protein_score=0.35119137, pesto_dna_rna_score=0.0005389975, pesto_lipid_score=0.00025792795, pesto_ligand_score=0.17835744, pesto_ion_score=0.49312568), PatchToScoreAminoAcid(residue=<Residue TRP het=  resseq=98 icode= >, plddt=90.75, scannet_protein_score=0.8901209, scannet_ubiquitin_score=0.52978647, pesto_protein_score=0.47986278, pesto_dna_rna_score=0.0021485107, pesto_lipid_score=0.046991188, pesto_ligand_score=0.44481897, pesto_ion_score=0.18834126), PatchToScoreAminoAcid(residue=<Residue PRO het=  resseq=106 icode= >, plddt=88.0, scannet_protein_score=0.91959053, scannet_ubiquitin_score=0.7041882, pesto_protein_score=0.51647997, pesto_dna_rna_score=0.001713302, pesto_lipid_score=0.05982819, pesto_ligand_score=0.19382705, pesto_ion_score=0.25276667), PatchToScoreAminoAcid(residue=<Residue LEU het=  resseq=107 icode= >, plddt=85.56, scannet_protein_score=0.94726646, scannet_ubiquitin_score=0.8128934, pesto_protein_score=0.880496, pesto_dna_rna_score=0.00875135, pesto_lipid_score=7.753567e-05, pesto_ligand_score=0.100041226, pesto_ion_score=0.99902546), PatchToScoreAminoAcid(residue=<Residue CYS het=  resseq=108 icode= >, plddt=86.88, scannet_protein_score=0.832913, scannet_ubiquitin_score=0.5391747, pesto_protein_score=0.89456606, pesto_dna_rna_score=0.0016619705, pesto_lipid_score=5.1926014e-05, pesto_ligand_score=0.07475893, pesto_ion_score=0.99988246), PatchToScoreAminoAcid(residue=<Residue ARG het=  resseq=109 icode= >, plddt=88.88, scannet_protein_score=0.8290611, scannet_ubiquitin_score=0.53993475, pesto_protein_score=0.89058006, pesto_dna_rna_score=0.029418567, pesto_lipid_score=0.0133494185, pesto_ligand_score=0.36258295, pesto_ion_score=0.9694214), PatchToScoreAminoAcid(residue=<Residue HIS het=  resseq=88 icode= >, plddt=90.19, scannet_protein_score=0.8235818, scannet_ubiquitin_score=0.54727805, pesto_protein_score=0.73160726, pesto_dna_rna_score=0.0038262338, pesto_lipid_score=0.0001531277, pesto_ligand_score=0.0952464, pesto_ion_score=0.9998636), PatchToScoreAminoAcid(residue=<Residue MET het=  resseq=56 icode= >, plddt=55.16, scannet_protein_score=0.70494944, scannet_ubiquitin_score=0.38057414, pesto_protein_score=0.42080897, pesto_dna_rna_score=0.048292965, pesto_lipid_score=0.015798887, pesto_ligand_score=0.073890366, pesto_ion_score=0.06834641), PatchToScoreAminoAcid(residue=<Residue ILE het=  resseq=89 icode= >, plddt=89.44, scannet_protein_score=0.71293706, scannet_ubiquitin_score=0.3929397, pesto_protein_score=0.49080217, pesto_dna_rna_score=0.0014229789, pesto_lipid_score=0.09867572, pesto_ligand_score=0.15519138, pesto_ion_score=0.18362927), PatchToScoreAminoAcid(residue=<Residue SER het=  resseq=87 icode= >, plddt=88.19, scannet_protein_score=0.5266443, scannet_ubiquitin_score=0.29424578, pesto_protein_score=0.6998758, pesto_dna_rna_score=0.005829688, pesto_lipid_score=0.07088623, pesto_ligand_score=0.1685585, pesto_ion_score=0.5630002), PatchToScoreAminoAcid(residue=<Residue MET het=  resseq=59 icode= >, plddt=54.72, scannet_protein_score=0.84850186, scannet_ubiquitin_score=0.4840395, pesto_protein_score=0.8085542, pesto_dna_rna_score=0.020248247, pesto_lipid_score=0.0331651, pesto_ligand_score=0.061029285, pesto_ion_score=0.076775126), PatchToScoreAminoAcid(residue=<Residue SER het=  resseq=60 icode= >, plddt=72.12, scannet_protein_score=0.7714884, scannet_ubiquitin_score=0.3453087, pesto_protein_score=0.6022752, pesto_dna_rna_score=0.011557413, pesto_lipid_score=0.033387862, pesto_ligand_score=0.08739997, pesto_ion_score=0.05800612), PatchToScoreAminoAcid(residue=<Residue CYS het=  resseq=61 icode= >, plddt=84.19, scannet_protein_score=0.8772067, scannet_ubiquitin_score=0.48377162, pesto_protein_score=0.78489643, pesto_dna_rna_score=0.0035722738, pesto_lipid_score=0.0127272485, pesto_ligand_score=0.1401343, pesto_ion_score=0.11355166), PatchToScoreAminoAcid(residue=<Residue SER het=  resseq=63 icode= >, plddt=86.38, scannet_protein_score=0.95317274, scannet_ubiquitin_score=0.8218689, pesto_protein_score=0.63449186, pesto_dna_rna_score=0.001303515, pesto_lipid_score=0.030296681, pesto_ligand_score=0.10392483, pesto_ion_score=0.08615155), PatchToScoreAminoAcid(residue=<Residue VAL het=  resseq=64 icode= >, plddt=85.0, scannet_protein_score=0.89579016, scannet_ubiquitin_score=0.5827812, pesto_protein_score=0.25390902, pesto_dna_rna_score=0.0015422021, pesto_lipid_score=9.100567e-05, pesto_ligand_score=0.04247665, pesto_ion_score=0.99962187)], component_set={64, 65, 66, 97, 105, 106, 107, 108, 55, 86, 87, 88, 58, 59, 60, 62, 63})])"
      ]
     },
     "execution_count": 15,
     "metadata": {},
     "output_type": "execute_result"
    }
   ],
   "source": [
    "chain"
   ]
  },
  {
   "cell_type": "code",
   "execution_count": 24,
   "id": "3a56b46d",
   "metadata": {},
   "outputs": [
    {
     "data": {
      "text/plain": [
       "'EASRSSVYLNYHHFNALYEHRCVILEEEASDYSFRMVPAEYSSIEGLKTIDYRRDMAEMSCCSVCLEDLSGGGDEGEEVLLLSMPCSHIFHGDCIKKWLRTSHYCPLCRFEMPTELDV'"
      ]
     },
     "execution_count": 24,
     "metadata": {},
     "output_type": "execute_result"
    }
   ],
   "source": [
    "chain.sequence"
   ]
  },
  {
   "cell_type": "code",
   "execution_count": 21,
   "id": "952f3e07",
   "metadata": {},
   "outputs": [
    {
     "data": {
      "text/plain": [
       "['GLU',\n",
       " 'ALA',\n",
       " 'SER',\n",
       " 'ARG',\n",
       " 'SER',\n",
       " 'SER',\n",
       " 'VAL',\n",
       " 'TYR',\n",
       " 'LEU',\n",
       " 'ASN',\n",
       " 'TYR',\n",
       " 'HIS',\n",
       " 'HIS',\n",
       " 'PHE',\n",
       " 'ASN',\n",
       " 'ALA',\n",
       " 'LEU',\n",
       " 'TYR',\n",
       " 'GLU',\n",
       " 'HIS',\n",
       " 'ARG',\n",
       " 'CYS',\n",
       " 'VAL',\n",
       " 'ILE',\n",
       " 'LEU',\n",
       " 'GLU',\n",
       " 'GLU',\n",
       " 'GLU',\n",
       " 'ALA',\n",
       " 'SER',\n",
       " 'ASP',\n",
       " 'TYR',\n",
       " 'SER',\n",
       " 'PHE',\n",
       " 'ARG',\n",
       " 'MET',\n",
       " 'VAL',\n",
       " 'PRO',\n",
       " 'ALA',\n",
       " 'GLU',\n",
       " 'TYR',\n",
       " 'SER',\n",
       " 'SER',\n",
       " 'ILE',\n",
       " 'GLU',\n",
       " 'GLY',\n",
       " 'LEU',\n",
       " 'LYS',\n",
       " 'THR',\n",
       " 'ILE',\n",
       " 'ASP',\n",
       " 'TYR',\n",
       " 'ARG',\n",
       " 'ARG',\n",
       " 'ASP',\n",
       " 'MET',\n",
       " 'ALA',\n",
       " 'GLU',\n",
       " 'MET',\n",
       " 'SER',\n",
       " 'CYS',\n",
       " 'CYS',\n",
       " 'SER',\n",
       " 'VAL',\n",
       " 'CYS',\n",
       " 'LEU',\n",
       " 'GLU',\n",
       " 'ASP',\n",
       " 'LEU',\n",
       " 'SER',\n",
       " 'GLY',\n",
       " 'GLY',\n",
       " 'GLY',\n",
       " 'ASP',\n",
       " 'GLU',\n",
       " 'GLY',\n",
       " 'GLU',\n",
       " 'GLU',\n",
       " 'VAL',\n",
       " 'LEU',\n",
       " 'LEU',\n",
       " 'LEU',\n",
       " 'SER',\n",
       " 'MET',\n",
       " 'PRO',\n",
       " 'CYS',\n",
       " 'SER',\n",
       " 'HIS',\n",
       " 'ILE',\n",
       " 'PHE',\n",
       " 'HIS',\n",
       " 'GLY',\n",
       " 'ASP',\n",
       " 'CYS',\n",
       " 'ILE',\n",
       " 'LYS',\n",
       " 'LYS',\n",
       " 'TRP',\n",
       " 'LEU',\n",
       " 'ARG',\n",
       " 'THR',\n",
       " 'SER',\n",
       " 'HIS',\n",
       " 'TYR',\n",
       " 'CYS',\n",
       " 'PRO',\n",
       " 'LEU',\n",
       " 'CYS',\n",
       " 'ARG',\n",
       " 'PHE',\n",
       " 'GLU',\n",
       " 'MET',\n",
       " 'PRO',\n",
       " 'THR',\n",
       " 'GLU',\n",
       " 'LEU',\n",
       " 'ASP',\n",
       " 'VAL']"
      ]
     },
     "execution_count": 21,
     "metadata": {},
     "output_type": "execute_result"
    }
   ],
   "source": [
    "[aa.residue.resname for aa in chain.amino_acids]"
   ]
  },
  {
   "cell_type": "code",
   "execution_count": 13,
   "id": "1ba0cc91",
   "metadata": {},
   "outputs": [
    {
     "data": {
      "text/plain": [
       "[PatchToScorePatch(amino_acids=[PatchToScoreAminoAcid(residue=<Residue MET het=  resseq=36 icode= >, plddt=69.69, scannet_protein_score=0.7403971, scannet_ubiquitin_score=0.26508418, pesto_protein_score=0.88881135, pesto_dna_rna_score=0.0027673496, pesto_lipid_score=0.014638081, pesto_ligand_score=0.28966987, pesto_ion_score=0.25562134)], component_set={35}),\n",
       " PatchToScorePatch(amino_acids=[PatchToScoreAminoAcid(residue=<Residue CYS het=  resseq=65 icode= >, plddt=85.81, scannet_protein_score=0.81556207, scannet_ubiquitin_score=0.3871376, pesto_protein_score=0.1066875, pesto_dna_rna_score=0.00024390491, pesto_lipid_score=2.528954e-05, pesto_ligand_score=0.020995414, pesto_ion_score=0.9999784), PatchToScoreAminoAcid(residue=<Residue LEU het=  resseq=66 icode= >, plddt=85.62, scannet_protein_score=0.9246722, scannet_ubiquitin_score=0.7304515, pesto_protein_score=0.8292081, pesto_dna_rna_score=0.003733366, pesto_lipid_score=0.00023685422, pesto_ligand_score=0.14476812, pesto_ion_score=0.90849954), PatchToScoreAminoAcid(residue=<Residue GLU het=  resseq=67 icode= >, plddt=84.31, scannet_protein_score=0.6813387, scannet_ubiquitin_score=0.3398617, pesto_protein_score=0.35119137, pesto_dna_rna_score=0.0005389975, pesto_lipid_score=0.00025792795, pesto_ligand_score=0.17835744, pesto_ion_score=0.49312568), PatchToScoreAminoAcid(residue=<Residue TRP het=  resseq=98 icode= >, plddt=90.75, scannet_protein_score=0.8901209, scannet_ubiquitin_score=0.52978647, pesto_protein_score=0.47986278, pesto_dna_rna_score=0.0021485107, pesto_lipid_score=0.046991188, pesto_ligand_score=0.44481897, pesto_ion_score=0.18834126), PatchToScoreAminoAcid(residue=<Residue PRO het=  resseq=106 icode= >, plddt=88.0, scannet_protein_score=0.91959053, scannet_ubiquitin_score=0.7041882, pesto_protein_score=0.51647997, pesto_dna_rna_score=0.001713302, pesto_lipid_score=0.05982819, pesto_ligand_score=0.19382705, pesto_ion_score=0.25276667), PatchToScoreAminoAcid(residue=<Residue LEU het=  resseq=107 icode= >, plddt=85.56, scannet_protein_score=0.94726646, scannet_ubiquitin_score=0.8128934, pesto_protein_score=0.880496, pesto_dna_rna_score=0.00875135, pesto_lipid_score=7.753567e-05, pesto_ligand_score=0.100041226, pesto_ion_score=0.99902546), PatchToScoreAminoAcid(residue=<Residue CYS het=  resseq=108 icode= >, plddt=86.88, scannet_protein_score=0.832913, scannet_ubiquitin_score=0.5391747, pesto_protein_score=0.89456606, pesto_dna_rna_score=0.0016619705, pesto_lipid_score=5.1926014e-05, pesto_ligand_score=0.07475893, pesto_ion_score=0.99988246), PatchToScoreAminoAcid(residue=<Residue ARG het=  resseq=109 icode= >, plddt=88.88, scannet_protein_score=0.8290611, scannet_ubiquitin_score=0.53993475, pesto_protein_score=0.89058006, pesto_dna_rna_score=0.029418567, pesto_lipid_score=0.0133494185, pesto_ligand_score=0.36258295, pesto_ion_score=0.9694214), PatchToScoreAminoAcid(residue=<Residue HIS het=  resseq=88 icode= >, plddt=90.19, scannet_protein_score=0.8235818, scannet_ubiquitin_score=0.54727805, pesto_protein_score=0.73160726, pesto_dna_rna_score=0.0038262338, pesto_lipid_score=0.0001531277, pesto_ligand_score=0.0952464, pesto_ion_score=0.9998636), PatchToScoreAminoAcid(residue=<Residue MET het=  resseq=56 icode= >, plddt=55.16, scannet_protein_score=0.70494944, scannet_ubiquitin_score=0.38057414, pesto_protein_score=0.42080897, pesto_dna_rna_score=0.048292965, pesto_lipid_score=0.015798887, pesto_ligand_score=0.073890366, pesto_ion_score=0.06834641), PatchToScoreAminoAcid(residue=<Residue ILE het=  resseq=89 icode= >, plddt=89.44, scannet_protein_score=0.71293706, scannet_ubiquitin_score=0.3929397, pesto_protein_score=0.49080217, pesto_dna_rna_score=0.0014229789, pesto_lipid_score=0.09867572, pesto_ligand_score=0.15519138, pesto_ion_score=0.18362927), PatchToScoreAminoAcid(residue=<Residue SER het=  resseq=87 icode= >, plddt=88.19, scannet_protein_score=0.5266443, scannet_ubiquitin_score=0.29424578, pesto_protein_score=0.6998758, pesto_dna_rna_score=0.005829688, pesto_lipid_score=0.07088623, pesto_ligand_score=0.1685585, pesto_ion_score=0.5630002), PatchToScoreAminoAcid(residue=<Residue MET het=  resseq=59 icode= >, plddt=54.72, scannet_protein_score=0.84850186, scannet_ubiquitin_score=0.4840395, pesto_protein_score=0.8085542, pesto_dna_rna_score=0.020248247, pesto_lipid_score=0.0331651, pesto_ligand_score=0.061029285, pesto_ion_score=0.076775126), PatchToScoreAminoAcid(residue=<Residue SER het=  resseq=60 icode= >, plddt=72.12, scannet_protein_score=0.7714884, scannet_ubiquitin_score=0.3453087, pesto_protein_score=0.6022752, pesto_dna_rna_score=0.011557413, pesto_lipid_score=0.033387862, pesto_ligand_score=0.08739997, pesto_ion_score=0.05800612), PatchToScoreAminoAcid(residue=<Residue CYS het=  resseq=61 icode= >, plddt=84.19, scannet_protein_score=0.8772067, scannet_ubiquitin_score=0.48377162, pesto_protein_score=0.78489643, pesto_dna_rna_score=0.0035722738, pesto_lipid_score=0.0127272485, pesto_ligand_score=0.1401343, pesto_ion_score=0.11355166), PatchToScoreAminoAcid(residue=<Residue SER het=  resseq=63 icode= >, plddt=86.38, scannet_protein_score=0.95317274, scannet_ubiquitin_score=0.8218689, pesto_protein_score=0.63449186, pesto_dna_rna_score=0.001303515, pesto_lipid_score=0.030296681, pesto_ligand_score=0.10392483, pesto_ion_score=0.08615155), PatchToScoreAminoAcid(residue=<Residue VAL het=  resseq=64 icode= >, plddt=85.0, scannet_protein_score=0.89579016, scannet_ubiquitin_score=0.5827812, pesto_protein_score=0.25390902, pesto_dna_rna_score=0.0015422021, pesto_lipid_score=9.100567e-05, pesto_ligand_score=0.04247665, pesto_ion_score=0.99962187)], component_set={64, 65, 66, 97, 105, 106, 107, 108, 55, 86, 87, 88, 58, 59, 60, 62, 63})]"
      ]
     },
     "execution_count": 13,
     "metadata": {},
     "output_type": "execute_result"
    }
   ],
   "source": [
    "chain.patches"
   ]
  },
  {
   "cell_type": "code",
   "execution_count": 14,
   "id": "fb20bf76",
   "metadata": {},
   "outputs": [
    {
     "name": "stderr",
     "output_type": "stream",
     "text": [
      "2025-05-09 17:20:27.375849: I tensorflow/core/platform/cpu_feature_guard.cc:193] This TensorFlow binary is optimized with oneAPI Deep Neural Network Library (oneDNN) to use the following CPU instructions in performance-critical operations:  AVX2 AVX512F AVX512_VNNI AVX512_BF16 AVX_VNNI AMX_TILE AMX_INT8 AMX_BF16 FMA\n",
      "To enable them in other operations, rebuild TensorFlow with the appropriate compiler flags.\n",
      "2025-05-09 17:20:31.754545: I tensorflow/core/util/port.cc:104] oneDNN custom operations are on. You may see slightly different numerical results due to floating-point round-off errors from different computation orders. To turn them off, set the environment variable `TF_ENABLE_ONEDNN_OPTS=0`.\n",
      "2025-05-09 17:20:54.018831: W tensorflow/compiler/xla/stream_executor/platform/default/dso_loader.cc:64] Could not load dynamic library 'libnvinfer.so.7'; dlerror: libnvinfer.so.7: cannot open shared object file: No such file or directory; LD_LIBRARY_PATH: /home/iscb/wolfson/doririmon/anaconda3/envs/ubinet-gpu/lib\n",
      "2025-05-09 17:20:54.019556: W tensorflow/compiler/xla/stream_executor/platform/default/dso_loader.cc:64] Could not load dynamic library 'libnvinfer_plugin.so.7'; dlerror: libnvinfer_plugin.so.7: cannot open shared object file: No such file or directory; LD_LIBRARY_PATH: /home/iscb/wolfson/doririmon/anaconda3/envs/ubinet-gpu/lib\n",
      "2025-05-09 17:20:54.019575: W tensorflow/compiler/tf2tensorrt/utils/py_utils.cc:38] TF-TRT Warning: Cannot dlopen some TensorRT libraries. If you would like to use Nvidia GPU with TensorRT, please make sure the missing libraries mentioned above are installed properly.\n"
     ]
    }
   ],
   "source": [
    "from data_preparation.patch_to_score.v1.scale.main import main as scale_main"
   ]
  },
  {
   "cell_type": "code",
   "execution_count": null,
   "id": "caf03770",
   "metadata": {},
   "outputs": [],
   "source": [
    "scale_main()"
   ]
  }
 ],
 "metadata": {
  "kernelspec": {
   "display_name": "ubinet-gpu",
   "language": "python",
   "name": "python3"
  },
  "language_info": {
   "codemirror_mode": {
    "name": "ipython",
    "version": 3
   },
   "file_extension": ".py",
   "mimetype": "text/x-python",
   "name": "python",
   "nbconvert_exporter": "python",
   "pygments_lexer": "ipython3",
   "version": "3.10.13"
  }
 },
 "nbformat": 4,
 "nbformat_minor": 5
}
