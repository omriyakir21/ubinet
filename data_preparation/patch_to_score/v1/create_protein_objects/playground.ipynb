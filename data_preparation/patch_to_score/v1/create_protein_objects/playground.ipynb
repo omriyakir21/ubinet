{
 "cells": [
  {
   "cell_type": "code",
   "execution_count": 2,
   "id": "75922736",
   "metadata": {},
   "outputs": [],
   "source": [
    "import sys\n",
    "sys.path.append('../../../../')"
   ]
  },
  {
   "cell_type": "code",
   "execution_count": 3,
   "id": "050be7ac",
   "metadata": {},
   "outputs": [
    {
     "name": "stderr",
     "output_type": "stream",
     "text": [
      "2025-04-15 14:36:36.637279: I tensorflow/core/platform/cpu_feature_guard.cc:193] This TensorFlow binary is optimized with oneAPI Deep Neural Network Library (oneDNN) to use the following CPU instructions in performance-critical operations:  AVX2 AVX512F AVX512_VNNI AVX512_BF16 AVX_VNNI AMX_TILE AMX_INT8 AMX_BF16 FMA\n",
      "To enable them in other operations, rebuild TensorFlow with the appropriate compiler flags.\n",
      "2025-04-15 14:36:36.751776: I tensorflow/core/util/port.cc:104] oneDNN custom operations are on. You may see slightly different numerical results due to floating-point round-off errors from different computation orders. To turn them off, set the environment variable `TF_ENABLE_ONEDNN_OPTS=0`.\n",
      "2025-04-15 14:36:41.820242: W tensorflow/compiler/xla/stream_executor/platform/default/dso_loader.cc:64] Could not load dynamic library 'libnvinfer.so.7'; dlerror: libnvinfer.so.7: cannot open shared object file: No such file or directory; LD_LIBRARY_PATH: /home/iscb/wolfson/doririmon/anaconda3/envs/ubinet-gpu/lib\n",
      "2025-04-15 14:36:41.820367: W tensorflow/compiler/xla/stream_executor/platform/default/dso_loader.cc:64] Could not load dynamic library 'libnvinfer_plugin.so.7'; dlerror: libnvinfer_plugin.so.7: cannot open shared object file: No such file or directory; LD_LIBRARY_PATH: /home/iscb/wolfson/doririmon/anaconda3/envs/ubinet-gpu/lib\n",
      "2025-04-15 14:36:41.820379: W tensorflow/compiler/tf2tensorrt/utils/py_utils.cc:38] TF-TRT Warning: Cannot dlopen some TensorRT libraries. If you would like to use Nvidia GPU with TensorRT, please make sure the missing libraries mentioned above are installed properly.\n",
      "2025-04-15 14:36:56.409966: W tensorflow/core/common_runtime/gpu/gpu_device.cc:2027] TensorFlow was not built with CUDA kernel binaries compatible with compute capability 9.0. CUDA kernels will be jit-compiled from PTX, which could take 30 minutes or longer.\n",
      "2025-04-15 14:36:56.411132: W tensorflow/core/common_runtime/gpu/gpu_device.cc:2027] TensorFlow was not built with CUDA kernel binaries compatible with compute capability 9.0. CUDA kernels will be jit-compiled from PTX, which could take 30 minutes or longer.\n",
      "2025-04-15 14:36:56.412264: W tensorflow/core/common_runtime/gpu/gpu_device.cc:2027] TensorFlow was not built with CUDA kernel binaries compatible with compute capability 9.0. CUDA kernels will be jit-compiled from PTX, which could take 30 minutes or longer.\n",
      "2025-04-15 14:36:56.413385: W tensorflow/core/common_runtime/gpu/gpu_device.cc:2027] TensorFlow was not built with CUDA kernel binaries compatible with compute capability 9.0. CUDA kernels will be jit-compiled from PTX, which could take 30 minutes or longer.\n",
      "2025-04-15 14:36:56.414516: W tensorflow/core/common_runtime/gpu/gpu_device.cc:2027] TensorFlow was not built with CUDA kernel binaries compatible with compute capability 9.0. CUDA kernels will be jit-compiled from PTX, which could take 30 minutes or longer.\n",
      "2025-04-15 14:36:56.417562: W tensorflow/core/common_runtime/gpu/gpu_device.cc:2027] TensorFlow was not built with CUDA kernel binaries compatible with compute capability 9.0. CUDA kernels will be jit-compiled from PTX, which could take 30 minutes or longer.\n",
      "2025-04-15 14:36:56.419242: W tensorflow/core/common_runtime/gpu/gpu_device.cc:2027] TensorFlow was not built with CUDA kernel binaries compatible with compute capability 9.0. CUDA kernels will be jit-compiled from PTX, which could take 30 minutes or longer.\n",
      "2025-04-15 14:36:56.420376: W tensorflow/core/common_runtime/gpu/gpu_device.cc:2027] TensorFlow was not built with CUDA kernel binaries compatible with compute capability 9.0. CUDA kernels will be jit-compiled from PTX, which could take 30 minutes or longer.\n"
     ]
    }
   ],
   "source": [
    "import tensorflow as tf\n",
    "tf.config.set_visible_devices([], 'GPU')"
   ]
  },
  {
   "cell_type": "code",
   "execution_count": 4,
   "id": "32da2055",
   "metadata": {},
   "outputs": [
    {
     "name": "stderr",
     "output_type": "stream",
     "text": [
      "/home/iscb/wolfson/doririmon/anaconda3/envs/ubinet-gpu/lib/python3.10/site-packages/Bio/pairwise2.py:278: BiopythonDeprecationWarning: Bio.pairwise2 has been deprecated, and we intend to remove it in a future release of Biopython. As an alternative, please consider using Bio.Align.PairwiseAligner as a replacement, and contact the Biopython developers if you still need the Bio.pairwise2 module.\n",
      "  warnings.warn(\n"
     ]
    }
   ],
   "source": [
    "from utils import load_as_pickle"
   ]
  },
  {
   "cell_type": "code",
   "execution_count": 5,
   "id": "9d3f4aed",
   "metadata": {},
   "outputs": [],
   "source": [
    "import sys\n",
    "import os\n",
    "from typing import List\n",
    "from data_preparation.patch_to_score.v1.create_protein_objects.utils import create_patches_dict, create_90_percentile\n",
    "from data_preparation.ScanNet.db_creation_scanNet_utils import save_as_pickle, load_as_pickle\n",
    "\n",
    "\n",
    "def create_merged_protein_object_dict(dir_path):\n",
    "    indexes = load_as_pickle(os.path.join(dir_path, 'indexes.pkl'))\n",
    "    merged_dict = {}\n",
    "    for i in range(len(indexes) - 1):\n",
    "        d = load_as_pickle(os.path.join(\n",
    "            dir_path, 'proteinObjectsWithEvoluion' + str(i)))\n",
    "        for key, value in d.items():\n",
    "            merged_dict[key] = value\n",
    "    return merged_dict\n",
    "\n",
    "\n",
    "def create_paths(*paths: List[str]) -> None:\n",
    "    for path in paths:\n",
    "        os.makedirs(path, exist_ok=True)\n",
    "\n",
    "\n",
    "def main(all_predictions_path: str, save_dir_path: str, with_pesto: bool):\n",
    "    \"\"\"\n",
    "    Create protein objects.\n",
    "\n",
    "   :param str all_predictions_path: path to a pickle file containing all predictions in the form of a dictionary\n",
    "   :param str save_dir_path: path to a directory where the protein objects will be saved\n",
    "   :param bool with_pesto: whether to all_predictions object includes pesto predictions or not\n",
    "   :return: a list of protein objects\n",
    "   :rtype: List[Protein]\n",
    "    \"\"\"\n",
    "    create_paths(save_dir_path)\n",
    "    percentile_90_path = os.path.join(save_dir_path, 'percentile_90.pkl')\n",
    "    merged_dict_path = os.path.join(\n",
    "        save_dir_path, 'merged_protein_objects.pkl')\n",
    "\n",
    "    all_predictions = load_as_pickle(all_predictions_path)\n",
    "\n",
    "    if not os.path.exists(percentile_90_path):\n",
    "        percentile_90 = create_90_percentile(all_predictions)\n",
    "        save_as_pickle(percentile_90, os.path.join(\n",
    "            save_dir_path, 'percentile_90.pkl'))\n",
    "    else:\n",
    "        percentile_90 = load_as_pickle(percentile_90_path)\n",
    "\n",
    "    # CREATING THE PATCHES IN BATCHES OF 1500 PROTEINS. SEE SCRIPTS/RUN_DATA_DEVELOPMENT.SH\n",
    "    # WE CAN RUN THIS ON CPU'S (CAN DO MULTIPLE AT A TIME)\n",
    "    i = int(sys.argv[1])  # TODO\n",
    "    plddt_threshold = 50\n",
    "    create_patches_dict(i, save_dir_path, plddt_threshold, all_predictions, percentile_90, with_pesto)\n",
    "\n",
    "    if not os.path.exists(merged_dict_path):\n",
    "        merged_dict = create_merged_protein_object_dict(save_dir_path)\n",
    "        save_as_pickle(merged_dict, merged_dict_path)\n",
    "    else:\n",
    "        merged_dict = load_as_pickle(merged_dict_path)\n"
   ]
  },
  {
   "cell_type": "code",
   "execution_count": 6,
   "id": "80d61cc9",
   "metadata": {},
   "outputs": [],
   "source": [
    "all_predictions_path = '/home/iscb/wolfson/doririmon/home/order/ubinet/repo/ubinet/results/ScanNet/all_predictions_0304_MSA_True_with_pesto.pkl'\n",
    "all_predictions = load_as_pickle(all_predictions_path)"
   ]
  },
  {
   "cell_type": "code",
   "execution_count": 7,
   "id": "998bb971",
   "metadata": {},
   "outputs": [
    {
     "name": "stdout",
     "output_type": "stream",
     "text": [
      "percentile_90: 0.26495680809021005\n"
     ]
    }
   ],
   "source": [
    "percentile_90 = create_90_percentile(all_predictions)"
   ]
  },
  {
   "cell_type": "code",
   "execution_count": 11,
   "id": "4e112f67",
   "metadata": {},
   "outputs": [
    {
     "data": {
      "text/plain": [
       "dict_keys(['dict_resids', 'dict_sequences', 'dict_sources', 'dict_pdb_files', 'dict_predictions_ubiquitin', 'dict_predictions_interface', 'pesto_protein', 'pesto_dna_rna', 'pesto_ion', 'pesto_ligand', 'pesto_lipid'])"
      ]
     },
     "execution_count": 11,
     "metadata": {},
     "output_type": "execute_result"
    }
   ],
   "source": [
    "all_predictions.keys()"
   ]
  },
  {
   "cell_type": "code",
   "execution_count": 18,
   "id": "4a822175",
   "metadata": {},
   "outputs": [
    {
     "data": {
      "text/plain": [
       "array([['0', 'A', '1'],\n",
       "       ['0', 'A', '2'],\n",
       "       ['0', 'A', '3'],\n",
       "       ...,\n",
       "       ['0', 'A', '987'],\n",
       "       ['0', 'A', '988'],\n",
       "       ['0', 'A', '989']], dtype='<U21')"
      ]
     },
     "execution_count": 18,
     "metadata": {},
     "output_type": "execute_result"
    }
   ],
   "source": [
    "all_predictions['dict_resids']['A0A022QL98']"
   ]
  },
  {
   "cell_type": "code",
   "execution_count": 2,
   "id": "9a1460d5",
   "metadata": {},
   "outputs": [
    {
     "ename": "NameError",
     "evalue": "name 'all_predictions' is not defined",
     "output_type": "error",
     "traceback": [
      "\u001b[0;31m---------------------------------------------------------------------------\u001b[0m",
      "\u001b[0;31mNameError\u001b[0m                                 Traceback (most recent call last)",
      "Cell \u001b[0;32mIn[2], line 1\u001b[0m\n\u001b[0;32m----> 1\u001b[0m \u001b[38;5;28mlen\u001b[39m(\u001b[43mall_predictions\u001b[49m)\n",
      "\u001b[0;31mNameError\u001b[0m: name 'all_predictions' is not defined"
     ]
    }
   ],
   "source": [
    "len(all_predictions)"
   ]
  },
  {
   "cell_type": "code",
   "execution_count": null,
   "id": "3d3a1edd",
   "metadata": {},
   "outputs": [],
   "source": []
  }
 ],
 "metadata": {
  "kernelspec": {
   "display_name": "ubinet-gpu",
   "language": "python",
   "name": "python3"
  },
  "language_info": {
   "codemirror_mode": {
    "name": "ipython",
    "version": 3
   },
   "file_extension": ".py",
   "mimetype": "text/x-python",
   "name": "python",
   "nbconvert_exporter": "python",
   "pygments_lexer": "ipython3",
   "version": "3.10.16"
  }
 },
 "nbformat": 4,
 "nbformat_minor": 5
}
