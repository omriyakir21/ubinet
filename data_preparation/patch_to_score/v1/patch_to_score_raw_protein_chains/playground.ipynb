{
 "cells": [
  {
   "cell_type": "code",
   "execution_count": 1,
   "id": "59feef62",
   "metadata": {},
   "outputs": [],
   "source": [
    "import sys\n",
    "sys.path.append('/home/iscb/wolfson/doririmon/home/order/ubinet/repo/ubinet')"
   ]
  },
  {
   "cell_type": "code",
   "execution_count": 6,
   "id": "a5ffece4",
   "metadata": {},
   "outputs": [],
   "source": [
    "from main import main"
   ]
  },
  {
   "cell_type": "code",
   "execution_count": 4,
   "id": "58f3eed9",
   "metadata": {},
   "outputs": [],
   "source": [
    "all_predictions_path = '/home/iscb/wolfson/doririmon/home/order/ubinet/repo/ubinet/datasets/patch_to_score/v1_small/all_predictions.pkl'\n",
    "sources_path = '/home/iscb/wolfson/doririmon/home/order/ubinet/repo/ubinet/datasets/patch_to_score/v1_small/sources'\n",
    "save_dir_path = '/home/iscb/wolfson/doririmon/home/order/ubinet/repo/ubinet/datasets/patch_to_score/v1_small/patch_to_score_raw_protein_chains'\n",
    "# uniprot_names = ['A0A022PPD4']\n",
    "uniprot_names = ['A0A022QL98', 'A0A022RQB5', 'A0A022S055', 'A0A059D4L0', 'A0A061GXI7', 'A0A022PRA6', 'A0A022PY48', 'A0A022Q011', 'A0A022Q116', 'A0A022Q6W2', 'A0A022PTB0', 'A0A022PTD3', 'A0A022PPD4', 'A0A022PSD3', 'A0A022PUK1', 'A0A022PVG6', 'A0A022PWG3', 'A0A010QVZ3', 'A0A010RI79', 'A0A024RBG1', 'A0A075B6H5', 'A0A075B6H7', 'A0A023PYF4', 'A0A023PZB3', 'A0A023PZE8', 'A0A023PZF2', 'A0A023PZG4', 'A0A385XJ53', 'A0A385XJE6', 'A0A385XJK5', 'A0A385XJL2', 'A0A385XJL4', 'A0A0A7EPL0', 'A0A140JWM8', 'A0A178U7J2', 'A0A178U9T0', 'A0A178UFC4', 'A0A060Q5Z9', 'A0A060Q600', 'A0A060Q608', 'A0A060Q617', 'A0A061ACK7']\n",
    "with_pesto = True"
   ]
  },
  {
   "cell_type": "code",
   "execution_count": 5,
   "id": "472575ae",
   "metadata": {},
   "outputs": [
    {
     "name": "stdout",
     "output_type": "stream",
     "text": [
      "computed 90 percentile: 0.2624534249305725\n"
     ]
    },
    {
     "name": "stderr",
     "output_type": "stream",
     "text": [
      "  0%|          | 0/42 [00:00<?, ?it/s]"
     ]
    },
    {
     "name": "stderr",
     "output_type": "stream",
     "text": [
      "100%|██████████| 42/42 [00:02<00:00, 18.98it/s]\n"
     ]
    }
   ],
   "source": [
    "main(all_predictions_path, save_dir_path, sources_path, uniprot_names, with_pesto)"
   ]
  }
 ],
 "metadata": {
  "kernelspec": {
   "display_name": "ubinet-gpu",
   "language": "python",
   "name": "python3"
  },
  "language_info": {
   "codemirror_mode": {
    "name": "ipython",
    "version": 3
   },
   "file_extension": ".py",
   "mimetype": "text/x-python",
   "name": "python",
   "nbconvert_exporter": "python",
   "pygments_lexer": "ipython3",
   "version": "3.10.13"
  }
 },
 "nbformat": 4,
 "nbformat_minor": 5
}
