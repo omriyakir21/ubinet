{
 "cells": [
  {
   "cell_type": "code",
   "execution_count": 1,
   "id": "59feef62",
   "metadata": {},
   "outputs": [],
   "source": [
    "import sys\n",
    "sys.path.append('/home/iscb/wolfson/doririmon/home/order/ubinet/repo/ubinet')"
   ]
  },
  {
   "cell_type": "code",
   "execution_count": 2,
   "id": "a5ffece4",
   "metadata": {},
   "outputs": [
    {
     "name": "stderr",
     "output_type": "stream",
     "text": [
      "/home/iscb/wolfson/doririmon/anaconda3/envs/ubinet-gpu/lib/python3.10/site-packages/Bio/pairwise2.py:278: BiopythonDeprecationWarning: Bio.pairwise2 has been deprecated, and we intend to remove it in a future release of Biopython. As an alternative, please consider using Bio.Align.PairwiseAligner as a replacement, and contact the Biopython developers if you still need the Bio.pairwise2 module.\n",
      "  warnings.warn(\n"
     ]
    }
   ],
   "source": [
    "from Bio.PDB import PDBParser\n",
    "from main import main"
   ]
  },
  {
   "cell_type": "code",
   "execution_count": 3,
   "id": "2d67ea2b",
   "metadata": {},
   "outputs": [],
   "source": [
    "file_path_example = '/home/iscb/wolfson/doririmon/home/order/ubinet/repo/ubinet/datasets/patch_to_score/v1_small/sources/GO/DUB/A0A022PPD4.pdb'\n",
    "parser = PDBParser()\n",
    "structure = parser.get_structure('A0A022PPD4', file_path_example)"
   ]
  },
  {
   "cell_type": "code",
   "execution_count": 4,
   "id": "58f3eed9",
   "metadata": {},
   "outputs": [],
   "source": [
    "all_predictions_path = '/home/iscb/wolfson/doririmon/home/order/ubinet/repo/ubinet/datasets/patch_to_score/v1_small/all_predictions.pkl'\n",
    "sources_path = '/home/iscb/wolfson/doririmon/home/order/ubinet/repo/ubinet/datasets/patch_to_score/v1_small/sources'\n",
    "save_dir_path = '/home/iscb/wolfson/doririmon/home/order/ubinet/repo/ubinet/datasets/patch_to_score/v1_small/patch_to_score_raw_protein_chains'\n",
    "uniprot_names = ['A0A022PPD4']\n",
    "with_pesto = True"
   ]
  },
  {
   "cell_type": "code",
   "execution_count": 5,
   "id": "472575ae",
   "metadata": {},
   "outputs": [],
   "source": [
    "main(all_predictions_path, save_dir_path, sources_path, uniprot_names, with_pesto)"
   ]
  }
 ],
 "metadata": {
  "kernelspec": {
   "display_name": "ubinet-gpu",
   "language": "python",
   "name": "python3"
  },
  "language_info": {
   "codemirror_mode": {
    "name": "ipython",
    "version": 3
   },
   "file_extension": ".py",
   "mimetype": "text/x-python",
   "name": "python",
   "nbconvert_exporter": "python",
   "pygments_lexer": "ipython3",
   "version": "3.10.13"
  }
 },
 "nbformat": 4,
 "nbformat_minor": 5
}
