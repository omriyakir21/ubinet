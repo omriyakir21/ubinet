{
 "cells": [
  {
   "cell_type": "markdown",
   "id": "2291fb53",
   "metadata": {},
   "source": [
    "## imports"
   ]
  },
  {
   "cell_type": "code",
   "execution_count": 1,
   "id": "ccd485d4",
   "metadata": {},
   "outputs": [
    {
     "name": "stderr",
     "output_type": "stream",
     "text": [
      "2025-04-11 20:43:08.250347: I tensorflow/core/platform/cpu_feature_guard.cc:193] This TensorFlow binary is optimized with oneAPI Deep Neural Network Library (oneDNN) to use the following CPU instructions in performance-critical operations:  AVX2 AVX512F AVX512_VNNI AVX512_BF16 AVX_VNNI AMX_TILE AMX_INT8 AMX_BF16 FMA\n",
      "To enable them in other operations, rebuild TensorFlow with the appropriate compiler flags.\n",
      "2025-04-11 20:43:08.357765: I tensorflow/core/util/port.cc:104] oneDNN custom operations are on. You may see slightly different numerical results due to floating-point round-off errors from different computation orders. To turn them off, set the environment variable `TF_ENABLE_ONEDNN_OPTS=0`.\n",
      "2025-04-11 20:43:13.812569: W tensorflow/compiler/xla/stream_executor/platform/default/dso_loader.cc:64] Could not load dynamic library 'libnvinfer.so.7'; dlerror: libnvinfer.so.7: cannot open shared object file: No such file or directory; LD_LIBRARY_PATH: /home/iscb/wolfson/doririmon/anaconda3/envs/ubinet-gpu/lib\n",
      "2025-04-11 20:43:13.812731: W tensorflow/compiler/xla/stream_executor/platform/default/dso_loader.cc:64] Could not load dynamic library 'libnvinfer_plugin.so.7'; dlerror: libnvinfer_plugin.so.7: cannot open shared object file: No such file or directory; LD_LIBRARY_PATH: /home/iscb/wolfson/doririmon/anaconda3/envs/ubinet-gpu/lib\n",
      "2025-04-11 20:43:13.812746: W tensorflow/compiler/tf2tensorrt/utils/py_utils.cc:38] TF-TRT Warning: Cannot dlopen some TensorRT libraries. If you would like to use Nvidia GPU with TensorRT, please make sure the missing libraries mentioned above are installed properly.\n",
      "2025-04-11 20:43:26.947502: W tensorflow/core/common_runtime/gpu/gpu_device.cc:2027] TensorFlow was not built with CUDA kernel binaries compatible with compute capability 9.0. CUDA kernels will be jit-compiled from PTX, which could take 30 minutes or longer.\n",
      "2025-04-11 20:43:26.948636: W tensorflow/core/common_runtime/gpu/gpu_device.cc:2027] TensorFlow was not built with CUDA kernel binaries compatible with compute capability 9.0. CUDA kernels will be jit-compiled from PTX, which could take 30 minutes or longer.\n",
      "2025-04-11 20:43:26.949759: W tensorflow/core/common_runtime/gpu/gpu_device.cc:2027] TensorFlow was not built with CUDA kernel binaries compatible with compute capability 9.0. CUDA kernels will be jit-compiled from PTX, which could take 30 minutes or longer.\n",
      "2025-04-11 20:43:26.950869: W tensorflow/core/common_runtime/gpu/gpu_device.cc:2027] TensorFlow was not built with CUDA kernel binaries compatible with compute capability 9.0. CUDA kernels will be jit-compiled from PTX, which could take 30 minutes or longer.\n",
      "2025-04-11 20:43:26.952088: W tensorflow/core/common_runtime/gpu/gpu_device.cc:2027] TensorFlow was not built with CUDA kernel binaries compatible with compute capability 9.0. CUDA kernels will be jit-compiled from PTX, which could take 30 minutes or longer.\n",
      "2025-04-11 20:43:26.953210: W tensorflow/core/common_runtime/gpu/gpu_device.cc:2027] TensorFlow was not built with CUDA kernel binaries compatible with compute capability 9.0. CUDA kernels will be jit-compiled from PTX, which could take 30 minutes or longer.\n",
      "2025-04-11 20:43:26.954320: W tensorflow/core/common_runtime/gpu/gpu_device.cc:2027] TensorFlow was not built with CUDA kernel binaries compatible with compute capability 9.0. CUDA kernels will be jit-compiled from PTX, which could take 30 minutes or longer.\n",
      "2025-04-11 20:43:26.955487: W tensorflow/core/common_runtime/gpu/gpu_device.cc:2027] TensorFlow was not built with CUDA kernel binaries compatible with compute capability 9.0. CUDA kernels will be jit-compiled from PTX, which could take 30 minutes or longer.\n"
     ]
    }
   ],
   "source": [
    "import tensorflow as tf\n",
    "tf.config.set_visible_devices([], 'GPU')"
   ]
  },
  {
   "cell_type": "code",
   "execution_count": 15,
   "id": "773eb88c",
   "metadata": {},
   "outputs": [],
   "source": [
    "from plotly import express as px\n",
    "import os\n",
    "import numpy as np\n",
    "import pickle\n",
    "from copy import deepcopy"
   ]
  },
  {
   "cell_type": "markdown",
   "id": "87a285d6",
   "metadata": {},
   "source": [
    "## data load"
   ]
  },
  {
   "cell_type": "code",
   "execution_count": 3,
   "id": "dbf17def",
   "metadata": {},
   "outputs": [],
   "source": [
    "data_path = \"/home/iscb/wolfson/doririmon/home/order/ubinet/repo/ubinet/datasets/patch_to_score/data_for_training/03_04_with_pesto/folds_training_dicts.pkl\""
   ]
  },
  {
   "cell_type": "code",
   "execution_count": 5,
   "id": "38f23024",
   "metadata": {},
   "outputs": [
    {
     "name": "stderr",
     "output_type": "stream",
     "text": [
      "2025-04-11 20:44:33.093863: I tensorflow/core/platform/cpu_feature_guard.cc:193] This TensorFlow binary is optimized with oneAPI Deep Neural Network Library (oneDNN) to use the following CPU instructions in performance-critical operations:  AVX2 AVX512F AVX512_VNNI AVX512_BF16 AVX_VNNI AMX_TILE AMX_INT8 AMX_BF16 FMA\n",
      "To enable them in other operations, rebuild TensorFlow with the appropriate compiler flags.\n"
     ]
    }
   ],
   "source": [
    "with open(data_path, \"rb\") as f:\n",
    "    folds_training_dicts = pickle.load(f)"
   ]
  },
  {
   "cell_type": "markdown",
   "id": "50c393ec",
   "metadata": {},
   "source": [
    "## fetch wrongly negative uniprots"
   ]
  },
  {
   "cell_type": "code",
   "execution_count": 9,
   "id": "3cfd50d7",
   "metadata": {},
   "outputs": [
    {
     "data": {
      "text/plain": [
       "dict_keys(['sizes_train', 'components_train', 'num_patches_train', 'uniprots_train', 'labels_train', 'sizes_validation', 'components_validation', 'num_patches_validation', 'uniprots_validation', 'labels_validation', 'sizes_test', 'components_test', 'num_patches_test', 'uniprots_test', 'labels_test'])"
      ]
     },
     "execution_count": 9,
     "metadata": {},
     "output_type": "execute_result"
    }
   ],
   "source": [
    "fold = folds_training_dicts[0]\n",
    "fold.keys()"
   ]
  },
  {
   "cell_type": "code",
   "execution_count": 10,
   "id": "61de9559",
   "metadata": {},
   "outputs": [
    {
     "data": {
      "text/plain": [
       "78433"
      ]
     },
     "execution_count": 10,
     "metadata": {},
     "output_type": "execute_result"
    }
   ],
   "source": [
    "GT_positive_uniprots = []\n",
    "for set_name in ['DUB', 'E1', 'E2', 'E3', 'ubiquitinBinding']:\n",
    "    GT_positive_uniprots.extend([x[:-4] for x in os.listdir(f'/home/iscb/wolfson/doririmon/home/order/ubinet/repo/ubinet/datasets/patch_to_score/sources/GO/{set_name}') if 'pdb' in x])\n",
    "GT_positive_uniprots = set(GT_positive_uniprots)\n",
    "len(GT_positive_uniprots)"
   ]
  },
  {
   "cell_type": "code",
   "execution_count": 12,
   "id": "affe5f32",
   "metadata": {},
   "outputs": [
    {
     "data": {
      "text/plain": [
       "76483"
      ]
     },
     "execution_count": 12,
     "metadata": {},
     "output_type": "execute_result"
    }
   ],
   "source": [
    "negative_uniprots = []\n",
    "for set_name in ['train', 'validation', 'test']:\n",
    "    for i in np.where(fold[f'labels_{set_name}'] == 0)[0]:\n",
    "        negative_uniprots.append(fold[f'uniprots_{set_name}'][i])\n",
    "negative_uniprots = set(negative_uniprots)\n",
    "len(negative_uniprots)"
   ]
  },
  {
   "cell_type": "code",
   "execution_count": 13,
   "id": "c1e02e51",
   "metadata": {},
   "outputs": [
    {
     "data": {
      "text/plain": [
       "547"
      ]
     },
     "execution_count": 13,
     "metadata": {},
     "output_type": "execute_result"
    }
   ],
   "source": [
    "wrongly_negative_uniprots = negative_uniprots.intersection(GT_positive_uniprots)\n",
    "len(wrongly_negative_uniprots)"
   ]
  },
  {
   "cell_type": "markdown",
   "id": "adee0551",
   "metadata": {},
   "source": [
    "## create curated dataset"
   ]
  },
  {
   "cell_type": "code",
   "execution_count": 41,
   "id": "d3a7882b",
   "metadata": {},
   "outputs": [],
   "source": [
    "curated_folds_training_dicts = deepcopy(folds_training_dicts)"
   ]
  },
  {
   "cell_type": "code",
   "execution_count": 42,
   "id": "71b31c03",
   "metadata": {},
   "outputs": [],
   "source": [
    "for curated_fold in curated_folds_training_dicts:\n",
    "    for set_name in ['train', 'validation', 'test']:\n",
    "        curated_set_labels = np.array([1 if x in GT_positive_uniprots else 0 for x in curated_fold[f'uniprots_{set_name}']]) \n",
    "        curated_fold[f'labels_{set_name}'] = tf.convert_to_tensor(curated_set_labels)"
   ]
  },
  {
   "cell_type": "code",
   "execution_count": 43,
   "id": "b1553fac",
   "metadata": {},
   "outputs": [],
   "source": [
    "with open('curated_folds_training_dicts.pkl', 'wb') as f:\n",
    "    pickle.dump(curated_folds_training_dicts, f)"
   ]
  },
  {
   "cell_type": "code",
   "execution_count": 44,
   "id": "0a95cbe4",
   "metadata": {},
   "outputs": [],
   "source": [
    "curated_fold = curated_folds_training_dicts[0]"
   ]
  },
  {
   "cell_type": "code",
   "execution_count": 45,
   "id": "4d988c75",
   "metadata": {},
   "outputs": [],
   "source": [
    "changed_count = 0\n",
    "for set_name in ['train', 'validation', 'test']:\n",
    "    changed_count += (np.sum(curated_fold[f'labels_{set_name}']) - np.sum(fold[f'labels_{set_name}']))\n",
    "assert changed_count == len(wrongly_negative_uniprots)"
   ]
  },
  {
   "cell_type": "code",
   "execution_count": 48,
   "id": "a9af016a",
   "metadata": {},
   "outputs": [],
   "source": [
    "assert type(curated_fold['labels_train']) == type(fold['labels_train'])"
   ]
  }
 ],
 "metadata": {
  "kernelspec": {
   "display_name": "ubinet-gpu",
   "language": "python",
   "name": "python3"
  },
  "language_info": {
   "codemirror_mode": {
    "name": "ipython",
    "version": 3
   },
   "file_extension": ".py",
   "mimetype": "text/x-python",
   "name": "python",
   "nbconvert_exporter": "python",
   "pygments_lexer": "ipython3",
   "version": "3.10.16"
  }
 },
 "nbformat": 4,
 "nbformat_minor": 5
}
