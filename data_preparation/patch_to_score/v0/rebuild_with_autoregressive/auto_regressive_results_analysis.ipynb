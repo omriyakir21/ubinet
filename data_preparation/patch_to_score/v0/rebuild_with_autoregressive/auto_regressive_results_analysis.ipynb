{
 "cells": [
  {
   "cell_type": "code",
   "execution_count": 2,
   "id": "eb49bc1e",
   "metadata": {},
   "outputs": [],
   "source": [
    "import sys\n",
    "sys.path.append('../../../../')\n",
    "\n",
    "import pickle"
   ]
  },
  {
   "cell_type": "code",
   "execution_count": 13,
   "id": "3c380595",
   "metadata": {},
   "outputs": [],
   "source": [
    "from plotly import express as px\n",
    "import pandas as pd\n",
    "import numpy as np"
   ]
  },
  {
   "cell_type": "markdown",
   "id": "c3d5e117",
   "metadata": {},
   "source": [
    "## check autoregressive all predictions"
   ]
  },
  {
   "cell_type": "code",
   "execution_count": 3,
   "id": "0fc71685",
   "metadata": {},
   "outputs": [],
   "source": [
    "with open('/home/iscb/wolfson/jeromet/UBDModel/protein_classification/predictions_2107/all_predictions_2107_MSA_True.pkl', 'rb') as f:\n",
    "    ar_predictions_dict = pickle.load(f)"
   ]
  },
  {
   "cell_type": "code",
   "execution_count": 4,
   "id": "59aedf6b",
   "metadata": {},
   "outputs": [],
   "source": [
    "with open('/home/iscb/wolfson/doririmon/home/order/ubinet/repo/ubinet/results/ScanNet/all_predictions_0304_MSA_True_with_pesto.pkl', 'rb') as f:\n",
    "    base_predictions_dict = pickle.load(f)"
   ]
  },
  {
   "cell_type": "code",
   "execution_count": 5,
   "id": "a562b397",
   "metadata": {},
   "outputs": [
    {
     "data": {
      "text/plain": [
       "(127721, 127721)"
      ]
     },
     "execution_count": 5,
     "metadata": {},
     "output_type": "execute_result"
    }
   ],
   "source": [
    "len(ar_predictions_dict['dict_resids']), len(base_predictions_dict['dict_resids'])"
   ]
  },
  {
   "cell_type": "code",
   "execution_count": 6,
   "id": "5feae43e",
   "metadata": {},
   "outputs": [
    {
     "data": {
      "text/plain": [
       "127721"
      ]
     },
     "execution_count": 6,
     "metadata": {},
     "output_type": "execute_result"
    }
   ],
   "source": [
    "len(set(ar_predictions_dict['dict_resids'].keys()).intersection(set(base_predictions_dict['dict_resids'].keys())))"
   ]
  },
  {
   "cell_type": "code",
   "execution_count": 7,
   "id": "0ca704d1",
   "metadata": {},
   "outputs": [
    {
     "data": {
      "text/plain": [
       "dict_keys(['dict_resids', 'dict_sequences', 'dict_sources', 'dict_pdb_files', 'dict_predictions_interface', 'dict_predictions_ubiquitin'])"
      ]
     },
     "execution_count": 7,
     "metadata": {},
     "output_type": "execute_result"
    }
   ],
   "source": [
    "ar_predictions_dict.keys()"
   ]
  },
  {
   "cell_type": "code",
   "execution_count": 9,
   "id": "ca2921ca",
   "metadata": {},
   "outputs": [
    {
     "data": {
      "text/plain": [
       "dict_keys(['dict_resids', 'dict_sequences', 'dict_sources', 'dict_pdb_files', 'dict_predictions_ubiquitin', 'dict_predictions_interface', 'pesto_protein', 'pesto_dna_rna', 'pesto_ion', 'pesto_ligand', 'pesto_lipid'])"
      ]
     },
     "execution_count": 9,
     "metadata": {},
     "output_type": "execute_result"
    }
   ],
   "source": [
    "base_predictions_dict.keys()"
   ]
  },
  {
   "cell_type": "code",
   "execution_count": 14,
   "id": "6fd5b901",
   "metadata": {},
   "outputs": [
    {
     "data": {
      "text/plain": [
       "0.10401255"
      ]
     },
     "execution_count": 14,
     "metadata": {},
     "output_type": "execute_result"
    }
   ],
   "source": [
    "np.average(ar_predictions_dict['dict_predictions_interface']['A0A022QL98'])"
   ]
  },
  {
   "cell_type": "code",
   "execution_count": 16,
   "id": "e881021d",
   "metadata": {},
   "outputs": [],
   "source": [
    "def get_average_predictions(predictions_dict: dict):\n",
    "    return np.array([np.average(protein_predictions) for protein_predictions in predictions_dict.values()])"
   ]
  },
  {
   "cell_type": "code",
   "execution_count": 17,
   "id": "06e57eeb",
   "metadata": {},
   "outputs": [],
   "source": [
    "comparison_df = pd.DataFrame({\n",
    "    'auto_regressive_protein': get_average_predictions(ar_predictions_dict['dict_predictions_interface']),\n",
    "    'auto_regressive_ubiquitin': get_average_predictions(ar_predictions_dict['dict_predictions_ubiquitin']),\n",
    "    'base_protein': get_average_predictions(base_predictions_dict['dict_predictions_interface']),\n",
    "    'base_ubiquitin': get_average_predictions(base_predictions_dict['dict_predictions_ubiquitin'])\n",
    "})"
   ]
  },
  {
   "cell_type": "code",
   "execution_count": 1,
   "id": "b084a588",
   "metadata": {},
   "outputs": [
    {
     "ename": "NameError",
     "evalue": "name 'comparison_df' is not defined",
     "output_type": "error",
     "traceback": [
      "\u001b[0;31m---------------------------------------------------------------------------\u001b[0m",
      "\u001b[0;31mNameError\u001b[0m                                 Traceback (most recent call last)",
      "Cell \u001b[0;32mIn[1], line 1\u001b[0m\n\u001b[0;32m----> 1\u001b[0m \u001b[43mcomparison_df\u001b[49m\n",
      "\u001b[0;31mNameError\u001b[0m: name 'comparison_df' is not defined"
     ]
    }
   ],
   "source": [
    "comparison_df"
   ]
  },
  {
   "cell_type": "code",
   "execution_count": null,
   "id": "c3382b82",
   "metadata": {},
   "outputs": [],
   "source": [
    "px.histogram(comparison_df, comparison_df.columns, barmode='overlay', histnorm='percent')"
   ]
  },
  {
   "cell_type": "markdown",
   "id": "2a61e85d",
   "metadata": {},
   "source": [
    "## check trail run"
   ]
  },
  {
   "cell_type": "code",
   "execution_count": 6,
   "id": "8bfbaf5f",
   "metadata": {},
   "outputs": [],
   "source": [
    "with open('../../../../datasets/patch_to_score/patches_dicts/03_04_with_pesto_trial/percentile_90.pkl', 'rb') as f:\n",
    "    percentile = pickle.load(f)"
   ]
  },
  {
   "cell_type": "code",
   "execution_count": 7,
   "id": "338aa003",
   "metadata": {},
   "outputs": [
    {
     "data": {
      "text/plain": [
       "0.26495680809021005"
      ]
     },
     "execution_count": 7,
     "metadata": {},
     "output_type": "execute_result"
    }
   ],
   "source": [
    "percentile"
   ]
  },
  {
   "cell_type": "code",
   "execution_count": 9,
   "id": "7a60114f",
   "metadata": {},
   "outputs": [
    {
     "data": {
      "text/plain": [
       "6"
      ]
     },
     "execution_count": 9,
     "metadata": {},
     "output_type": "execute_result"
    }
   ],
   "source": [
    "len(new_predictions_dict)"
   ]
  },
  {
   "cell_type": "code",
   "execution_count": 14,
   "id": "ff48ab5a",
   "metadata": {},
   "outputs": [
    {
     "data": {
      "text/plain": [
       "dict_keys(['dict_resids', 'dict_sequences', 'dict_sources', 'dict_pdb_files', 'dict_predictions_interface', 'dict_predictions_ubiquitin'])"
      ]
     },
     "execution_count": 14,
     "metadata": {},
     "output_type": "execute_result"
    }
   ],
   "source": [
    "new_predictions_dict.keys()"
   ]
  },
  {
   "cell_type": "code",
   "execution_count": 20,
   "id": "27976a19",
   "metadata": {},
   "outputs": [
    {
     "name": "stderr",
     "output_type": "stream",
     "text": [
      "/home/iscb/wolfson/doririmon/anaconda3/envs/ubinet-gpu/lib/python3.10/site-packages/Bio/pairwise2.py:278: BiopythonDeprecationWarning: Bio.pairwise2 has been deprecated, and we intend to remove it in a future release of Biopython. As an alternative, please consider using Bio.Align.PairwiseAligner as a replacement, and contact the Biopython developers if you still need the Bio.pairwise2 module.\n",
      "  warnings.warn(\n",
      "2025-08-04 23:39:57.210557: I tensorflow/core/platform/cpu_feature_guard.cc:193] This TensorFlow binary is optimized with oneAPI Deep Neural Network Library (oneDNN) to use the following CPU instructions in performance-critical operations:  AVX2 AVX512F AVX512_VNNI AVX512_BF16 AVX_VNNI AMX_TILE AMX_INT8 AMX_BF16 FMA\n",
      "To enable them in other operations, rebuild TensorFlow with the appropriate compiler flags.\n",
      "2025-08-04 23:40:00.795746: I tensorflow/core/util/port.cc:104] oneDNN custom operations are on. You may see slightly different numerical results due to floating-point round-off errors from different computation orders. To turn them off, set the environment variable `TF_ENABLE_ONEDNN_OPTS=0`.\n",
      "2025-08-04 23:40:14.394391: W tensorflow/compiler/xla/stream_executor/platform/default/dso_loader.cc:64] Could not load dynamic library 'libnvinfer.so.7'; dlerror: libnvinfer.so.7: cannot open shared object file: No such file or directory; LD_LIBRARY_PATH: /home/iscb/wolfson/doririmon/anaconda3/envs/ubinet-gpu/lib\n",
      "2025-08-04 23:40:14.394805: W tensorflow/compiler/xla/stream_executor/platform/default/dso_loader.cc:64] Could not load dynamic library 'libnvinfer_plugin.so.7'; dlerror: libnvinfer_plugin.so.7: cannot open shared object file: No such file or directory; LD_LIBRARY_PATH: /home/iscb/wolfson/doririmon/anaconda3/envs/ubinet-gpu/lib\n",
      "2025-08-04 23:40:14.394811: W tensorflow/compiler/tf2tensorrt/utils/py_utils.cc:38] TF-TRT Warning: Cannot dlopen some TensorRT libraries. If you would like to use Nvidia GPU with TensorRT, please make sure the missing libraries mentioned above are installed properly.\n"
     ]
    }
   ],
   "source": [
    "with open('../../../../datasets/patch_to_score/patches_dicts/03_04_with_pesto_trial/proteinObjectsWithEvoluion0', 'rb') as f:\n",
    "    protein_objects = pickle.load(f)"
   ]
  },
  {
   "cell_type": "code",
   "execution_count": 21,
   "id": "8832f093",
   "metadata": {},
   "outputs": [
    {
     "data": {
      "text/plain": [
       "1500"
      ]
     },
     "execution_count": 21,
     "metadata": {},
     "output_type": "execute_result"
    }
   ],
   "source": [
    "len(protein_objects)"
   ]
  },
  {
   "cell_type": "code",
   "execution_count": 24,
   "id": "807e38f0",
   "metadata": {},
   "outputs": [
    {
     "data": {
      "text/plain": [
       "dict_keys(['A0A022QL98', 'A0A022RQB5', 'A0A022S055', 'A0A059D4L0', 'A0A061GXI7', 'A0A061H0D1', 'A0A067FAT6', 'A0A067FUV5', 'A0A072UEZ0', 'A0A078FBG7', 'A0A078GHE3', 'A0A078GX15', 'A0A078JK01', 'A0A0A0KE12', 'A0A0D1CFJ5', 'A0A0K9PV95', 'A0A0K9QK53', 'A0A0K9S0M1', 'A0A0N7KH34', 'A0A0P0XAH7', 'A0A0R0GFI8', 'A0A139WLH6', 'A0A1D5PCI5', 'A0A1D6EJ37', 'A0A1D6IP61', 'A0A1D6IQP4', 'A0A1D6JZI3', 'A0A1D6QG29', 'A0A1S3ZGD7', 'A0A1S4A564', 'A0A1S4C9D4', 'A0A1S4DH95', 'A0A1S4H7Q4', 'A0A1S4LTZ3', 'A0A1U7ZS47', 'A0A1U8HTI2', 'A0A1U8LG39', 'A0A1U8LK58', 'A0A1U8M443', 'A0A1U8MF38', 'A0A1U8PEL1', 'A0A1U8PXG1', 'A0A1Y1HI12', 'A0A1Y1IF72', 'A0A1Z5SA05', 'A0A251K5F7', 'A0A251NKI3', 'A0A251NWY3', 'A0A251U6N0', 'A0A251UJ00', 'A0A251UX69', 'A0A251UY41', 'A0A287A3T5', 'A0A287H5A5', 'A0A287P697', 'A0A2C9U4B9', 'A0A2G2XVB4', 'A0A2G2Y1D8', 'A0A2I2ZSP6', 'A0A2I3TRX7', 'A0A2I4EIG1', 'A0A2I4F2G0', 'A0A2I4FA14', 'A0A2J6KRG9', 'A0A2J6LLS7', 'A0A2K1JZ30', 'A0A2K1KLQ8', 'A0A2K1KTW3', 'A0A2K1Z4D9', 'A0A2K2C4Z1', 'A0A2K2DTH0', 'A0A2R6W5Q6', 'A0A2R6WAH6', 'A0A3B5XUL9', 'A0A3B5ZQE1', 'A0A3B6AS54', 'A0A3B6BZN8', 'A0A3B6D695', 'A0A3B6HQE1', 'A0A3B6HT57', 'A0A3B6IRA5', 'A0A3B6IRQ2', 'A0A3B6JI82', 'A0A3B6JIV5', 'A0A3B6KGC3', 'A0A3B6LIE8', 'A0A3B6MPG9', 'A0A3Q2HZC6', 'A0A3Q2TYL5', 'A0A3Q7GMH0', 'A0A3Q7I083', 'A0A5F4CY33', 'A0A5F8A1T9', 'A0A5K1U589', 'A0A6I8NHP1', 'A0A6I8PNF0', 'A0A7M7GH69', 'A0A7M7THB2', 'A0A803JH58', 'A0AVT1', 'A0C799', 'A0DVJ4', 'A0E0I6', 'A2E718', 'A2EP39', 'A2F917', 'A2G060', 'A2G7V0', 'A3KMV5', 'A7ESF4', 'A7RV71', 'A7SSG6', 'A8J1C1', 'A8WV26', 'A9REZ6', 'A9V503', 'B3RWM5', 'B3S1B4', 'B6JWS7', 'B7Q156', 'B8BYU7', 'B8BZK3', 'B8C120', 'B9HNB0', 'B9SKU8', 'B9SKZ1', 'C3ZZI8', 'C4M7T9', 'C5X6C6', 'C5Y2Z7', 'C5YQ24', 'C8VMA9', 'D8RCF4', 'D8SHI4', 'D8T4W4', 'D8T5S9', 'E1B8X4', 'E2RE24', 'E3KBL0', 'E9G7X1', 'F0ZAP3', 'F1ME38', 'F4NY58', 'F6GUM1', 'F6GXU4', 'F6SPU4', 'F6U4V1', 'F7C1J2', 'F7C6F2', 'F7C8D9', 'G1KE14', 'G1KGJ3', 'G3QX61', 'G7KEA9', 'H2LED8', 'H2LLC6', 'H2LXD0', 'H3G877', 'H9G1D3', 'H9G6E9', 'I1GQV9', 'I1INX4', 'I1IV69', 'I1MZW3', 'K3Y4U3', 'K3ZH11', 'K3ZQ99', 'K4A591', 'K7D7T2', 'K7KA83', 'K7LR00', 'M0ZAT8', 'M1BU82', 'M1CJ63', 'M3VWK3', 'M3WHK1', 'M4CY99', 'M4DP97', 'M4DYL5', 'M4E1X9', 'P20973', 'P22314', 'P31251', 'P31252', 'Q0UI57', 'Q13564', 'Q2RBM4', 'Q4WZU2', 'Q57XC5', 'Q5KPX3', 'Q5ZIE6', 'Q6C6V1', 'Q752Y8', 'Q7Q726', 'Q7RWR0', 'Q8I5F9', 'Q9NF77', 'Q9UBE0', 'T1EFJ4', 'T1ELT8', 'T1G9H4', 'W1PMH5', 'W5MY20', 'W5NAJ3', 'A0A022PRA6', 'A0A022PY48', 'A0A022Q011', 'A0A022Q116', 'A0A022Q6W2', 'A0A022Q6W7', 'A0A022Q9W7', 'A0A022QAC5', 'A0A022QCJ7', 'A0A022QD30', 'A0A022QD37', 'A0A022QGE7', 'A0A022QPY8', 'A0A022QYC5', 'A0A022QYP5', 'A0A022QZ35', 'A0A022QZ73', 'A0A022R7C4', 'A0A022R8Q4', 'A0A022R9T5', 'A0A022RDL2', 'A0A022RR49', 'A0A022RWR4', 'A0A022RXK0', 'A0A022RY95', 'A0A022S0S4', 'A0A022S2T1', 'A0A022S5X4', 'A0A059A1J2', 'A0A059A5G9', 'A0A059A658', 'A0A059A7I2', 'A0A059A7Y8', 'A0A059AA29', 'A0A059ABV9', 'A0A059ACY6', 'A0A059AIX1', 'A0A059ARU5', 'A0A059B4Z5', 'A0A059B5A0', 'A0A059BMK6', 'A0A059BV26', 'A0A059CA16', 'A0A059CB82', 'A0A059CW88', 'A0A059CYX0', 'A0A059D892', 'A0A059DBX6', 'A0A061DLV4', 'A0A061DU44', 'A0A061E4Z5', 'A0A061ENX3', 'A0A061EP10', 'A0A061EWT2', 'A0A061EWX4', 'A0A061F7Z1', 'A0A061F987', 'A0A061FFI9', 'A0A061FMC2', 'A0A061FNY6', 'A0A061FU20', 'A0A061FYJ2', 'A0A061G5E3', 'A0A061GJX4', 'A0A061GMQ5', 'A0A061GRH2', 'A0A061GS19', 'A0A061GTP8', 'A0A061H034', 'A0A067E0V4', 'A0A067E3K1', 'A0A067E6R3', 'A0A067E8Q0', 'A0A067EIR1', 'A0A067F8K0', 'A0A067FB27', 'A0A067FH04', 'A0A067FHT3', 'A0A067FJS7', 'A0A067FSV1', 'A0A067FX17', 'A0A067FX26', 'A0A067G229', 'A0A067GBM3', 'A0A067GCA0', 'A0A067GJ63', 'A0A067H1C2', 'A0A067H507', 'A0A067HEH4', 'A0A072TGI6', 'A0A072TMX8', 'A0A072TRN1', 'A0A072TU80', 'A0A072UGI5', 'A0A072V9L3', 'A0A072VAH5', 'A0A072VDB4', 'A0A072VKQ5', 'A0A072VNN5', 'A0A075EYQ4', 'A0A075F2H4', 'A0A077RVK2', 'A0A077S1K0', 'A0A078F4C8', 'A0A078F9F0', 'A0A078FHZ3', 'A0A078FP02', 'A0A078G375', 'A0A078G568', 'A0A078G8M5', 'A0A078GAU7', 'A0A078GBS9', 'A0A078GCB9', 'A0A078GEU6', 'A0A078GFX4', 'A0A078GJ04', 'A0A078GKG1', 'A0A078GKU5', 'A0A078GMP2', 'A0A078GN46', 'A0A078GNP4', 'A0A078GNY6', 'A0A078GQ57', 'A0A078GYE7', 'A0A078H1K1', 'A0A078H360', 'A0A078H478', 'A0A078H496', 'A0A078H4K9', 'A0A078H5Z4', 'A0A078H9U8', 'A0A078HB41', 'A0A078HBK8', 'A0A078HGY7', 'A0A078HIA9', 'A0A078HNF5', 'A0A078HQZ5', 'A0A078HSE0', 'A0A078HV60', 'A0A078HZ19', 'A0A078HZM6', 'A0A078I3B7', 'A0A078I6Q2', 'A0A078I7G1', 'A0A078IBN6', 'A0A078IBQ6', 'A0A078IBR9', 'A0A078IDG6', 'A0A078IH82', 'A0A078IPD8', 'A0A078IQF0', 'A0A078ISR4', 'A0A078IUN2', 'A0A078IWK3', 'A0A078IX24', 'A0A078IZD0', 'A0A078J250', 'A0A078J4J6', 'A0A078J506', 'A0A078J5G6', 'A0A078JCK0', 'A0A078JCV5', 'A0A078JCY9', 'A0A078JE31', 'A0A078JFX2', 'A0A078JGA1', 'A0A078JIH7', 'A0A078JQ99', 'A0A0A0KF07', 'A0A0A0KF71', 'A0A0A0KNV9', 'A0A0A0KUH0', 'A0A0A0KV09', 'A0A0A0KWU2', 'A0A0A0KZM7', 'A0A0A0L0F5', 'A0A0A0L3K0', 'A0A0A0L954', 'A0A0A0L9H6', 'A0A0A0LLZ5', 'A0A0A0LP72', 'A0A0A0LQU9', 'A0A0A0LTY2', 'A0A0A0LVA7', 'A0A0D1C341', 'A0A0D1C3P4', 'A0A0D1C907', 'A0A0D1CU12', 'A0A0D1D151', 'A0A0D1D1G3', 'A0A0D1DP39', 'A0A0D1DZT1', 'A0A0D1E375', 'A0A0D1E680', 'A0A0D1E7U6', 'A0A0K9NPL5', 'A0A0K9NPN4', 'A0A0K9NWT1', 'A0A0K9NX16', 'A0A0K9NX65', 'A0A0K9NYI4', 'A0A0K9P1B9', 'A0A0K9P2B4', 'A0A0K9P4C9', 'A0A0K9P4E5', 'A0A0K9P574', 'A0A0K9P7M8', 'A0A0K9PBI5', 'A0A0K9PDS2', 'A0A0K9PFJ7', 'A0A0K9PP60', 'A0A0K9PQ92', 'A0A0K9PRW6', 'A0A0K9Q0K9', 'A0A0K9Q205', 'A0A0K9Q5J3', 'A0A0K9Q5Y4', 'A0A0K9Q898', 'A0A0K9QAZ7', 'A0A0K9QEB7', 'A0A0K9QEV3', 'A0A0K9QIW6', 'A0A0K9QKU2', 'A0A0K9QQN9', 'A0A0K9QRS7', 'A0A0K9QUL9', 'A0A0K9R469', 'A0A0K9R4R6', 'A0A0K9R7D0', 'A0A0K9RA17', 'A0A0K9RKI6', 'A0A0K9RKL7', 'A0A0K9RMI6', 'A0A0K9RT26', 'A0A0K9RUC4', 'A0A0K9RUM3', 'A0A0K9RUY5', 'A0A0K9RWF7', 'A0A0K9RZG4', 'A0A0K9S3F9', 'A0A0K9S3W6', 'A0A0N7KCM1', 'A0A0P0V6G8', 'A0A0P0WZL6', 'A0A0Q3HBZ6', 'A0A0Q3IAJ5', 'A0A0Q3L5C0', 'A0A0Q3MRL5', 'A0A0R0F7L9', 'A0A0R0H669', 'A0A0R0HF85', 'A0A0R0JMD5', 'A0A0R4J375', 'A0A143ZY34', 'A0A194YKM1', 'A0A194YR37', 'A0A199UDA1', 'A0A1B0GUS4', 'A0A1B6P8V3', 'A0A1B6Q0M2', 'A0A1B6Q0M5', 'A0A1B6Q2V0', 'A0A1B6Q5B0', 'A0A1B6QBT2', 'A0A1B6QNP1', 'A0A1D5NTD4', 'A0A1D5NU23', 'A0A1D5NUJ8', 'A0A1D5NVE2', 'A0A1D5P476', 'A0A1D5PH36', 'A0A1D5QFY2', 'A0A1D5QJN8', 'A0A1D5QQB8', 'A0A1D5QUF9', 'A0A1D5QWJ2', 'A0A1D5QYR8', 'A0A1D5R9C6', 'A0A1D5STP8', 'A0A1D6ENM7', 'A0A1D6FJU1', 'A0A1D6FJY8', 'A0A1D6FRP9', 'A0A1D6G1D6', 'A0A1D6G555', 'A0A1D6GPX9', 'A0A1D6GYT0', 'A0A1D6JNR7', 'A0A1D6K0D1', 'A0A1D6KGW2', 'A0A1D6KUA8', 'A0A1D6KUC5', 'A0A1D6LQF9', 'A0A1D6MCH9', 'A0A1D6MF01', 'A0A1D6MQI6', 'A0A1D6NG29', 'A0A1D6NLJ7', 'A0A1D6NT78', 'A0A1D6PF47', 'A0A1D6Q757', 'A0A1L1RJI2', 'A0A1L1RND8', 'A0A1L1RY95', 'A0A1S3WXX8', 'A0A1S3X529', 'A0A1S3X6Q5', 'A0A1S3X8L6', 'A0A1S3XRF1', 'A0A1S3XSD8', 'A0A1S3XX43', 'A0A1S3YAW2', 'A0A1S3YDY3', 'A0A1S3YEW4', 'A0A1S3YG75', 'A0A1S3YHZ6', 'A0A1S3YL81', 'A0A1S3YM20', 'A0A1S3YNC5', 'A0A1S3Z1V1', 'A0A1S3ZA43', 'A0A1S3ZNS1', 'A0A1S3ZPK9', 'A0A1S3ZUR2', 'A0A1S3ZZQ0', 'A0A1S4A3Y6', 'A0A1S4A7Y5', 'A0A1S4ABX0', 'A0A1S4AE14', 'A0A1S4AKJ2', 'A0A1S4AMG6', 'A0A1S4AVB0', 'A0A1S4BDK6', 'A0A1S4BHF4', 'A0A1S4BKC9', 'A0A1S4BNI9', 'A0A1S4BWM4', 'A0A1S4BX07', 'A0A1S4C4W4', 'A0A1S4C847', 'A0A1S4CAM6', 'A0A1S4CCR8', 'A0A1S4CJ22', 'A0A1S4CLK3', 'A0A1S4CRT2', 'A0A1S4CUS1', 'A0A1S4CYR5', 'A0A1S4D1H7', 'A0A1S4D9P1', 'A0A1S4DRX4', 'A0A1S4M0R5', 'A0A1U7YZX6', 'A0A1U7Z6F3', 'A0A1U7ZE97', 'A0A1U7ZGJ0', 'A0A1U7ZLN1', 'A0A1U7ZMI1', 'A0A1U7ZQ87', 'A0A1U7ZQE2', 'A0A1U7ZWL5', 'A0A1U7ZXB9', 'A0A1U7ZZI3', 'A0A1U7ZZU1', 'A0A1U8A0V0', 'A0A1U8AKS5', 'A0A1U8AQ03', 'A0A1U8AYY8', 'A0A1U8B3W1', 'A0A1U8BA85', 'A0A1U8BC43', 'A0A1U8BCF2', 'A0A1U8BGG5', 'A0A1U8BMC8', 'A0A1U8DVA4', 'A0A1U8EPJ8', 'A0A1U8EQC1', 'A0A1U8FKX9', 'A0A1U8FW96', 'A0A1U8G353', 'A0A1U8G5S0', 'A0A1U8GBI5', 'A0A1U8GLZ3', 'A0A1U8H457', 'A0A1U8H4U9', 'A0A1U8HB31', 'A0A1U8HCN0', 'A0A1U8HGJ2', 'A0A1U8HJ69', 'A0A1U8HQT3', 'A0A1U8HY98', 'A0A1U8HZA5', 'A0A1U8IGU5', 'A0A1U8IJE7', 'A0A1U8IKL8', 'A0A1U8IRC1', 'A0A1U8IX39', 'A0A1U8J4G6', 'A0A1U8J638', 'A0A1U8J681', 'A0A1U8J6P8', 'A0A1U8J6U0', 'A0A1U8JBD2', 'A0A1U8JCF7', 'A0A1U8JFF7', 'A0A1U8JU10', 'A0A1U8K640', 'A0A1U8KEK9', 'A0A1U8KIK2', 'A0A1U8KPF3', 'A0A1U8KQ46', 'A0A1U8KU94', 'A0A1U8L2F8', 'A0A1U8LDV6', 'A0A1U8LEH8', 'A0A1U8LLS8', 'A0A1U8LND1', 'A0A1U8M190', 'A0A1U8M4B2', 'A0A1U8M5M3', 'A0A1U8M6S3', 'A0A1U8MCC0', 'A0A1U8MCZ3', 'A0A1U8MD24', 'A0A1U8MDX9', 'A0A1U8MEQ0', 'A0A1U8MGU6', 'A0A1U8MLS5', 'A0A1U8MV16', 'A0A1U8N0G2', 'A0A1U8N1I0', 'A0A1U8NCW2', 'A0A1U8NDG7', 'A0A1U8NIQ6', 'A0A1U8NRH0', 'A0A1U8P0K7', 'A0A1U8P142', 'A0A1U8P1E1', 'A0A1U8P276', 'A0A1U8P6P3', 'A0A1U8PDP1', 'A0A1U8PK16', 'A0A1U8PQQ6', 'A0A1U8PV18', 'A0A1U8PX82', 'A0A1U8PYE2', 'A0A1U8Q1C0', 'A0A1U8Q4C5', 'A0A1U8Q4Z6', 'A0A1U8Q6G6', 'A0A1U8Q9B5', 'A0A1W2WIY7', 'A0A1Y1HQV5', 'A0A1Y1HW22', 'A0A1Y1I7P6', 'A0A1Y1ICV7', 'A0A1Y1IHJ9', 'A0A1Y1IJE8', 'A0A1Z5R2J0', 'A0A1Z5RAJ8', 'A0A1Z5S6Z7', 'A0A251J4W1', 'A0A251J565', 'A0A251JAA7', 'A0A251JBD5', 'A0A251JRC0', 'A0A251LAC7', 'A0A251LCU6', 'A0A251ND31', 'A0A251ND37', 'A0A251ND47', 'A0A251ND84', 'A0A251NFM2', 'A0A251NKD7', 'A0A251NLR5', 'A0A251P317', 'A0A251P8H5', 'A0A251PLP0', 'A0A251PMF7', 'A0A251PTC7', 'A0A251QW66', 'A0A251RKQ5', 'A0A251RQQ9', 'A0A251RS57', 'A0A251RTB5', 'A0A251RWW0', 'A0A251S508', 'A0A251S7L4', 'A0A251SJG0', 'A0A251SKR4', 'A0A251SS29', 'A0A251SX83', 'A0A251SXS1', 'A0A251SXU9', 'A0A251SZ08', 'A0A251SZU3', 'A0A251T1Z3', 'A0A251T2Q2', 'A0A251T3B2', 'A0A251T5D9', 'A0A251T8A8', 'A0A251TP68', 'A0A251TZN8', 'A0A251U0E9', 'A0A251U1M7', 'A0A251U1P3', 'A0A251U561', 'A0A251UFL0', 'A0A251UG78', 'A0A251UIS0', 'A0A251UJ17', 'A0A251UJE0', 'A0A251UKC0', 'A0A251UQW2', 'A0A251UV17', 'A0A251UV50', 'A0A251V4G4', 'A0A251V4Y9', 'A0A251V942', 'A0A251VE09', 'A0A286ZMX2', 'A0A286ZPH4', 'A0A287AB80', 'A0A287ABE6', 'A0A287ACT6', 'A0A287AH57', 'A0A287AUE4', 'A0A287AW87', 'A0A287B207', 'A0A287BC59', 'A0A287BE13', 'A0A287BPQ6', 'A0A287F1E2', 'A0A287F5V8', 'A0A287G6E3', 'A0A287GKG7', 'A0A287GLA0', 'A0A287GLB5', 'A0A287GPP6', 'A0A287HJR9', 'A0A287KN81', 'A0A287KND3', 'A0A287KNH8', 'A0A287LA57', 'A0A287LAR7', 'A0A287M3A6', 'A0A287ME54', 'A0A287P342', 'A0A287PTP9', 'A0A287QSG9', 'A0A287RAC0', 'A0A287S693', 'A0A287T2X9', 'A0A287TSI2', 'A0A287VYN5', 'A0A288CFV1', 'A0A2C9U7L0', 'A0A2C9UAI3', 'A0A2C9UB48', 'A0A2C9UBS8', 'A0A2C9UCN7', 'A0A2C9UI78', 'A0A2C9UIL0', 'A0A2C9UJU0', 'A0A2C9V273', 'A0A2C9V434', 'A0A2C9V598', 'A0A2C9V8W2', 'A0A2C9VMM7', 'A0A2C9VQD2', 'A0A2C9VTS6', 'A0A2C9VV36', 'A0A2C9VWJ2', 'A0A2C9VZ83', 'A0A2C9W2N4', 'A0A2C9WA87', 'A0A2C9WA96', 'A0A2C9WCG4', 'A0A2C9WG70', 'A0A2C9WM49', 'A0A2C9WP51', 'A0A2G2Y8E2', 'A0A2G2YB25', 'A0A2G2YBP1', 'A0A2G2YFG9', 'A0A2G2YH10', 'A0A2G2YNV6', 'A0A2G2YTJ0', 'A0A2G2Z3X5', 'A0A2G2ZG66', 'A0A2G3A1J0', 'A0A2G3AHV0', 'A0A2I2U339', 'A0A2I2U7D7', 'A0A2I2U8J2', 'A0A2I2UNS7', 'A0A2I2UPI1', 'A0A2I2UQN8', 'A0A2I2UT95', 'A0A2I2UYS7', 'A0A2I2V3C8', 'A0A2I2Y330', 'A0A2I2Y3K3', 'A0A2I2YEA5', 'A0A2I2YG43', 'A0A2I2YHS9', 'A0A2I2YMV6', 'A0A2I2YS92', 'A0A2I2YYM9', 'A0A2I2Z3T7', 'A0A2I2Z459', 'A0A2I2Z4A2', 'A0A2I2Z7B4', 'A0A2I2ZGC8', 'A0A2I2ZIJ1', 'A0A2I2ZJ41', 'A0A2I2ZSM0', 'A0A2I2ZXG1', 'A0A2I2ZY55', 'A0A2I3RL41', 'A0A2I3RLK7', 'A0A2I3RRD2', 'A0A2I3S6N5', 'A0A2I3SA71', 'A0A2I3SAT6', 'A0A2I3SF28', 'A0A2I3SGQ4', 'A0A2I3SLL5', 'A0A2I3T8J8', 'A0A2I3THX3', 'A0A2I3TK29', 'A0A2I4DN65', 'A0A2I4DUZ5', 'A0A2I4DWR0', 'A0A2I4EFD2', 'A0A2I4EI76', 'A0A2I4EP61', 'A0A2I4ERM3', 'A0A2I4EU31', 'A0A2I4F0D9', 'A0A2I4F198', 'A0A2I4F1P4', 'A0A2I4F219', 'A0A2I4FAE4', 'A0A2I4FCF5', 'A0A2I4FIT2', 'A0A2I4FJC9', 'A0A2I4FK51', 'A0A2I4FU58', 'A0A2I4FWJ5', 'A0A2I4G3E6', 'A0A2I4G4N7', 'A0A2I4GQ17', 'A0A2I4GZV9', 'A0A2I4H2P2', 'A0A2I4H8P0', 'A0A2I4HRA3', 'A0A2I4HT76', 'A0A2J6JFT6', 'A0A2J6JH22', 'A0A2J6JIA1', 'A0A2J6JJV9', 'A0A2J6JLE2', 'A0A2J6JQX9', 'A0A2J6JXJ0', 'A0A2J6K4X9', 'A0A2J6K7R8', 'A0A2J6KE96', 'A0A2J6KEK4', 'A0A2J6KFM5', 'A0A2J6KJH3', 'A0A2J6KM56', 'A0A2J6KPI6', 'A0A2J6KRE4', 'A0A2J6KX25', 'A0A2J6L045', 'A0A2J6L7F9', 'A0A2J6L9S0', 'A0A2J6LBG5', 'A0A2J6LC10', 'A0A2J6LDT9', 'A0A2J6LEE0', 'A0A2J6LEK1', 'A0A2J6LIJ1', 'A0A2J6MF81', 'A0A2J6MI42', 'A0A2J6MIG7', 'A0A2J6MK01', 'A0A2J8MLR7', 'A0A2K1IF12', 'A0A2K1IGH0', 'A0A2K1IHQ2', 'A0A2K1IKD7', 'A0A2K1J2J6', 'A0A2K1JHY5', 'A0A2K1KCY2', 'A0A2K1KUD2', 'A0A2K1X9N0', 'A0A2K1YIZ0', 'A0A2K1YU46', 'A0A2K1ZF23', 'A0A2K1ZVS8', 'A0A2K2A383', 'A0A2K2CAT4', 'A0A2K2CB64', 'A0A2K2DE69', 'A0A2K3CZL5', 'A0A2K3D9T3', 'A0A2K3DHD3', 'A0A2K3DTZ4', 'A0A2K3DZM2', 'A0A2K3E455', 'A0A2K3E6F3', 'A0A2K3E7S5', 'A0A2R6W3T7', 'A0A2R6W573', 'A0A2R6W6L2', 'A0A2R6WB57', 'A0A2R6WMI3', 'A0A2R6WNY5', 'A0A2R6WRX8', 'A0A2R6X8I9', 'A0A2R8QIN6', 'A0A337RYH4', 'A0A337SG23', 'A0A337SGQ0', 'A0A337SRE7', 'A0A368UI92', 'A0A3B3H919', 'A0A3B3HR37', 'A0A3B3HWB0', 'A0A3B3HWJ8', 'A0A3B3HWS4', 'A0A3B3HWT6', 'A0A3B3HXY7', 'A0A3B3I4B1', 'A0A3B3I5T7', 'A0A3B3IG49', 'A0A3B3IN86', 'A0A3B5XUP9', 'A0A3B5XX08', 'A0A3B5XXX3', 'A0A3B5Y5V0', 'A0A3B5YS76', 'A0A3B5YVU6', 'A0A3B5YZY6', 'A0A3B5Z4C3', 'A0A3B5Z4V5', 'A0A3B5ZQH5', 'A0A3B5ZRL8', 'A0A3B5ZTE9', 'A0A3B6A139', 'A0A3B6AV28', 'A0A3B6C3I8', 'A0A3B6DDI5', 'A0A3B6EDS3', 'A0A3B6EDS8', 'A0A3B6EFP3', 'A0A3B6EIU1', 'A0A3B6EQ39', 'A0A3B6FKN4', 'A0A3B6FP67', 'A0A3B6GRC7', 'A0A3B6GRK6', 'A0A3B6GTU5', 'A0A3B6GU93', 'A0A3B6GYK3', 'A0A3B6H0V6', 'A0A3B6HQQ9', 'A0A3B6HXE4', 'A0A3B6I5F3', 'A0A3B6IN27', 'A0A3B6IRE7', 'A0A3B6IUF3', 'A0A3B6JJI0', 'A0A3B6JNX8', 'A0A3B6KHB9', 'A0A3B6KKV1', 'A0A3B6LL01', 'A0A3B6LP06', 'A0A3B6LS59', 'A0A3B6LZ02', 'A0A3B6MQQ7', 'A0A3B6MTY5', 'A0A3B6MUU5', 'A0A3B6N1U2', 'A0A3B6NPB5', 'A0A3B6PJH9', 'A0A3B6QFG8', 'A0A3B6RB82', 'A0A3B6RN63', 'A0A3B6RR49', 'A0A3B6SD12', 'A0A3B6SRU2', 'A0A3B6SRV4', 'A0A3B6TMK3', 'A0A3B6TQV6', 'A0A3B6TRN1', 'A0A3N7FTA6', 'A0A3N7GEW7', 'A0A3Q1LGG5', 'A0A3Q1LV60', 'A0A3Q1M049', 'A0A3Q1M5N0', 'A0A3Q1MAR8', 'A0A3Q1MLB6', 'A0A3Q1MQ26', 'A0A3Q1N1X1', 'A0A3Q2GYL1', 'A0A3Q2H963', 'A0A3Q2I473', 'A0A3Q2I833', 'A0A3Q2I9D8', 'A0A3Q2ICE8', 'A0A3Q2KWR1', 'A0A3Q2KWY6', 'A0A3Q2TTZ6', 'A0A3Q2U098', 'A0A3Q2U636', 'A0A3Q2UHQ2', 'A0A3Q7E7L1', 'A0A3Q7GNT5', 'A0A3Q7H275', 'A0A3Q7HA99', 'A0A3Q7HCL6', 'A0A3Q7IBS3', 'A0A3Q7ICD9', 'A0A3Q7IDF7', 'A0A3Q7IYT4', 'A0A3Q7J5C9', 'A0A452DII5', 'A0A480WYW1', 'A0A4X3NSU4', 'A0A4X3P6M5', 'A0A5F4BPP4', 'A0A5F4C0N6', 'A0A5F4C7C5', 'A0A5F4C7T7', 'A0A5F4CL53', 'A0A5F4DAT9', 'A0A5F4DF59', 'A0A5F5PII4', 'A0A5F5XI38', 'A0A5F5XNQ7', 'A0A5F5XQR6', 'A0A5F5XVB7', 'A0A5F7ZTJ3', 'A0A5F7ZW02', 'A0A5F7ZZS0', 'A0A5F8A332', 'A0A5F8ABK1', 'A0A5F8AK55', 'A0A5F8G8E1', 'A0A5F8GBL1', 'A0A5F8GGW1', 'A0A5F8GLN2', 'A0A5F8GNR4', 'A0A5F8H9J8', 'A0A5F8HBV9', 'A0A5G2Q9F8', 'A0A5G2QUT6', 'A0A5G2QW49', 'A0A5G2QZC6', 'A0A5G2R1D9', 'A0A5K1UGT3', 'A0A644F7I8', 'A0A6I8MX03', 'A0A6I8N639', 'A0A6I8N6F1', 'A0A6I8NDN4', 'A0A6I8NJQ1', 'A0A6I8NL48', 'A0A6I8NRU2', 'A0A6I8NT23', 'A0A6I8NVW3', 'A0A6I8P235', 'A0A6I8P329', 'A0A6I8P3X1', 'A0A6I8P7I3', 'A0A6I8PCL1', 'A0A6I8PHT9', 'A0A6I8PI32', 'A0A6I8PP52', 'A0A6I8R2Q8', 'A0A6I8RJD4', 'A0A6P9DTF3', 'A0A6P9EEN8', 'A0A6P9EI01', 'A0A6P9EI87', 'A0A6P9EQB4', 'A0A6P9EUB6', 'A0A7I4AXQ4', 'A0A7I4F5F0', 'A0A7I4FJV2', 'A0A7I4FSZ0', 'A0A7M7GGU9', 'A0A7M7LP02', 'A0A7M7LSY5', 'A0A7M7N1X0', 'A0A7M7NGU8', 'A0A7M7NIJ4', 'A0A7M7NIR5', 'A0A7M7PEW5', 'A0A7M7RBB2', 'A0A7M7RBQ7', 'A0A7M7RDN1', 'A0A7M7REH1', 'A0A7M7RG05', 'A0A7M7SVX6', 'A0A7M7SXD3', 'A0A7M7T209', 'A0A7M7TH34', 'A0A803KFP1', 'A0A803KGU4', 'A0A803KKC7', 'A0BCZ6', 'A0BJ41', 'A0BKX8', 'A0BMG6', 'A0BMS1', 'A0BPF8', 'A0BQN5', 'A0BTX3', 'A0BUC8', 'A0BWY1', 'A0BY61', 'A0C0C6', 'A0C0Q6', 'A0C227', 'A0C3F7', 'A0C867', 'A0CAK6', 'A0CCE4', 'A0CD76', 'A0CFR8', 'A0CH05', 'A0CR36', 'A0CVS4', 'A0CVX3', 'A0D0D9', 'A0D2S6', 'A0D3T4', 'A0D4V6', 'A0D5L8', 'A0DE66', 'A0DFS8', 'A0DMF9', 'A0DPQ9', 'A0DPR3', 'A0DQA2', 'A0DR11', 'A0DRM5', 'A0DTW7', 'A0DWC2', 'A0DY60', 'A0DYM1', 'A0DZ21', 'A0E347', 'A0E646', 'A0EED9', 'A0EEX2', 'A0PJP2', 'A1L167', 'A2D9T6', 'A2DA24', 'A2DDL5', 'A2DJZ7', 'A2DRC1', 'A2E0E6', 'A2E0M6', 'A2E6R5', 'A2EFK5', 'A2EHL8', 'A2EHU5', 'A2EP72', 'A2EPR3', 'A2EXE5', 'A2EY78', 'A2F152', 'A2F262', 'A2F2A5', 'A2F2Y7', 'A2F4E2', 'A2F8B0', 'A2FAR7', 'A2FJE4', 'A2FP69', 'A2FS62', 'A2FTA9', 'A2G420', 'A2GLA4', 'A2GNR9', 'A4DA83', 'A4GZ00', 'A5AE59', 'A5AEM8', 'A5AU32', 'A5B1R0', 'A5BHQ5', 'A5PJC4', 'A6H795', 'A6MUS6', 'A7E5Q7', 'A7E717', 'A7EAE7', 'A7EC39', 'A7EC83', 'A7EIK4', 'A7EKZ8', 'A7ENZ9', 'A7EXF9', 'A7F0Q4', 'A7F175', 'A7F2N0', 'A7RGR4', 'A7RIA6', 'A7RIN2', 'A7RL90', 'A7RP11', 'A7RXR8', 'A7S3W2', 'A7S6Q0', 'A7S8Q9', 'A7S9Q6', 'A7SBT3', 'A7SCT8', 'A7SE05', 'A7SI65', 'A7SI75', 'A7SPH8', 'A7SQR5', 'A7SQR6', 'A7SRR4', 'A7SW95', 'A7SYN0', 'A7T4X5', 'A7T6K6', 'A7T7G6', 'A8B4A9', 'A8B716', 'A8B8G9', 'A8B939', 'A8BE21', 'A8BQK4', 'A8BS74', 'A8BUX6', 'A8BVI1', 'A8HQ77', 'A8IYA3', 'A8J856', 'A8JBJ3', 'A8JFI8', 'A8JFM7', 'A8XBY1', 'A8XM82', 'A8XWI7', 'A8Y049', 'A9P8A7', 'A9P8Z1', 'A9P939', 'A9PAG1', 'A9PC20', 'A9PD53', 'A9PD75', 'A9PEE9', 'A9PG85', 'A9PH42', 'A9PH51', 'A9PH82', 'A9RGC9', 'A9RZ99', 'A9T618', 'A9T770', 'A9TIG8', 'A9TXY4', 'A9UNP8', 'A9UNZ3', 'A9UQH7', 'A9UR38', 'A9UR75', 'A9US71', 'A9USE2', 'A9USV4', 'A9UT34', 'A9UV50', 'A9UX45', 'A9UY19', 'A9UYK1', 'A9UZM5', 'A9V2X3', 'A9V6V7', 'A9VBK9', 'B1N3W0', 'B3RJL4', 'B3RJZ8', 'B3RN95', 'B3RR56', 'B3RUW0', 'B3RUZ6', 'B3RV97', 'B3RWA2', 'B3RXP9', 'B3RXR2', 'B3RZR7', 'B3S0M9', 'B3S0V0', 'B3S1U8', 'B3S643', 'B3S7K5', 'B3S7Z5', 'B3S848', 'B3S8R1', 'B3SCE8', 'B4FA99', 'B4FCG1', 'B4FCQ9', 'B4FI48', 'B4FIK1', 'B4FMX0', 'B5FVB0', 'B5YM29', 'B5YN48', 'B6JV86', 'B6JV93', 'B6JWS9', 'B6K767', 'B6SPY0', 'B6T659', 'B6TA94', 'B6TEM7', 'B7FML7', 'B7P1N9', 'B7P274', 'B7PKK7', 'B7PKN3', 'B7PLJ5', 'B7PN10', 'B7PTS7', 'B7PUM1', 'B7Q0U7', 'B7Q173', 'B7Q8X9', 'B7QCT3', 'B7QEU8', 'B7QH24', 'B8BVX9', 'B8BW01', 'B8C0C0', 'B8C0U9', 'B8C5I3', 'B8C5N2', 'B8C5Q5', 'B8C7B4', 'B8C9H1', 'B8CA40', 'B8CAB3', 'B9GL37', 'B9GQA8', 'B9GWT4', 'B9H912', 'B9HFA8', 'B9HIP6', 'B9HJG2', 'B9HLM5', 'B9HMG0', 'B9HMG1', 'B9HU53', 'B9HX06', 'B9I3X3', 'B9I8L7', 'B9MXK5', 'B9R805', 'B9RA92', 'B9RB60', 'B9RCE6', 'B9RDU4', 'B9RIG7', 'B9RKR9', 'B9RUC3', 'B9RVZ2', 'B9RZP3', 'B9RZS1', 'B9RZS2', 'B9S688', 'B9SBK8', 'B9SCG2', 'B9SM61', 'B9SR14', 'B9SZE6', 'B9T0E4', 'B9T4S8', 'B9T5D3', 'B9T6E8', 'C3XUA5', 'C3XZL5', 'C3YD65', 'C3YD83', 'C3YEG7', 'C3YKA5', 'C3YMZ8', 'C3YP43', 'C3YPF5', 'C3YYG4', 'C3YYG5', 'C3YYG6', 'C3Z724', 'C3Z989', 'C3ZAQ9', 'C3ZB34', 'C3ZB46', 'C3ZGJ2', 'C3ZMI7', 'C3ZNC4', 'C3ZUG9', 'C4J9T9', 'C4LUH3', 'C4M0U2', 'C4M1S2', 'C4M218', 'C4M2Y3', 'C4M310', 'C4M5T2', 'C4M911', 'C5WPM7', 'C5WXX5', 'C5X897', 'C5XCE6', 'C5XG33', 'C5XGY6', 'C5XPM8', 'C5XQB3', 'C5YT12', 'C5YV69', 'C5YVG0', 'C5Z5X9', 'C5Z7A3', 'C6KSR0', 'C6SVP6', 'C6SWR4', 'C6SXY4', 'C6SZW2', 'C6T129', 'C6T1V1', 'C6T5B4', 'C6TJ43', 'C6TMV6', 'C8VA44', 'C8VC06', 'C8VCB0', 'C8VIJ3', 'C8VNX4', 'C8VP63', 'C8VT35', 'C9EJV8', 'D2A4Q0', 'D2A6I3', 'D3ZL88', 'D3ZYE1', 'D4A1G2', 'D6W7E1', 'D6W8B6', 'D6WA84', 'D6WAJ7', 'D6WFJ4', 'D6WGK1', 'D6WH24', 'D6WJH3', 'D6WL55', 'D6WL86', 'D6WQ46', 'D6WQ60', 'D6WQZ4', 'D6WSA6', 'D6X1Y6', 'D6X2T4', 'D6X3V2', 'D7SHV4', 'D7SIE6', 'D7SP59', 'D7SUC9', 'D7SY37', 'D7TBP2', 'D7THQ9', 'D7TLV6', 'D7TZJ5', 'D8QQM5', 'D8QW96', 'D8QZB1', 'D8R5G9', 'D8RCA4', 'D8RDK4', 'D8RG70', 'D8RGL2', 'D8RKQ5', 'D8RL54', 'D8RNN4', 'D8RT96'])"
      ]
     },
     "execution_count": 24,
     "metadata": {},
     "output_type": "execute_result"
    }
   ],
   "source": [
    "protein_objects.keys()"
   ]
  },
  {
   "cell_type": "code",
   "execution_count": 32,
   "id": "00213e87",
   "metadata": {},
   "outputs": [
    {
     "data": {
      "text/plain": [
       "[(1,\n",
       "  {'average_scanNet_ubiq': 0.3525208830833435,\n",
       "   'average_scanNet_protein': 0.2656939625740051,\n",
       "   'average_pesto_protein': 0.01238293293863535,\n",
       "   'average_pesto_dna_rna': 0.000669238856062293,\n",
       "   'average_pesto_ion': 0.18229778110980988,\n",
       "   'average_pesto_ligand': 0.3589481711387634,\n",
       "   'average_pesto_lipid': 0.023278553038835526,\n",
       "   'average_plddt': 97.06},\n",
       "  [140]),\n",
       " (1,\n",
       "  {'average_scanNet_ubiq': 0.297583669424057,\n",
       "   'average_scanNet_protein': 0.1955191195011139,\n",
       "   'average_pesto_protein': 0.0034974473528563976,\n",
       "   'average_pesto_dna_rna': 0.0058906301856040955,\n",
       "   'average_pesto_ion': 0.1344730108976364,\n",
       "   'average_pesto_ligand': 0.34134310483932495,\n",
       "   'average_pesto_lipid': 0.002473328961059451,\n",
       "   'average_plddt': 94.88},\n",
       "  [152]),\n",
       " (20,\n",
       "  {'average_scanNet_ubiq': 0.45464024394750596,\n",
       "   'average_scanNet_protein': 0.6456772610545158,\n",
       "   'average_pesto_protein': 0.04557022295193747,\n",
       "   'average_pesto_dna_rna': 0.12875135486829095,\n",
       "   'average_pesto_ion': 0.16013477016240357,\n",
       "   'average_pesto_ligand': 0.3258665148168802,\n",
       "   'average_pesto_lipid': 0.014124782846513995,\n",
       "   'average_plddt': 82.741},\n",
       "  [414,\n",
       "   415,\n",
       "   416,\n",
       "   417,\n",
       "   418,\n",
       "   419,\n",
       "   309,\n",
       "   312,\n",
       "   313,\n",
       "   319,\n",
       "   322,\n",
       "   587,\n",
       "   589,\n",
       "   594,\n",
       "   596,\n",
       "   870,\n",
       "   871,\n",
       "   873,\n",
       "   875,\n",
       "   878]),\n",
       " (4,\n",
       "  {'average_scanNet_ubiq': 0.3419610559940338,\n",
       "   'average_scanNet_protein': 0.44553955644369125,\n",
       "   'average_pesto_protein': 0.012852160492911935,\n",
       "   'average_pesto_dna_rna': 0.8524170815944672,\n",
       "   'average_pesto_ion': 0.17263153474777937,\n",
       "   'average_pesto_ligand': 0.2994975820183754,\n",
       "   'average_pesto_lipid': 1.126318067434795e-05,\n",
       "   'average_plddt': 73.11},\n",
       "  [504, 498, 500, 503]),\n",
       " (2,\n",
       "  {'average_scanNet_ubiq': 0.281351774930954,\n",
       "   'average_scanNet_protein': 0.38984254002571106,\n",
       "   'average_pesto_protein': 0.16989546176046133,\n",
       "   'average_pesto_dna_rna': 0.0874219685792923,\n",
       "   'average_pesto_ion': 0.36930158734321594,\n",
       "   'average_pesto_ligand': 0.24780768156051636,\n",
       "   'average_pesto_lipid': 0.030064867692999542,\n",
       "   'average_plddt': 72.0},\n",
       "  [696, 695]),\n",
       " (5,\n",
       "  {'average_scanNet_ubiq': 0.5241729855537415,\n",
       "   'average_scanNet_protein': 0.6359709978103638,\n",
       "   'average_pesto_protein': 0.03397146090865135,\n",
       "   'average_pesto_dna_rna': 0.018887143209576608,\n",
       "   'average_pesto_ion': 0.05098014697432518,\n",
       "   'average_pesto_ligand': 0.17162466794252396,\n",
       "   'average_pesto_lipid': 0.0014273257271270267,\n",
       "   'average_plddt': 81.274},\n",
       "  [896, 897, 898, 900, 895]),\n",
       " (1,\n",
       "  {'average_scanNet_ubiq': 0.3337218165397644,\n",
       "   'average_scanNet_protein': 0.5452024936676025,\n",
       "   'average_pesto_protein': 0.06043184921145439,\n",
       "   'average_pesto_dna_rna': 0.010051628574728966,\n",
       "   'average_pesto_ion': 0.1298675537109375,\n",
       "   'average_pesto_ligand': 0.0964614748954773,\n",
       "   'average_pesto_lipid': 0.0019767277408391237,\n",
       "   'average_plddt': 77.19},\n",
       "  [915]),\n",
       " (1,\n",
       "  {'average_scanNet_ubiq': 0.27096104621887207,\n",
       "   'average_scanNet_protein': 0.562732994556427,\n",
       "   'average_pesto_protein': 0.2531450390815735,\n",
       "   'average_pesto_dna_rna': 0.010983890853822231,\n",
       "   'average_pesto_ion': 0.28389954566955566,\n",
       "   'average_pesto_ligand': 0.26651811599731445,\n",
       "   'average_pesto_lipid': 0.009460334666073322,\n",
       "   'average_plddt': 91.94},\n",
       "  [921])]"
      ]
     },
     "execution_count": 32,
     "metadata": {},
     "output_type": "execute_result"
    }
   ],
   "source": [
    "protein_objects['A0A022QL98'].connected_components_tuples"
   ]
  },
  {
   "cell_type": "code",
   "execution_count": null,
   "id": "179c4841",
   "metadata": {},
   "outputs": [],
   "source": []
  }
 ],
 "metadata": {
  "kernelspec": {
   "display_name": "ubinet-gpu",
   "language": "python",
   "name": "python3"
  },
  "language_info": {
   "codemirror_mode": {
    "name": "ipython",
    "version": 3
   },
   "file_extension": ".py",
   "mimetype": "text/x-python",
   "name": "python",
   "nbconvert_exporter": "python",
   "pygments_lexer": "ipython3",
   "version": "3.10.13"
  }
 },
 "nbformat": 4,
 "nbformat_minor": 5
}
