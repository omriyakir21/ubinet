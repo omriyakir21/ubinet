{
 "cells": [
  {
   "cell_type": "code",
   "execution_count": 1,
   "id": "dc4cb6ae",
   "metadata": {},
   "outputs": [],
   "source": [
    "import sys\n",
    "sys.path.append('../../../../')\n",
    "\n",
    "import pickle"
   ]
  },
  {
   "cell_type": "code",
   "execution_count": 3,
   "id": "245c4910",
   "metadata": {},
   "outputs": [],
   "source": [
    "with open('../../../../datasets/patch_to_score/patches_dicts/21_07_with_pesto/percentile_90.pkl', 'rb') as f:\n",
    "    ar_percentile_90 = pickle.load(f)"
   ]
  },
  {
   "cell_type": "code",
   "execution_count": 4,
   "id": "55eda00b",
   "metadata": {},
   "outputs": [],
   "source": [
    "with open('../../../../datasets/patch_to_score/patches_dicts/03_04_with_pesto/percentile_90.pkl', 'rb') as f:\n",
    "    base_percentile_90 = pickle.load(f)"
   ]
  },
  {
   "cell_type": "code",
   "execution_count": 5,
   "id": "35e67765",
   "metadata": {},
   "outputs": [
    {
     "data": {
      "text/plain": [
       "(0.26495680809021005, 0.023614492267370224)"
      ]
     },
     "execution_count": 5,
     "metadata": {},
     "output_type": "execute_result"
    }
   ],
   "source": [
    "base_percentile_90, ar_percentile_90"
   ]
  }
 ],
 "metadata": {
  "kernelspec": {
   "display_name": "ubinet-gpu",
   "language": "python",
   "name": "python3"
  },
  "language_info": {
   "codemirror_mode": {
    "name": "ipython",
    "version": 3
   },
   "file_extension": ".py",
   "mimetype": "text/x-python",
   "name": "python",
   "nbconvert_exporter": "python",
   "pygments_lexer": "ipython3",
   "version": "3.10.13"
  }
 },
 "nbformat": 4,
 "nbformat_minor": 5
}
