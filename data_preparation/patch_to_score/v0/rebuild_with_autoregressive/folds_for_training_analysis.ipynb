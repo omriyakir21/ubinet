{
 "cells": [
  {
   "cell_type": "code",
   "execution_count": null,
   "id": "88f16543",
   "metadata": {},
   "outputs": [],
   "source": [
    "import pickle\n",
    "import tensorflow as tf\n",
    "from plotly import express as px\n",
    "tf.config.set_visible_devices([], 'GPU')  # disable GPU"
   ]
  },
  {
   "cell_type": "markdown",
   "id": "5c66314c",
   "metadata": {},
   "source": [
    "## load"
   ]
  },
  {
   "cell_type": "code",
   "execution_count": null,
   "id": "6e94efb4",
   "metadata": {},
   "outputs": [],
   "source": [
    "with open('../../../../datasets/patch_to_score/data_for_training/21_07_with_pesto/folds_training_dicts.pkl', 'rb') as f:\n",
    "    ar_folds_training_dicts = pickle.load(f)"
   ]
  },
  {
   "cell_type": "code",
   "execution_count": null,
   "id": "9023e158",
   "metadata": {},
   "outputs": [],
   "source": [
    "with open('../../../../datasets/patch_to_score/data_for_training/03_04_with_pesto/folds_training_dicts.pkl', 'rb') as f:\n",
    "    base_folds_training_dicts = pickle.load(f)"
   ]
  },
  {
   "cell_type": "markdown",
   "id": "e450b54b",
   "metadata": {},
   "source": [
    "## analyze high level"
   ]
  },
  {
   "cell_type": "code",
   "execution_count": null,
   "id": "57734068",
   "metadata": {},
   "outputs": [],
   "source": [
    "len(ar_folds_training_dicts), len(base_folds_training_dicts)"
   ]
  },
  {
   "cell_type": "code",
   "execution_count": null,
   "id": "e4642c50",
   "metadata": {},
   "outputs": [],
   "source": [
    "[len(x['sizes_train']) for x in ar_folds_training_dicts], [len(x['sizes_train']) for x in base_folds_training_dicts]"
   ]
  },
  {
   "cell_type": "markdown",
   "id": "8e7d24b7",
   "metadata": {},
   "source": [
    "## single uniprot analysis"
   ]
  },
  {
   "cell_type": "code",
   "execution_count": null,
   "id": "b3387f4d",
   "metadata": {},
   "outputs": [],
   "source": [
    "uniprot_id = 'A0A060X454'\n",
    "base_fold = base_folds_training_dicts[0]\n",
    "ar_fold = ar_folds_training_dicts[0]"
   ]
  },
  {
   "cell_type": "code",
   "execution_count": null,
   "id": "3b8e3f1f",
   "metadata": {},
   "outputs": [],
   "source": [
    "# base_fold['uniprots_train']"
   ]
  },
  {
   "cell_type": "code",
   "execution_count": null,
   "id": "eda045dc",
   "metadata": {},
   "outputs": [],
   "source": [
    "# I knew that this uniprot_id is in train for both datasets, so I can use it to compare the two\n",
    "\n",
    "index_base = base_fold['uniprots_train'].index(uniprot_id)\n",
    "index_ar = ar_fold['uniprots_train'].index(uniprot_id)\n",
    "\n",
    "index_base, index_ar"
   ]
  },
  {
   "cell_type": "code",
   "execution_count": null,
   "id": "bda55acf",
   "metadata": {},
   "outputs": [],
   "source": [
    "px.imshow(base_fold['components_train'][index_base].numpy())"
   ]
  },
  {
   "cell_type": "code",
   "execution_count": null,
   "id": "8df2817f",
   "metadata": {},
   "outputs": [],
   "source": [
    "px.imshow(ar_fold['components_train'][index_ar].numpy())"
   ]
  },
  {
   "cell_type": "code",
   "execution_count": null,
   "id": "89f0bacf",
   "metadata": {},
   "outputs": [],
   "source": []
  }
 ],
 "metadata": {
  "kernelspec": {
   "display_name": "ubinet-gpu",
   "language": "python",
   "name": "python3"
  },
  "language_info": {
   "codemirror_mode": {
    "name": "ipython",
    "version": 3
   },
   "file_extension": ".py",
   "mimetype": "text/x-python",
   "name": "python",
   "nbconvert_exporter": "python",
   "pygments_lexer": "ipython3",
   "version": "3.10.13"
  }
 },
 "nbformat": 4,
 "nbformat_minor": 5
}
