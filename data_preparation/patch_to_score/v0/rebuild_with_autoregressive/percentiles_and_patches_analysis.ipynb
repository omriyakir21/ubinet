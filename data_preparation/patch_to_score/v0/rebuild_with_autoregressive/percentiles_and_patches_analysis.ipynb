{
 "cells": [
  {
   "cell_type": "code",
   "execution_count": 1,
   "id": "dc4cb6ae",
   "metadata": {},
   "outputs": [],
   "source": [
    "import sys\n",
    "sys.path.append('../../../../')\n",
    "\n",
    "import pickle"
   ]
  },
  {
   "cell_type": "markdown",
   "id": "97daa507",
   "metadata": {},
   "source": [
    "## percentile"
   ]
  },
  {
   "cell_type": "code",
   "execution_count": 3,
   "id": "245c4910",
   "metadata": {},
   "outputs": [],
   "source": [
    "with open('../../../../datasets/patch_to_score/patches_dicts/21_07_with_pesto/percentile_90.pkl', 'rb') as f:\n",
    "    ar_percentile_90 = pickle.load(f)"
   ]
  },
  {
   "cell_type": "code",
   "execution_count": 4,
   "id": "55eda00b",
   "metadata": {},
   "outputs": [],
   "source": [
    "with open('../../../../datasets/patch_to_score/patches_dicts/03_04_with_pesto/percentile_90.pkl', 'rb') as f:\n",
    "    base_percentile_90 = pickle.load(f)"
   ]
  },
  {
   "cell_type": "code",
   "execution_count": 5,
   "id": "35e67765",
   "metadata": {},
   "outputs": [
    {
     "data": {
      "text/plain": [
       "(0.26495680809021005, 0.023614492267370224)"
      ]
     },
     "execution_count": 5,
     "metadata": {},
     "output_type": "execute_result"
    }
   ],
   "source": [
    "base_percentile_90, ar_percentile_90"
   ]
  },
  {
   "cell_type": "markdown",
   "id": "2a65307d",
   "metadata": {},
   "source": [
    "## protein objects"
   ]
  },
  {
   "cell_type": "code",
   "execution_count": 2,
   "id": "c36d3686",
   "metadata": {},
   "outputs": [
    {
     "name": "stderr",
     "output_type": "stream",
     "text": [
      "/home/iscb/wolfson/doririmon/anaconda3/envs/ubinet-gpu/lib/python3.10/site-packages/Bio/pairwise2.py:278: BiopythonDeprecationWarning: Bio.pairwise2 has been deprecated, and we intend to remove it in a future release of Biopython. As an alternative, please consider using Bio.Align.PairwiseAligner as a replacement, and contact the Biopython developers if you still need the Bio.pairwise2 module.\n",
      "  warnings.warn(\n"
     ]
    }
   ],
   "source": [
    "with open('../../../../datasets/patch_to_score/patches_dicts/21_07_with_pesto/proteinObjectsWithEvoluion85', 'rb') as f:\n",
    "    protein_objects = pickle.load(f)"
   ]
  },
  {
   "cell_type": "code",
   "execution_count": 3,
   "id": "b1ca68f5",
   "metadata": {},
   "outputs": [
    {
     "data": {
      "text/plain": [
       "221"
      ]
     },
     "execution_count": 3,
     "metadata": {},
     "output_type": "execute_result"
    }
   ],
   "source": [
    "len(protein_objects)"
   ]
  }
 ],
 "metadata": {
  "kernelspec": {
   "display_name": "ubinet-gpu",
   "language": "python",
   "name": "python3"
  },
  "language_info": {
   "codemirror_mode": {
    "name": "ipython",
    "version": 3
   },
   "file_extension": ".py",
   "mimetype": "text/x-python",
   "name": "python",
   "nbconvert_exporter": "python",
   "pygments_lexer": "ipython3",
   "version": "3.10.16"
  }
 },
 "nbformat": 4,
 "nbformat_minor": 5
}
