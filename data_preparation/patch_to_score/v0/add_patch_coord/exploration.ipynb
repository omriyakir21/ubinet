{
 "cells": [
  {
   "cell_type": "markdown",
   "id": "cd23d29a",
   "metadata": {},
   "source": [
    "## imports"
   ]
  },
  {
   "cell_type": "code",
   "execution_count": 1,
   "id": "3a399c93",
   "metadata": {},
   "outputs": [
    {
     "name": "stderr",
     "output_type": "stream",
     "text": [
      "2025-05-23 16:09:36.090903: I tensorflow/core/platform/cpu_feature_guard.cc:193] This TensorFlow binary is optimized with oneAPI Deep Neural Network Library (oneDNN) to use the following CPU instructions in performance-critical operations:  AVX2 AVX512F AVX512_VNNI AVX512_BF16 AVX_VNNI AMX_TILE AMX_INT8 AMX_BF16 FMA\n",
      "To enable them in other operations, rebuild TensorFlow with the appropriate compiler flags.\n",
      "2025-05-23 16:09:36.206974: I tensorflow/core/util/port.cc:104] oneDNN custom operations are on. You may see slightly different numerical results due to floating-point round-off errors from different computation orders. To turn them off, set the environment variable `TF_ENABLE_ONEDNN_OPTS=0`.\n",
      "2025-05-23 16:09:40.046706: W tensorflow/compiler/xla/stream_executor/platform/default/dso_loader.cc:64] Could not load dynamic library 'libnvinfer.so.7'; dlerror: libnvinfer.so.7: cannot open shared object file: No such file or directory; LD_LIBRARY_PATH: /home/iscb/wolfson/doririmon/anaconda3/envs/ubinet-gpu/lib\n",
      "2025-05-23 16:09:40.046772: W tensorflow/compiler/xla/stream_executor/platform/default/dso_loader.cc:64] Could not load dynamic library 'libnvinfer_plugin.so.7'; dlerror: libnvinfer_plugin.so.7: cannot open shared object file: No such file or directory; LD_LIBRARY_PATH: /home/iscb/wolfson/doririmon/anaconda3/envs/ubinet-gpu/lib\n",
      "2025-05-23 16:09:40.046778: W tensorflow/compiler/tf2tensorrt/utils/py_utils.cc:38] TF-TRT Warning: Cannot dlopen some TensorRT libraries. If you would like to use Nvidia GPU with TensorRT, please make sure the missing libraries mentioned above are installed properly.\n",
      "2025-05-23 16:09:48.675106: W tensorflow/core/common_runtime/gpu/gpu_device.cc:2027] TensorFlow was not built with CUDA kernel binaries compatible with compute capability 9.0. CUDA kernels will be jit-compiled from PTX, which could take 30 minutes or longer.\n",
      "2025-05-23 16:09:48.676225: W tensorflow/core/common_runtime/gpu/gpu_device.cc:2027] TensorFlow was not built with CUDA kernel binaries compatible with compute capability 9.0. CUDA kernels will be jit-compiled from PTX, which could take 30 minutes or longer.\n",
      "2025-05-23 16:09:48.677329: W tensorflow/core/common_runtime/gpu/gpu_device.cc:2027] TensorFlow was not built with CUDA kernel binaries compatible with compute capability 9.0. CUDA kernels will be jit-compiled from PTX, which could take 30 minutes or longer.\n",
      "2025-05-23 16:09:48.678477: W tensorflow/core/common_runtime/gpu/gpu_device.cc:2027] TensorFlow was not built with CUDA kernel binaries compatible with compute capability 9.0. CUDA kernels will be jit-compiled from PTX, which could take 30 minutes or longer.\n",
      "2025-05-23 16:09:48.679599: W tensorflow/core/common_runtime/gpu/gpu_device.cc:2027] TensorFlow was not built with CUDA kernel binaries compatible with compute capability 9.0. CUDA kernels will be jit-compiled from PTX, which could take 30 minutes or longer.\n",
      "2025-05-23 16:09:48.680703: W tensorflow/core/common_runtime/gpu/gpu_device.cc:2027] TensorFlow was not built with CUDA kernel binaries compatible with compute capability 9.0. CUDA kernels will be jit-compiled from PTX, which could take 30 minutes or longer.\n",
      "2025-05-23 16:09:48.681824: W tensorflow/core/common_runtime/gpu/gpu_device.cc:2027] TensorFlow was not built with CUDA kernel binaries compatible with compute capability 9.0. CUDA kernels will be jit-compiled from PTX, which could take 30 minutes or longer.\n",
      "2025-05-23 16:09:48.682951: W tensorflow/core/common_runtime/gpu/gpu_device.cc:2027] TensorFlow was not built with CUDA kernel binaries compatible with compute capability 9.0. CUDA kernels will be jit-compiled from PTX, which could take 30 minutes or longer.\n"
     ]
    }
   ],
   "source": [
    "import tensorflow as tf\n",
    "tf.config.set_visible_devices([], 'GPU')"
   ]
  },
  {
   "cell_type": "code",
   "execution_count": 2,
   "id": "c84415ea",
   "metadata": {},
   "outputs": [],
   "source": [
    "import pickle\n",
    "import sys\n",
    "from tqdm import tqdm\n",
    "sys.path.append('../')\n",
    "sys.path.append('../../../../')"
   ]
  },
  {
   "cell_type": "markdown",
   "id": "96bc40be",
   "metadata": {},
   "source": [
    "## constants"
   ]
  },
  {
   "cell_type": "code",
   "execution_count": 3,
   "id": "b86c5326",
   "metadata": {},
   "outputs": [],
   "source": [
    "data_for_training_dir_path = source_dataset_dir_path = '/home/iscb/wolfson/doririmon/home/order/ubinet/repo/ubinet/datasets/patch_to_score/data_for_training'\n",
    "source_dataset_dir_path = f'{data_for_training_dir_path}/03_04_with_pesto'\n",
    "target_dataset_dir_path = f'{data_for_training_dir_path}/03_04_with_pesto_and_coord'\n",
    "\n",
    "MAX_NUMBER_OF_COMPONENTS = 10"
   ]
  },
  {
   "cell_type": "markdown",
   "id": "cc4a6ef7",
   "metadata": {},
   "source": [
    "## utils"
   ]
  },
  {
   "cell_type": "code",
   "execution_count": 4,
   "id": "e481656e",
   "metadata": {},
   "outputs": [],
   "source": [
    "# copied from data_development_utils.py\n",
    "# modified a bit\n",
    "# TODO: the main risk here: sorted might change order from original creation \n",
    "\n",
    "def extract_protein_data(proteins, max_number_of_components):\n",
    "    residue_indexes = []\n",
    "    for protein in proteins:\n",
    "        # Sort components by average_ubiq in descending order and take the top 10\n",
    "        top_components = sorted(protein.connected_components_tuples, key=lambda x: x[1]['average_scanNet_ubiq'], reverse=True)[\n",
    "                         :max_number_of_components]\n",
    "        residue_indexes.append([component[2] for component in top_components])\n",
    "    return residue_indexes"
   ]
  },
  {
   "cell_type": "markdown",
   "id": "51d628b8",
   "metadata": {},
   "source": [
    "## load data from source"
   ]
  },
  {
   "cell_type": "markdown",
   "id": "e61b9b63",
   "metadata": {},
   "source": [
    "for fold_index in range(5) <br>\n",
    "for set_name in ['train', 'validation', 'test'] <br>\n",
    "\n",
    "Currently folds_training_dicts[fold_index] of set_name, contains:\n",
    "- sizes (will be broadcasted)\n",
    "- num_patches (will be broadcasted)\n",
    "- components (the features matrix, of shape [protein_amount, 10, 9] -> 10=patches_amount, 9=2 for scannet, 5 for pesto, 1 for plddt, 1 for size)\n",
    "- uniprots\n",
    "- labels\n",
    "\n",
    "We want to add one more matrix (again, per fold_index, per set_name). <br>\n",
    "This matrix will be of shape [protein_amount, 10, 3] -> x, y, z coordiantes. <br>\n",
    "x, y, z coordinates will be the average of the ca coords in the patch. <br>\n",
    "the new key will be:\n",
    "\n",
    "- coordinates"
   ]
  },
  {
   "cell_type": "code",
   "execution_count": 5,
   "id": "0cff78bd",
   "metadata": {},
   "outputs": [
    {
     "name": "stderr",
     "output_type": "stream",
     "text": [
      "2025-05-23 16:09:48.739723: I tensorflow/core/platform/cpu_feature_guard.cc:193] This TensorFlow binary is optimized with oneAPI Deep Neural Network Library (oneDNN) to use the following CPU instructions in performance-critical operations:  AVX2 AVX512F AVX512_VNNI AVX512_BF16 AVX_VNNI AMX_TILE AMX_INT8 AMX_BF16 FMA\n",
      "To enable them in other operations, rebuild TensorFlow with the appropriate compiler flags.\n"
     ]
    }
   ],
   "source": [
    "with open(f'{source_dataset_dir_path}/folds_training_dicts.pkl', 'rb') as f:\n",
    "    folds_training_dicts = pickle.load(f)"
   ]
  },
  {
   "cell_type": "code",
   "execution_count": 6,
   "id": "2d2c896e",
   "metadata": {},
   "outputs": [
    {
     "data": {
      "text/plain": [
       "['sizes_train',\n",
       " 'components_train',\n",
       " 'num_patches_train',\n",
       " 'uniprots_train',\n",
       " 'labels_train']"
      ]
     },
     "execution_count": 6,
     "metadata": {},
     "output_type": "execute_result"
    }
   ],
   "source": [
    "# TODO: itterate in for loop\n",
    "fold_index = 0\n",
    "fold = folds_training_dicts[fold_index]\n",
    "[x for x in fold.keys() if 'train' in x]"
   ]
  },
  {
   "cell_type": "code",
   "execution_count": 7,
   "id": "a318728e",
   "metadata": {},
   "outputs": [
    {
     "name": "stderr",
     "output_type": "stream",
     "text": [
      "/home/iscb/wolfson/doririmon/anaconda3/envs/ubinet-gpu/lib/python3.10/site-packages/Bio/pairwise2.py:278: BiopythonDeprecationWarning: Bio.pairwise2 has been deprecated, and we intend to remove it in a future release of Biopython. As an alternative, please consider using Bio.Align.PairwiseAligner as a replacement, and contact the Biopython developers if you still need the Bio.pairwise2 module.\n",
      "  warnings.warn(\n"
     ]
    }
   ],
   "source": [
    "with open('/home/iscb/wolfson/doririmon/home/order/ubinet/repo/ubinet/datasets/patch_to_score/patches_dicts/03_04_with_pesto/merged_protein_objects.pkl', 'rb') as f:\n",
    "# with open('/home/iscb/wolfson/doririmon/home/order/ubinet/repo/ubinet/datasets/patch_to_score/patches_dicts/03_04_with_pesto/proteinObjectsWithEvoluion0', 'rb') as f:\n",
    "    merged_protein_objects = pickle.load(f)"
   ]
  },
  {
   "cell_type": "code",
   "execution_count": 8,
   "id": "2cf90fb4",
   "metadata": {},
   "outputs": [
    {
     "data": {
      "text/plain": [
       "(76632, 'Q9N3I3')"
      ]
     },
     "execution_count": 8,
     "metadata": {},
     "output_type": "execute_result"
    }
   ],
   "source": [
    "set_name = 'train'  # TODO: iterate in for loop\n",
    "uniprots = set(fold[f'uniprots_{set_name}'])\n",
    "len(uniprots), list(uniprots)[0]"
   ]
  },
  {
   "cell_type": "code",
   "execution_count": 9,
   "id": "04474541",
   "metadata": {},
   "outputs": [
    {
     "data": {
      "text/plain": [
       "TensorShape([76632, 10, 9])"
      ]
     },
     "execution_count": 9,
     "metadata": {},
     "output_type": "execute_result"
    }
   ],
   "source": [
    "fold[f'components_{set_name}'].shape"
   ]
  },
  {
   "cell_type": "code",
   "execution_count": 10,
   "id": "12f1d0c2",
   "metadata": {},
   "outputs": [
    {
     "data": {
      "text/plain": [
       "(76632, 76632)"
      ]
     },
     "execution_count": 10,
     "metadata": {},
     "output_type": "execute_result"
    }
   ],
   "source": [
    "data_set_protein_objects = {k: v for k, v in merged_protein_objects.items() if k in uniprots}\n",
    "data_set_res_indexes = {k: extract_protein_data([v], MAX_NUMBER_OF_COMPONENTS)[0] for k, v in data_set_protein_objects.items()}\n",
    "len(data_set_protein_objects), len(data_set_res_indexes)"
   ]
  },
  {
   "cell_type": "markdown",
   "id": "502dda26",
   "metadata": {},
   "source": [
    "## add coord"
   ]
  },
  {
   "cell_type": "code",
   "execution_count": 11,
   "id": "1c60b608",
   "metadata": {},
   "outputs": [],
   "source": [
    "# TODO\n",
    "# we have the residue indexes in data_set_res_indexes\n",
    "# now we just need to fetch the ca coord of each residue, then average accross the inner lists "
   ]
  },
  {
   "cell_type": "code",
   "execution_count": 23,
   "id": "12f4cc48",
   "metadata": {},
   "outputs": [
    {
     "name": "stderr",
     "output_type": "stream",
     "text": [
      "  0%|          | 2/76632 [00:00<1:22:10, 15.54it/s]"
     ]
    },
    {
     "name": "stdout",
     "output_type": "stream",
     "text": [
      "/home/iscb/wolfson/doririmon/home/order/ubinet/repo/ubinet/datasets/patch_to_score/sources/GO/E1/A0A022RQB5.pdb\n",
      "/home/iscb/wolfson/doririmon/home/order/ubinet/repo/ubinet/datasets/patch_to_score/sources/GO/E1/A0A022S055.pdb\n",
      "/home/iscb/wolfson/doririmon/home/order/ubinet/repo/ubinet/datasets/patch_to_score/sources/GO/E1/A0A059D4L0.pdb\n",
      "/home/iscb/wolfson/doririmon/home/order/ubinet/repo/ubinet/datasets/patch_to_score/sources/GO/E1/A0A061GXI7.pdb\n"
     ]
    },
    {
     "name": "stderr",
     "output_type": "stream",
     "text": [
      "  0%|          | 6/76632 [00:00<1:22:09, 15.54it/s]"
     ]
    },
    {
     "name": "stdout",
     "output_type": "stream",
     "text": [
      "/home/iscb/wolfson/doririmon/home/order/ubinet/repo/ubinet/datasets/patch_to_score/sources/GO/E1/A0A061H0D1.pdb\n",
      "/home/iscb/wolfson/doririmon/home/order/ubinet/repo/ubinet/datasets/patch_to_score/sources/GO/E1/A0A067FAT6.pdb\n",
      "/home/iscb/wolfson/doririmon/home/order/ubinet/repo/ubinet/datasets/patch_to_score/sources/GO/E1/A0A067FUV5.pdb\n",
      "/home/iscb/wolfson/doririmon/home/order/ubinet/repo/ubinet/datasets/patch_to_score/sources/GO/E1/A0A072UEZ0.pdb\n"
     ]
    },
    {
     "name": "stderr",
     "output_type": "stream",
     "text": [
      "  0%|          | 10/76632 [00:00<1:19:46, 16.01it/s]"
     ]
    },
    {
     "name": "stdout",
     "output_type": "stream",
     "text": [
      "/home/iscb/wolfson/doririmon/home/order/ubinet/repo/ubinet/datasets/patch_to_score/sources/GO/E1/A0A078FBG7.pdb\n",
      "/home/iscb/wolfson/doririmon/home/order/ubinet/repo/ubinet/datasets/patch_to_score/sources/GO/E1/A0A078GHE3.pdb\n",
      "/home/iscb/wolfson/doririmon/home/order/ubinet/repo/ubinet/datasets/patch_to_score/sources/GO/E1/A0A078GX15.pdb\n",
      "/home/iscb/wolfson/doririmon/home/order/ubinet/repo/ubinet/datasets/patch_to_score/sources/GO/E1/A0A078JK01.pdb\n"
     ]
    },
    {
     "name": "stderr",
     "output_type": "stream",
     "text": [
      "  0%|          | 14/76632 [00:00<1:21:22, 15.69it/s]"
     ]
    },
    {
     "name": "stdout",
     "output_type": "stream",
     "text": [
      "/home/iscb/wolfson/doririmon/home/order/ubinet/repo/ubinet/datasets/patch_to_score/sources/GO/E1/A0A0A0KE12.pdb\n",
      "/home/iscb/wolfson/doririmon/home/order/ubinet/repo/ubinet/datasets/patch_to_score/sources/GO/E1/A0A0D1CFJ5.pdb\n",
      "/home/iscb/wolfson/doririmon/home/order/ubinet/repo/ubinet/datasets/patch_to_score/sources/GO/E1/A0A0K9PV95.pdb\n",
      "/home/iscb/wolfson/doririmon/home/order/ubinet/repo/ubinet/datasets/patch_to_score/sources/GO/E1/A0A0K9QK53.pdb\n"
     ]
    },
    {
     "name": "stderr",
     "output_type": "stream",
     "text": [
      "  0%|          | 18/76632 [00:01<1:21:31, 15.66it/s]"
     ]
    },
    {
     "name": "stdout",
     "output_type": "stream",
     "text": [
      "/home/iscb/wolfson/doririmon/home/order/ubinet/repo/ubinet/datasets/patch_to_score/sources/GO/E1/A0A0K9S0M1.pdb\n",
      "/home/iscb/wolfson/doririmon/home/order/ubinet/repo/ubinet/datasets/patch_to_score/sources/GO/E1/A0A0N7KH34.pdb\n",
      "/home/iscb/wolfson/doririmon/home/order/ubinet/repo/ubinet/datasets/patch_to_score/sources/GO/E1/A0A0P0XAH7.pdb\n",
      "/home/iscb/wolfson/doririmon/home/order/ubinet/repo/ubinet/datasets/patch_to_score/sources/GO/E1/A0A0R0GFI8.pdb\n"
     ]
    },
    {
     "name": "stderr",
     "output_type": "stream",
     "text": [
      "  0%|          | 22/76632 [00:01<1:21:27, 15.68it/s]"
     ]
    },
    {
     "name": "stdout",
     "output_type": "stream",
     "text": [
      "/home/iscb/wolfson/doririmon/home/order/ubinet/repo/ubinet/datasets/patch_to_score/sources/GO/E1/A0A139WLH6.pdb\n",
      "/home/iscb/wolfson/doririmon/home/order/ubinet/repo/ubinet/datasets/patch_to_score/sources/GO/E1/A0A1D6EJ37.pdb\n",
      "/home/iscb/wolfson/doririmon/home/order/ubinet/repo/ubinet/datasets/patch_to_score/sources/GO/E1/A0A1D6IP61.pdb\n",
      "/home/iscb/wolfson/doririmon/home/order/ubinet/repo/ubinet/datasets/patch_to_score/sources/GO/E1/A0A1D6IQP4.pdb\n"
     ]
    },
    {
     "name": "stderr",
     "output_type": "stream",
     "text": [
      "  0%|          | 25/76632 [00:01<1:23:11, 15.35it/s]"
     ]
    },
    {
     "name": "stdout",
     "output_type": "stream",
     "text": [
      "/home/iscb/wolfson/doririmon/home/order/ubinet/repo/ubinet/datasets/patch_to_score/sources/GO/E1/A0A1D6JZI3.pdb\n",
      "/home/iscb/wolfson/doririmon/home/order/ubinet/repo/ubinet/datasets/patch_to_score/sources/GO/E1/A0A1D6QG29.pdb\n"
     ]
    },
    {
     "name": "stderr",
     "output_type": "stream",
     "text": [
      "\n"
     ]
    },
    {
     "ename": "KeyboardInterrupt",
     "evalue": "",
     "output_type": "error",
     "traceback": [
      "\u001b[0;31m---------------------------------------------------------------------------\u001b[0m",
      "\u001b[0;31mKeyboardInterrupt\u001b[0m                         Traceback (most recent call last)",
      "Cell \u001b[0;32mIn[23], line 8\u001b[0m\n\u001b[1;32m      4\u001b[0m data_set_coordinates \u001b[38;5;241m=\u001b[39m \u001b[38;5;28mdict\u001b[39m()\n\u001b[1;32m      7\u001b[0m \u001b[38;5;28;01mfor\u001b[39;00m uniprot_id, protein_object \u001b[38;5;129;01min\u001b[39;00m tqdm(data_set_protein_objects\u001b[38;5;241m.\u001b[39mitems()):\n\u001b[0;32m----> 8\u001b[0m     structure \u001b[38;5;241m=\u001b[39m \u001b[43mprotein_object\u001b[49m\u001b[38;5;241;43m.\u001b[39;49m\u001b[43mget_structure\u001b[49m\u001b[43m(\u001b[49m\u001b[43m)\u001b[49m\n\u001b[1;32m      9\u001b[0m     model \u001b[38;5;241m=\u001b[39m structure\u001b[38;5;241m.\u001b[39mchild_list[\u001b[38;5;241m0\u001b[39m]\n\u001b[1;32m     10\u001b[0m     \u001b[38;5;28;01massert\u001b[39;00m \u001b[38;5;28mlen\u001b[39m(model) \u001b[38;5;241m==\u001b[39m \u001b[38;5;241m1\u001b[39m\n",
      "File \u001b[0;32m~/home/order/ubinet/repo/ubinet/data_preparation/patch_to_score/v0/add_patch_coord/../data_development_utils.py:104\u001b[0m, in \u001b[0;36mProtein.get_structure\u001b[0;34m(self, path)\u001b[0m\n\u001b[1;32m     98\u001b[0m \u001b[38;5;28;01mif\u001b[39;00m \u001b[38;5;129;01mnot\u001b[39;00m os\u001b[38;5;241m.\u001b[39mpath\u001b[38;5;241m.\u001b[39mexists(structurePath):\n\u001b[1;32m     99\u001b[0m     \u001b[38;5;66;03m# print(f\"path does not exist for : {self.uniprot_name}\")\u001b[39;00m\n\u001b[1;32m    100\u001b[0m     \u001b[38;5;66;03m# structurePath2 = all_predictions['dict_pdb_files'][self.uniprot_name]\u001b[39;00m\n\u001b[1;32m    101\u001b[0m     \u001b[38;5;66;03m# convert_cif_to_pdb(structurePath2, structurePath)\u001b[39;00m\n\u001b[1;32m    102\u001b[0m     \u001b[38;5;66;03m# print(f\"created new path in : {structurePath}\")\u001b[39;00m\n\u001b[1;32m    103\u001b[0m     \u001b[38;5;28;01mraise\u001b[39;00m \u001b[38;5;167;01mException\u001b[39;00m(\u001b[38;5;124m\"\u001b[39m\u001b[38;5;124mpath does not exist\u001b[39m\u001b[38;5;124m\"\u001b[39m)\n\u001b[0;32m--> 104\u001b[0m structure \u001b[38;5;241m=\u001b[39m \u001b[43mparser\u001b[49m\u001b[38;5;241;43m.\u001b[39;49m\u001b[43mget_structure\u001b[49m\u001b[43m(\u001b[49m\u001b[38;5;28;43mself\u001b[39;49m\u001b[38;5;241;43m.\u001b[39;49m\u001b[43muniprot_name\u001b[49m\u001b[43m,\u001b[49m\u001b[43m \u001b[49m\u001b[43mstructurePath\u001b[49m\u001b[43m)\u001b[49m\n\u001b[1;32m    105\u001b[0m \u001b[38;5;28;01mreturn\u001b[39;00m structure\n",
      "File \u001b[0;32m~/anaconda3/envs/ubinet-gpu/lib/python3.10/site-packages/Bio/PDB/PDBParser.py:89\u001b[0m, in \u001b[0;36mPDBParser.get_structure\u001b[0;34m(self, id, file)\u001b[0m\n\u001b[1;32m     87\u001b[0m     \u001b[38;5;28;01mif\u001b[39;00m \u001b[38;5;129;01mnot\u001b[39;00m lines:\n\u001b[1;32m     88\u001b[0m         \u001b[38;5;28;01mraise\u001b[39;00m \u001b[38;5;167;01mValueError\u001b[39;00m(\u001b[38;5;124m\"\u001b[39m\u001b[38;5;124mEmpty file.\u001b[39m\u001b[38;5;124m\"\u001b[39m)\n\u001b[0;32m---> 89\u001b[0m     \u001b[38;5;28;43mself\u001b[39;49m\u001b[38;5;241;43m.\u001b[39;49m\u001b[43m_parse\u001b[49m\u001b[43m(\u001b[49m\u001b[43mlines\u001b[49m\u001b[43m)\u001b[49m\n\u001b[1;32m     91\u001b[0m \u001b[38;5;28mself\u001b[39m\u001b[38;5;241m.\u001b[39mstructure_builder\u001b[38;5;241m.\u001b[39mset_header(\u001b[38;5;28mself\u001b[39m\u001b[38;5;241m.\u001b[39mheader)\n\u001b[1;32m     92\u001b[0m \u001b[38;5;66;03m# Return the Structure instance\u001b[39;00m\n",
      "File \u001b[0;32m~/anaconda3/envs/ubinet-gpu/lib/python3.10/site-packages/Bio/PDB/PDBParser.py:112\u001b[0m, in \u001b[0;36mPDBParser._parse\u001b[0;34m(self, header_coords_trailer)\u001b[0m\n\u001b[1;32m    110\u001b[0m \u001b[38;5;28mself\u001b[39m\u001b[38;5;241m.\u001b[39mheader, coords_trailer \u001b[38;5;241m=\u001b[39m \u001b[38;5;28mself\u001b[39m\u001b[38;5;241m.\u001b[39m_get_header(header_coords_trailer)\n\u001b[1;32m    111\u001b[0m \u001b[38;5;66;03m# Parse the atomic data; return the PDB file trailer\u001b[39;00m\n\u001b[0;32m--> 112\u001b[0m \u001b[38;5;28mself\u001b[39m\u001b[38;5;241m.\u001b[39mtrailer \u001b[38;5;241m=\u001b[39m \u001b[38;5;28;43mself\u001b[39;49m\u001b[38;5;241;43m.\u001b[39;49m\u001b[43m_parse_coordinates\u001b[49m\u001b[43m(\u001b[49m\u001b[43mcoords_trailer\u001b[49m\u001b[43m)\u001b[49m\n",
      "File \u001b[0;32m~/anaconda3/envs/ubinet-gpu/lib/python3.10/site-packages/Bio/PDB/PDBParser.py:260\u001b[0m, in \u001b[0;36mPDBParser._parse_coordinates\u001b[0;34m(self, coords_trailer)\u001b[0m\n\u001b[1;32m    257\u001b[0m         radius \u001b[38;5;241m=\u001b[39m \u001b[38;5;28;01mNone\u001b[39;00m\n\u001b[1;32m    259\u001b[0m segid \u001b[38;5;241m=\u001b[39m line[\u001b[38;5;241m72\u001b[39m:\u001b[38;5;241m76\u001b[39m]\n\u001b[0;32m--> 260\u001b[0m element \u001b[38;5;241m=\u001b[39m \u001b[43mline\u001b[49m\u001b[43m[\u001b[49m\u001b[38;5;241;43m76\u001b[39;49m\u001b[43m:\u001b[49m\u001b[38;5;241;43m78\u001b[39;49m\u001b[43m]\u001b[49m\u001b[38;5;241;43m.\u001b[39;49m\u001b[43mstrip\u001b[49m\u001b[43m(\u001b[49m\u001b[43m)\u001b[49m\u001b[38;5;241m.\u001b[39mupper()\n\u001b[1;32m    261\u001b[0m \u001b[38;5;28;01mif\u001b[39;00m current_segid \u001b[38;5;241m!=\u001b[39m segid:\n\u001b[1;32m    262\u001b[0m     current_segid \u001b[38;5;241m=\u001b[39m segid\n",
      "\u001b[0;31mKeyboardInterrupt\u001b[0m: "
     ]
    }
   ],
   "source": [
    "# lets try to get the ca coord of a single residue, from a protein object:\n",
    "# TODO: this should iterate\n",
    "\n",
    "data_set_coordinates = dict()\n",
    "\n",
    "\n",
    "for uniprot_id, protein_object in tqdm(data_set_protein_objects.items()):\n",
    "    structure = protein_object.get_structure()\n",
    "    model = structure.child_list[0]\n",
    "    assert len(model) == 1\n",
    "    protein_indexes = data_set_res_indexes[uniprot_id]\n",
    "    \n",
    "    for patch_indexes in protein_indexes:\n",
    "        for residue_index in patch_indexes:\n",
    "            for chain in model:\n",
    "                coord = chain.child_list[residue_index]['CA'].coord  # TODO: is this logic correct?\n"
   ]
  },
  {
   "cell_type": "code",
   "execution_count": null,
   "id": "40b4c33c",
   "metadata": {},
   "outputs": [],
   "source": []
  },
  {
   "cell_type": "code",
   "execution_count": null,
   "id": "2f6449e7",
   "metadata": {},
   "outputs": [],
   "source": []
  },
  {
   "cell_type": "markdown",
   "id": "46b7771e",
   "metadata": {},
   "source": [
    "## save data to target"
   ]
  },
  {
   "cell_type": "code",
   "execution_count": null,
   "id": "cabe0e14",
   "metadata": {},
   "outputs": [],
   "source": []
  }
 ],
 "metadata": {
  "kernelspec": {
   "display_name": "ubinet-gpu",
   "language": "python",
   "name": "python3"
  },
  "language_info": {
   "codemirror_mode": {
    "name": "ipython",
    "version": 3
   },
   "file_extension": ".py",
   "mimetype": "text/x-python",
   "name": "python",
   "nbconvert_exporter": "python",
   "pygments_lexer": "ipython3",
   "version": "3.10.13"
  }
 },
 "nbformat": 4,
 "nbformat_minor": 5
}
