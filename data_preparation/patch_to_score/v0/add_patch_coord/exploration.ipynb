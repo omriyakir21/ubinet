{
 "cells": [
  {
   "cell_type": "markdown",
   "id": "cd23d29a",
   "metadata": {},
   "source": [
    "## imports"
   ]
  },
  {
   "cell_type": "code",
   "execution_count": 1,
   "id": "3a399c93",
   "metadata": {},
   "outputs": [
    {
     "name": "stderr",
     "output_type": "stream",
     "text": [
      "2025-05-23 15:04:58.810012: I tensorflow/core/platform/cpu_feature_guard.cc:193] This TensorFlow binary is optimized with oneAPI Deep Neural Network Library (oneDNN) to use the following CPU instructions in performance-critical operations:  AVX2 AVX512F AVX512_VNNI AVX512_BF16 AVX_VNNI AMX_TILE AMX_INT8 AMX_BF16 FMA\n",
      "To enable them in other operations, rebuild TensorFlow with the appropriate compiler flags.\n",
      "2025-05-23 15:04:58.920579: I tensorflow/core/util/port.cc:104] oneDNN custom operations are on. You may see slightly different numerical results due to floating-point round-off errors from different computation orders. To turn them off, set the environment variable `TF_ENABLE_ONEDNN_OPTS=0`.\n",
      "2025-05-23 15:05:03.018023: W tensorflow/compiler/xla/stream_executor/platform/default/dso_loader.cc:64] Could not load dynamic library 'libnvinfer.so.7'; dlerror: libnvinfer.so.7: cannot open shared object file: No such file or directory; LD_LIBRARY_PATH: /home/iscb/wolfson/doririmon/anaconda3/envs/ubinet-gpu/lib\n",
      "2025-05-23 15:05:03.018075: W tensorflow/compiler/xla/stream_executor/platform/default/dso_loader.cc:64] Could not load dynamic library 'libnvinfer_plugin.so.7'; dlerror: libnvinfer_plugin.so.7: cannot open shared object file: No such file or directory; LD_LIBRARY_PATH: /home/iscb/wolfson/doririmon/anaconda3/envs/ubinet-gpu/lib\n",
      "2025-05-23 15:05:03.018080: W tensorflow/compiler/tf2tensorrt/utils/py_utils.cc:38] TF-TRT Warning: Cannot dlopen some TensorRT libraries. If you would like to use Nvidia GPU with TensorRT, please make sure the missing libraries mentioned above are installed properly.\n",
      "2025-05-23 15:05:14.526650: W tensorflow/core/common_runtime/gpu/gpu_device.cc:2027] TensorFlow was not built with CUDA kernel binaries compatible with compute capability 9.0. CUDA kernels will be jit-compiled from PTX, which could take 30 minutes or longer.\n",
      "2025-05-23 15:05:14.527760: W tensorflow/core/common_runtime/gpu/gpu_device.cc:2027] TensorFlow was not built with CUDA kernel binaries compatible with compute capability 9.0. CUDA kernels will be jit-compiled from PTX, which could take 30 minutes or longer.\n",
      "2025-05-23 15:05:14.528898: W tensorflow/core/common_runtime/gpu/gpu_device.cc:2027] TensorFlow was not built with CUDA kernel binaries compatible with compute capability 9.0. CUDA kernels will be jit-compiled from PTX, which could take 30 minutes or longer.\n",
      "2025-05-23 15:05:14.530024: W tensorflow/core/common_runtime/gpu/gpu_device.cc:2027] TensorFlow was not built with CUDA kernel binaries compatible with compute capability 9.0. CUDA kernels will be jit-compiled from PTX, which could take 30 minutes or longer.\n",
      "2025-05-23 15:05:14.531136: W tensorflow/core/common_runtime/gpu/gpu_device.cc:2027] TensorFlow was not built with CUDA kernel binaries compatible with compute capability 9.0. CUDA kernels will be jit-compiled from PTX, which could take 30 minutes or longer.\n",
      "2025-05-23 15:05:14.532285: W tensorflow/core/common_runtime/gpu/gpu_device.cc:2027] TensorFlow was not built with CUDA kernel binaries compatible with compute capability 9.0. CUDA kernels will be jit-compiled from PTX, which could take 30 minutes or longer.\n",
      "2025-05-23 15:05:14.533487: W tensorflow/core/common_runtime/gpu/gpu_device.cc:2027] TensorFlow was not built with CUDA kernel binaries compatible with compute capability 9.0. CUDA kernels will be jit-compiled from PTX, which could take 30 minutes or longer.\n",
      "2025-05-23 15:05:14.534627: W tensorflow/core/common_runtime/gpu/gpu_device.cc:2027] TensorFlow was not built with CUDA kernel binaries compatible with compute capability 9.0. CUDA kernels will be jit-compiled from PTX, which could take 30 minutes or longer.\n"
     ]
    }
   ],
   "source": [
    "import tensorflow as tf\n",
    "tf.config.set_visible_devices([], 'GPU')"
   ]
  },
  {
   "cell_type": "code",
   "execution_count": 2,
   "id": "c84415ea",
   "metadata": {},
   "outputs": [],
   "source": [
    "import pickle\n",
    "import sys\n",
    "sys.path.append('../')\n",
    "sys.path.append('../../../../')"
   ]
  },
  {
   "cell_type": "markdown",
   "id": "96bc40be",
   "metadata": {},
   "source": [
    "## constants"
   ]
  },
  {
   "cell_type": "code",
   "execution_count": 3,
   "id": "b86c5326",
   "metadata": {},
   "outputs": [],
   "source": [
    "data_for_training_dir_path = source_dataset_dir_path = '/home/iscb/wolfson/doririmon/home/order/ubinet/repo/ubinet/datasets/patch_to_score/data_for_training'\n",
    "source_dataset_dir_path = f'{data_for_training_dir_path}/03_04_with_pesto'\n",
    "target_dataset_dir_path = f'{data_for_training_dir_path}/03_04_with_pesto_and_coord'\n",
    "\n",
    "MAX_NUMBER_OF_COMPONENTS = 10"
   ]
  },
  {
   "cell_type": "markdown",
   "id": "cc4a6ef7",
   "metadata": {},
   "source": [
    "## utils"
   ]
  },
  {
   "cell_type": "code",
   "execution_count": 72,
   "id": "e481656e",
   "metadata": {},
   "outputs": [],
   "source": [
    "# copied from data_development_utils.py\n",
    "# modified a bit\n",
    "# TODO: the main risk here: sorted might change order from original creation \n",
    "\n",
    "def extract_protein_data(proteins, max_number_of_components):\n",
    "    residue_indexes = []\n",
    "    for protein in proteins:\n",
    "        # Sort components by average_ubiq in descending order and take the top 10\n",
    "        top_components = sorted(protein.connected_components_tuples, key=lambda x: x[1]['average_scanNet_ubiq'], reverse=True)[\n",
    "                         :max_number_of_components]\n",
    "        residue_indexes.append([component[2] for component in top_components])\n",
    "    return residue_indexes"
   ]
  },
  {
   "cell_type": "markdown",
   "id": "51d628b8",
   "metadata": {},
   "source": [
    "## load data from source"
   ]
  },
  {
   "cell_type": "markdown",
   "id": "e61b9b63",
   "metadata": {},
   "source": [
    "for fold_index in range(5) <br>\n",
    "for set_name in ['train', 'validation', 'test'] <br>\n",
    "\n",
    "Currently folds_training_dicts[fold_index] of set_name, contains:\n",
    "- sizes (will be broadcasted)\n",
    "- num_patches (will be broadcasted)\n",
    "- components (the features matrix, of shape [protein_amount, 10, 9] -> 10=patches_amount, 9=2 for scannet, 5 for pesto, 1 for plddt, 1 for size)\n",
    "- uniprots\n",
    "- labels\n",
    "\n",
    "We want to add one more matrix (again, per fold_index, per set_name). <br>\n",
    "This matrix will be of shape [protein_amount, 10, 3] -> x, y, z coordiantes. <br>\n",
    "x, y, z coordinates will be the average of the ca coords in the patch. <br>\n",
    "the new key will be:\n",
    "\n",
    "- coordinates"
   ]
  },
  {
   "cell_type": "code",
   "execution_count": 4,
   "id": "0cff78bd",
   "metadata": {},
   "outputs": [
    {
     "name": "stderr",
     "output_type": "stream",
     "text": [
      "2025-05-23 15:05:14.816902: I tensorflow/core/platform/cpu_feature_guard.cc:193] This TensorFlow binary is optimized with oneAPI Deep Neural Network Library (oneDNN) to use the following CPU instructions in performance-critical operations:  AVX2 AVX512F AVX512_VNNI AVX512_BF16 AVX_VNNI AMX_TILE AMX_INT8 AMX_BF16 FMA\n",
      "To enable them in other operations, rebuild TensorFlow with the appropriate compiler flags.\n"
     ]
    }
   ],
   "source": [
    "with open(f'{source_dataset_dir_path}/folds_training_dicts.pkl', 'rb') as f:\n",
    "    folds_training_dicts = pickle.load(f)"
   ]
  },
  {
   "cell_type": "code",
   "execution_count": 5,
   "id": "2d2c896e",
   "metadata": {},
   "outputs": [
    {
     "data": {
      "text/plain": [
       "['sizes_train',\n",
       " 'components_train',\n",
       " 'num_patches_train',\n",
       " 'uniprots_train',\n",
       " 'labels_train']"
      ]
     },
     "execution_count": 5,
     "metadata": {},
     "output_type": "execute_result"
    }
   ],
   "source": [
    "# TODO: itterate in for loop\n",
    "fold_index = 0\n",
    "fold = folds_training_dicts[fold_index]\n",
    "[x for x in fold.keys() if 'train' in x]"
   ]
  },
  {
   "cell_type": "code",
   "execution_count": 7,
   "id": "a318728e",
   "metadata": {},
   "outputs": [],
   "source": [
    "with open('/home/iscb/wolfson/doririmon/home/order/ubinet/repo/ubinet/datasets/patch_to_score/patches_dicts/03_04_with_pesto/merged_protein_objects.pkl', 'rb') as f:\n",
    "# with open('/home/iscb/wolfson/doririmon/home/order/ubinet/repo/ubinet/datasets/patch_to_score/patches_dicts/03_04_with_pesto/proteinObjectsWithEvoluion0', 'rb') as f:\n",
    "    merged_protein_objects = pickle.load(f)"
   ]
  },
  {
   "cell_type": "code",
   "execution_count": 18,
   "id": "2cf90fb4",
   "metadata": {},
   "outputs": [
    {
     "data": {
      "text/plain": [
       "(76632, 'Q9XV59')"
      ]
     },
     "execution_count": 18,
     "metadata": {},
     "output_type": "execute_result"
    }
   ],
   "source": [
    "set_name = 'train'  # TODO: iterate in for loop\n",
    "uniprots = set(fold[f'uniprots_{set_name}'])\n",
    "len(uniprots), list(uniprots)[0]"
   ]
  },
  {
   "cell_type": "code",
   "execution_count": 24,
   "id": "04474541",
   "metadata": {},
   "outputs": [
    {
     "data": {
      "text/plain": [
       "TensorShape([76632, 10, 9])"
      ]
     },
     "execution_count": 24,
     "metadata": {},
     "output_type": "execute_result"
    }
   ],
   "source": [
    "fold[f'components_{set_name}'].shape"
   ]
  },
  {
   "cell_type": "code",
   "execution_count": 75,
   "id": "12f1d0c2",
   "metadata": {},
   "outputs": [
    {
     "data": {
      "text/plain": [
       "(76632, 76632)"
      ]
     },
     "execution_count": 75,
     "metadata": {},
     "output_type": "execute_result"
    }
   ],
   "source": [
    "data_set_protein_objects = {k: v for k, v in merged_protein_objects.items() if k in uniprots}\n",
    "data_set_res_indexes = {k: extract_protein_data([v], MAX_NUMBER_OF_COMPONENTS)[0] for k, v in data_set_protein_objects.items()}\n",
    "len(data_set_protein_objects), len(data_set_res_indexes)"
   ]
  },
  {
   "cell_type": "markdown",
   "id": "502dda26",
   "metadata": {},
   "source": [
    "## add coord"
   ]
  },
  {
   "cell_type": "code",
   "execution_count": 78,
   "id": "1c60b608",
   "metadata": {},
   "outputs": [],
   "source": [
    "# TODO\n",
    "# we have the residue indexes in data_set_res_indexes\n",
    "# now we just need to fetch the ca coord of each residue, then average accross the inner lists "
   ]
  },
  {
   "cell_type": "markdown",
   "id": "46b7771e",
   "metadata": {},
   "source": [
    "## save data to target"
   ]
  },
  {
   "cell_type": "code",
   "execution_count": null,
   "id": "cabe0e14",
   "metadata": {},
   "outputs": [],
   "source": []
  }
 ],
 "metadata": {
  "kernelspec": {
   "display_name": "ubinet-gpu",
   "language": "python",
   "name": "python3"
  },
  "language_info": {
   "codemirror_mode": {
    "name": "ipython",
    "version": 3
   },
   "file_extension": ".py",
   "mimetype": "text/x-python",
   "name": "python",
   "nbconvert_exporter": "python",
   "pygments_lexer": "ipython3",
   "version": "3.10.13"
  }
 },
 "nbformat": 4,
 "nbformat_minor": 5
}
