{
 "cells": [
  {
   "cell_type": "code",
   "execution_count": 43,
   "id": "8dd74155",
   "metadata": {},
   "outputs": [],
   "source": [
    "import tensorflow as tf\n",
    "tf.config.set_visible_devices([], 'GPU')\n",
    "\n",
    "from typing import List, Tuple\n",
    "import pickle\n",
    "import os\n",
    "import numpy as np\n",
    "import pandas as pd\n",
    "from plotly import express as px"
   ]
  },
  {
   "cell_type": "code",
   "execution_count": 54,
   "id": "09efb5eb",
   "metadata": {},
   "outputs": [],
   "source": [
    "pdbs_dir_path = '/home/iscb/wolfson/doririmon/home/order/ubinet/repo/ubinet/datasets/patch_to_score/sources'\n",
    "data_for_training_dir_path = '/home/iscb/wolfson/doririmon/home/order/ubinet/repo/ubinet/datasets/patch_to_score/data_for_training/03_04_with_pesto_and_coord'"
   ]
  },
  {
   "cell_type": "code",
   "execution_count": 56,
   "id": "136d38fa",
   "metadata": {},
   "outputs": [],
   "source": [
    "with open(f'{data_for_training_dir_path}/folds_training_dicts.pkl', 'rb') as f:\n",
    "    folds_training_dicts = pickle.load(f)\n",
    "\n",
    "with open(f'{data_for_training_dir_path}/all_patches_ca_coordinates.pkl', 'rb') as f:\n",
    "    all_patches_ca_coordinates = pickle.load(f)"
   ]
  },
  {
   "cell_type": "code",
   "execution_count": 4,
   "id": "dabd71c0",
   "metadata": {},
   "outputs": [
    {
     "data": {
      "text/plain": [
       "dict_keys(['sizes_train', 'components_train', 'num_patches_train', 'uniprots_train', 'labels_train', 'sizes_validation', 'components_validation', 'num_patches_validation', 'uniprots_validation', 'labels_validation', 'sizes_test', 'components_test', 'num_patches_test', 'uniprots_test', 'labels_test', 'coordinates_train', 'coordinates_validation', 'coordinates_test'])"
      ]
     },
     "execution_count": 4,
     "metadata": {},
     "output_type": "execute_result"
    }
   ],
   "source": [
    "fold = folds_training_dicts[0]\n",
    "fold.keys()"
   ]
  },
  {
   "cell_type": "code",
   "execution_count": 6,
   "id": "6842bf09",
   "metadata": {},
   "outputs": [],
   "source": [
    "features = fold['components_train']\n",
    "coordinates = fold['coordinates_train']\n",
    "sizes = fold['sizes_train']\n",
    "num_patches = fold['num_patches_train']\n",
    "uniprots = fold['uniprots_train']"
   ]
  },
  {
   "cell_type": "code",
   "execution_count": 10,
   "id": "4e75b3b5",
   "metadata": {},
   "outputs": [
    {
     "data": {
      "text/plain": [
       "'A0A060X2W8'"
      ]
     },
     "execution_count": 10,
     "metadata": {},
     "output_type": "execute_result"
    }
   ],
   "source": [
    "uniprot_index = 0\n",
    "uniprot_name = uniprots[uniprot_index]\n",
    "uniprot_name"
   ]
  },
  {
   "cell_type": "code",
   "execution_count": 11,
   "id": "880aabca",
   "metadata": {},
   "outputs": [],
   "source": [
    "uniprot_features = features[uniprot_index]\n",
    "uniprot_coordinates = coordinates[uniprot_index]\n",
    "uniprot_sizes = sizes[uniprot_index]"
   ]
  },
  {
   "cell_type": "code",
   "execution_count": 19,
   "id": "d74f97c3",
   "metadata": {},
   "outputs": [],
   "source": [
    "# find uniprot in pdbs_dir_path\n",
    "def find_pdbs_for_uniprot(uniprot_name: str, pdbs_dir_path: str) -> str:\n",
    "    for root, dirs, files in os.walk(pdbs_dir_path):\n",
    "        for file in files:\n",
    "            if uniprot_name in file:\n",
    "                return os.path.join(root, file)"
   ]
  },
  {
   "cell_type": "code",
   "execution_count": 22,
   "id": "4968c3e0",
   "metadata": {},
   "outputs": [],
   "source": [
    "uniprot_pdb_path = find_pdbs_for_uniprot(uniprot_name, pdbs_dir_path)"
   ]
  },
  {
   "cell_type": "code",
   "execution_count": 25,
   "id": "2e61c66f",
   "metadata": {},
   "outputs": [],
   "source": [
    "# load pdb file with biopython\n",
    "from Bio.PDB import PDBParser\n",
    "parser = PDBParser(QUIET=True)\n",
    "structure = parser.get_structure(uniprot_name, uniprot_pdb_path)\n",
    "model = structure.child_list[0]\n",
    "assert (len(model) == 1)\n",
    "for chain in model:\n",
    "    pass"
   ]
  },
  {
   "cell_type": "code",
   "execution_count": 36,
   "id": "87296a26",
   "metadata": {},
   "outputs": [],
   "source": [
    "all_coordinates = np.array([x['CA'].coord for x in chain.child_list])"
   ]
  },
  {
   "cell_type": "code",
   "execution_count": 38,
   "id": "40af0c67",
   "metadata": {},
   "outputs": [
    {
     "data": {
      "text/plain": [
       "(655, 3)"
      ]
     },
     "execution_count": 38,
     "metadata": {},
     "output_type": "execute_result"
    }
   ],
   "source": [
    "all_coordinates.shape"
   ]
  },
  {
   "cell_type": "code",
   "execution_count": 62,
   "id": "5fdbcda5",
   "metadata": {},
   "outputs": [],
   "source": [
    "coordinates_df = pd.DataFrame(all_coordinates, columns=['x', 'y', 'z'])\n",
    "coordinates_df['kind'] = 'CA'\n",
    "\n",
    "patch_coordinates_df = pd.DataFrame(uniprot_coordinates[uniprot_coordinates[:, 0] != 0], columns=['x', 'y', 'z'])\n",
    "patch_coordinates_df['kind'] = 'patch_average'\n",
    "coordinates_df = pd.concat([coordinates_df, patch_coordinates_df], ignore_index=True)"
   ]
  },
  {
   "cell_type": "code",
   "execution_count": 63,
   "id": "5aaa3b04",
   "metadata": {},
   "outputs": [],
   "source": [
    "for patch_index, patch_coordinates in enumerate(all_patches_ca_coordinates[uniprot_name]):\n",
    "    sub_df = pd.DataFrame(patch_coordinates, columns=['x', 'y', 'z'])\n",
    "    sub_df['kind'] = f'patch_{patch_index}'\n",
    "    coordinates_df = pd.concat([coordinates_df, sub_df], ignore_index=True)"
   ]
  },
  {
   "cell_type": "code",
   "execution_count": 66,
   "id": "45d95522",
   "metadata": {},
   "outputs": [],
   "source": [
    "fig = px.scatter_3d(\n",
    "    coordinates_df,\n",
    "    x='x',\n",
    "    y='y',\n",
    "    z='z',\n",
    "    title=f'3D coordinates of {uniprot_name}',\n",
    "    width=800,\n",
    "    height=800,\n",
    "    color='kind',\n",
    ")\n",
    "# fig.show()"
   ]
  },
  {
   "cell_type": "code",
   "execution_count": null,
   "id": "4936c8ba",
   "metadata": {},
   "outputs": [],
   "source": []
  }
 ],
 "metadata": {
  "kernelspec": {
   "display_name": "ubinet-gpu",
   "language": "python",
   "name": "python3"
  },
  "language_info": {
   "codemirror_mode": {
    "name": "ipython",
    "version": 3
   },
   "file_extension": ".py",
   "mimetype": "text/x-python",
   "name": "python",
   "nbconvert_exporter": "python",
   "pygments_lexer": "ipython3",
   "version": "3.10.13"
  }
 },
 "nbformat": 4,
 "nbformat_minor": 5
}
