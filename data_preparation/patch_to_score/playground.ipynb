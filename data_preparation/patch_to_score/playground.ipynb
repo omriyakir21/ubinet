{
 "cells": [
  {
   "cell_type": "code",
   "execution_count": 2,
   "id": "64caf7d9",
   "metadata": {},
   "outputs": [
    {
     "name": "stderr",
     "output_type": "stream",
     "text": [
      "2025-04-12 12:24:06.905449: W tensorflow/compiler/xla/stream_executor/platform/default/dso_loader.cc:64] Could not load dynamic library 'libnvinfer.so.7'; dlerror: libnvinfer.so.7: cannot open shared object file: No such file or directory; LD_LIBRARY_PATH: /home/iscb/wolfson/doririmon/anaconda3/envs/ubinet-gpu/lib\n",
      "2025-04-12 12:24:06.911607: W tensorflow/compiler/xla/stream_executor/platform/default/dso_loader.cc:64] Could not load dynamic library 'libnvinfer_plugin.so.7'; dlerror: libnvinfer_plugin.so.7: cannot open shared object file: No such file or directory; LD_LIBRARY_PATH: /home/iscb/wolfson/doririmon/anaconda3/envs/ubinet-gpu/lib\n",
      "2025-04-12 12:24:06.911626: W tensorflow/compiler/tf2tensorrt/utils/py_utils.cc:38] TF-TRT Warning: Cannot dlopen some TensorRT libraries. If you would like to use Nvidia GPU with TensorRT, please make sure the missing libraries mentioned above are installed properly.\n",
      "2025-04-12 12:24:48.862759: W tensorflow/core/common_runtime/gpu/gpu_device.cc:2027] TensorFlow was not built with CUDA kernel binaries compatible with compute capability 9.0. CUDA kernels will be jit-compiled from PTX, which could take 30 minutes or longer.\n",
      "2025-04-12 12:24:48.863925: W tensorflow/core/common_runtime/gpu/gpu_device.cc:2027] TensorFlow was not built with CUDA kernel binaries compatible with compute capability 9.0. CUDA kernels will be jit-compiled from PTX, which could take 30 minutes or longer.\n",
      "2025-04-12 12:24:48.865058: W tensorflow/core/common_runtime/gpu/gpu_device.cc:2027] TensorFlow was not built with CUDA kernel binaries compatible with compute capability 9.0. CUDA kernels will be jit-compiled from PTX, which could take 30 minutes or longer.\n",
      "2025-04-12 12:24:48.866193: W tensorflow/core/common_runtime/gpu/gpu_device.cc:2027] TensorFlow was not built with CUDA kernel binaries compatible with compute capability 9.0. CUDA kernels will be jit-compiled from PTX, which could take 30 minutes or longer.\n",
      "2025-04-12 12:24:48.867313: W tensorflow/core/common_runtime/gpu/gpu_device.cc:2027] TensorFlow was not built with CUDA kernel binaries compatible with compute capability 9.0. CUDA kernels will be jit-compiled from PTX, which could take 30 minutes or longer.\n",
      "2025-04-12 12:24:48.868416: W tensorflow/core/common_runtime/gpu/gpu_device.cc:2027] TensorFlow was not built with CUDA kernel binaries compatible with compute capability 9.0. CUDA kernels will be jit-compiled from PTX, which could take 30 minutes or longer.\n",
      "2025-04-12 12:24:48.869548: W tensorflow/core/common_runtime/gpu/gpu_device.cc:2027] TensorFlow was not built with CUDA kernel binaries compatible with compute capability 9.0. CUDA kernels will be jit-compiled from PTX, which could take 30 minutes or longer.\n",
      "2025-04-12 12:24:48.870726: W tensorflow/core/common_runtime/gpu/gpu_device.cc:2027] TensorFlow was not built with CUDA kernel binaries compatible with compute capability 9.0. CUDA kernels will be jit-compiled from PTX, which could take 30 minutes or longer.\n"
     ]
    }
   ],
   "source": [
    "import tensorflow as tf\n",
    "tf.config.set_visible_devices([], 'GPU')"
   ]
  },
  {
   "cell_type": "code",
   "execution_count": 3,
   "id": "2c1ae730",
   "metadata": {},
   "outputs": [],
   "source": [
    "import pickle\n",
    "from data_development_utils import Protein"
   ]
  },
  {
   "cell_type": "code",
   "execution_count": 4,
   "id": "f62f5ec6",
   "metadata": {},
   "outputs": [],
   "source": [
    "with open('../../datasets/patch_to_score/patches_dicts/03_04_with_pesto/proteinObjectsWithEvoluion0', 'rb') as f:\n",
    "    protein_objects = pickle.load(f)"
   ]
  },
  {
   "cell_type": "code",
   "execution_count": 10,
   "id": "1ef15863",
   "metadata": {},
   "outputs": [],
   "source": [
    "protein = protein_objects[list(protein_objects.keys())[0]]"
   ]
  },
  {
   "cell_type": "code",
   "execution_count": 13,
   "id": "32926d87",
   "metadata": {},
   "outputs": [
    {
     "data": {
      "text/plain": [
       "dict_keys(['uniprot_name', 'percentile_90', 'predictions_dict', 'source', 'plddt_values', 'sequence', 'size', 'graph', 'connected_components_tuples'])"
      ]
     },
     "execution_count": 13,
     "metadata": {},
     "output_type": "execute_result"
    }
   ],
   "source": [
    "protein.__dict__.keys()"
   ]
  },
  {
   "cell_type": "code",
   "execution_count": 20,
   "id": "b37d86ec",
   "metadata": {},
   "outputs": [
    {
     "data": {
      "text/plain": [
       "dict_keys(['graph', '_node', '_adj', '__networkx_cache__', 'degree'])"
      ]
     },
     "execution_count": 20,
     "metadata": {},
     "output_type": "execute_result"
    }
   ],
   "source": [
    "protein.graph.__dict__.keys()"
   ]
  },
  {
   "cell_type": "code",
   "execution_count": 30,
   "id": "bd8e783b",
   "metadata": {},
   "outputs": [
    {
     "data": {
      "text/plain": [
       "(0.26495680809021005, 'E1', 'A0A022QL98', 989, 989)"
      ]
     },
     "execution_count": 30,
     "metadata": {},
     "output_type": "execute_result"
    }
   ],
   "source": [
    "protein.percentile_90, protein.source, protein.uniprot_name, protein.size, len(protein.sequence)"
   ]
  },
  {
   "cell_type": "code",
   "execution_count": 31,
   "id": "71a4b8c1",
   "metadata": {},
   "outputs": [
    {
     "data": {
      "text/plain": [
       "(989,)"
      ]
     },
     "execution_count": 31,
     "metadata": {},
     "output_type": "execute_result"
    }
   ],
   "source": [
    "protein.predictions_dict['pesto_protein'].shape"
   ]
  },
  {
   "cell_type": "code",
   "execution_count": 21,
   "id": "cb0342ca",
   "metadata": {},
   "outputs": [
    {
     "data": {
      "text/plain": [
       "[(1,\n",
       "  {'average_scanNet_ubiq': 0.3525208830833435,\n",
       "   'average_scanNet_protein': 0.2656939625740051,\n",
       "   'average_pesto_protein': 0.01238293293863535,\n",
       "   'average_pesto_dna_rna': 0.000669238856062293,\n",
       "   'average_pesto_ion': 0.18229778110980988,\n",
       "   'average_pesto_ligand': 0.3589481711387634,\n",
       "   'average_pesto_lipid': 0.023278553038835526,\n",
       "   'average_plddt': 97.06},\n",
       "  [140]),\n",
       " (1,\n",
       "  {'average_scanNet_ubiq': 0.297583669424057,\n",
       "   'average_scanNet_protein': 0.1955191195011139,\n",
       "   'average_pesto_protein': 0.0034974473528563976,\n",
       "   'average_pesto_dna_rna': 0.0058906301856040955,\n",
       "   'average_pesto_ion': 0.1344730108976364,\n",
       "   'average_pesto_ligand': 0.34134310483932495,\n",
       "   'average_pesto_lipid': 0.002473328961059451,\n",
       "   'average_plddt': 94.88},\n",
       "  [152]),\n",
       " (20,\n",
       "  {'average_scanNet_ubiq': 0.45464024394750596,\n",
       "   'average_scanNet_protein': 0.6456772610545158,\n",
       "   'average_pesto_protein': 0.04557022295193747,\n",
       "   'average_pesto_dna_rna': 0.12875135486829095,\n",
       "   'average_pesto_ion': 0.16013477016240357,\n",
       "   'average_pesto_ligand': 0.3258665148168802,\n",
       "   'average_pesto_lipid': 0.014124782846513995,\n",
       "   'average_plddt': 82.741},\n",
       "  [414,\n",
       "   415,\n",
       "   416,\n",
       "   417,\n",
       "   418,\n",
       "   419,\n",
       "   309,\n",
       "   312,\n",
       "   313,\n",
       "   319,\n",
       "   322,\n",
       "   587,\n",
       "   589,\n",
       "   594,\n",
       "   596,\n",
       "   870,\n",
       "   871,\n",
       "   873,\n",
       "   875,\n",
       "   878]),\n",
       " (4,\n",
       "  {'average_scanNet_ubiq': 0.3419610559940338,\n",
       "   'average_scanNet_protein': 0.44553955644369125,\n",
       "   'average_pesto_protein': 0.012852160492911935,\n",
       "   'average_pesto_dna_rna': 0.8524170815944672,\n",
       "   'average_pesto_ion': 0.17263153474777937,\n",
       "   'average_pesto_ligand': 0.2994975820183754,\n",
       "   'average_pesto_lipid': 1.126318067434795e-05,\n",
       "   'average_plddt': 73.11},\n",
       "  [504, 498, 500, 503]),\n",
       " (2,\n",
       "  {'average_scanNet_ubiq': 0.281351774930954,\n",
       "   'average_scanNet_protein': 0.38984254002571106,\n",
       "   'average_pesto_protein': 0.16989546176046133,\n",
       "   'average_pesto_dna_rna': 0.0874219685792923,\n",
       "   'average_pesto_ion': 0.36930158734321594,\n",
       "   'average_pesto_ligand': 0.24780768156051636,\n",
       "   'average_pesto_lipid': 0.030064867692999542,\n",
       "   'average_plddt': 72.0},\n",
       "  [696, 695]),\n",
       " (5,\n",
       "  {'average_scanNet_ubiq': 0.5241729855537415,\n",
       "   'average_scanNet_protein': 0.6359709978103638,\n",
       "   'average_pesto_protein': 0.03397146090865135,\n",
       "   'average_pesto_dna_rna': 0.018887143209576608,\n",
       "   'average_pesto_ion': 0.05098014697432518,\n",
       "   'average_pesto_ligand': 0.17162466794252396,\n",
       "   'average_pesto_lipid': 0.0014273257271270267,\n",
       "   'average_plddt': 81.274},\n",
       "  [896, 897, 898, 900, 895]),\n",
       " (1,\n",
       "  {'average_scanNet_ubiq': 0.3337218165397644,\n",
       "   'average_scanNet_protein': 0.5452024936676025,\n",
       "   'average_pesto_protein': 0.06043184921145439,\n",
       "   'average_pesto_dna_rna': 0.010051628574728966,\n",
       "   'average_pesto_ion': 0.1298675537109375,\n",
       "   'average_pesto_ligand': 0.0964614748954773,\n",
       "   'average_pesto_lipid': 0.0019767277408391237,\n",
       "   'average_plddt': 77.19},\n",
       "  [915]),\n",
       " (1,\n",
       "  {'average_scanNet_ubiq': 0.27096104621887207,\n",
       "   'average_scanNet_protein': 0.562732994556427,\n",
       "   'average_pesto_protein': 0.2531450390815735,\n",
       "   'average_pesto_dna_rna': 0.010983890853822231,\n",
       "   'average_pesto_ion': 0.28389954566955566,\n",
       "   'average_pesto_ligand': 0.26651811599731445,\n",
       "   'average_pesto_lipid': 0.009460334666073322,\n",
       "   'average_plddt': 91.94},\n",
       "  [921])]"
      ]
     },
     "execution_count": 21,
     "metadata": {},
     "output_type": "execute_result"
    }
   ],
   "source": [
    "protein.connected_components_tuples"
   ]
  },
  {
   "cell_type": "code",
   "execution_count": null,
   "id": "f5bb7ba7",
   "metadata": {},
   "outputs": [],
   "source": []
  }
 ],
 "metadata": {
  "kernelspec": {
   "display_name": "ubinet-gpu",
   "language": "python",
   "name": "python3"
  },
  "language_info": {
   "codemirror_mode": {
    "name": "ipython",
    "version": 3
   },
   "file_extension": ".py",
   "mimetype": "text/x-python",
   "name": "python",
   "nbconvert_exporter": "python",
   "pygments_lexer": "ipython3",
   "version": "3.10.13"
  }
 },
 "nbformat": 4,
 "nbformat_minor": 5
}
