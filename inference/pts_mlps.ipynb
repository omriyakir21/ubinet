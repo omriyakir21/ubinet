{
 "cells": [
  {
   "cell_type": "markdown",
   "id": "86d1ba31",
   "metadata": {},
   "source": [
    "# imports"
   ]
  },
  {
   "cell_type": "code",
   "execution_count": 24,
   "id": "f86a0f93",
   "metadata": {},
   "outputs": [],
   "source": [
    "import sys\n",
    "sys.path.append('../')\n",
    "\n",
    "import tensorflow as tf\n",
    "tf.config.set_visible_devices([], 'GPU')\n",
    "\n",
    "import json\n",
    "from models.patch_to_score.dataset import PatchToScoreCrossValidationDataset\n",
    "from models.patch_to_score.models.modules.transformer_encoder_mlp import TransformerEncoderMLP\n",
    "from models.patch_to_score.models.modules.global_sum_pooling import GlobalSumPooling"
   ]
  },
  {
   "cell_type": "markdown",
   "id": "273cbab0",
   "metadata": {},
   "source": [
    "# constants"
   ]
  },
  {
   "cell_type": "code",
   "execution_count": 10,
   "id": "cdf962b1",
   "metadata": {},
   "outputs": [
    {
     "name": "stdout",
     "output_type": "stream",
     "text": [
      "/bin/tcsh: /home/iscb/wolfson/doririmon/anaconda3/envs/ubinet-gpu/lib/libtinfo.so.6: no version information available (required by /bin/tcsh)\n",
      "/home/iscb/wolfson/doririmon/home/order/ubinet/repo/ubinet/inference\n"
     ]
    }
   ],
   "source": [
    "!pwd"
   ]
  },
  {
   "cell_type": "code",
   "execution_count": 13,
   "id": "0efe19a7",
   "metadata": {},
   "outputs": [],
   "source": [
    "model_results_dir_path = '/home/iscb/wolfson/doririmon/home/order/ubinet/repo/ubinet/results/patch_to_score/hypotheses/pts_shalllow_mlps_autoregressive_scannet/21_07/2025-08-08_22693c7950'\n",
    "fold = 0"
   ]
  },
  {
   "cell_type": "markdown",
   "id": "6401b86f",
   "metadata": {},
   "source": [
    "# load model"
   ]
  },
  {
   "cell_type": "code",
   "execution_count": 18,
   "id": "09144ee3",
   "metadata": {},
   "outputs": [],
   "source": [
    "with open(f'{model_results_dir_path}/configuration.json', 'rb') as f:\n",
    "    configuration = json.load(f)\n",
    "model_configuration = configuration['model']"
   ]
  },
  {
   "cell_type": "code",
   "execution_count": 17,
   "id": "10bde31e",
   "metadata": {},
   "outputs": [],
   "source": [
    "from models.patch_to_score.bootstrappers.model import build_model_from_configuration"
   ]
  },
  {
   "cell_type": "code",
   "execution_count": null,
   "id": "1c04449e",
   "metadata": {},
   "outputs": [
    {
     "name": "stdout",
     "output_type": "stream",
     "text": [
      "initializing projection for skip connection: 11 -> 512\n"
     ]
    }
   ],
   "source": [
    "model = build_model_from_configuration(**model_configuration)\n",
    "model.load_weights(f'{model_results_dir_path}/fold_{fold}/model.keras')"
   ]
  },
  {
   "cell_type": "markdown",
   "id": "4419030f",
   "metadata": {},
   "source": [
    "# analysis"
   ]
  },
  {
   "cell_type": "code",
   "execution_count": 23,
   "id": "3bcbb61d",
   "metadata": {},
   "outputs": [
    {
     "name": "stdout",
     "output_type": "stream",
     "text": [
      "Model: \"model_2\"\n",
      "__________________________________________________________________________________________________\n",
      " Layer (type)                   Output Shape         Param #     Connected to                     \n",
      "==================================================================================================\n",
      " hot_encoded_value_input (Input  [(None, 11)]        0           []                               \n",
      " Layer)                                                                                           \n",
      "                                                                                                  \n",
      " tf.math.argmax_2 (TFOpLambda)  (None,)              0           ['hot_encoded_value_input[0][0]']\n",
      "                                                                                                  \n",
      " tf.__operators__.getitem_10 (S  (None, 1)           0           ['tf.math.argmax_2[0][0]']       \n",
      " licingOpLambda)                                                                                  \n",
      "                                                                                                  \n",
      " tf.cast_2 (TFOpLambda)         (None, 1)            0           ['tf.__operators__.getitem_10[0][\n",
      "                                                                 0]']                             \n",
      "                                                                                                  \n",
      " extra_value_input (InputLayer)  [(None, 1)]         0           []                               \n",
      "                                                                                                  \n",
      " tf.compat.v1.shape_8 (TFOpLamb  (2,)                0           ['tf.cast_2[0][0]']              \n",
      " da)                                                                                              \n",
      "                                                                                                  \n",
      " tf.compat.v1.shape_9 (TFOpLamb  (2,)                0           ['tf.cast_2[0][0]']              \n",
      " da)                                                                                              \n",
      "                                                                                                  \n",
      " tf.compat.v1.shape_10 (TFOpLam  (2,)                0           ['extra_value_input[0][0]']      \n",
      " bda)                                                                                             \n",
      "                                                                                                  \n",
      " tf.compat.v1.shape_11 (TFOpLam  (2,)                0           ['extra_value_input[0][0]']      \n",
      " bda)                                                                                             \n",
      "                                                                                                  \n",
      " tf.expand_dims_4 (TFOpLambda)  (None, 1, 1)         0           ['tf.cast_2[0][0]']              \n",
      "                                                                                                  \n",
      " tf.__operators__.getitem_11 (S  ()                  0           ['tf.compat.v1.shape_8[0][0]']   \n",
      " licingOpLambda)                                                                                  \n",
      "                                                                                                  \n",
      " tf.__operators__.getitem_12 (S  ()                  0           ['tf.compat.v1.shape_9[0][0]']   \n",
      " licingOpLambda)                                                                                  \n",
      "                                                                                                  \n",
      " tf.expand_dims_5 (TFOpLambda)  (None, 1, 1)         0           ['extra_value_input[0][0]']      \n",
      "                                                                                                  \n",
      " tf.__operators__.getitem_13 (S  ()                  0           ['tf.compat.v1.shape_10[0][0]']  \n",
      " licingOpLambda)                                                                                  \n",
      "                                                                                                  \n",
      " tf.__operators__.getitem_14 (S  ()                  0           ['tf.compat.v1.shape_11[0][0]']  \n",
      " licingOpLambda)                                                                                  \n",
      "                                                                                                  \n",
      " patches_input (InputLayer)     [(None, 10, 9)]      0           []                               \n",
      "                                                                                                  \n",
      " tf.broadcast_to_4 (TFOpLambda)  (None, 10, 1)       0           ['tf.expand_dims_4[0][0]',       \n",
      "                                                                  'tf.__operators__.getitem_11[0][\n",
      "                                                                 0]',                             \n",
      "                                                                  'tf.__operators__.getitem_12[0][\n",
      "                                                                 0]']                             \n",
      "                                                                                                  \n",
      " tf.broadcast_to_5 (TFOpLambda)  (None, 10, 1)       0           ['tf.expand_dims_5[0][0]',       \n",
      "                                                                  'tf.__operators__.getitem_13[0][\n",
      "                                                                 0]',                             \n",
      "                                                                  'tf.__operators__.getitem_14[0][\n",
      "                                                                 0]']                             \n",
      "                                                                                                  \n",
      " concatenate_2 (Concatenate)    (None, 10, 11)       0           ['patches_input[0][0]',          \n",
      "                                                                  'tf.broadcast_to_4[0][0]',      \n",
      "                                                                  'tf.broadcast_to_5[0][0]']      \n",
      "                                                                                                  \n",
      " masking_2 (Masking)            (None, 10, 11)       0           ['concatenate_2[0][0]']          \n",
      "                                                                                                  \n",
      " transformer_encoder_mlp_4 (Tra  (None, 10, 512)     544256      ['masking_2[0][0]']              \n",
      " nsformerEncoderMLP)                                                                              \n",
      "                                                                                                  \n",
      " re_lu_4 (ReLU)                 (None, 10, 512)      0           ['transformer_encoder_mlp_4[0][0]\n",
      "                                                                 ']                               \n",
      "                                                                                                  \n",
      " global_sum_pooling_2 (GlobalSu  (None, 512)         0           ['re_lu_4[0][0]']                \n",
      " mPooling)                                                                                        \n",
      "                                                                                                  \n",
      " transformer_encoder_mlp_5 (Tra  (None, 512)         526336      ['global_sum_pooling_2[0][0]']   \n",
      " nsformerEncoderMLP)                                                                              \n",
      "                                                                                                  \n",
      " re_lu_5 (ReLU)                 (None, 512)          0           ['transformer_encoder_mlp_5[0][0]\n",
      "                                                                 ']                               \n",
      "                                                                                                  \n",
      " dense_2 (Dense)                (None, 1)            513         ['re_lu_5[0][0]']                \n",
      "                                                                                                  \n",
      "==================================================================================================\n",
      "Total params: 1,071,105\n",
      "Trainable params: 1,071,105\n",
      "Non-trainable params: 0\n",
      "__________________________________________________________________________________________________\n"
     ]
    }
   ],
   "source": [
    "model.summary()"
   ]
  },
  {
   "cell_type": "markdown",
   "id": "0d72b515",
   "metadata": {},
   "source": [
    "# inference"
   ]
  },
  {
   "cell_type": "code",
   "execution_count": 29,
   "id": "606cf5cd",
   "metadata": {},
   "outputs": [
    {
     "name": "stdout",
     "output_type": "stream",
     "text": [
      "folds amount: 5\n"
     ]
    }
   ],
   "source": [
    "cross_validation_dataset = PatchToScoreCrossValidationDataset(**configuration['data'])\n",
    "fold_dataset = cross_validation_dataset.fold_datasets[fold]"
   ]
  },
  {
   "cell_type": "code",
   "execution_count": null,
   "id": "1420260e",
   "metadata": {},
   "outputs": [
    {
     "data": {
      "text/plain": [
       "TensorShape([25545, 10, 9])"
      ]
     },
     "execution_count": 34,
     "metadata": {},
     "output_type": "execute_result"
    }
   ],
   "source": [
    "fold_dataset.validation_set[0]"
   ]
  },
  {
   "cell_type": "code",
   "execution_count": 36,
   "id": "e5efcd2d",
   "metadata": {},
   "outputs": [
    {
     "ename": "ValueError",
     "evalue": "Layer \"model_2\" expects 3 input(s), but it received 1 input tensors. Inputs received: [<tf.Tensor: shape=(15, 10, 9), dtype=float64, numpy=\narray([[[ 1.39344638,  0.99918599,  0.51010773, ..., -0.13760061,\n         -0.20751776,  1.01908087],\n        [ 0.96869525,  0.5095245 , -0.14786836, ..., -0.6134645 ,\n         -0.32844807,  0.93074445],\n        [ 0.        ,  0.        ,  0.        , ...,  0.        ,\n          0.        ,  0.        ],\n        ...,\n        [ 0.        ,  0.        ,  0.        , ...,  0.        ,\n          0.        ,  0.        ],\n        [ 0.        ,  0.        ,  0.        , ...,  0.        ,\n          0.        ,  0.        ],\n        [ 0.        ,  0.        ,  0.        , ...,  0.        ,\n          0.        ,  0.        ]],\n\n       [[ 0.59113868,  0.54395996,  0.45011123, ...,  0.15312133,\n         -0.3379936 ,  1.32934508],\n        [ 0.68552782,  0.50700097,  0.83228936, ..., -0.20736335,\n          0.30961895,  1.08497899],\n        [ 0.        ,  0.        ,  0.        , ...,  0.        ,\n          0.        ,  0.        ],\n        ...,\n        [ 0.        ,  0.        ,  0.        , ...,  0.        ,\n          0.        ,  0.        ],\n        [ 0.        ,  0.        ,  0.        , ...,  0.        ,\n          0.        ,  0.        ],\n        [ 0.        ,  0.        ,  0.        , ...,  0.        ,\n          0.        ,  0.        ]],\n\n       [[ 0.44955497,  0.45909187,  0.4334518 , ..., -0.60061266,\n          0.40404958,  0.87269733],\n        [ 1.44064095, -0.04725062, -0.28667752, ..., -0.4306623 ,\n         -0.43124021,  1.04809807],\n        [-0.44714188, -0.3952094 ,  0.32059075, ..., -0.77260592,\n          0.54200451, -1.74136362],\n        ...,\n        [ 0.        ,  0.        ,  0.        , ...,  0.        ,\n          0.        ,  0.        ],\n        [ 0.        ,  0.        ,  0.        , ...,  0.        ,\n          0.        ,  0.        ],\n        [ 0.        ,  0.        ,  0.        , ...,  0.        ,\n          0.        ,  0.        ]],\n\n       ...,\n\n       [[ 1.2046681 ,  0.70070533,  0.81886665, ..., -0.44904244,\n          1.34784953,  0.69664254],\n        [ 1.58222467,  0.09250558, -0.01579343, ..., -0.61855776,\n         -0.4066066 ,  0.95827547],\n        [ 0.4023604 ,  0.07656781,  0.79585269, ..., -0.44242915,\n          0.01299664, -0.70325927],\n        ...,\n        [ 0.        ,  0.        ,  0.        , ...,  0.        ,\n          0.        ,  0.        ],\n        [ 0.        ,  0.        ,  0.        , ...,  0.        ,\n          0.        ,  0.        ],\n        [ 0.        ,  0.        ,  0.        , ...,  0.        ,\n          0.        ,  0.        ]],\n\n       [[ 0.35516583,  0.34482472,  0.00981043, ..., -0.30589916,\n         -0.3872173 ,  1.30602546],\n        [-0.49433645, -0.15800913, -0.05689415, ..., -0.22119844,\n          1.48864492,  1.04219804],\n        [-0.49433645, -0.19998484,  0.18234686, ..., -0.78667218,\n         -0.3728719 , -1.91951436],\n        ...,\n        [ 0.        ,  0.        ,  0.        , ...,  0.        ,\n          0.        ,  0.        ],\n        [ 0.        ,  0.        ,  0.        , ...,  0.        ,\n          0.        ,  0.        ],\n        [ 0.        ,  0.        ,  0.        , ...,  0.        ,\n          0.        ,  0.        ]],\n\n       [[ 1.15747353,  1.37688775,  0.51788493, ..., -0.28874654,\n         -0.23197186,  1.03624802],\n        [ 0.49674954,  0.5383493 ,  0.3348618 , ...,  1.29043432,\n          0.27037422,  1.34345385],\n        [-0.39994731,  0.10948219,  2.21276222, ..., -0.84059758,\n         -0.31100136, -0.79787633],\n        ...,\n        [ 0.        ,  0.        ,  0.        , ...,  0.        ,\n          0.        ,  0.        ],\n        [ 0.        ,  0.        ,  0.        , ...,  0.        ,\n          0.        ,  0.        ],\n        [ 0.        ,  0.        ,  0.        , ...,  0.        ,\n          0.        ,  0.        ]]])>]",
     "output_type": "error",
     "traceback": [
      "\u001b[0;31m---------------------------------------------------------------------------\u001b[0m",
      "\u001b[0;31mValueError\u001b[0m                                Traceback (most recent call last)",
      "Cell \u001b[0;32mIn[36], line 1\u001b[0m\n\u001b[0;32m----> 1\u001b[0m \u001b[43mmodel\u001b[49m\u001b[43m(\u001b[49m\u001b[43mfold_dataset\u001b[49m\u001b[38;5;241;43m.\u001b[39;49m\u001b[43mvalidation_set\u001b[49m\u001b[43m[\u001b[49m\u001b[38;5;241;43m0\u001b[39;49m\u001b[43m]\u001b[49m\u001b[43m[\u001b[49m\u001b[43m:\u001b[49m\u001b[38;5;241;43m15\u001b[39;49m\u001b[43m,\u001b[49m\u001b[43m \u001b[49m\u001b[43m:\u001b[49m\u001b[43m,\u001b[49m\u001b[43m \u001b[49m\u001b[43m:\u001b[49m\u001b[43m]\u001b[49m\u001b[43m)\u001b[49m\n",
      "File \u001b[0;32m~/anaconda3/envs/ubinet-gpu/lib/python3.10/site-packages/keras/utils/traceback_utils.py:70\u001b[0m, in \u001b[0;36mfilter_traceback.<locals>.error_handler\u001b[0;34m(*args, **kwargs)\u001b[0m\n\u001b[1;32m     67\u001b[0m     filtered_tb \u001b[38;5;241m=\u001b[39m _process_traceback_frames(e\u001b[38;5;241m.\u001b[39m__traceback__)\n\u001b[1;32m     68\u001b[0m     \u001b[38;5;66;03m# To get the full stack trace, call:\u001b[39;00m\n\u001b[1;32m     69\u001b[0m     \u001b[38;5;66;03m# `tf.debugging.disable_traceback_filtering()`\u001b[39;00m\n\u001b[0;32m---> 70\u001b[0m     \u001b[38;5;28;01mraise\u001b[39;00m e\u001b[38;5;241m.\u001b[39mwith_traceback(filtered_tb) \u001b[38;5;28;01mfrom\u001b[39;00m\u001b[38;5;250m \u001b[39m\u001b[38;5;28;01mNone\u001b[39;00m\n\u001b[1;32m     71\u001b[0m \u001b[38;5;28;01mfinally\u001b[39;00m:\n\u001b[1;32m     72\u001b[0m     \u001b[38;5;28;01mdel\u001b[39;00m filtered_tb\n",
      "File \u001b[0;32m~/anaconda3/envs/ubinet-gpu/lib/python3.10/site-packages/keras/engine/input_spec.py:216\u001b[0m, in \u001b[0;36massert_input_compatibility\u001b[0;34m(input_spec, inputs, layer_name)\u001b[0m\n\u001b[1;32m    213\u001b[0m         \u001b[38;5;28;01mraise\u001b[39;00m \u001b[38;5;167;01mTypeError\u001b[39;00m(\u001b[38;5;124mf\u001b[39m\u001b[38;5;124m\"\u001b[39m\u001b[38;5;124mInputs to a layer should be tensors. Got: \u001b[39m\u001b[38;5;132;01m{\u001b[39;00mx\u001b[38;5;132;01m}\u001b[39;00m\u001b[38;5;124m\"\u001b[39m)\n\u001b[1;32m    215\u001b[0m \u001b[38;5;28;01mif\u001b[39;00m \u001b[38;5;28mlen\u001b[39m(inputs) \u001b[38;5;241m!=\u001b[39m \u001b[38;5;28mlen\u001b[39m(input_spec):\n\u001b[0;32m--> 216\u001b[0m     \u001b[38;5;28;01mraise\u001b[39;00m \u001b[38;5;167;01mValueError\u001b[39;00m(\n\u001b[1;32m    217\u001b[0m         \u001b[38;5;124mf\u001b[39m\u001b[38;5;124m'\u001b[39m\u001b[38;5;124mLayer \u001b[39m\u001b[38;5;124m\"\u001b[39m\u001b[38;5;132;01m{\u001b[39;00mlayer_name\u001b[38;5;132;01m}\u001b[39;00m\u001b[38;5;124m\"\u001b[39m\u001b[38;5;124m expects \u001b[39m\u001b[38;5;132;01m{\u001b[39;00m\u001b[38;5;28mlen\u001b[39m(input_spec)\u001b[38;5;132;01m}\u001b[39;00m\u001b[38;5;124m input(s),\u001b[39m\u001b[38;5;124m'\u001b[39m\n\u001b[1;32m    218\u001b[0m         \u001b[38;5;124mf\u001b[39m\u001b[38;5;124m\"\u001b[39m\u001b[38;5;124m but it received \u001b[39m\u001b[38;5;132;01m{\u001b[39;00m\u001b[38;5;28mlen\u001b[39m(inputs)\u001b[38;5;132;01m}\u001b[39;00m\u001b[38;5;124m input tensors. \u001b[39m\u001b[38;5;124m\"\u001b[39m\n\u001b[1;32m    219\u001b[0m         \u001b[38;5;124mf\u001b[39m\u001b[38;5;124m\"\u001b[39m\u001b[38;5;124mInputs received: \u001b[39m\u001b[38;5;132;01m{\u001b[39;00minputs\u001b[38;5;132;01m}\u001b[39;00m\u001b[38;5;124m\"\u001b[39m\n\u001b[1;32m    220\u001b[0m     )\n\u001b[1;32m    221\u001b[0m \u001b[38;5;28;01mfor\u001b[39;00m input_index, (x, spec) \u001b[38;5;129;01min\u001b[39;00m \u001b[38;5;28menumerate\u001b[39m(\u001b[38;5;28mzip\u001b[39m(inputs, input_spec)):\n\u001b[1;32m    222\u001b[0m     \u001b[38;5;28;01mif\u001b[39;00m spec \u001b[38;5;129;01mis\u001b[39;00m \u001b[38;5;28;01mNone\u001b[39;00m:\n",
      "\u001b[0;31mValueError\u001b[0m: Layer \"model_2\" expects 3 input(s), but it received 1 input tensors. Inputs received: [<tf.Tensor: shape=(15, 10, 9), dtype=float64, numpy=\narray([[[ 1.39344638,  0.99918599,  0.51010773, ..., -0.13760061,\n         -0.20751776,  1.01908087],\n        [ 0.96869525,  0.5095245 , -0.14786836, ..., -0.6134645 ,\n         -0.32844807,  0.93074445],\n        [ 0.        ,  0.        ,  0.        , ...,  0.        ,\n          0.        ,  0.        ],\n        ...,\n        [ 0.        ,  0.        ,  0.        , ...,  0.        ,\n          0.        ,  0.        ],\n        [ 0.        ,  0.        ,  0.        , ...,  0.        ,\n          0.        ,  0.        ],\n        [ 0.        ,  0.        ,  0.        , ...,  0.        ,\n          0.        ,  0.        ]],\n\n       [[ 0.59113868,  0.54395996,  0.45011123, ...,  0.15312133,\n         -0.3379936 ,  1.32934508],\n        [ 0.68552782,  0.50700097,  0.83228936, ..., -0.20736335,\n          0.30961895,  1.08497899],\n        [ 0.        ,  0.        ,  0.        , ...,  0.        ,\n          0.        ,  0.        ],\n        ...,\n        [ 0.        ,  0.        ,  0.        , ...,  0.        ,\n          0.        ,  0.        ],\n        [ 0.        ,  0.        ,  0.        , ...,  0.        ,\n          0.        ,  0.        ],\n        [ 0.        ,  0.        ,  0.        , ...,  0.        ,\n          0.        ,  0.        ]],\n\n       [[ 0.44955497,  0.45909187,  0.4334518 , ..., -0.60061266,\n          0.40404958,  0.87269733],\n        [ 1.44064095, -0.04725062, -0.28667752, ..., -0.4306623 ,\n         -0.43124021,  1.04809807],\n        [-0.44714188, -0.3952094 ,  0.32059075, ..., -0.77260592,\n          0.54200451, -1.74136362],\n        ...,\n        [ 0.        ,  0.        ,  0.        , ...,  0.        ,\n          0.        ,  0.        ],\n        [ 0.        ,  0.        ,  0.        , ...,  0.        ,\n          0.        ,  0.        ],\n        [ 0.        ,  0.        ,  0.        , ...,  0.        ,\n          0.        ,  0.        ]],\n\n       ...,\n\n       [[ 1.2046681 ,  0.70070533,  0.81886665, ..., -0.44904244,\n          1.34784953,  0.69664254],\n        [ 1.58222467,  0.09250558, -0.01579343, ..., -0.61855776,\n         -0.4066066 ,  0.95827547],\n        [ 0.4023604 ,  0.07656781,  0.79585269, ..., -0.44242915,\n          0.01299664, -0.70325927],\n        ...,\n        [ 0.        ,  0.        ,  0.        , ...,  0.        ,\n          0.        ,  0.        ],\n        [ 0.        ,  0.        ,  0.        , ...,  0.        ,\n          0.        ,  0.        ],\n        [ 0.        ,  0.        ,  0.        , ...,  0.        ,\n          0.        ,  0.        ]],\n\n       [[ 0.35516583,  0.34482472,  0.00981043, ..., -0.30589916,\n         -0.3872173 ,  1.30602546],\n        [-0.49433645, -0.15800913, -0.05689415, ..., -0.22119844,\n          1.48864492,  1.04219804],\n        [-0.49433645, -0.19998484,  0.18234686, ..., -0.78667218,\n         -0.3728719 , -1.91951436],\n        ...,\n        [ 0.        ,  0.        ,  0.        , ...,  0.        ,\n          0.        ,  0.        ],\n        [ 0.        ,  0.        ,  0.        , ...,  0.        ,\n          0.        ,  0.        ],\n        [ 0.        ,  0.        ,  0.        , ...,  0.        ,\n          0.        ,  0.        ]],\n\n       [[ 1.15747353,  1.37688775,  0.51788493, ..., -0.28874654,\n         -0.23197186,  1.03624802],\n        [ 0.49674954,  0.5383493 ,  0.3348618 , ...,  1.29043432,\n          0.27037422,  1.34345385],\n        [-0.39994731,  0.10948219,  2.21276222, ..., -0.84059758,\n         -0.31100136, -0.79787633],\n        ...,\n        [ 0.        ,  0.        ,  0.        , ...,  0.        ,\n          0.        ,  0.        ],\n        [ 0.        ,  0.        ,  0.        , ...,  0.        ,\n          0.        ,  0.        ],\n        [ 0.        ,  0.        ,  0.        , ...,  0.        ,\n          0.        ,  0.        ]]])>]"
     ]
    }
   ],
   "source": [
    "model(fold_dataset.validation_set[0][:15, :, :])"
   ]
  },
  {
   "cell_type": "code",
   "execution_count": null,
   "id": "6d83019a",
   "metadata": {},
   "outputs": [],
   "source": []
  }
 ],
 "metadata": {
  "kernelspec": {
   "display_name": "ubinet-gpu",
   "language": "python",
   "name": "python3"
  },
  "language_info": {
   "codemirror_mode": {
    "name": "ipython",
    "version": 3
   },
   "file_extension": ".py",
   "mimetype": "text/x-python",
   "name": "python",
   "nbconvert_exporter": "python",
   "pygments_lexer": "ipython3",
   "version": "3.10.13"
  }
 },
 "nbformat": 4,
 "nbformat_minor": 5
}
