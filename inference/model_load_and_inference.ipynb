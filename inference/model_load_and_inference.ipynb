{
 "cells": [
  {
   "cell_type": "markdown",
   "id": "86d1ba31",
   "metadata": {},
   "source": [
    "# imports"
   ]
  },
  {
   "cell_type": "code",
   "execution_count": null,
   "id": "f86a0f93",
   "metadata": {},
   "outputs": [],
   "source": [
    "import sys\n",
    "sys.path.append('../')\n",
    "\n",
    "import tensorflow as tf\n",
    "tf.config.set_visible_devices([], 'GPU')\n",
    "\n",
    "import json\n",
    "import numpy as np\n",
    "from models.patch_to_score.dataset import PatchToScoreCrossValidationDataset\n",
    "from models.patch_to_score.models.modules.transformer_encoder_mlp import TransformerEncoderMLP\n",
    "from models.patch_to_score.models.modules.global_sum_pooling import GlobalSumPooling"
   ]
  },
  {
   "cell_type": "markdown",
   "id": "273cbab0",
   "metadata": {},
   "source": [
    "# constants"
   ]
  },
  {
   "cell_type": "code",
   "execution_count": null,
   "id": "0efe19a7",
   "metadata": {},
   "outputs": [],
   "source": [
    "model_results_dir_path = '/home/iscb/wolfson/doririmon/home/order/ubinet/repo/ubinet/results/patch_to_score/hypotheses/pts_shalllow_mlps_autoregressive_scannet/21_07/2025-08-08_22693c7950'\n",
    "fold = 0"
   ]
  },
  {
   "cell_type": "markdown",
   "id": "6401b86f",
   "metadata": {},
   "source": [
    "# load model"
   ]
  },
  {
   "cell_type": "code",
   "execution_count": null,
   "id": "09144ee3",
   "metadata": {},
   "outputs": [],
   "source": [
    "with open(f'{model_results_dir_path}/configuration.json', 'rb') as f:\n",
    "    configuration = json.load(f)\n",
    "model_configuration = configuration['model']"
   ]
  },
  {
   "cell_type": "code",
   "execution_count": null,
   "id": "10bde31e",
   "metadata": {},
   "outputs": [],
   "source": [
    "from models.patch_to_score.bootstrappers.model import build_model_from_configuration"
   ]
  },
  {
   "cell_type": "code",
   "execution_count": null,
   "id": "1c04449e",
   "metadata": {},
   "outputs": [],
   "source": [
    "model = build_model_from_configuration(**model_configuration)\n",
    "model.load_weights(f'{model_results_dir_path}/fold_{fold}/model.keras')"
   ]
  },
  {
   "cell_type": "markdown",
   "id": "4419030f",
   "metadata": {},
   "source": [
    "# analysis"
   ]
  },
  {
   "cell_type": "code",
   "execution_count": null,
   "id": "3bcbb61d",
   "metadata": {},
   "outputs": [],
   "source": [
    "model.summary()"
   ]
  },
  {
   "cell_type": "markdown",
   "id": "0d72b515",
   "metadata": {},
   "source": [
    "# inference"
   ]
  },
  {
   "cell_type": "code",
   "execution_count": null,
   "id": "606cf5cd",
   "metadata": {},
   "outputs": [],
   "source": [
    "cross_validation_dataset = PatchToScoreCrossValidationDataset(**configuration['data'])\n",
    "dataset = cross_validation_dataset.fold_datasets[fold]\n",
    "batch = [*dataset.validation_set, dataset.validation_sizes, dataset.validation_num_patch]"
   ]
  },
  {
   "cell_type": "code",
   "execution_count": null,
   "id": "880329a3",
   "metadata": {},
   "outputs": [],
   "source": []
  },
  {
   "cell_type": "code",
   "execution_count": null,
   "id": "f17c67d7",
   "metadata": {},
   "outputs": [],
   "source": [
    "predictions = model(batch)\n",
    "saved_predictions = np.load(f'{model_results_dir_path}/fold_{fold}/validation/predictions.npy')"
   ]
  },
  {
   "cell_type": "code",
   "execution_count": null,
   "id": "67c49f23",
   "metadata": {},
   "outputs": [],
   "source": [
    "np.allclose(predictions, saved_predictions)"
   ]
  },
  {
   "cell_type": "code",
   "execution_count": null,
   "id": "1c78e218",
   "metadata": {},
   "outputs": [],
   "source": [
    "import pickle\n",
    "def load_as_pickle(file_path):\n",
    "    \"\"\"\n",
    "    Loads an object from a file using pickle.\n",
    "\n",
    "    Parameters:\n",
    "    file_path (str): The path to the file where the object is saved.\n",
    "\n",
    "    Returns:\n",
    "    any: The object loaded from the file.\n",
    "    \"\"\"\n",
    "    with open(file_path, 'rb') as file:\n",
    "        return pickle.load(file)\n",
    "\n",
    "# all_predictions = load_as_pickle('/home/iscb/wolfson/doririmon/home/order/ubinet/repo/ubinet/datasets/patch_to_score/data_for_training/21_07_with_pesto/folds_training_dicts.pkl')\n"
   ]
  },
  {
   "cell_type": "code",
   "execution_count": null,
   "id": "d36bbdec",
   "metadata": {},
   "outputs": [],
   "source": [
    "significances_and_str_patches = load_as_pickle('/home/iscb/wolfson/omriyakir/ubinet/results/patch_to_score/hypotheses/pts_shalllow_mlps_autoregressive_scannet/21_07/2025-08-08_22693c7950/candidates/significances_and_str_patches.pkl')"
   ]
  },
  {
   "cell_type": "code",
   "execution_count": null,
   "id": "7228c194",
   "metadata": {},
   "outputs": [],
   "source": [
    "print(significances_and_str_patches.keys())\n"
   ]
  },
  {
   "cell_type": "code",
   "execution_count": null,
   "id": "35b5e3f7",
   "metadata": {},
   "outputs": [],
   "source": [
    "all_predictions_path = '/home/iscb/wolfson/omriyakir/ubinet/datasets/patch_to_score/data_for_training/21_07_with_pesto/folds_training_dicts.pkl'\n",
    "proteins_path = '/home/iscb/wolfson/omriyakir/ubinet/datasets/patch_to_score/patches_dicts/21_07_with_pesto/merged_protein_objects.pkl'\n",
    "all_predictions = load_as_pickle(all_predictions_path)\n",
    "proteins = load_as_pickle(proteins_path)\n"
   ]
  },
  {
   "cell_type": "code",
   "execution_count": null,
   "id": "69d3c391",
   "metadata": {},
   "outputs": [],
   "source": [
    "data_path = '/home/iscb/wolfson/omriyakir/ubinet/results/patch_to_score/hypotheses/pts_shalllow_mlps_autoregressive_scannet/21_07/2025-08-08_22693c7950/candidates/significances_and_str_patches.pkl'\n",
    "data = load_as_pickle(data_path)\n",
    "print(data.keys())"
   ]
  },
  {
   "cell_type": "code",
   "execution_count": null,
   "id": "3c997a4d",
   "metadata": {},
   "outputs": [],
   "source": [
    "import pandas as pd\n",
    "path = '/home/iscb/wolfson/doririmon/home/order/bio-explore/data/esmc_layer_32_ubiquitin_classification/ensemble_test_predictions/end_epoch_6/all_folds.parquet'\n",
    "df = pd.read_parquet(path)\n",
    "uniprots = ['Q96PX1','O43294','Q96NL0']\n",
    "df[df['uniprot'].isin(uniprots)]"
   ]
  }
 ],
 "metadata": {
  "kernelspec": {
   "display_name": "ubinet-gpu-clone",
   "language": "python",
   "name": "python3"
  },
  "language_info": {
   "codemirror_mode": {
    "name": "ipython",
    "version": 3
   },
   "file_extension": ".py",
   "mimetype": "text/x-python",
   "name": "python",
   "nbconvert_exporter": "python",
   "pygments_lexer": "ipython3",
   "version": "3.10.13"
  }
 },
 "nbformat": 4,
 "nbformat_minor": 5
}
