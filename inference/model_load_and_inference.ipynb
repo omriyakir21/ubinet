{
 "cells": [
  {
   "cell_type": "markdown",
   "id": "86d1ba31",
   "metadata": {},
   "source": [
    "# imports"
   ]
  },
  {
   "cell_type": "code",
   "execution_count": null,
   "id": "f86a0f93",
   "metadata": {},
   "outputs": [],
   "source": [
    "import sys\n",
    "sys.path.append('../')\n",
    "\n",
    "import tensorflow as tf\n",
    "tf.config.set_visible_devices([], 'GPU')\n",
    "\n",
    "import json\n",
    "import numpy as np\n",
    "import pandas as pd\n",
    "import pickle\n",
    "from plotly import express as px\n",
    "from models.patch_to_score.dataset import PatchToScoreCrossValidationDataset\n",
    "from models.patch_to_score.models.modules.transformer_encoder_mlp import TransformerEncoderMLP\n",
    "from models.patch_to_score.models.modules.global_sum_pooling import GlobalSumPooling"
   ]
  },
  {
   "cell_type": "markdown",
   "id": "273cbab0",
   "metadata": {},
   "source": [
    "# constants"
   ]
  },
  {
   "cell_type": "code",
   "execution_count": null,
   "id": "0efe19a7",
   "metadata": {},
   "outputs": [],
   "source": [
    "model_results_dir_path = '/home/iscb/wolfson/doririmon/home/order/ubinet/repo/ubinet/results/patch_to_score/hypotheses/pts_shalllow_mlps_autoregressive_scannet/21_07/2025-08-08_22693c7950'\n",
    "fold = 0"
   ]
  },
  {
   "cell_type": "markdown",
   "id": "6401b86f",
   "metadata": {},
   "source": [
    "# load model"
   ]
  },
  {
   "cell_type": "code",
   "execution_count": null,
   "id": "09144ee3",
   "metadata": {},
   "outputs": [],
   "source": [
    "with open(f'{model_results_dir_path}/configuration.json', 'rb') as f:\n",
    "    configuration = json.load(f)\n",
    "model_configuration = configuration['model']"
   ]
  },
  {
   "cell_type": "code",
   "execution_count": null,
   "id": "10bde31e",
   "metadata": {},
   "outputs": [],
   "source": [
    "from models.patch_to_score.bootstrappers.model import build_model_from_configuration"
   ]
  },
  {
   "cell_type": "code",
   "execution_count": null,
   "id": "1c04449e",
   "metadata": {},
   "outputs": [],
   "source": [
    "model = build_model_from_configuration(**model_configuration)\n",
    "model.load_weights(f'{model_results_dir_path}/fold_{fold}/model.keras')"
   ]
  },
  {
   "cell_type": "markdown",
   "id": "4419030f",
   "metadata": {},
   "source": [
    "# analysis"
   ]
  },
  {
   "cell_type": "code",
   "execution_count": null,
   "id": "3bcbb61d",
   "metadata": {},
   "outputs": [],
   "source": [
    "model.summary()"
   ]
  },
  {
   "cell_type": "markdown",
   "id": "0d72b515",
   "metadata": {},
   "source": [
    "# inference"
   ]
  },
  {
   "cell_type": "code",
   "execution_count": null,
   "id": "74188522",
   "metadata": {},
   "outputs": [],
   "source": [
    "fold = 0"
   ]
  },
  {
   "cell_type": "code",
   "execution_count": null,
   "id": "606cf5cd",
   "metadata": {},
   "outputs": [],
   "source": [
    "cross_validation_dataset = PatchToScoreCrossValidationDataset(**configuration['data'])\n",
    "dataset = cross_validation_dataset.fold_datasets[fold]\n",
    "batch = [*dataset.test_set, dataset.test_sizes, dataset.test_num_patch]"
   ]
  },
  {
   "cell_type": "code",
   "execution_count": null,
   "id": "463d0c69",
   "metadata": {},
   "outputs": [],
   "source": [
    "# with open(configuration['data']['path'], 'rb') as f:\n",
    "#     folds_training_dicts = pickle.load(f)\n",
    "folds_training_dicts = cross_validation_dataset.fold_dicts\n",
    "fold_training_dict = folds_training_dicts[fold]\n",
    "test_uniprots = fold_training_dict['uniprots_test']"
   ]
  },
  {
   "cell_type": "code",
   "execution_count": null,
   "id": "f17c67d7",
   "metadata": {},
   "outputs": [],
   "source": [
    "predictions = model(batch)\n",
    "saved_predictions = np.load(f'{model_results_dir_path}/fold_{fold}/test/predictions.npy')"
   ]
  },
  {
   "cell_type": "code",
   "execution_count": null,
   "id": "67c49f23",
   "metadata": {},
   "outputs": [],
   "source": [
    "np.allclose(predictions, saved_predictions)"
   ]
  },
  {
   "cell_type": "code",
   "execution_count": null,
   "id": "c3f23167",
   "metadata": {},
   "outputs": [],
   "source": [
    "# px.histogram(predictions.numpy())"
   ]
  },
  {
   "cell_type": "code",
   "execution_count": null,
   "id": "3205c98f",
   "metadata": {},
   "outputs": [],
   "source": [
    "mat = dataset.test_set[0].numpy()\n",
    "mat = mat.reshape(mat.shape[0], mat.shape[1] * mat.shape[2])"
   ]
  },
  {
   "cell_type": "code",
   "execution_count": null,
   "id": "131323aa",
   "metadata": {},
   "outputs": [],
   "source": [
    "non_patches = (mat.sum(axis=1) == 0)\n",
    "non_patches"
   ]
  },
  {
   "cell_type": "code",
   "execution_count": null,
   "id": "08f49de3",
   "metadata": {},
   "outputs": [],
   "source": [
    "# 2994 + 2994 + 9160"
   ]
  },
  {
   "cell_type": "code",
   "execution_count": null,
   "id": "e270a503",
   "metadata": {},
   "outputs": [],
   "source": [
    "# px.histogram(tf.argmax(dataset.test_num_patch, axis=-1).numpy())"
   ]
  },
  {
   "cell_type": "code",
   "execution_count": null,
   "id": "04a7fbe4",
   "metadata": {},
   "outputs": [],
   "source": [
    "dataset.test_sizes.shape"
   ]
  },
  {
   "cell_type": "code",
   "execution_count": null,
   "id": "4e72b1e8",
   "metadata": {},
   "outputs": [],
   "source": [
    "non_patches_labels = dataset.test_labels.numpy()[non_patches]\n",
    "non_patches_sizes = dataset.test_sizes.numpy()[non_patches, 0]\n",
    "non_patches_predictions = predictions.numpy()[non_patches, 0]\n",
    "non_patches_df = pd.DataFrame({\n",
    "    'label': non_patches_labels,\n",
    "    'size': non_patches_sizes,\n",
    "    'prediction': non_patches_predictions\n",
    "    })"
   ]
  },
  {
   "cell_type": "code",
   "execution_count": null,
   "id": "ba258059",
   "metadata": {},
   "outputs": [],
   "source": [
    "px.histogram(non_patches_df, 'prediction', color='label', histnorm='percent', barmode='overlay',\n",
    "             title=f'Score Distribution - Non-Patches Proteins | Fold {fold} | Test')"
   ]
  },
  {
   "cell_type": "code",
   "execution_count": null,
   "id": "d9b62628",
   "metadata": {},
   "outputs": [],
   "source": [
    "mat_train = dataset.train_set[0].numpy()\n",
    "mat_train = mat_train.reshape(mat_train.shape[0], mat_train.shape[1] * mat_train.shape[2])\n",
    "non_patches_train = (mat_train.sum(axis=1) == 0)\n",
    "non_patches_train_sizes = dataset.train_sizes.numpy()[non_patches_train, 0]\n",
    "non_patches_train_labels = dataset.train_labels.numpy()[non_patches_train]\n",
    "non_patches_train_df = pd.DataFrame({\n",
    "    'label': non_patches_train_labels,\n",
    "    'size': non_patches_train_sizes\n",
    "    })"
   ]
  },
  {
   "cell_type": "code",
   "execution_count": null,
   "id": "c939d567",
   "metadata": {},
   "outputs": [],
   "source": [
    "px.histogram(non_patches_train_df, 'size', color='label', \n",
    "             histnorm='percent', barmode='overlay', nbins=1_000,\n",
    "             title=f'Size Distribuion - Non-Patches Proteins | Fold {fold} | Train')"
   ]
  },
  {
   "cell_type": "code",
   "execution_count": null,
   "id": "b22de4de",
   "metadata": {},
   "outputs": [],
   "source": [
    "indexes = np.where((1.2 < dataset.test_sizes.numpy()[:, 0]) & (dataset.test_sizes.numpy()[:, 0] < 2.2))[0]"
   ]
  },
  {
   "cell_type": "code",
   "execution_count": null,
   "id": "4e685b0e",
   "metadata": {},
   "outputs": [],
   "source": [
    "indexes"
   ]
  },
  {
   "cell_type": "code",
   "execution_count": null,
   "id": "7aaf59cb",
   "metadata": {},
   "outputs": [],
   "source": [
    "px.histogram(predictions.numpy()[indexes])"
   ]
  }
 ],
 "metadata": {
  "kernelspec": {
   "display_name": "ubinet-gpu",
   "language": "python",
   "name": "python3"
  },
  "language_info": {
   "codemirror_mode": {
    "name": "ipython",
    "version": 3
   },
   "file_extension": ".py",
   "mimetype": "text/x-python",
   "name": "python",
   "nbconvert_exporter": "python",
   "pygments_lexer": "ipython3",
   "version": "3.10.13"
  }
 },
 "nbformat": 4,
 "nbformat_minor": 5
}
