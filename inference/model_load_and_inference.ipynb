{
 "cells": [
  {
   "cell_type": "markdown",
   "id": "86d1ba31",
   "metadata": {},
   "source": [
    "# imports"
   ]
  },
  {
   "cell_type": "code",
   "execution_count": 3,
   "id": "f86a0f93",
   "metadata": {},
   "outputs": [
    {
     "name": "stderr",
     "output_type": "stream",
     "text": [
      "2025-10-02 13:27:55.410611: I tensorflow/core/platform/cpu_feature_guard.cc:193] This TensorFlow binary is optimized with oneAPI Deep Neural Network Library (oneDNN) to use the following CPU instructions in performance-critical operations:  AVX2 FMA\n",
      "To enable them in other operations, rebuild TensorFlow with the appropriate compiler flags.\n",
      "2025-10-02 13:28:04.989513: W tensorflow/compiler/xla/stream_executor/platform/default/dso_loader.cc:64] Could not load dynamic library 'libnvinfer.so.7'; dlerror: libnvinfer.so.7: cannot open shared object file: No such file or directory; LD_LIBRARY_PATH: /home/iscb/wolfson/doririmon/anaconda3/envs/ubinet-gpu/lib\n",
      "2025-10-02 13:28:04.990261: W tensorflow/compiler/xla/stream_executor/platform/default/dso_loader.cc:64] Could not load dynamic library 'libnvinfer_plugin.so.7'; dlerror: libnvinfer_plugin.so.7: cannot open shared object file: No such file or directory; LD_LIBRARY_PATH: /home/iscb/wolfson/doririmon/anaconda3/envs/ubinet-gpu/lib\n",
      "2025-10-02 13:28:04.990288: W tensorflow/compiler/tf2tensorrt/utils/py_utils.cc:38] TF-TRT Warning: Cannot dlopen some TensorRT libraries. If you would like to use Nvidia GPU with TensorRT, please make sure the missing libraries mentioned above are installed properly.\n",
      "/home/iscb/wolfson/omriyakir/anaconda3/envs/ubinet-gpu-clone/lib/python3.10/site-packages/Bio/pairwise2.py:278: BiopythonDeprecationWarning: Bio.pairwise2 has been deprecated, and we intend to remove it in a future release of Biopython. As an alternative, please consider using Bio.Align.PairwiseAligner as a replacement, and contact the Biopython developers if you still need the Bio.pairwise2 module.\n",
      "  warnings.warn(\n"
     ]
    }
   ],
   "source": [
    "import sys\n",
    "sys.path.append('../')\n",
    "\n",
    "import tensorflow as tf\n",
    "tf.config.set_visible_devices([], 'GPU')\n",
    "\n",
    "import json\n",
    "import numpy as np\n",
    "from models.patch_to_score.dataset import PatchToScoreCrossValidationDataset\n",
    "from models.patch_to_score.models.modules.transformer_encoder_mlp import TransformerEncoderMLP\n",
    "from models.patch_to_score.models.modules.global_sum_pooling import GlobalSumPooling"
   ]
  },
  {
   "cell_type": "markdown",
   "id": "273cbab0",
   "metadata": {},
   "source": [
    "# constants"
   ]
  },
  {
   "cell_type": "code",
   "execution_count": 4,
   "id": "0efe19a7",
   "metadata": {},
   "outputs": [],
   "source": [
    "model_results_dir_path = '/home/iscb/wolfson/doririmon/home/order/ubinet/repo/ubinet/results/patch_to_score/hypotheses/pts_shalllow_mlps_autoregressive_scannet/21_07/2025-08-08_22693c7950'\n",
    "fold = 0"
   ]
  },
  {
   "cell_type": "markdown",
   "id": "6401b86f",
   "metadata": {},
   "source": [
    "# load model"
   ]
  },
  {
   "cell_type": "code",
   "execution_count": 5,
   "id": "09144ee3",
   "metadata": {},
   "outputs": [],
   "source": [
    "with open(f'{model_results_dir_path}/configuration.json', 'rb') as f:\n",
    "    configuration = json.load(f)\n",
    "model_configuration = configuration['model']"
   ]
  },
  {
   "cell_type": "code",
   "execution_count": 6,
   "id": "10bde31e",
   "metadata": {},
   "outputs": [],
   "source": [
    "from models.patch_to_score.bootstrappers.model import build_model_from_configuration"
   ]
  },
  {
   "cell_type": "code",
   "execution_count": 7,
   "id": "1c04449e",
   "metadata": {},
   "outputs": [
    {
     "name": "stderr",
     "output_type": "stream",
     "text": [
      "2025-10-02 13:28:24.437009: I tensorflow/core/platform/cpu_feature_guard.cc:193] This TensorFlow binary is optimized with oneAPI Deep Neural Network Library (oneDNN) to use the following CPU instructions in performance-critical operations:  AVX2 FMA\n",
      "To enable them in other operations, rebuild TensorFlow with the appropriate compiler flags.\n"
     ]
    },
    {
     "name": "stdout",
     "output_type": "stream",
     "text": [
      "initializing projection for skip connection: 11 -> 512\n"
     ]
    }
   ],
   "source": [
    "model = build_model_from_configuration(**model_configuration)\n",
    "model.load_weights(f'{model_results_dir_path}/fold_{fold}/model.keras')"
   ]
  },
  {
   "cell_type": "markdown",
   "id": "4419030f",
   "metadata": {},
   "source": [
    "# analysis"
   ]
  },
  {
   "cell_type": "code",
   "execution_count": 8,
   "id": "3bcbb61d",
   "metadata": {},
   "outputs": [
    {
     "name": "stdout",
     "output_type": "stream",
     "text": [
      "Model: \"model\"\n",
      "__________________________________________________________________________________________________\n",
      " Layer (type)                   Output Shape         Param #     Connected to                     \n",
      "==================================================================================================\n",
      " hot_encoded_value_input (Input  [(None, 11)]        0           []                               \n",
      " Layer)                                                                                           \n",
      "                                                                                                  \n",
      " tf.math.argmax (TFOpLambda)    (None,)              0           ['hot_encoded_value_input[0][0]']\n",
      "                                                                                                  \n",
      " tf.__operators__.getitem (Slic  (None, 1)           0           ['tf.math.argmax[0][0]']         \n",
      " ingOpLambda)                                                                                     \n",
      "                                                                                                  \n",
      " tf.cast (TFOpLambda)           (None, 1)            0           ['tf.__operators__.getitem[0][0]'\n",
      "                                                                 ]                                \n",
      "                                                                                                  \n",
      " extra_value_input (InputLayer)  [(None, 1)]         0           []                               \n",
      "                                                                                                  \n",
      " tf.compat.v1.shape (TFOpLambda  (2,)                0           ['tf.cast[0][0]']                \n",
      " )                                                                                                \n",
      "                                                                                                  \n",
      " tf.compat.v1.shape_1 (TFOpLamb  (2,)                0           ['tf.cast[0][0]']                \n",
      " da)                                                                                              \n",
      "                                                                                                  \n",
      " tf.compat.v1.shape_2 (TFOpLamb  (2,)                0           ['extra_value_input[0][0]']      \n",
      " da)                                                                                              \n",
      "                                                                                                  \n",
      " tf.compat.v1.shape_3 (TFOpLamb  (2,)                0           ['extra_value_input[0][0]']      \n",
      " da)                                                                                              \n",
      "                                                                                                  \n",
      " tf.expand_dims (TFOpLambda)    (None, 1, 1)         0           ['tf.cast[0][0]']                \n",
      "                                                                                                  \n",
      " tf.__operators__.getitem_1 (Sl  ()                  0           ['tf.compat.v1.shape[0][0]']     \n",
      " icingOpLambda)                                                                                   \n",
      "                                                                                                  \n",
      " tf.__operators__.getitem_2 (Sl  ()                  0           ['tf.compat.v1.shape_1[0][0]']   \n",
      " icingOpLambda)                                                                                   \n",
      "                                                                                                  \n",
      " tf.expand_dims_1 (TFOpLambda)  (None, 1, 1)         0           ['extra_value_input[0][0]']      \n",
      "                                                                                                  \n",
      " tf.__operators__.getitem_3 (Sl  ()                  0           ['tf.compat.v1.shape_2[0][0]']   \n",
      " icingOpLambda)                                                                                   \n",
      "                                                                                                  \n",
      " tf.__operators__.getitem_4 (Sl  ()                  0           ['tf.compat.v1.shape_3[0][0]']   \n",
      " icingOpLambda)                                                                                   \n",
      "                                                                                                  \n",
      " patches_input (InputLayer)     [(None, 10, 9)]      0           []                               \n",
      "                                                                                                  \n",
      " tf.broadcast_to (TFOpLambda)   (None, 10, 1)        0           ['tf.expand_dims[0][0]',         \n",
      "                                                                  'tf.__operators__.getitem_1[0][0\n",
      "                                                                 ]',                              \n",
      "                                                                  'tf.__operators__.getitem_2[0][0\n",
      "                                                                 ]']                              \n",
      "                                                                                                  \n",
      " tf.broadcast_to_1 (TFOpLambda)  (None, 10, 1)       0           ['tf.expand_dims_1[0][0]',       \n",
      "                                                                  'tf.__operators__.getitem_3[0][0\n",
      "                                                                 ]',                              \n",
      "                                                                  'tf.__operators__.getitem_4[0][0\n",
      "                                                                 ]']                              \n",
      "                                                                                                  \n",
      " concatenate (Concatenate)      (None, 10, 11)       0           ['patches_input[0][0]',          \n",
      "                                                                  'tf.broadcast_to[0][0]',        \n",
      "                                                                  'tf.broadcast_to_1[0][0]']      \n",
      "                                                                                                  \n",
      " masking (Masking)              (None, 10, 11)       0           ['concatenate[0][0]']            \n",
      "                                                                                                  \n",
      " transformer_encoder_mlp (Trans  (None, 10, 512)     544256      ['masking[0][0]']                \n",
      " formerEncoderMLP)                                                                                \n",
      "                                                                                                  \n",
      " re_lu (ReLU)                   (None, 10, 512)      0           ['transformer_encoder_mlp[0][0]']\n",
      "                                                                                                  \n",
      " global_sum_pooling (GlobalSumP  (None, 512)         0           ['re_lu[0][0]']                  \n",
      " ooling)                                                                                          \n",
      "                                                                                                  \n",
      " transformer_encoder_mlp_1 (Tra  (None, 512)         526336      ['global_sum_pooling[0][0]']     \n",
      " nsformerEncoderMLP)                                                                              \n",
      "                                                                                                  \n",
      " re_lu_1 (ReLU)                 (None, 512)          0           ['transformer_encoder_mlp_1[0][0]\n",
      "                                                                 ']                               \n",
      "                                                                                                  \n",
      " dense (Dense)                  (None, 1)            513         ['re_lu_1[0][0]']                \n",
      "                                                                                                  \n",
      "==================================================================================================\n",
      "Total params: 1,071,105\n",
      "Trainable params: 1,071,105\n",
      "Non-trainable params: 0\n",
      "__________________________________________________________________________________________________\n"
     ]
    }
   ],
   "source": [
    "model.summary()"
   ]
  },
  {
   "cell_type": "markdown",
   "id": "0d72b515",
   "metadata": {},
   "source": [
    "# inference"
   ]
  },
  {
   "cell_type": "code",
   "execution_count": 9,
   "id": "606cf5cd",
   "metadata": {},
   "outputs": [
    {
     "name": "stdout",
     "output_type": "stream",
     "text": [
      "folds amount: 5\n"
     ]
    }
   ],
   "source": [
    "cross_validation_dataset = PatchToScoreCrossValidationDataset(**configuration['data'])\n",
    "dataset = cross_validation_dataset.fold_datasets[fold]\n",
    "batch = [*dataset.validation_set, dataset.validation_sizes, dataset.validation_num_patch]"
   ]
  },
  {
   "cell_type": "code",
   "execution_count": null,
   "id": "880329a3",
   "metadata": {},
   "outputs": [],
   "source": []
  },
  {
   "cell_type": "code",
   "execution_count": 8,
   "id": "f17c67d7",
   "metadata": {},
   "outputs": [],
   "source": [
    "predictions = model(batch)\n",
    "saved_predictions = np.load(f'{model_results_dir_path}/fold_{fold}/validation/predictions.npy')"
   ]
  },
  {
   "cell_type": "code",
   "execution_count": 9,
   "id": "67c49f23",
   "metadata": {},
   "outputs": [
    {
     "data": {
      "text/plain": [
       "True"
      ]
     },
     "execution_count": 9,
     "metadata": {},
     "output_type": "execute_result"
    }
   ],
   "source": [
    "np.allclose(predictions, saved_predictions)"
   ]
  },
  {
   "cell_type": "code",
   "execution_count": 2,
   "id": "1c78e218",
   "metadata": {},
   "outputs": [],
   "source": [
    "import pickle\n",
    "def load_as_pickle(file_path):\n",
    "    \"\"\"\n",
    "    Loads an object from a file using pickle.\n",
    "\n",
    "    Parameters:\n",
    "    file_path (str): The path to the file where the object is saved.\n",
    "\n",
    "    Returns:\n",
    "    any: The object loaded from the file.\n",
    "    \"\"\"\n",
    "    with open(file_path, 'rb') as file:\n",
    "        return pickle.load(file)\n",
    "\n",
    "# all_predictions = load_as_pickle('/home/iscb/wolfson/doririmon/home/order/ubinet/repo/ubinet/datasets/patch_to_score/data_for_training/21_07_with_pesto/folds_training_dicts.pkl')\n"
   ]
  },
  {
   "cell_type": "code",
   "execution_count": 11,
   "id": "d36bbdec",
   "metadata": {},
   "outputs": [],
   "source": [
    "significances_and_str_patches = load_as_pickle('/home/iscb/wolfson/omriyakir/ubinet/results/patch_to_score/hypotheses/pts_shalllow_mlps_autoregressive_scannet/21_07/2025-08-08_22693c7950/candidates/significances_and_str_patches.pkl')"
   ]
  },
  {
   "cell_type": "code",
   "execution_count": 16,
   "id": "7228c194",
   "metadata": {},
   "outputs": [
    {
     "name": "stdout",
     "output_type": "stream",
     "text": [
      "dict_keys(['all_original_inference_predictions', 'all_original_predictions', 'all_original_K_values', 'all_mod_preds', 'all_mod_inference_predictions', 'all_mod_K_values', 'all_significants', 'all_uniprots', 'all_str_patches', 'all_labels'])\n"
     ]
    }
   ],
   "source": [
    "print(significances_and_str_patches.keys())\n"
   ]
  },
  {
   "cell_type": "code",
   "execution_count": 22,
   "id": "35b5e3f7",
   "metadata": {},
   "outputs": [],
   "source": [
    "all_predictions_path = '/home/iscb/wolfson/omriyakir/ubinet/datasets/patch_to_score/data_for_training/21_07_with_pesto/folds_training_dicts.pkl'\n",
    "proteins_path = '/home/iscb/wolfson/omriyakir/ubinet/datasets/patch_to_score/patches_dicts/21_07_with_pesto/merged_protein_objects.pkl'\n",
    "all_predictions = load_as_pickle(all_predictions_path)\n",
    "proteins = load_as_pickle(proteins_path)\n"
   ]
  },
  {
   "cell_type": "code",
   "execution_count": 4,
   "id": "69d3c391",
   "metadata": {},
   "outputs": [
    {
     "name": "stdout",
     "output_type": "stream",
     "text": [
      "dict_keys(['all_original_inference_predictions', 'all_original_predictions', 'all_original_K_values', 'all_mod_preds', 'all_mod_inference_predictions', 'all_mod_K_values', 'all_significants', 'all_uniprots', 'all_str_patches', 'all_labels'])\n",
      "dict_keys(['all_original_inference_predictions', 'all_original_predictions', 'all_original_K_values', 'all_mod_preds', 'all_mod_inference_predictions', 'all_mod_K_values', 'all_significants', 'all_uniprots', 'all_str_patches', 'all_labels'])\n"
     ]
    }
   ],
   "source": [
    "data_path = '/home/iscb/wolfson/omriyakir/ubinet/results/patch_to_score/hypotheses/pts_shalllow_mlps_autoregressive_scannet/21_07/2025-08-08_22693c7950/candidates/significances_and_str_patches.pkl'\n",
    "data = load_as_pickle(data_path)\n",
    "print(data.keys())"
   ]
  },
  {
   "cell_type": "code",
   "execution_count": 2,
   "id": "3c997a4d",
   "metadata": {},
   "outputs": [
    {
     "data": {
      "text/html": [
       "<div>\n",
       "<style scoped>\n",
       "    .dataframe tbody tr th:only-of-type {\n",
       "        vertical-align: middle;\n",
       "    }\n",
       "\n",
       "    .dataframe tbody tr th {\n",
       "        vertical-align: top;\n",
       "    }\n",
       "\n",
       "    .dataframe thead th {\n",
       "        text-align: right;\n",
       "    }\n",
       "</style>\n",
       "<table border=\"1\" class=\"dataframe\">\n",
       "  <thead>\n",
       "    <tr style=\"text-align: right;\">\n",
       "      <th></th>\n",
       "      <th>uniprot</th>\n",
       "      <th>label</th>\n",
       "      <th>sequence</th>\n",
       "      <th>type</th>\n",
       "      <th>prediction</th>\n",
       "      <th>positive_prediction</th>\n",
       "    </tr>\n",
       "  </thead>\n",
       "  <tbody>\n",
       "    <tr>\n",
       "      <th>44528</th>\n",
       "      <td>O43294</td>\n",
       "      <td>0</td>\n",
       "      <td>MEDLDALLSDLETTTSHMPRSGAPKERPAEPLTPPPSYGHQPQTGS...</td>\n",
       "      <td>test</td>\n",
       "      <td>[4.479797840118408, -2.687805652618408]</td>\n",
       "      <td>0.000771</td>\n",
       "    </tr>\n",
       "    <tr>\n",
       "      <th>46643</th>\n",
       "      <td>Q96NL0</td>\n",
       "      <td>0</td>\n",
       "      <td>MASRSLGGLSGIRGGGGGGGKKSLSARNAAVERRNLITVCRFSVKT...</td>\n",
       "      <td>test</td>\n",
       "      <td>[3.267486810684204, -2.0431671142578125]</td>\n",
       "      <td>0.004914</td>\n",
       "    </tr>\n",
       "    <tr>\n",
       "      <th>89996</th>\n",
       "      <td>Q96PX1</td>\n",
       "      <td>0</td>\n",
       "      <td>MGALTSRQHAGVEEVDIPSNSVYRYPPKSGSYFASHFIMGGEKFDS...</td>\n",
       "      <td>test</td>\n",
       "      <td>[-1.141250729560852, 0.9785661697387695]</td>\n",
       "      <td>0.892814</td>\n",
       "    </tr>\n",
       "  </tbody>\n",
       "</table>\n",
       "</div>"
      ],
      "text/plain": [
       "      uniprot  label                                           sequence  type  \\\n",
       "44528  O43294      0  MEDLDALLSDLETTTSHMPRSGAPKERPAEPLTPPPSYGHQPQTGS...  test   \n",
       "46643  Q96NL0      0  MASRSLGGLSGIRGGGGGGGKKSLSARNAAVERRNLITVCRFSVKT...  test   \n",
       "89996  Q96PX1      0  MGALTSRQHAGVEEVDIPSNSVYRYPPKSGSYFASHFIMGGEKFDS...  test   \n",
       "\n",
       "                                     prediction  positive_prediction  \n",
       "44528   [4.479797840118408, -2.687805652618408]             0.000771  \n",
       "46643  [3.267486810684204, -2.0431671142578125]             0.004914  \n",
       "89996  [-1.141250729560852, 0.9785661697387695]             0.892814  "
      ]
     },
     "execution_count": 2,
     "metadata": {},
     "output_type": "execute_result"
    }
   ],
   "source": [
    "import pandas as pd\n",
    "path = '/home/iscb/wolfson/doririmon/home/order/bio-explore/data/esmc_layer_32_ubiquitin_classification/ensemble_test_predictions/end_epoch_6/all_folds.parquet'\n",
    "df = pd.read_parquet(path)\n",
    "uniprots = ['Q96PX1','O43294','Q96NL0']\n",
    "df[df['uniprot'].isin(uniprots)]"
   ]
  }
 ],
 "metadata": {
  "kernelspec": {
   "display_name": "ubinet-gpu-clone",
   "language": "python",
   "name": "python3"
  },
  "language_info": {
   "codemirror_mode": {
    "name": "ipython",
    "version": 3
   },
   "file_extension": ".py",
   "mimetype": "text/x-python",
   "name": "python",
   "nbconvert_exporter": "python",
   "pygments_lexer": "ipython3",
   "version": "3.10.13"
  }
 },
 "nbformat": 4,
 "nbformat_minor": 5
}
