{
 "cells": [
  {
   "cell_type": "code",
   "execution_count": 1,
   "metadata": {},
   "outputs": [],
   "source": [
    "import json\n",
    "import os\n",
    "from copy import deepcopy\n",
    "from typing import List, Tuple"
   ]
  },
  {
   "cell_type": "code",
   "execution_count": 2,
   "metadata": {},
   "outputs": [],
   "source": [
    "hypothesis = 'pts_shalllow_mlps_autoregressive_scannet'"
   ]
  },
  {
   "cell_type": "code",
   "execution_count": 3,
   "metadata": {},
   "outputs": [],
   "source": [
    "base_configuration = {\n",
    "    'hypothesis': hypothesis,\n",
    "    'experiment': None,  # will change below\n",
    "    'data': {\n",
    "        'path': None,  # will change below\n",
    "        'use_pesto': True,\n",
    "        'ablation_string': '111111111',\n",
    "        'max_folds': None\n",
    "    },\n",
    "    'model': {\n",
    "        'name': 'pts_transformer_encoder_mlp',\n",
    "        'kwargs': {\n",
    "            'hidden_sizes_mlp_a': [(1024, 512)],\n",
    "            'mlp_a_dropout_rate': 0.2,\n",
    "            'hidden_sizes_mlp_c': [(512, 512)],\n",
    "            'mlp_c_dropout_rate': 0.1,\n",
    "            'activation': 'relu',\n",
    "            'input_shape': (10, 9),\n",
    "            'max_number_of_patches': 10\n",
    "        }\n",
    "    },\n",
    "    'compile': {\n",
    "        'optimizer': {\n",
    "            'name': 'adamw',\n",
    "            'kwargs': {'learning_rate': 1e-3}\n",
    "        },\n",
    "        'loss': {\n",
    "            'name': 'binary_cross_entropy',\n",
    "            'kwargs': {}\n",
    "        }\n",
    "    },\n",
    "    'fit': {\n",
    "        'epochs': 200,\n",
    "        'batch_size': 256,\n",
    "        'verbose': 1,\n",
    "        'n_early_stopping_epochs': 12\n",
    "    }\n",
    "}"
   ]
  },
  {
   "cell_type": "code",
   "execution_count": 4,
   "metadata": {},
   "outputs": [],
   "source": [
    "date_to_data_path = {\n",
    "    date: f'/home/iscb/wolfson/doririmon/home/order/ubinet/repo/ubinet/datasets/patch_to_score/data_for_training/{date}_with_pesto/folds_training_dicts.pkl'\n",
    "    for date in ['03_04', '21_07']\n",
    "}"
   ]
  },
  {
   "cell_type": "code",
   "execution_count": 5,
   "metadata": {},
   "outputs": [],
   "source": [
    "dir_path = f'../data/{hypothesis}'\n",
    "os.makedirs(dir_path, exist_ok=True)\n",
    "\n",
    "for date, data_path in date_to_data_path.items():\n",
    "    configuration = base_configuration.copy()\n",
    "    configuration['experiment'] = date\n",
    "    configuration['data']['path'] = data_path\n",
    "\n",
    "    with open(f'{dir_path}/{date}.json', 'w') as f:\n",
    "        json.dump(configuration, f, indent=4)"
   ]
  }
 ],
 "metadata": {
  "kernelspec": {
   "display_name": "ubinet-gpu",
   "language": "python",
   "name": "python3"
  },
  "language_info": {
   "codemirror_mode": {
    "name": "ipython",
    "version": 3
   },
   "file_extension": ".py",
   "mimetype": "text/x-python",
   "name": "python",
   "nbconvert_exporter": "python",
   "pygments_lexer": "ipython3",
   "version": "3.10.13"
  }
 },
 "nbformat": 4,
 "nbformat_minor": 2
}
