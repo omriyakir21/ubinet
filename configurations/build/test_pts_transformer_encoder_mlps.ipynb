{
 "cells": [
  {
   "cell_type": "code",
   "execution_count": 4,
   "metadata": {},
   "outputs": [],
   "source": [
    "import json\n",
    "import os"
   ]
  },
  {
   "cell_type": "code",
   "execution_count": 5,
   "metadata": {},
   "outputs": [],
   "source": [
    "hypothesis = 'test_pts_transformer_encoder_mlps'\n",
    "experiment = 'small_test'"
   ]
  },
  {
   "cell_type": "code",
   "execution_count": 6,
   "metadata": {},
   "outputs": [],
   "source": [
    "base_configuration = {\n",
    "    'hypothesis': hypothesis,\n",
    "    'experiment': experiment,\n",
    "    'data': {\n",
    "        'path': '/home/iscb/wolfson/doririmon/home/order/ubinet/repo/ubinet/datasets/patch_to_score/data_for_training/03_04_with_pesto/folds_training_dicts.pkl',\n",
    "        'use_pesto': True,\n",
    "        'ablation_string': '111111111',\n",
    "        'max_folds': 2  # TESTING ONLY\n",
    "    },\n",
    "    'model': {\n",
    "        'name': 'pts_transformer_encoder_mlp',\n",
    "        'kwargs': {\n",
    "            'hidden_sizes_mlp_a': [(1024, 1024), (1024, 1024)], \n",
    "            'mlp_a_dropout_rate': 0.1,\n",
    "            'hidden_sizes_mlp_c': [(1024, 1024), (1024, 1024)],\n",
    "            'mlp_c_dropout_rate': 0.1,\n",
    "            'activation': 'relu',\n",
    "            'input_shape': (10, 9),\n",
    "            'max_number_of_patches': 10\n",
    "        }\n",
    "    },\n",
    "    'compile': {\n",
    "        'optimizer': {\n",
    "            'name': 'adamw',\n",
    "            'kwargs': {'learning_rate': 1e-3}\n",
    "        },\n",
    "        'loss': {\n",
    "            'name': 'binary_cross_entropy',\n",
    "            'kwargs': {}\n",
    "        }\n",
    "    },\n",
    "    'fit': {\n",
    "        'epochs': 1,  # TESTING ONLY\n",
    "        'batch_size': 256,\n",
    "        'verbose': 1,\n",
    "        'n_early_stopping_epochs': 12\n",
    "    }\n",
    "}"
   ]
  },
  {
   "cell_type": "code",
   "execution_count": 7,
   "metadata": {},
   "outputs": [],
   "source": [
    "dir_path = f'../data/{hypothesis}'\n",
    "os.makedirs(dir_path, exist_ok=True)\n",
    "train_configuration = base_configuration\n",
    "with open(f'{dir_path}/{experiment}.json', 'w') as f:\n",
    "    json.dump(train_configuration, f)"
   ]
  }
 ],
 "metadata": {
  "kernelspec": {
   "display_name": "ubinet-gpu",
   "language": "python",
   "name": "python3"
  },
  "language_info": {
   "codemirror_mode": {
    "name": "ipython",
    "version": 3
   },
   "file_extension": ".py",
   "mimetype": "text/x-python",
   "name": "python",
   "nbconvert_exporter": "python",
   "pygments_lexer": "ipython3",
   "version": "3.10.16"
  }
 },
 "nbformat": 4,
 "nbformat_minor": 2
}
