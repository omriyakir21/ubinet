{
 "cells": [
  {
   "cell_type": "code",
   "execution_count": 1,
   "metadata": {},
   "outputs": [],
   "source": [
    "import json\n",
    "import os"
   ]
  },
  {
   "cell_type": "code",
   "execution_count": 2,
   "metadata": {},
   "outputs": [],
   "source": [
    "hypothesis = 'optimizer_batchsize_lr_gridsearch'"
   ]
  },
  {
   "cell_type": "code",
   "execution_count": 3,
   "metadata": {},
   "outputs": [],
   "source": [
    "base_configuration = {\n",
    "    'hypothesis': hypothesis,\n",
    "    'experiment': None,  # will change below\n",
    "    'data': {\n",
    "        'path': '/home/iscb/wolfson/doririmon/home/order/ubinet/repo/ubinet/datasets/patch_to_score/data_for_training/03_04_with_pesto/folds_training_dicts.pkl',\n",
    "        'use_pesto': True,\n",
    "        'ablation_string': '111111111',\n",
    "        'max_folds': None\n",
    "    },\n",
    "    'model': {\n",
    "        'name': 'patch_to_score_original',\n",
    "        'kwargs': {\n",
    "            'input_shape': (10, 9),\n",
    "            'n_layers': 5,\n",
    "            'm_a': 1024,\n",
    "            'm_b': 1024,\n",
    "            'm_c': 1024,\n",
    "            'max_number_of_patches': 10\n",
    "        }\n",
    "    },\n",
    "    'compile': {\n",
    "        'optimizer': {\n",
    "            'name': None,  # will change below\n",
    "            'kwargs': {'learning_rate': None}  # will change below\n",
    "        },\n",
    "        'loss': {\n",
    "            'name': 'binary_cross_entropy',\n",
    "            'kwargs': {}\n",
    "        }\n",
    "    },\n",
    "    'fit': {\n",
    "        'epochs': 200,\n",
    "        'batch_size': None,  # will change below\n",
    "        'verbose': 1,\n",
    "        'n_early_stopping_epochs': 12\n",
    "    }\n",
    "}"
   ]
  },
  {
   "cell_type": "code",
   "execution_count": 7,
   "metadata": {},
   "outputs": [],
   "source": [
    "dir_path = f'../data/{hypothesis}'\n",
    "os.makedirs(dir_path, exist_ok=True)\n",
    "for batch_size in [128, 256, 512, 1024]:\n",
    "    for learning_rate in [1e-2, 1e-3, 1e-4]:\n",
    "        for optimizer in ['sgd', 'adam', 'adamw']:\n",
    "            experiment = f'batch_{batch_size}-optimizer_{optimizer}-lr_{learning_rate}'\n",
    "            train_configuration = base_configuration\n",
    "            train_configuration['experiment'] = experiment\n",
    "            train_configuration['compile']['optimizer']['name'] = optimizer\n",
    "            train_configuration['compile']['optimizer']['kwargs']['learning_rate'] = learning_rate\n",
    "            train_configuration['fit']['batch_size'] = batch_size\n",
    "            with open(f'{dir_path}/{experiment}.json', 'w') as f:\n",
    "                json.dump(train_configuration, f)"
   ]
  }
 ],
 "metadata": {
  "kernelspec": {
   "display_name": "ubinet",
   "language": "python",
   "name": "python3"
  },
  "language_info": {
   "codemirror_mode": {
    "name": "ipython",
    "version": 3
   },
   "file_extension": ".py",
   "mimetype": "text/x-python",
   "name": "python",
   "nbconvert_exporter": "python",
   "pygments_lexer": "ipython3",
   "version": "3.12.9"
  }
 },
 "nbformat": 4,
 "nbformat_minor": 2
}
