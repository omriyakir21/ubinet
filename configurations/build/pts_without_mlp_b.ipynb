{
 "cells": [
  {
   "cell_type": "code",
   "execution_count": 2,
   "metadata": {},
   "outputs": [],
   "source": [
    "import json\n",
    "import os"
   ]
  },
  {
   "cell_type": "code",
   "execution_count": 3,
   "metadata": {},
   "outputs": [],
   "source": [
    "hypothesis = 'pts_without_mlp_b'"
   ]
  },
  {
   "cell_type": "code",
   "execution_count": 6,
   "metadata": {},
   "outputs": [],
   "source": [
    "base_configuration = {\n",
    "    'hypothesis': hypothesis,\n",
    "    'experiment': None,  # will change below\n",
    "    'data': {\n",
    "        'path': '/home/iscb/wolfson/doririmon/home/order/ubinet/repo/ubinet/datasets/patch_to_score/data_for_training/03_04_with_pesto/folds_training_dicts.pkl',\n",
    "        'use_pesto': True,\n",
    "        'ablation_string': '111111111',\n",
    "        'max_folds': None\n",
    "    },\n",
    "    'model': {\n",
    "        'name': 'pts_without_mlp_b',\n",
    "        'kwargs': {\n",
    "            'input_shape': (10, 9),\n",
    "            'n_layers': 5,\n",
    "            'm_a': 1024,\n",
    "            'm_c': 1024,\n",
    "            'max_number_of_patches': 10\n",
    "        }\n",
    "    },\n",
    "    'compile': {\n",
    "        'optimizer': {\n",
    "            'name': 'adamw',\n",
    "            'kwargs': {'learning_rate': 1e-3}\n",
    "        },\n",
    "        'loss': {\n",
    "            'name': 'binary_cross_entropy',\n",
    "            'kwargs': {}\n",
    "        }\n",
    "    },\n",
    "    'fit': {\n",
    "        'epochs': 200,\n",
    "        'batch_size': 256,\n",
    "        'verbose': 1,\n",
    "        'n_early_stopping_epochs': 12\n",
    "    }\n",
    "}"
   ]
  },
  {
   "cell_type": "code",
   "execution_count": 7,
   "metadata": {},
   "outputs": [],
   "source": [
    "dir_path = f'../data/{hypothesis}'\n",
    "os.makedirs(dir_path, exist_ok=True)\n",
    "\n",
    "for n_layers in [4, 5, 6]:\n",
    "    for m_a in [512, 1024, 2048]:\n",
    "        for m_c in [512, 1024, 2048]:\n",
    "            experiment = f'n_layers_{n_layers}_m_a_{m_a}_m_c_{m_c}'\n",
    "            train_configuration = base_configuration.copy()\n",
    "            train_configuration['experiment'] = experiment\n",
    "            train_configuration['model']['kwargs']['n_layers'] = n_layers\n",
    "            train_configuration['model']['kwargs']['m_a'] = m_a\n",
    "            train_configuration['model']['kwargs']['m_c'] = m_c\n",
    "\n",
    "            with open(f'{dir_path}/{experiment}.json', 'w') as f:\n",
    "                json.dump(train_configuration, f)"
   ]
  }
 ],
 "metadata": {
  "kernelspec": {
   "display_name": "ubinet-gpu",
   "language": "python",
   "name": "python3"
  },
  "language_info": {
   "codemirror_mode": {
    "name": "ipython",
    "version": 3
   },
   "file_extension": ".py",
   "mimetype": "text/x-python",
   "name": "python",
   "nbconvert_exporter": "python",
   "pygments_lexer": "ipython3",
   "version": "3.10.16"
  }
 },
 "nbformat": 4,
 "nbformat_minor": 2
}
