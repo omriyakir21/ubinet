{
 "cells": [
  {
   "cell_type": "code",
   "execution_count": 2,
   "metadata": {},
   "outputs": [],
   "source": [
    "import json\n",
    "import os"
   ]
  },
  {
   "cell_type": "code",
   "execution_count": 5,
   "metadata": {},
   "outputs": [],
   "source": [
    "hypothesis = 'small_test_run'\n",
    "experiment = 'two_folds_single_epoch'"
   ]
  },
  {
   "cell_type": "code",
   "execution_count": 6,
   "metadata": {},
   "outputs": [],
   "source": [
    "base_configuration = {\n",
    "    'hypothesis': hypothesis,\n",
    "    'experiment': experiment,\n",
    "    'data': {\n",
    "        'path': '/home/iscb/wolfson/doririmon/home/order/ubinet/repo/ubinet/datasets/patch_to_score/data_for_training/03_04_with_pesto/folds_training_dicts.pkl',\n",
    "        'use_pesto': True,\n",
    "        'ablation_string': '111111111',\n",
    "        'max_folds': 2\n",
    "    },\n",
    "    'model': {\n",
    "        'name': 'patch_to_score_original',\n",
    "        'kwargs': {\n",
    "            'input_shape': (10, 9),\n",
    "            'n_layers': 5,\n",
    "            'm_a': 1024,\n",
    "            'm_b': 1024,\n",
    "            'm_c': 1024,\n",
    "            'max_number_of_patches': 10\n",
    "        }\n",
    "    },\n",
    "    'compile': {\n",
    "        'optimizer': {\n",
    "            'name': 'adam',\n",
    "            'kwargs': {'learning_rate': 1e-3}\n",
    "        },\n",
    "        'loss': {\n",
    "            'name': 'binary_cross_entropy',\n",
    "            'kwargs': {}\n",
    "        }\n",
    "    },\n",
    "    'fit': {\n",
    "        'epochs': 1,\n",
    "        'batch_size': 200,\n",
    "        'verbose': 1,\n",
    "        'n_early_stopping_epochs': 12\n",
    "    }\n",
    "}"
   ]
  },
  {
   "cell_type": "code",
   "execution_count": 7,
   "metadata": {},
   "outputs": [],
   "source": [
    "dir_path = f'../data/{hypothesis}'\n",
    "os.makedirs(dir_path, exist_ok=True)\n",
    "with open(f'{dir_path}/{experiment}.json', 'w') as f:\n",
    "    json.dump(base_configuration, f)"
   ]
  },
  {
   "cell_type": "code",
   "execution_count": null,
   "metadata": {},
   "outputs": [],
   "source": []
  }
 ],
 "metadata": {
  "kernelspec": {
   "display_name": "ubinet",
   "language": "python",
   "name": "python3"
  },
  "language_info": {
   "codemirror_mode": {
    "name": "ipython",
    "version": 3
   },
   "file_extension": ".py",
   "mimetype": "text/x-python",
   "name": "python",
   "nbconvert_exporter": "python",
   "pygments_lexer": "ipython3",
   "version": "3.12.9"
  }
 },
 "nbformat": 4,
 "nbformat_minor": 2
}
