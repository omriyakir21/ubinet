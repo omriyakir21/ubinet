{
 "cells": [
  {
   "cell_type": "code",
   "execution_count": 1,
   "metadata": {},
   "outputs": [],
   "source": [
    "import json\n",
    "import os\n",
    "from typing import List, Tuple"
   ]
  },
  {
   "cell_type": "code",
   "execution_count": 2,
   "metadata": {},
   "outputs": [],
   "source": [
    "hypothesis = 'pts_transformer_encoder_mlps'"
   ]
  },
  {
   "cell_type": "code",
   "execution_count": 3,
   "metadata": {},
   "outputs": [],
   "source": [
    "base_configuration = {\n",
    "    'hypothesis': hypothesis,\n",
    "    'experiment': None,  # will change below\n",
    "    'data': {\n",
    "        'path': '/home/iscb/wolfson/doririmon/home/order/ubinet/repo/ubinet/datasets/patch_to_score/data_for_training/03_04_with_pesto/folds_training_dicts.pkl',\n",
    "        'use_pesto': True,\n",
    "        'ablation_string': '111111111',\n",
    "        'max_folds': None\n",
    "    },\n",
    "    'model': {\n",
    "        'name': 'pts_transformer_encoder_mlp',\n",
    "        'kwargs': {\n",
    "            'hidden_sizes_mlp_a': None,  # will change below\n",
    "            'mlp_a_dropout_rate': None,  # will change below\n",
    "            'hidden_sizes_mlp_c': None,  # will change below\n",
    "            'mlp_c_dropout_rate': None,  # will change below\n",
    "            'activation': 'relu',\n",
    "            'input_shape': (10, 9),\n",
    "            'max_number_of_patches': 10\n",
    "        }\n",
    "    },\n",
    "    'compile': {\n",
    "        'optimizer': {\n",
    "            'name': 'adamw',\n",
    "            'kwargs': {'learning_rate': 1e-3}\n",
    "        },\n",
    "        'loss': {\n",
    "            'name': 'binary_cross_entropy',\n",
    "            'kwargs': {}\n",
    "        }\n",
    "    },\n",
    "    'fit': {\n",
    "        'epochs': 200,\n",
    "        'batch_size': 256,\n",
    "        'verbose': 1,\n",
    "        'n_early_stopping_epochs': 12\n",
    "    }\n",
    "}"
   ]
  },
  {
   "cell_type": "code",
   "execution_count": 4,
   "metadata": {},
   "outputs": [],
   "source": [
    "def mlps_option_to_str(mlps_option: List[Tuple[int, int]]) -> str:\n",
    "    res = []\n",
    "    for mlp_option in mlps_option:\n",
    "        res.append(f'{str(mlp_option[0])}-{str(mlp_option[1])}')\n",
    "    return '_'.join(res)"
   ]
  },
  {
   "cell_type": "code",
   "execution_count": 5,
   "metadata": {},
   "outputs": [],
   "source": [
    "def dropout_to_str(dropout_rate: float) -> str:\n",
    "    return str(dropout_rate).replace('.', '_')"
   ]
  },
  {
   "cell_type": "code",
   "execution_count": 6,
   "metadata": {},
   "outputs": [],
   "source": [
    "dir_path = f'../data/{hypothesis}'\n",
    "os.makedirs(dir_path, exist_ok=True)\n",
    "\n",
    "for mlp_a_dropout_rate in [0.0, 0.1, 0.2]:\n",
    "    for mlp_c_dropout_rate in [0.0, 0.1, 0.2]:\n",
    "        for hidden_sizes_mlp_a in [[(1024, 1024), (1024, 1024)], [(512, 512), (512, 512)]]:\n",
    "            for hidden_sizes_mlp_c in [[(1024, 1024), (1024, 1024)], [(512, 512), (512, 512)]]:\n",
    "                experiment_name = f'mlp_a_dropout_{dropout_to_str(mlp_a_dropout_rate)}_mlp_c_dropout_{dropout_to_str(mlp_c_dropout_rate)}_hidden_sizes_mlp_a_{mlps_option_to_str(hidden_sizes_mlp_a)}_hidden_sizes_mlp_c_{mlps_option_to_str(hidden_sizes_mlp_c)}'\n",
    "                configuration = base_configuration.copy()\n",
    "                configuration['experiment'] = experiment_name\n",
    "                configuration['model']['kwargs']['mlp_a_dropout_rate'] = mlp_a_dropout_rate\n",
    "                configuration['model']['kwargs']['mlp_c_dropout_rate'] = mlp_c_dropout_rate\n",
    "                configuration['model']['kwargs']['hidden_sizes_mlp_a'] = hidden_sizes_mlp_a\n",
    "                configuration['model']['kwargs']['hidden_sizes_mlp_c'] = hidden_sizes_mlp_c\n",
    "\n",
    "                with open(f'{dir_path}/{experiment_name}.json', 'w') as f:\n",
    "                    json.dump(configuration, f, indent=4)"
   ]
  },
  {
   "cell_type": "code",
   "execution_count": null,
   "metadata": {},
   "outputs": [],
   "source": []
  }
 ],
 "metadata": {
  "kernelspec": {
   "display_name": "ubinet-gpu",
   "language": "python",
   "name": "python3"
  },
  "language_info": {
   "codemirror_mode": {
    "name": "ipython",
    "version": 3
   },
   "file_extension": ".py",
   "mimetype": "text/x-python",
   "name": "python",
   "nbconvert_exporter": "python",
   "pygments_lexer": "ipython3",
   "version": "3.10.16"
  }
 },
 "nbformat": 4,
 "nbformat_minor": 2
}
