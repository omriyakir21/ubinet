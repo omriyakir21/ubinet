{
 "cells": [
  {
   "cell_type": "code",
   "execution_count": 1,
   "metadata": {},
   "outputs": [],
   "source": [
    "import json\n",
    "import os\n",
    "from copy import deepcopy\n",
    "from typing import List, Tuple"
   ]
  },
  {
   "cell_type": "code",
   "execution_count": 2,
   "metadata": {},
   "outputs": [],
   "source": [
    "hypothesis = 'patch_attention'"
   ]
  },
  {
   "cell_type": "code",
   "execution_count": 3,
   "metadata": {},
   "outputs": [],
   "source": [
    "base_configuration = {\n",
    "    'hypothesis': hypothesis,\n",
    "    'experiment': None,  # will change below\n",
    "    'data': {\n",
    "        'path': '/home/iscb/wolfson/doririmon/home/order/ubinet/repo/ubinet/datasets/patch_to_score/data_for_training/03_04_with_pesto_and_coord/folds_training_dicts.pkl',\n",
    "        'use_pesto': True,\n",
    "        'ablation_string': '111111111',\n",
    "        'max_folds': None,\n",
    "        'use_coordinates': True\n",
    "    },\n",
    "    'model': {\n",
    "        'name': 'patch_attention',\n",
    "        'kwargs': {\n",
    "            'output_mlp_hidden_sizes': None, \n",
    "            'output_mlp_dropout_rate': 0.25,\n",
    "            'attention_mlp_hidden_sizes': None, \n",
    "            'attention_mlp_dropout_rate': 0.25,\n",
    "            'activation': 'relu',\n",
    "            'input_shape': (10, 9),\n",
    "            'max_number_of_patches': 10,\n",
    "            'attention_dimension': None,\n",
    "            'num_heads': None\n",
    "        }\n",
    "    },\n",
    "    'compile': {\n",
    "        'optimizer': {\n",
    "            'name': 'adamw',\n",
    "            'kwargs': {'learning_rate': 1e-3}\n",
    "        },\n",
    "        'loss': {\n",
    "            'name': 'binary_cross_entropy',\n",
    "            'kwargs': {}\n",
    "        }\n",
    "    },\n",
    "    'fit': {\n",
    "        'epochs': 200,\n",
    "        'batch_size': 256,\n",
    "        'verbose': 1,\n",
    "        'n_early_stopping_epochs': 12\n",
    "    }\n",
    "}"
   ]
  },
  {
   "cell_type": "code",
   "execution_count": 4,
   "metadata": {},
   "outputs": [],
   "source": [
    "def mlps_option_to_str(mlps_option: List[Tuple[int, int]]) -> str:\n",
    "    res = f'{str(mlps_option[0][0])}-{str(mlps_option[0][1])}'\n",
    "    return f'{len(mlps_option)}_{res}'"
   ]
  },
  {
   "cell_type": "code",
   "execution_count": 5,
   "metadata": {},
   "outputs": [],
   "source": [
    "def option_to_name(option: dict) -> str:\n",
    "    name = f'attdim_{option[\"attention_dimension\"]}-heads_{option[\"num_heads\"]}-a_{mlps_option_to_str(option[\"attention_mlp_hidden_sizes\"])}-o_{mlps_option_to_str(option[\"output_mlp_hidden_sizes\"])}'\n",
    "    return name"
   ]
  },
  {
   "cell_type": "code",
   "execution_count": 6,
   "metadata": {},
   "outputs": [],
   "source": [
    "options = [\n",
    "    {\n",
    "        'output_mlp_hidden_sizes': [(256, 256)], \n",
    "        'attention_mlp_hidden_sizes': [(256, 256)], \n",
    "        'attention_dimension': 256,\n",
    "        'num_heads': 8\n",
    "    },\n",
    "    {\n",
    "        'output_mlp_hidden_sizes': [(1024, 256)], \n",
    "        'attention_mlp_hidden_sizes': [(1024, 256)], \n",
    "        'attention_dimension': 256,\n",
    "        'num_heads': 8\n",
    "    },\n",
    "    {\n",
    "        'output_mlp_hidden_sizes': [(2048, 512)], \n",
    "        'attention_mlp_hidden_sizes': [(2048, 512)], \n",
    "        'attention_dimension': 512,\n",
    "        'num_heads': 8\n",
    "    },\n",
    "    {\n",
    "        'output_mlp_hidden_sizes': [(1024, 256), (1024, 256)], \n",
    "        'attention_mlp_hidden_sizes': [(1024, 256), (1024, 256)], \n",
    "        'attention_dimension': 256,\n",
    "        'num_heads': 8\n",
    "    },\n",
    "    {\n",
    "        'output_mlp_hidden_sizes': [(1024, 256)], \n",
    "        'attention_mlp_hidden_sizes': [(1024, 256), (1024, 256)], \n",
    "        'attention_dimension': 256,\n",
    "        'num_heads': 8\n",
    "    },\n",
    "    {\n",
    "        'output_mlp_hidden_sizes': [(1024, 256), (1024, 256)], \n",
    "        'attention_mlp_hidden_sizes': [(1024, 256)], \n",
    "        'attention_dimension': 256,\n",
    "        'num_heads': 8\n",
    "    },\n",
    "    {\n",
    "        'output_mlp_hidden_sizes': [(1024, 256)], \n",
    "        'attention_mlp_hidden_sizes': [(1024, 256)], \n",
    "        'attention_dimension': 256,\n",
    "        'num_heads': 1\n",
    "    },\n",
    "    {\n",
    "        'output_mlp_hidden_sizes': [(1024, 256)], \n",
    "        'attention_mlp_hidden_sizes': [(1024, 256)], \n",
    "        'attention_dimension': 256,\n",
    "        'num_heads': 4\n",
    "    },\n",
    "    ]"
   ]
  },
  {
   "cell_type": "code",
   "execution_count": 7,
   "metadata": {},
   "outputs": [],
   "source": [
    "dir_path = f'../data/{hypothesis}'\n",
    "os.makedirs(dir_path, exist_ok=True)\n",
    "\n",
    "for option in options:\n",
    "    configuration = deepcopy(base_configuration)\n",
    "    configuration['model']['kwargs'].update(option)\n",
    "    \n",
    "    output_mlp_str = mlps_option_to_str(option['output_mlp_hidden_sizes'])\n",
    "    attention_mlp_str = mlps_option_to_str(option['attention_mlp_hidden_sizes'])\n",
    "    \n",
    "    name = option_to_name(option)\n",
    "    configuration['experiment'] = name\n",
    "    \n",
    "    with open(f'{dir_path}/{name}.json', 'w') as f:\n",
    "        json.dump(configuration, f, indent=4)\n",
    "    "
   ]
  }
 ],
 "metadata": {
  "kernelspec": {
   "display_name": "ubinet-gpu",
   "language": "python",
   "name": "python3"
  },
  "language_info": {
   "codemirror_mode": {
    "name": "ipython",
    "version": 3
   },
   "file_extension": ".py",
   "mimetype": "text/x-python",
   "name": "python",
   "nbconvert_exporter": "python",
   "pygments_lexer": "ipython3",
   "version": "3.10.13"
  }
 },
 "nbformat": 4,
 "nbformat_minor": 2
}
