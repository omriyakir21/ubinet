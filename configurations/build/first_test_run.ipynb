{
 "cells": [
  {
   "cell_type": "code",
   "execution_count": 14,
   "metadata": {},
   "outputs": [],
   "source": [
    "import json\n",
    "import os"
   ]
  },
  {
   "cell_type": "code",
   "execution_count": 8,
   "metadata": {},
   "outputs": [],
   "source": [
    "hypothesis = 'pesto_scores_ablation_reproduce'"
   ]
  },
  {
   "cell_type": "code",
   "execution_count": 9,
   "metadata": {},
   "outputs": [],
   "source": [
    "base_configuration = {\n",
    "    'hypothesis': hypothesis,\n",
    "    'experiment': 'reproduce',\n",
    "    'data': {\n",
    "        'path': '/home/iscb/wolfson/doririmon/home/order/ubinet/repo/ubinet/datasets/patch_to_score/data_for_training/03_04_with_pesto/folds_training_dicts.pkl',\n",
    "        'use_pesto': True,\n",
    "        'ablation_string': '111111111',\n",
    "        'max_folds': 2\n",
    "    },\n",
    "    'model': {\n",
    "        'name': 'patch_to_score_original',\n",
    "        'kwargs': {\n",
    "            'input_shape': (10, 9),\n",
    "            'n_layers': 4,\n",
    "            'm_a': 512,\n",
    "            'm_b': 1024,\n",
    "            'm_c': 512,\n",
    "            'max_number_of_patches': 10\n",
    "        }\n",
    "    },\n",
    "    'compile': {\n",
    "        'optimizer': {\n",
    "            'name': 'adam',\n",
    "            'kwargs': {'learning_rate': 1e-3}\n",
    "        },\n",
    "        'loss': {\n",
    "            'name': 'binary_cross_entropy',\n",
    "            'kwargs': {}\n",
    "        }\n",
    "    },\n",
    "    'fit': {\n",
    "        'epochs': 1,\n",
    "        'batch_size': 200,\n",
    "        'verbose': 1,\n",
    "        'n_early_stopping_epochs': 12\n",
    "    }\n",
    "}"
   ]
  },
  {
   "cell_type": "code",
   "execution_count": 10,
   "metadata": {},
   "outputs": [],
   "source": [
    "ablation_strings = [\n",
    "    '111101111',\n",
    "    '111111111',\n",
    "    '110111111',\n",
    "    '111000001',\n",
    "    '111011111',\n",
    "    '111110111',\n",
    "    '111111011',\n",
    "    '111111101',\n",
    "    '101111111'\n",
    "]"
   ]
  },
  {
   "cell_type": "code",
   "execution_count": 13,
   "metadata": {},
   "outputs": [
    {
     "name": "stdout",
     "output_type": "stream",
     "text": [
      "/home/iscb/wolfson/doririmon/home/order/ubinet/repo/ubinet/configurations/build\n"
     ]
    }
   ],
   "source": [
    "!pwd"
   ]
  },
  {
   "cell_type": "code",
   "execution_count": 18,
   "metadata": {},
   "outputs": [],
   "source": [
    "for ablation_string in ablation_strings:\n",
    "    experiment = ablation_string\n",
    "    train_configuration = base_configuration\n",
    "    train_configuration['data']['ablation_string'] = ablation_string\n",
    "    train_configuration['experiment'] = experiment\n",
    "    dir_path = f'../data/{hypothesis}'\n",
    "    os.makedirs(dir_path, exist_ok=True)\n",
    "    with open(f'{dir_path}/{experiment}.json', 'w') as f:\n",
    "        json.dump(train_configuration, f)"
   ]
  }
 ],
 "metadata": {
  "kernelspec": {
   "display_name": "ubinet",
   "language": "python",
   "name": "python3"
  },
  "language_info": {
   "codemirror_mode": {
    "name": "ipython",
    "version": 3
   },
   "file_extension": ".py",
   "mimetype": "text/x-python",
   "name": "python",
   "nbconvert_exporter": "python",
   "pygments_lexer": "ipython3",
   "version": "3.12.9"
  }
 },
 "nbformat": 4,
 "nbformat_minor": 2
}
