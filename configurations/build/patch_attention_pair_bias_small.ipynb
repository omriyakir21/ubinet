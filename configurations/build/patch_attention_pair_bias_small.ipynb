{
 "cells": [
  {
   "cell_type": "code",
   "execution_count": 6,
   "metadata": {},
   "outputs": [],
   "source": [
    "import json\n",
    "import os\n",
    "from copy import deepcopy\n",
    "from typing import List, Tuple"
   ]
  },
  {
   "cell_type": "code",
   "execution_count": 7,
   "metadata": {},
   "outputs": [],
   "source": [
    "hypothesis = 'patch_attention_pair_bias_small'"
   ]
  },
  {
   "cell_type": "code",
   "execution_count": 8,
   "metadata": {},
   "outputs": [],
   "source": [
    "base_configuration = {\n",
    "    'hypothesis': hypothesis,\n",
    "    'experiment': None,  # will change below\n",
    "    'data': {\n",
    "        'path': '/home/iscb/wolfson/doririmon/home/order/ubinet/repo/ubinet/datasets/patch_to_score/data_for_training/03_04_with_pesto_and_coord/folds_training_dicts.pkl',\n",
    "        'use_pesto': True,\n",
    "        'ablation_string': '111111111',\n",
    "        'max_folds': None,\n",
    "        'use_coordinates': True\n",
    "    },\n",
    "    'model': {\n",
    "        'name': 'patch_attention',\n",
    "        'kwargs': {\n",
    "            'features_mlp_hidden_sizes': None,\n",
    "            'features_mlp_dropout_rate': None,\n",
    "            'output_mlp_hidden_sizes': None, \n",
    "            'output_mlp_dropout_rate': None,\n",
    "            'attention_mlp_hidden_sizes': None, \n",
    "            'attention_mlp_dropout_rate': None,\n",
    "            'activation': 'relu',\n",
    "            'input_shape': (10, 9),\n",
    "            'max_number_of_patches': 10,\n",
    "            'attention_dimension': None,\n",
    "            'pairs_channel_dimension': None,\n",
    "            'num_heads': None,\n",
    "            'use_pair_bias': None\n",
    "        }\n",
    "    },\n",
    "    'compile': {\n",
    "        'optimizer': {\n",
    "            'name': 'adamw',\n",
    "            'kwargs': {'learning_rate': 1e-3}\n",
    "        },\n",
    "        'loss': {\n",
    "            'name': 'binary_cross_entropy',\n",
    "            'kwargs': {}\n",
    "        }\n",
    "    },\n",
    "    'fit': {\n",
    "        'epochs': 200,\n",
    "        'batch_size': 256,\n",
    "        'verbose': 1,\n",
    "        'n_early_stopping_epochs': 12\n",
    "    }\n",
    "}"
   ]
  },
  {
   "cell_type": "code",
   "execution_count": 9,
   "metadata": {},
   "outputs": [],
   "source": [
    "def mlps_option_to_str(mlps_option: List[Tuple[int, int]]) -> str:\n",
    "    res = f'{str(mlps_option[0][0])}-{str(mlps_option[0][1])}'\n",
    "    return f'{len(mlps_option)}_{res}'"
   ]
  },
  {
   "cell_type": "code",
   "execution_count": 10,
   "metadata": {},
   "outputs": [],
   "source": [
    "def option_to_name(option: dict) -> str:\n",
    "    name = f'pairbias_{option[\"use_pair_bias\"]}-dim_{option[\"attention_dimension\"]}-heads_{option[\"num_heads\"]}'\n",
    "    return name"
   ]
  },
  {
   "cell_type": "code",
   "execution_count": 11,
   "metadata": {},
   "outputs": [],
   "source": [
    "dropout = 0.25\n",
    "dims = [32, 64, 128]\n",
    "heads = [1, 4, 8]\n",
    "use_pair_biases = [True, False] \n",
    "\n",
    "options = [\n",
    "    {\n",
    "        'features_mlp_hidden_sizes': [(dim * 4, dim)],\n",
    "        'features_mlp_dropout_rate': dropout,\n",
    "        'output_mlp_hidden_sizes': [(dim * 4, dim)], \n",
    "        'output_mlp_dropout_rate': dropout,\n",
    "        'attention_mlp_hidden_sizes': [(dim * 4, dim)], \n",
    "        'attention_mlp_dropout_rate': dropout,\n",
    "        'attention_dimension': dim,\n",
    "        'pairs_channel_dimension': dim,\n",
    "        'num_heads': num_heads,\n",
    "        'use_pair_bias': use_pair_bias\n",
    "    }\n",
    "    for dim in dims\n",
    "    for num_heads in heads\n",
    "    for use_pair_bias in use_pair_biases\n",
    "]"
   ]
  },
  {
   "cell_type": "code",
   "execution_count": 12,
   "metadata": {},
   "outputs": [],
   "source": [
    "dir_path = f'../data/{hypothesis}'\n",
    "os.makedirs(dir_path, exist_ok=True)\n",
    "\n",
    "for option in options:\n",
    "    configuration = deepcopy(base_configuration)\n",
    "    configuration['model']['kwargs'].update(option)\n",
    "    \n",
    "    output_mlp_str = mlps_option_to_str(option['output_mlp_hidden_sizes'])\n",
    "    attention_mlp_str = mlps_option_to_str(option['attention_mlp_hidden_sizes'])\n",
    "    \n",
    "    name = option_to_name(option)\n",
    "    configuration['experiment'] = name\n",
    "    \n",
    "    with open(f'{dir_path}/{name}.json', 'w') as f:\n",
    "        json.dump(configuration, f, indent=4)\n",
    "    "
   ]
  },
  {
   "cell_type": "code",
   "execution_count": null,
   "metadata": {},
   "outputs": [],
   "source": []
  }
 ],
 "metadata": {
  "kernelspec": {
   "display_name": "ubinet-gpu",
   "language": "python",
   "name": "python3"
  },
  "language_info": {
   "codemirror_mode": {
    "name": "ipython",
    "version": 3
   },
   "file_extension": ".py",
   "mimetype": "text/x-python",
   "name": "python",
   "nbconvert_exporter": "python",
   "pygments_lexer": "ipython3",
   "version": "3.10.16"
  }
 },
 "nbformat": 4,
 "nbformat_minor": 2
}
