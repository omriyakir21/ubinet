{
 "cells": [
  {
   "cell_type": "code",
   "execution_count": 6,
   "metadata": {},
   "outputs": [],
   "source": [
    "import json\n",
    "import os"
   ]
  },
  {
   "cell_type": "markdown",
   "metadata": {},
   "source": [
    "ABLATION STRING[i] = 1 MEANS THAT WE ARE USING THE I'TH FEATURE FROM THIS LIST OF FEATURES:<br>\n",
    "[patch size , scanNet_ubiq , scanNet_protein , pesto_protein , pesto_dna_rna , pesto_ion , pesto_ligand , pesto_lipid , average_plddt]"
   ]
  },
  {
   "cell_type": "code",
   "execution_count": 7,
   "metadata": {},
   "outputs": [],
   "source": [
    "hypothesis = 'pesto_protein_scores_ablation'"
   ]
  },
  {
   "cell_type": "code",
   "execution_count": 8,
   "metadata": {},
   "outputs": [],
   "source": [
    "ablation_strings = [  \n",
    "    # we're going over each option of: scannet_ubiq, scannet_protein, pesto_protein.\n",
    "    # always using patch_size & average_plddt.\n",
    "    # never using extra pesto scores.\n",
    "    '100000001',  # 000: only patch_size and average_plddt\n",
    "    '100100001',  # 001: regular + pesto protein - scannet protein - scannet ubiquitin\n",
    "    '101000001',  # 010: regular - scannet ubiquitin \n",
    "    '101100001',  # 011: regular + pesto protein - scannet ubiquitin\n",
    "    '110000001',  # 100: regular - scannet protein\n",
    "    '110100001',  # 101: regular + pesto prtoein - scannet protein\n",
    "    '111000001',  # 110: regular\n",
    "    '111100001',  # 111: regular + pesto protein\n",
    "]"
   ]
  },
  {
   "cell_type": "code",
   "execution_count": 9,
   "metadata": {},
   "outputs": [],
   "source": [
    "base_configuration = {\n",
    "    'hypothesis': hypothesis,\n",
    "    'experiment': 'reproduce',  # will change below\n",
    "    'data': {\n",
    "        'path': '/home/iscb/wolfson/doririmon/home/order/ubinet/repo/ubinet/datasets/patch_to_score/data_for_training/03_04_with_pesto/folds_training_dicts.pkl',\n",
    "        'use_pesto': True,\n",
    "        'ablation_string': '111111111',  # will change below\n",
    "        'max_folds': None\n",
    "    },\n",
    "    'model': {\n",
    "        'name': 'patch_to_score_original',\n",
    "        'kwargs': {\n",
    "            'input_shape': (10, 9),\n",
    "            'n_layers': 5,\n",
    "            'm_a': 1024,\n",
    "            'm_b': 1024,\n",
    "            'm_c': 1024,\n",
    "            'max_number_of_patches': 10\n",
    "        }\n",
    "    },\n",
    "    'compile': {\n",
    "        'optimizer': {\n",
    "            'name': 'adam',\n",
    "            'kwargs': {'learning_rate': 1e-3}\n",
    "        },\n",
    "        'loss': {\n",
    "            'name': 'binary_cross_entropy',\n",
    "            'kwargs': {}\n",
    "        }\n",
    "    },\n",
    "    'fit': {\n",
    "        'epochs': 200,\n",
    "        'batch_size': 200,\n",
    "        'verbose': 1,\n",
    "        'n_early_stopping_epochs': 12\n",
    "    }\n",
    "}"
   ]
  },
  {
   "cell_type": "code",
   "execution_count": 10,
   "metadata": {},
   "outputs": [],
   "source": [
    "for ablation_string in ablation_strings:\n",
    "    experiment = ablation_string\n",
    "    train_configuration = base_configuration\n",
    "    train_configuration['data']['ablation_string'] = ablation_string\n",
    "    train_configuration['model']['kwargs']['input_shape'] = (10, ablation_string.count('1'))\n",
    "    train_configuration['experiment'] = experiment\n",
    "    dir_path = f'../data/{hypothesis}'\n",
    "    os.makedirs(dir_path, exist_ok=True)\n",
    "    with open(f'{dir_path}/{experiment}.json', 'w') as f:\n",
    "        json.dump(train_configuration, f)"
   ]
  },
  {
   "cell_type": "code",
   "execution_count": null,
   "metadata": {},
   "outputs": [],
   "source": []
  }
 ],
 "metadata": {
  "kernelspec": {
   "display_name": "ubinet",
   "language": "python",
   "name": "python3"
  },
  "language_info": {
   "codemirror_mode": {
    "name": "ipython",
    "version": 3
   },
   "file_extension": ".py",
   "mimetype": "text/x-python",
   "name": "python",
   "nbconvert_exporter": "python",
   "pygments_lexer": "ipython3",
   "version": "3.12.9"
  }
 },
 "nbformat": 4,
 "nbformat_minor": 2
}
