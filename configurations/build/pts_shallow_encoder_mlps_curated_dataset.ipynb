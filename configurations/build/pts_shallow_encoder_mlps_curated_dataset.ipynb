{
 "cells": [
  {
   "cell_type": "code",
   "execution_count": 1,
   "metadata": {},
   "outputs": [],
   "source": [
    "import json\n",
    "import os\n",
    "from copy import deepcopy\n",
    "from typing import List, Tuple"
   ]
  },
  {
   "cell_type": "code",
   "execution_count": 2,
   "metadata": {},
   "outputs": [],
   "source": [
    "hypothesis = 'pts_shallow_encoder_mlps_curated_dataset'"
   ]
  },
  {
   "cell_type": "code",
   "execution_count": 3,
   "metadata": {},
   "outputs": [],
   "source": [
    "base_configuration = {\n",
    "    'hypothesis': hypothesis,\n",
    "    'experiment': None,  # will change below\n",
    "    'data': {\n",
    "        'path': '/home/iscb/wolfson/doririmon/home/order/ubinet/repo/ubinet/data_preparation/patch_to_score/curate_dataset/curated_folds_training_dicts.pkl',\n",
    "        'use_pesto': True,\n",
    "        'ablation_string': '111111111',\n",
    "        'max_folds': None\n",
    "    },\n",
    "    'model': {\n",
    "        'name': 'pts_transformer_encoder_mlp',\n",
    "        'kwargs': {\n",
    "            'hidden_sizes_mlp_a': None,  # will change below\n",
    "            'mlp_a_dropout_rate': 0.2,\n",
    "            'hidden_sizes_mlp_c': None,  # will change below\n",
    "            'mlp_c_dropout_rate': 0.1,\n",
    "            'activation': 'relu',\n",
    "            'input_shape': (10, 9),\n",
    "            'max_number_of_patches': 10\n",
    "        }\n",
    "    },\n",
    "    'compile': {\n",
    "        'optimizer': {\n",
    "            'name': 'adamw',\n",
    "            'kwargs': {'learning_rate': 1e-3}\n",
    "        },\n",
    "        'loss': {\n",
    "            'name': 'binary_cross_entropy',\n",
    "            'kwargs': {}\n",
    "        }\n",
    "    },\n",
    "    'fit': {\n",
    "        'epochs': 200,\n",
    "        'batch_size': 256,\n",
    "        'verbose': 1,\n",
    "        'n_early_stopping_epochs': 12\n",
    "    }\n",
    "}"
   ]
  },
  {
   "cell_type": "code",
   "execution_count": 4,
   "metadata": {},
   "outputs": [],
   "source": [
    "def mlps_option_to_str(mlps_option: List[Tuple[int, int]]) -> str:\n",
    "    res = f'{str(mlps_option[0][0])}-{str(mlps_option[0][1])}'\n",
    "    return f'{len(mlps_option)}_{res}'"
   ]
  },
  {
   "cell_type": "code",
   "execution_count": 5,
   "metadata": {},
   "outputs": [],
   "source": [
    "dir_path = f'../data/{hypothesis}'\n",
    "os.makedirs(dir_path, exist_ok=True)\n",
    "\n",
    "hidden_sizes_mlp_a_options = [\n",
    "    [(512, 512)],\n",
    "    [(1024, 512)],\n",
    "    [(512, 512) for _ in range(2)]\n",
    "]\n",
    "\n",
    "hidden_sizes_mlp_c_options = deepcopy(hidden_sizes_mlp_a_options)\n",
    "\n",
    "for hidden_sizes_mlp_a in hidden_sizes_mlp_a_options:\n",
    "    for hidden_sizes_mlp_c in hidden_sizes_mlp_c_options:\n",
    "        experiment_name = f'hidden_sizes_mlp_a_{mlps_option_to_str(hidden_sizes_mlp_a)}_hidden_sizes_mlp_c_{mlps_option_to_str(hidden_sizes_mlp_c)}'\n",
    "        configuration = base_configuration.copy()\n",
    "        configuration['experiment'] = experiment_name\n",
    "        configuration['model']['kwargs']['hidden_sizes_mlp_a'] = hidden_sizes_mlp_a\n",
    "        configuration['model']['kwargs']['hidden_sizes_mlp_c'] = hidden_sizes_mlp_c\n",
    "\n",
    "        with open(f'{dir_path}/{experiment_name}.json', 'w') as f:\n",
    "            json.dump(configuration, f, indent=4)"
   ]
  }
 ],
 "metadata": {
  "kernelspec": {
   "display_name": "ubinet-gpu",
   "language": "python",
   "name": "python3"
  },
  "language_info": {
   "codemirror_mode": {
    "name": "ipython",
    "version": 3
   },
   "file_extension": ".py",
   "mimetype": "text/x-python",
   "name": "python",
   "nbconvert_exporter": "python",
   "pygments_lexer": "ipython3",
   "version": "3.10.13"
  }
 },
 "nbformat": 4,
 "nbformat_minor": 2
}
