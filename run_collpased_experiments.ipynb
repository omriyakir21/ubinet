{
 "cells": [
  {
   "cell_type": "code",
   "execution_count": 1,
   "metadata": {},
   "outputs": [],
   "source": [
    "import os\n",
    "import numpy as np\n",
    "from datetime import datetime\n",
    "from tqdm import tqdm"
   ]
  },
  {
   "cell_type": "code",
   "execution_count": 12,
   "metadata": {},
   "outputs": [],
   "source": [
    "# hypothesis = 'pesto_protein_scores_ablation'\n",
    "# hypothesis = 'optimizer_batchsize_lr_gridsearch'\n",
    "# hypothesis = 'pts_without_mlp_b'\n",
    "hypothesis = 'pts_deep_encoder_mlps'"
   ]
  },
  {
   "cell_type": "code",
   "execution_count": 13,
   "metadata": {},
   "outputs": [],
   "source": [
    "experiments = os.listdir(f'configurations/data/{hypothesis}')\n",
    "experiments = [e.split('.json')[0] for e in experiments]"
   ]
  },
  {
   "cell_type": "code",
   "execution_count": 14,
   "metadata": {},
   "outputs": [
    {
     "name": "stdout",
     "output_type": "stream",
     "text": [
      "[Errno 2] No such file or directory: 'results/patch_to_score/hypotheses/pts_deep_encoder_mlps/hidden_sizes_mlp_a_2_512-512_hidden_sizes_mlp_c_2_1024-512'\n",
      "[Errno 2] No such file or directory: 'results/patch_to_score/hypotheses/pts_deep_encoder_mlps/hidden_sizes_mlp_a_2_1024-512_hidden_sizes_mlp_c_2_512-512'\n",
      "[Errno 2] No such file or directory: 'results/patch_to_score/hypotheses/pts_deep_encoder_mlps/hidden_sizes_mlp_a_2_1024-512_hidden_sizes_mlp_c_2_1024-512'\n",
      "[Errno 2] No such file or directory: 'results/patch_to_score/hypotheses/pts_deep_encoder_mlps/hidden_sizes_mlp_a_2_1024-512_hidden_sizes_mlp_c_3_512-512'\n",
      "[Errno 2] No such file or directory: 'results/patch_to_score/hypotheses/pts_deep_encoder_mlps/hidden_sizes_mlp_a_2_1024-512_hidden_sizes_mlp_c_3_2048-512'\n",
      "[Errno 2] No such file or directory: 'results/patch_to_score/hypotheses/pts_deep_encoder_mlps/hidden_sizes_mlp_a_2_1024-512_hidden_sizes_mlp_c_4_2048-512'\n",
      "[Errno 2] No such file or directory: 'results/patch_to_score/hypotheses/pts_deep_encoder_mlps/hidden_sizes_mlp_a_2_1024-512_hidden_sizes_mlp_c_5_2048-512'\n",
      "[Errno 2] No such file or directory: 'results/patch_to_score/hypotheses/pts_deep_encoder_mlps/hidden_sizes_mlp_a_3_512-512_hidden_sizes_mlp_c_2_1024-512'\n",
      "[Errno 2] No such file or directory: 'results/patch_to_score/hypotheses/pts_deep_encoder_mlps/hidden_sizes_mlp_a_3_2048-512_hidden_sizes_mlp_c_2_1024-512'\n",
      "[Errno 2] No such file or directory: 'results/patch_to_score/hypotheses/pts_deep_encoder_mlps/hidden_sizes_mlp_a_4_2048-512_hidden_sizes_mlp_c_2_1024-512'\n",
      "[Errno 2] No such file or directory: 'results/patch_to_score/hypotheses/pts_deep_encoder_mlps/hidden_sizes_mlp_a_5_2048-512_hidden_sizes_mlp_c_2_1024-512'\n"
     ]
    },
    {
     "data": {
      "text/plain": [
       "['pts_deep_encoder_mlps/hidden_sizes_mlp_a_2_512-512_hidden_sizes_mlp_c_3_512-512',\n",
       " 'pts_deep_encoder_mlps/hidden_sizes_mlp_a_2_512-512_hidden_sizes_mlp_c_3_2048-512',\n",
       " 'pts_deep_encoder_mlps/hidden_sizes_mlp_a_2_512-512_hidden_sizes_mlp_c_4_2048-512',\n",
       " 'pts_deep_encoder_mlps/hidden_sizes_mlp_a_3_512-512_hidden_sizes_mlp_c_2_512-512',\n",
       " 'pts_deep_encoder_mlps/hidden_sizes_mlp_a_3_512-512_hidden_sizes_mlp_c_3_512-512',\n",
       " 'pts_deep_encoder_mlps/hidden_sizes_mlp_a_3_512-512_hidden_sizes_mlp_c_3_2048-512',\n",
       " 'pts_deep_encoder_mlps/hidden_sizes_mlp_a_3_512-512_hidden_sizes_mlp_c_4_2048-512',\n",
       " 'pts_deep_encoder_mlps/hidden_sizes_mlp_a_3_512-512_hidden_sizes_mlp_c_5_2048-512',\n",
       " 'pts_deep_encoder_mlps/hidden_sizes_mlp_a_3_2048-512_hidden_sizes_mlp_c_3_512-512',\n",
       " 'pts_deep_encoder_mlps/hidden_sizes_mlp_a_3_2048-512_hidden_sizes_mlp_c_3_2048-512',\n",
       " 'pts_deep_encoder_mlps/hidden_sizes_mlp_a_3_2048-512_hidden_sizes_mlp_c_4_2048-512',\n",
       " 'pts_deep_encoder_mlps/hidden_sizes_mlp_a_4_2048-512_hidden_sizes_mlp_c_2_512-512',\n",
       " 'pts_deep_encoder_mlps/hidden_sizes_mlp_a_4_2048-512_hidden_sizes_mlp_c_5_2048-512',\n",
       " 'pts_deep_encoder_mlps/hidden_sizes_mlp_a_5_2048-512_hidden_sizes_mlp_c_2_512-512',\n",
       " 'pts_deep_encoder_mlps/hidden_sizes_mlp_a_2_512-512_hidden_sizes_mlp_c_2_1024-512',\n",
       " 'pts_deep_encoder_mlps/hidden_sizes_mlp_a_2_1024-512_hidden_sizes_mlp_c_2_512-512',\n",
       " 'pts_deep_encoder_mlps/hidden_sizes_mlp_a_2_1024-512_hidden_sizes_mlp_c_2_1024-512',\n",
       " 'pts_deep_encoder_mlps/hidden_sizes_mlp_a_2_1024-512_hidden_sizes_mlp_c_3_512-512',\n",
       " 'pts_deep_encoder_mlps/hidden_sizes_mlp_a_2_1024-512_hidden_sizes_mlp_c_3_2048-512',\n",
       " 'pts_deep_encoder_mlps/hidden_sizes_mlp_a_2_1024-512_hidden_sizes_mlp_c_4_2048-512',\n",
       " 'pts_deep_encoder_mlps/hidden_sizes_mlp_a_2_1024-512_hidden_sizes_mlp_c_5_2048-512',\n",
       " 'pts_deep_encoder_mlps/hidden_sizes_mlp_a_3_512-512_hidden_sizes_mlp_c_2_1024-512',\n",
       " 'pts_deep_encoder_mlps/hidden_sizes_mlp_a_3_2048-512_hidden_sizes_mlp_c_2_1024-512',\n",
       " 'pts_deep_encoder_mlps/hidden_sizes_mlp_a_4_2048-512_hidden_sizes_mlp_c_2_1024-512',\n",
       " 'pts_deep_encoder_mlps/hidden_sizes_mlp_a_5_2048-512_hidden_sizes_mlp_c_2_1024-512']"
      ]
     },
     "execution_count": 14,
     "metadata": {},
     "output_type": "execute_result"
    }
   ],
   "source": [
    "run_paths = []\n",
    "for experiment in experiments:\n",
    "    try:\n",
    "        experiment_runs = os.listdir(f'results/patch_to_score/hypotheses/{hypothesis}/{experiment}')\n",
    "        try:\n",
    "            experiment_runs = sorted(experiment_runs, key=lambda x: datetime.strptime(x.split('_')[0], '%Y-%m-%d'), reverse=True)\n",
    "        except Exception as e:\n",
    "            print(e)\n",
    "        updated_experiment_run = experiment_runs[0]\n",
    "        run_path = f'{hypothesis}/{experiment}/{updated_experiment_run}'\n",
    "        if 'fold_4' not in os.listdir(f'results/patch_to_score/hypotheses/{run_path}'):\n",
    "            path = os.path.join(*run_path.split('/')[:-1])\n",
    "            run_paths.append(path)\n",
    "    except Exception as e:\n",
    "        print(e)\n",
    "        run_paths.append(f'{hypothesis}/{experiment}')\n",
    "run_paths"
   ]
  },
  {
   "cell_type": "code",
   "execution_count": 15,
   "metadata": {},
   "outputs": [
    {
     "name": "stdout",
     "output_type": "stream",
     "text": [
      "/bin/tcsh: /home/iscb/wolfson/doririmon/anaconda3/envs/ubinet-gpu/lib/libtinfo.so.6: no version information available (required by /bin/tcsh)\n",
      "bash: /home/iscb/wolfson/doririmon/anaconda3/envs/ubinet-gpu/lib/libtinfo.so.6: no version information available (required by bash)\n",
      "Submitted batch job 532547\n",
      "/bin/tcsh: /home/iscb/wolfson/doririmon/anaconda3/envs/ubinet-gpu/lib/libtinfo.so.6: no version information available (required by /bin/tcsh)\n",
      "bash: /home/iscb/wolfson/doririmon/anaconda3/envs/ubinet-gpu/lib/libtinfo.so.6: no version information available (required by bash)\n",
      "Submitted batch job 532548\n",
      "/bin/tcsh: /home/iscb/wolfson/doririmon/anaconda3/envs/ubinet-gpu/lib/libtinfo.so.6: no version information available (required by /bin/tcsh)\n",
      "bash: /home/iscb/wolfson/doririmon/anaconda3/envs/ubinet-gpu/lib/libtinfo.so.6: no version information available (required by bash)\n",
      "Submitted batch job 532549\n",
      "/bin/tcsh: /home/iscb/wolfson/doririmon/anaconda3/envs/ubinet-gpu/lib/libtinfo.so.6: no version information available (required by /bin/tcsh)\n",
      "bash: /home/iscb/wolfson/doririmon/anaconda3/envs/ubinet-gpu/lib/libtinfo.so.6: no version information available (required by bash)\n",
      "Submitted batch job 532550\n",
      "/bin/tcsh: /home/iscb/wolfson/doririmon/anaconda3/envs/ubinet-gpu/lib/libtinfo.so.6: no version information available (required by /bin/tcsh)\n",
      "bash: /home/iscb/wolfson/doririmon/anaconda3/envs/ubinet-gpu/lib/libtinfo.so.6: no version information available (required by bash)\n",
      "Submitted batch job 532551\n",
      "/bin/tcsh: /home/iscb/wolfson/doririmon/anaconda3/envs/ubinet-gpu/lib/libtinfo.so.6: no version information available (required by /bin/tcsh)\n",
      "bash: /home/iscb/wolfson/doririmon/anaconda3/envs/ubinet-gpu/lib/libtinfo.so.6: no version information available (required by bash)\n",
      "Submitted batch job 532552\n",
      "/bin/tcsh: /home/iscb/wolfson/doririmon/anaconda3/envs/ubinet-gpu/lib/libtinfo.so.6: no version information available (required by /bin/tcsh)\n",
      "bash: /home/iscb/wolfson/doririmon/anaconda3/envs/ubinet-gpu/lib/libtinfo.so.6: no version information available (required by bash)\n",
      "Submitted batch job 532553\n",
      "/bin/tcsh: /home/iscb/wolfson/doririmon/anaconda3/envs/ubinet-gpu/lib/libtinfo.so.6: no version information available (required by /bin/tcsh)\n",
      "bash: /home/iscb/wolfson/doririmon/anaconda3/envs/ubinet-gpu/lib/libtinfo.so.6: no version information available (required by bash)\n",
      "Submitted batch job 532554\n",
      "/bin/tcsh: /home/iscb/wolfson/doririmon/anaconda3/envs/ubinet-gpu/lib/libtinfo.so.6: no version information available (required by /bin/tcsh)\n",
      "bash: /home/iscb/wolfson/doririmon/anaconda3/envs/ubinet-gpu/lib/libtinfo.so.6: no version information available (required by bash)\n",
      "Submitted batch job 532555\n",
      "/bin/tcsh: /home/iscb/wolfson/doririmon/anaconda3/envs/ubinet-gpu/lib/libtinfo.so.6: no version information available (required by /bin/tcsh)\n",
      "bash: /home/iscb/wolfson/doririmon/anaconda3/envs/ubinet-gpu/lib/libtinfo.so.6: no version information available (required by bash)\n",
      "Submitted batch job 532556\n",
      "/bin/tcsh: /home/iscb/wolfson/doririmon/anaconda3/envs/ubinet-gpu/lib/libtinfo.so.6: no version information available (required by /bin/tcsh)\n",
      "bash: /home/iscb/wolfson/doririmon/anaconda3/envs/ubinet-gpu/lib/libtinfo.so.6: no version information available (required by bash)\n",
      "Submitted batch job 532557\n",
      "/bin/tcsh: /home/iscb/wolfson/doririmon/anaconda3/envs/ubinet-gpu/lib/libtinfo.so.6: no version information available (required by /bin/tcsh)\n",
      "bash: /home/iscb/wolfson/doririmon/anaconda3/envs/ubinet-gpu/lib/libtinfo.so.6: no version information available (required by bash)\n",
      "Submitted batch job 532558\n",
      "/bin/tcsh: /home/iscb/wolfson/doririmon/anaconda3/envs/ubinet-gpu/lib/libtinfo.so.6: no version information available (required by /bin/tcsh)\n",
      "bash: /home/iscb/wolfson/doririmon/anaconda3/envs/ubinet-gpu/lib/libtinfo.so.6: no version information available (required by bash)\n",
      "Submitted batch job 532559\n",
      "/bin/tcsh: /home/iscb/wolfson/doririmon/anaconda3/envs/ubinet-gpu/lib/libtinfo.so.6: no version information available (required by /bin/tcsh)\n",
      "bash: /home/iscb/wolfson/doririmon/anaconda3/envs/ubinet-gpu/lib/libtinfo.so.6: no version information available (required by bash)\n",
      "Submitted batch job 532560\n",
      "/bin/tcsh: /home/iscb/wolfson/doririmon/anaconda3/envs/ubinet-gpu/lib/libtinfo.so.6: no version information available (required by /bin/tcsh)\n",
      "bash: /home/iscb/wolfson/doririmon/anaconda3/envs/ubinet-gpu/lib/libtinfo.so.6: no version information available (required by bash)\n",
      "Submitted batch job 532561\n",
      "/bin/tcsh: /home/iscb/wolfson/doririmon/anaconda3/envs/ubinet-gpu/lib/libtinfo.so.6: no version information available (required by /bin/tcsh)\n",
      "bash: /home/iscb/wolfson/doririmon/anaconda3/envs/ubinet-gpu/lib/libtinfo.so.6: no version information available (required by bash)\n",
      "Submitted batch job 532562\n",
      "/bin/tcsh: /home/iscb/wolfson/doririmon/anaconda3/envs/ubinet-gpu/lib/libtinfo.so.6: no version information available (required by /bin/tcsh)\n",
      "bash: /home/iscb/wolfson/doririmon/anaconda3/envs/ubinet-gpu/lib/libtinfo.so.6: no version information available (required by bash)\n",
      "Submitted batch job 532563\n",
      "/bin/tcsh: /home/iscb/wolfson/doririmon/anaconda3/envs/ubinet-gpu/lib/libtinfo.so.6: no version information available (required by /bin/tcsh)\n",
      "bash: /home/iscb/wolfson/doririmon/anaconda3/envs/ubinet-gpu/lib/libtinfo.so.6: no version information available (required by bash)\n",
      "Submitted batch job 532564\n",
      "/bin/tcsh: /home/iscb/wolfson/doririmon/anaconda3/envs/ubinet-gpu/lib/libtinfo.so.6: no version information available (required by /bin/tcsh)\n",
      "bash: /home/iscb/wolfson/doririmon/anaconda3/envs/ubinet-gpu/lib/libtinfo.so.6: no version information available (required by bash)\n",
      "Submitted batch job 532565\n",
      "/bin/tcsh: /home/iscb/wolfson/doririmon/anaconda3/envs/ubinet-gpu/lib/libtinfo.so.6: no version information available (required by /bin/tcsh)\n",
      "bash: /home/iscb/wolfson/doririmon/anaconda3/envs/ubinet-gpu/lib/libtinfo.so.6: no version information available (required by bash)\n",
      "Submitted batch job 532566\n",
      "/bin/tcsh: /home/iscb/wolfson/doririmon/anaconda3/envs/ubinet-gpu/lib/libtinfo.so.6: no version information available (required by /bin/tcsh)\n",
      "bash: /home/iscb/wolfson/doririmon/anaconda3/envs/ubinet-gpu/lib/libtinfo.so.6: no version information available (required by bash)\n",
      "Submitted batch job 532567\n",
      "/bin/tcsh: /home/iscb/wolfson/doririmon/anaconda3/envs/ubinet-gpu/lib/libtinfo.so.6: no version information available (required by /bin/tcsh)\n",
      "bash: /home/iscb/wolfson/doririmon/anaconda3/envs/ubinet-gpu/lib/libtinfo.so.6: no version information available (required by bash)\n",
      "Submitted batch job 532568\n",
      "/bin/tcsh: /home/iscb/wolfson/doririmon/anaconda3/envs/ubinet-gpu/lib/libtinfo.so.6: no version information available (required by /bin/tcsh)\n",
      "bash: /home/iscb/wolfson/doririmon/anaconda3/envs/ubinet-gpu/lib/libtinfo.so.6: no version information available (required by bash)\n",
      "Submitted batch job 532569\n",
      "/bin/tcsh: /home/iscb/wolfson/doririmon/anaconda3/envs/ubinet-gpu/lib/libtinfo.so.6: no version information available (required by /bin/tcsh)\n",
      "bash: /home/iscb/wolfson/doririmon/anaconda3/envs/ubinet-gpu/lib/libtinfo.so.6: no version information available (required by bash)\n",
      "Submitted batch job 532570\n",
      "/bin/tcsh: /home/iscb/wolfson/doririmon/anaconda3/envs/ubinet-gpu/lib/libtinfo.so.6: no version information available (required by /bin/tcsh)\n",
      "bash: /home/iscb/wolfson/doririmon/anaconda3/envs/ubinet-gpu/lib/libtinfo.so.6: no version information available (required by bash)\n",
      "Submitted batch job 532571\n"
     ]
    }
   ],
   "source": [
    "for path in run_paths:\n",
    "    !bash scripts/train/submit_job_patch_to_score_experiment.sh configurations/data/{path}.json"
   ]
  },
  {
   "cell_type": "code",
   "execution_count": null,
   "metadata": {},
   "outputs": [],
   "source": []
  }
 ],
 "metadata": {
  "kernelspec": {
   "display_name": "ubinet-gpu",
   "language": "python",
   "name": "python3"
  },
  "language_info": {
   "codemirror_mode": {
    "name": "ipython",
    "version": 3
   },
   "file_extension": ".py",
   "mimetype": "text/x-python",
   "name": "python",
   "nbconvert_exporter": "python",
   "pygments_lexer": "ipython3",
   "version": "3.10.13"
  }
 },
 "nbformat": 4,
 "nbformat_minor": 2
}
