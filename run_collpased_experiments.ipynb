{
 "cells": [
  {
   "cell_type": "code",
   "execution_count": 1,
   "metadata": {},
   "outputs": [],
   "source": [
    "import os\n",
    "import numpy as np\n",
    "from datetime import datetime\n",
    "from tqdm import tqdm"
   ]
  },
  {
   "cell_type": "code",
   "execution_count": 2,
   "metadata": {},
   "outputs": [],
   "source": [
    "# hypothesis = 'pesto_protein_scores_ablation'\n",
    "# hypothesis = 'optimizer_batchsize_lr_gridsearch'\n",
    "hypothesis = 'pts_without_mlp_b'"
   ]
  },
  {
   "cell_type": "code",
   "execution_count": 3,
   "metadata": {},
   "outputs": [],
   "source": [
    "experiments = os.listdir(f'configurations/data/{hypothesis}')\n",
    "experiments = [e.split('.json')[0] for e in experiments]"
   ]
  },
  {
   "cell_type": "code",
   "execution_count": 4,
   "metadata": {},
   "outputs": [
    {
     "data": {
      "text/plain": [
       "['pts_without_mlp_b/n_layers_4_m_a_2048_m_c_1024',\n",
       " 'pts_without_mlp_b/n_layers_5_m_a_2048_m_c_2048']"
      ]
     },
     "execution_count": 4,
     "metadata": {},
     "output_type": "execute_result"
    }
   ],
   "source": [
    "run_paths = []\n",
    "for experiment in experiments:\n",
    "    experiment_runs = os.listdir(f'results/patch_to_score/hypotheses/{hypothesis}/{experiment}')\n",
    "    try:\n",
    "        experiment_runs = sorted(experiment_runs, key=lambda x: datetime.strptime(x.split('_')[0], '%Y-%m-%d'), reverse=True)\n",
    "    except Exception as e:\n",
    "        print(e)\n",
    "    updated_experiment_run = experiment_runs[0]\n",
    "    run_path = f'{hypothesis}/{experiment}/{updated_experiment_run}'\n",
    "    if 'fold_4' not in os.listdir(f'results/patch_to_score/hypotheses/{run_path}'):\n",
    "        path = os.path.join(*run_path.split('/')[:-1])\n",
    "        run_paths.append(path)\n",
    "run_paths"
   ]
  },
  {
   "cell_type": "code",
   "execution_count": 6,
   "metadata": {},
   "outputs": [
    {
     "name": "stdout",
     "output_type": "stream",
     "text": [
      "/bin/tcsh: /home/iscb/wolfson/doririmon/anaconda3/envs/ubinet-gpu/lib/libtinfo.so.6: no version information available (required by /bin/tcsh)\n",
      "bash: /home/iscb/wolfson/doririmon/anaconda3/envs/ubinet-gpu/lib/libtinfo.so.6: no version information available (required by bash)\n",
      "Submitted batch job 457714\n",
      "/bin/tcsh: /home/iscb/wolfson/doririmon/anaconda3/envs/ubinet-gpu/lib/libtinfo.so.6: no version information available (required by /bin/tcsh)\n",
      "bash: /home/iscb/wolfson/doririmon/anaconda3/envs/ubinet-gpu/lib/libtinfo.so.6: no version information available (required by bash)\n",
      "Submitted batch job 457715\n"
     ]
    }
   ],
   "source": [
    "for path in run_paths:\n",
    "    !bash scripts/train/submit_job_patch_to_score_experiment.sh configurations/data/{path}.json"
   ]
  }
 ],
 "metadata": {
  "kernelspec": {
   "display_name": "ubinet-gpu",
   "language": "python",
   "name": "python3"
  },
  "language_info": {
   "codemirror_mode": {
    "name": "ipython",
    "version": 3
   },
   "file_extension": ".py",
   "mimetype": "text/x-python",
   "name": "python",
   "nbconvert_exporter": "python",
   "pygments_lexer": "ipython3",
   "version": "3.10.13"
  }
 },
 "nbformat": 4,
 "nbformat_minor": 2
}
