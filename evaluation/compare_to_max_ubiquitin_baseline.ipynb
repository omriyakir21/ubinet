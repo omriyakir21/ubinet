{
 "cells": [
  {
   "cell_type": "code",
   "execution_count": null,
   "id": "e81a2a75",
   "metadata": {},
   "outputs": [],
   "source": [
    "import tensorflow as tf\n",
    "tf.config.set_visible_devices([], 'GPU')\n",
    "\n",
    "from plotly import express as px\n",
    "from typing import List, Tuple\n",
    "import pickle\n",
    "import numpy as np\n",
    "from utils import multi_exp_data_to_fig"
   ]
  },
  {
   "cell_type": "code",
   "execution_count": null,
   "id": "6fd4b8fa",
   "metadata": {},
   "outputs": [],
   "source": [
    "import sys\n",
    "sys.path.append('../../../../')"
   ]
  },
  {
   "cell_type": "markdown",
   "id": "48f0fc6b",
   "metadata": {},
   "source": [
    "## load"
   ]
  },
  {
   "cell_type": "code",
   "execution_count": null,
   "id": "61b62d75",
   "metadata": {},
   "outputs": [],
   "source": [
    "evaluation_type = 'validation'  # can be train / validation / test"
   ]
  },
  {
   "cell_type": "code",
   "execution_count": null,
   "id": "aabf9fc3",
   "metadata": {},
   "outputs": [],
   "source": [
    "def get_max_ubiquitin_baselines():\n",
    "    with open('/home/iscb/wolfson/doririmon/home/order/ubinet/repo/ubinet/datasets/patch_to_score/data_for_training/03_04_with_pesto/folds_training_dicts.pkl', 'rb') as f:\n",
    "        base_folds_training_dicts = pickle.load(f)\n",
    "        \n",
    "    with open('/home/iscb/wolfson/doririmon/home/order/ubinet/repo/ubinet/datasets/patch_to_score/data_for_training/21_07_with_pesto/folds_training_dicts.pkl', 'rb') as f:\n",
    "        ar_folds_training_dicts = pickle.load(f)\n",
    "        \n",
    "    model_to_training_dicts = {\n",
    "        'base_max_ubiquitin': base_folds_training_dicts,\n",
    "        'autoregressive_max_ubiquitin': ar_folds_training_dicts\n",
    "    }\n",
    "\n",
    "    multi_exp_data = dict()\n",
    "    for model, training_dicts in model_to_training_dicts.items():\n",
    "        exp_data = []\n",
    "        for fold_index in range(len(base_folds_training_dicts)):\n",
    "            fold = training_dicts[fold_index]\n",
    "            ubiquitin_scores = fold[f'components_{evaluation_type}'][:, :, 1].numpy()\n",
    "            ubiquitin_scores = ubiquitin_scores.max(axis=1) \n",
    "            labels = fold[f'labels_{evaluation_type}'].numpy()\n",
    "            exp_data.append(np.stack((labels, ubiquitin_scores)))\n",
    "        multi_exp_data[model] = exp_data\n",
    "    \n",
    "    return multi_exp_data"
   ]
  },
  {
   "cell_type": "code",
   "execution_count": null,
   "id": "d6fe8300",
   "metadata": {},
   "outputs": [],
   "source": [
    "multi_exp_data = get_max_ubiquitin_baselines()"
   ]
  },
  {
   "cell_type": "code",
   "execution_count": null,
   "id": "05b8e497",
   "metadata": {},
   "outputs": [],
   "source": [
    "fig, exp_to_auc = multi_exp_data_to_fig(multi_exp_data, \n",
    "                            show_std_in_legend=False, log_scale=True, resolution=1_000)\n",
    "fig.show()"
   ]
  }
 ],
 "metadata": {
  "kernelspec": {
   "display_name": "ubinet-gpu",
   "language": "python",
   "name": "python3"
  },
  "language_info": {
   "codemirror_mode": {
    "name": "ipython",
    "version": 3
   },
   "file_extension": ".py",
   "mimetype": "text/x-python",
   "name": "python",
   "nbconvert_exporter": "python",
   "pygments_lexer": "ipython3",
   "version": "3.10.13"
  }
 },
 "nbformat": 4,
 "nbformat_minor": 5
}
