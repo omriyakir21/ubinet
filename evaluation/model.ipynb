{
 "cells": [
  {
   "cell_type": "code",
   "execution_count": 1,
   "id": "f86a0f93",
   "metadata": {},
   "outputs": [
    {
     "name": "stderr",
     "output_type": "stream",
     "text": [
      "2025-05-30 23:37:03.328031: I tensorflow/core/platform/cpu_feature_guard.cc:193] This TensorFlow binary is optimized with oneAPI Deep Neural Network Library (oneDNN) to use the following CPU instructions in performance-critical operations:  AVX2 AVX512F AVX512_VNNI AVX512_BF16 AVX_VNNI AMX_TILE AMX_INT8 AMX_BF16 FMA\n",
      "To enable them in other operations, rebuild TensorFlow with the appropriate compiler flags.\n",
      "2025-05-30 23:37:03.439942: I tensorflow/core/util/port.cc:104] oneDNN custom operations are on. You may see slightly different numerical results due to floating-point round-off errors from different computation orders. To turn them off, set the environment variable `TF_ENABLE_ONEDNN_OPTS=0`.\n",
      "2025-05-30 23:37:09.869125: W tensorflow/compiler/xla/stream_executor/platform/default/dso_loader.cc:64] Could not load dynamic library 'libnvinfer.so.7'; dlerror: libnvinfer.so.7: cannot open shared object file: No such file or directory; LD_LIBRARY_PATH: /home/iscb/wolfson/doririmon/anaconda3/envs/ubinet-gpu/lib\n",
      "2025-05-30 23:37:09.869276: W tensorflow/compiler/xla/stream_executor/platform/default/dso_loader.cc:64] Could not load dynamic library 'libnvinfer_plugin.so.7'; dlerror: libnvinfer_plugin.so.7: cannot open shared object file: No such file or directory; LD_LIBRARY_PATH: /home/iscb/wolfson/doririmon/anaconda3/envs/ubinet-gpu/lib\n",
      "2025-05-30 23:37:09.869291: W tensorflow/compiler/tf2tensorrt/utils/py_utils.cc:38] TF-TRT Warning: Cannot dlopen some TensorRT libraries. If you would like to use Nvidia GPU with TensorRT, please make sure the missing libraries mentioned above are installed properly.\n",
      "2025-05-30 23:37:23.811129: W tensorflow/core/common_runtime/gpu/gpu_device.cc:2027] TensorFlow was not built with CUDA kernel binaries compatible with compute capability 9.0. CUDA kernels will be jit-compiled from PTX, which could take 30 minutes or longer.\n",
      "2025-05-30 23:37:23.812268: W tensorflow/core/common_runtime/gpu/gpu_device.cc:2027] TensorFlow was not built with CUDA kernel binaries compatible with compute capability 9.0. CUDA kernels will be jit-compiled from PTX, which could take 30 minutes or longer.\n",
      "2025-05-30 23:37:23.813423: W tensorflow/core/common_runtime/gpu/gpu_device.cc:2027] TensorFlow was not built with CUDA kernel binaries compatible with compute capability 9.0. CUDA kernels will be jit-compiled from PTX, which could take 30 minutes or longer.\n",
      "2025-05-30 23:37:23.814549: W tensorflow/core/common_runtime/gpu/gpu_device.cc:2027] TensorFlow was not built with CUDA kernel binaries compatible with compute capability 9.0. CUDA kernels will be jit-compiled from PTX, which could take 30 minutes or longer.\n",
      "2025-05-30 23:37:23.815655: W tensorflow/core/common_runtime/gpu/gpu_device.cc:2027] TensorFlow was not built with CUDA kernel binaries compatible with compute capability 9.0. CUDA kernels will be jit-compiled from PTX, which could take 30 minutes or longer.\n",
      "2025-05-30 23:37:23.816775: W tensorflow/core/common_runtime/gpu/gpu_device.cc:2027] TensorFlow was not built with CUDA kernel binaries compatible with compute capability 9.0. CUDA kernels will be jit-compiled from PTX, which could take 30 minutes or longer.\n",
      "2025-05-30 23:37:23.817975: W tensorflow/core/common_runtime/gpu/gpu_device.cc:2027] TensorFlow was not built with CUDA kernel binaries compatible with compute capability 9.0. CUDA kernels will be jit-compiled from PTX, which could take 30 minutes or longer.\n",
      "2025-05-30 23:37:23.819094: W tensorflow/core/common_runtime/gpu/gpu_device.cc:2027] TensorFlow was not built with CUDA kernel binaries compatible with compute capability 9.0. CUDA kernels will be jit-compiled from PTX, which could take 30 minutes or longer.\n"
     ]
    }
   ],
   "source": [
    "import tensorflow as tf\n",
    "tf.config.set_visible_devices([], 'GPU')"
   ]
  },
  {
   "cell_type": "code",
   "execution_count": 2,
   "id": "9e8ecd40",
   "metadata": {},
   "outputs": [],
   "source": [
    "import sys\n",
    "sys.path.append('../')"
   ]
  },
  {
   "cell_type": "code",
   "execution_count": 10,
   "id": "1b2c08e5",
   "metadata": {},
   "outputs": [],
   "source": [
    "from models.patch_to_score.models.patch_attention.patch_attention_with_pair_bias import PatchAttentionWithPairBias\n",
    "from models.patch_to_score.models.patch_attention.transformer_encoder_mlp import TransformerEncoderMLP\n",
    "from models.patch_to_score.models.patch_attention.utils import GlobalSumPooling\n"
   ]
  },
  {
   "cell_type": "code",
   "execution_count": 11,
   "id": "2fc9c222",
   "metadata": {},
   "outputs": [
    {
     "name": "stderr",
     "output_type": "stream",
     "text": [
      "2025-05-30 23:41:19.498208: I tensorflow/core/platform/cpu_feature_guard.cc:193] This TensorFlow binary is optimized with oneAPI Deep Neural Network Library (oneDNN) to use the following CPU instructions in performance-critical operations:  AVX2 AVX512F AVX512_VNNI AVX512_BF16 AVX_VNNI AMX_TILE AMX_INT8 AMX_BF16 FMA\n",
      "To enable them in other operations, rebuild TensorFlow with the appropriate compiler flags.\n"
     ]
    }
   ],
   "source": [
    "with tf.keras.utils.custom_object_scope({'TransformerEncoderMLP': TransformerEncoderMLP, \n",
    "                                         'PatchAttentionWithPairBias': PatchAttentionWithPairBias,\n",
    "                                         'GlobalSumPooling': GlobalSumPooling}):\n",
    "    model = tf.keras.models.load_model('../results/patch_to_score/hypotheses/patch_attention/attdim_256-heads_1-a_1_1024-256-o_1_1024-256/2025-05-30_a8700eb068/fold_0/model.keras')"
   ]
  },
  {
   "cell_type": "code",
   "execution_count": 12,
   "id": "3bcbb61d",
   "metadata": {},
   "outputs": [
    {
     "name": "stdout",
     "output_type": "stream",
     "text": [
      "Model: \"model\"\n",
      "__________________________________________________________________________________________________\n",
      " Layer (type)                   Output Shape         Param #     Connected to                     \n",
      "==================================================================================================\n",
      " number_of_patches_input (Input  [(None, 11)]        0           []                               \n",
      " Layer)                                                                                           \n",
      "                                                                                                  \n",
      " tf.math.argmax (TFOpLambda)    (None,)              0           ['number_of_patches_input[0][0]']\n",
      "                                                                                                  \n",
      " tf.__operators__.getitem (Slic  (None, 1)           0           ['tf.math.argmax[0][0]']         \n",
      " ingOpLambda)                                                                                     \n",
      "                                                                                                  \n",
      " tf.cast (TFOpLambda)           (None, 1)            0           ['tf.__operators__.getitem[0][0]'\n",
      "                                                                 ]                                \n",
      "                                                                                                  \n",
      " number_of_residues_input (Inpu  [(None, 1)]         0           []                               \n",
      " tLayer)                                                                                          \n",
      "                                                                                                  \n",
      " tf.compat.v1.shape (TFOpLambda  (2,)                0           ['tf.cast[0][0]']                \n",
      " )                                                                                                \n",
      "                                                                                                  \n",
      " tf.compat.v1.shape_1 (TFOpLamb  (2,)                0           ['tf.cast[0][0]']                \n",
      " da)                                                                                              \n",
      "                                                                                                  \n",
      " tf.compat.v1.shape_2 (TFOpLamb  (2,)                0           ['number_of_residues_input[0][0]'\n",
      " da)                                                             ]                                \n",
      "                                                                                                  \n",
      " tf.compat.v1.shape_3 (TFOpLamb  (2,)                0           ['number_of_residues_input[0][0]'\n",
      " da)                                                             ]                                \n",
      "                                                                                                  \n",
      " tf.expand_dims (TFOpLambda)    (None, 1, 1)         0           ['tf.cast[0][0]']                \n",
      "                                                                                                  \n",
      " tf.__operators__.getitem_1 (Sl  ()                  0           ['tf.compat.v1.shape[0][0]']     \n",
      " icingOpLambda)                                                                                   \n",
      "                                                                                                  \n",
      " tf.__operators__.getitem_2 (Sl  ()                  0           ['tf.compat.v1.shape_1[0][0]']   \n",
      " icingOpLambda)                                                                                   \n",
      "                                                                                                  \n",
      " tf.expand_dims_1 (TFOpLambda)  (None, 1, 1)         0           ['number_of_residues_input[0][0]'\n",
      "                                                                 ]                                \n",
      "                                                                                                  \n",
      " tf.__operators__.getitem_3 (Sl  ()                  0           ['tf.compat.v1.shape_2[0][0]']   \n",
      " icingOpLambda)                                                                                   \n",
      "                                                                                                  \n",
      " tf.__operators__.getitem_4 (Sl  ()                  0           ['tf.compat.v1.shape_3[0][0]']   \n",
      " icingOpLambda)                                                                                   \n",
      "                                                                                                  \n",
      " input_1 (InputLayer)           [(None, 10, 3)]      0           []                               \n",
      "                                                                                                  \n",
      " features_input (InputLayer)    [(None, 10, 9)]      0           []                               \n",
      "                                                                                                  \n",
      " tf.broadcast_to (TFOpLambda)   (None, 10, 1)        0           ['tf.expand_dims[0][0]',         \n",
      "                                                                  'tf.__operators__.getitem_1[0][0\n",
      "                                                                 ]',                              \n",
      "                                                                  'tf.__operators__.getitem_2[0][0\n",
      "                                                                 ]']                              \n",
      "                                                                                                  \n",
      " tf.broadcast_to_1 (TFOpLambda)  (None, 10, 1)       0           ['tf.expand_dims_1[0][0]',       \n",
      "                                                                  'tf.__operators__.getitem_3[0][0\n",
      "                                                                 ]',                              \n",
      "                                                                  'tf.__operators__.getitem_4[0][0\n",
      "                                                                 ]']                              \n",
      "                                                                                                  \n",
      " tf.expand_dims_2 (TFOpLambda)  (None, 1, 10, 3)     0           ['input_1[0][0]']                \n",
      "                                                                                                  \n",
      " tf.expand_dims_3 (TFOpLambda)  (None, 10, 1, 3)     0           ['input_1[0][0]']                \n",
      "                                                                                                  \n",
      " concatenate (Concatenate)      (None, 10, 11)       0           ['features_input[0][0]',         \n",
      "                                                                  'tf.broadcast_to[0][0]',        \n",
      "                                                                  'tf.broadcast_to_1[0][0]']      \n",
      "                                                                                                  \n",
      " tf.math.subtract (TFOpLambda)  (None, 10, 10, 3)    0           ['tf.expand_dims_2[0][0]',       \n",
      "                                                                  'tf.expand_dims_3[0][0]']       \n",
      "                                                                                                  \n",
      " masking (Masking)              (None, 10, 11)       0           ['concatenate[0][0]']            \n",
      "                                                                                                  \n",
      " tf.compat.v1.norm (TFOpLambda)  (None, 10, 10)      0           ['tf.math.subtract[0][0]']       \n",
      "                                                                                                  \n",
      " patch_attention_with_pair_bias  (None, 10, 256)     74283       ['masking[0][0]',                \n",
      "  (PatchAttentionWithPairBias)                                    'tf.compat.v1.norm[0][0]']      \n",
      "                                                                                                  \n",
      " transformer_encoder_mlp (Trans  (None, 10, 256)     526080      ['patch_attention_with_pair_bias[\n",
      " formerEncoderMLP)                                               0][0]']                          \n",
      "                                                                                                  \n",
      " re_lu (ReLU)                   (None, 10, 256)      0           ['transformer_encoder_mlp[0][0]']\n",
      "                                                                                                  \n",
      " global_sum_pooling (GlobalSumP  (None, 256)         0           ['re_lu[0][0]']                  \n",
      " ooling)                                                                                          \n",
      "                                                                                                  \n",
      " transformer_encoder_mlp_1 (Tra  (None, 256)         526080      ['global_sum_pooling[0][0]']     \n",
      " nsformerEncoderMLP)                                                                              \n",
      "                                                                                                  \n",
      " re_lu_1 (ReLU)                 (None, 256)          0           ['transformer_encoder_mlp_1[0][0]\n",
      "                                                                 ']                               \n",
      "                                                                                                  \n",
      " dense_4 (Dense)                (None, 1)            257         ['re_lu_1[0][0]']                \n",
      "                                                                                                  \n",
      "==================================================================================================\n",
      "Total params: 1,126,700\n",
      "Trainable params: 1,126,700\n",
      "Non-trainable params: 0\n",
      "__________________________________________________________________________________________________\n"
     ]
    }
   ],
   "source": [
    "model.summary()"
   ]
  }
 ],
 "metadata": {
  "kernelspec": {
   "display_name": "ubinet-gpu",
   "language": "python",
   "name": "python3"
  },
  "language_info": {
   "codemirror_mode": {
    "name": "ipython",
    "version": 3
   },
   "file_extension": ".py",
   "mimetype": "text/x-python",
   "name": "python",
   "nbconvert_exporter": "python",
   "pygments_lexer": "ipython3",
   "version": "3.10.13"
  }
 },
 "nbformat": 4,
 "nbformat_minor": 5
}
